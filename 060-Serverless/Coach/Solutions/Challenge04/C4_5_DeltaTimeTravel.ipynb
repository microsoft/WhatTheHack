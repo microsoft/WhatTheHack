{
  "cells": [
    {
      "cell_type": "code",
      "execution_count": 5,
      "metadata": {
        "jupyter": {
          "outputs_hidden": false,
          "source_hidden": false
        },
        "microsoft": {
          "language": "python"
        },
        "nteract": {
          "transient": {
            "deleting": false
          }
        }
      },
      "outputs": [
        {
          "data": {
            "application/vnd.livy.statement-meta+json": {
              "execution_finish_time": "2023-02-21T16:59:19.0370976Z",
              "execution_start_time": "2023-02-21T16:59:13.4960056Z",
              "livy_statement_state": "available",
              "parent_msg_id": "bf016217-1e1e-4856-b7fd-ea2967fc92af",
              "queued_time": "2023-02-21T16:59:13.3467749Z",
              "session_id": "21",
              "session_start_time": null,
              "spark_jobs": null,
              "spark_pool": "mysparkpool",
              "state": "finished",
              "statement_id": 5
            },
            "text/plain": [
              "StatementMeta(mysparkpool, 21, 5, Finished, Available)"
            ]
          },
          "metadata": {},
          "output_type": "display_data"
        }
      ],
      "source": [
        "%%pyspark\n",
        "##Whoops Data was changed accidentaly\n",
        "\n",
        "from delta.tables import *\n",
        "from pyspark.sql.functions import *\n",
        "\n",
        "sourcepath = 'abfss://YourContainer@YourStorageAccount.dfs.core.windows.net/YourFolder/Delta/Dimsalesreasons/'\n",
        "deltaTable = DeltaTable.forPath(spark, sourcepath)\n",
        " \n",
        "\n",
        "# Update the table\n",
        "deltaTable.update(\n",
        "    condition = \"SalesReasonName <> 'Demo Event'\",\n",
        "    set = { \"SalesReasonName\": \"'Demo EventX'\" }\n",
        " )\n",
        "\n"
      ]
    },
    {
      "cell_type": "code",
      "execution_count": 6,
      "metadata": {
        "jupyter": {
          "outputs_hidden": false,
          "source_hidden": false
        },
        "microsoft": {
          "language": "python"
        },
        "nteract": {
          "transient": {
            "deleting": false
          }
        }
      },
      "outputs": [
        {
          "data": {
            "application/vnd.livy.statement-meta+json": {
              "execution_finish_time": "2023-02-21T17:00:35.3236013Z",
              "execution_start_time": "2023-02-21T17:00:34.1869547Z",
              "livy_statement_state": "available",
              "parent_msg_id": "4c8a00c1-eb87-40ba-9e10-71b880cdb4d3",
              "queued_time": "2023-02-21T17:00:34.0113591Z",
              "session_id": "21",
              "session_start_time": null,
              "spark_jobs": null,
              "spark_pool": "mysparkpool",
              "state": "finished",
              "statement_id": 6
            },
            "text/plain": [
              "StatementMeta(mysparkpool, 21, 6, Finished, Available)"
            ]
          },
          "metadata": {},
          "output_type": "display_data"
        },
        {
          "name": "stdout",
          "output_type": "stream",
          "text": [
            "+--------------+-----------------------+---------------+---------------------+\n",
            "|SalesReasonKey|SalesReasonAlternateKey|SalesReasonName|SalesReasonReasonType|\n",
            "+--------------+-----------------------+---------------+---------------------+\n",
            "|             4|                      4|    Demo EventX|            Marketing|\n",
            "|             3|                      3|    Demo EventX|            Marketing|\n",
            "|             7|                      7|     Demo Event|            Marketing|\n",
            "|            10|                     10|    Demo EventX|                Other|\n",
            "|             6|                      6|    Demo EventX|                Other|\n",
            "|             9|                      9|    Demo EventX|                Other|\n",
            "|             8|                      8|    Demo EventX|            Marketing|\n",
            "|             2|                      2|    Demo EventX|            Promotion|\n",
            "|             5|                      5|    Demo EventX|                Other|\n",
            "|             1|                      1|    Demo EventX|                Other|\n",
            "+--------------+-----------------------+---------------+---------------------+\n",
            "\n"
          ]
        }
      ],
      "source": [
        "%%pyspark\n",
        "#Checking the values\n",
        "\n",
        "sourcepath = \"abfss://YourContainer@YourStorageAccount.dfs.core.windows.net/YourFolder/Delta/Dimsalesreasons/\"\n",
        "\n",
        "df_read = spark.read.format(\"delta\").load(sourcepath)\n",
        "df_read.show()"
      ]
    },
    {
      "cell_type": "code",
      "execution_count": 7,
      "metadata": {
        "jupyter": {
          "outputs_hidden": false,
          "source_hidden": false
        },
        "microsoft": {
          "language": "python"
        },
        "nteract": {
          "transient": {
            "deleting": false
          }
        }
      },
      "outputs": [
        {
          "data": {
            "application/vnd.livy.statement-meta+json": {
              "execution_finish_time": "2023-02-21T17:04:57.6980942Z",
              "execution_start_time": "2023-02-21T17:04:56.5589844Z",
              "livy_statement_state": "available",
              "parent_msg_id": "4e01e69f-ddb4-4b50-8a6c-6f0422fd41f3",
              "queued_time": "2023-02-21T17:04:56.3882084Z",
              "session_id": "21",
              "session_start_time": null,
              "spark_jobs": null,
              "spark_pool": "mysparkpool",
              "state": "finished",
              "statement_id": 7
            },
            "text/plain": [
              "StatementMeta(mysparkpool, 21, 7, Finished, Available)"
            ]
          },
          "metadata": {},
          "output_type": "display_data"
        },
        {
          "name": "stdout",
          "output_type": "stream",
          "text": [
            "+-------+--------------------+------+--------+---------+--------------------+----+--------+---------+-----------+--------------+-------------+--------------------+------------+--------------------+\n",
            "|version|           timestamp|userId|userName|operation| operationParameters| job|notebook|clusterId|readVersion|isolationLevel|isBlindAppend|    operationMetrics|userMetadata|          engineInfo|\n",
            "+-------+--------------------+------+--------+---------+--------------------+----+--------+---------+-----------+--------------+-------------+--------------------+------------+--------------------+\n",
            "|      1|2023-02-21 16:59:...|  null|    null|   UPDATE|{predicate -> NOT...|null|    null|     null|          0|  Serializable|        false|{numRemovedFiles ...|        null|Apache-Spark/3.3....|\n",
            "|      0|2023-02-21 16:52:...|  null|    null|    WRITE|{mode -> Overwrit...|null|    null|     null|       null|  Serializable|        false|{numFiles -> 7, n...|        null|Apache-Spark/3.3....|\n",
            "+-------+--------------------+------+--------+---------+--------------------+----+--------+---------+-----------+--------------+-------------+--------------------+------------+--------------------+\n",
            "\n"
          ]
        }
      ],
      "source": [
        "%%pyspark\n",
        "##Which Version was?\n",
        "#//listingversions - Find the version\n",
        "from delta.tables import *\n",
        "sourcepath = 'abfss://YourContainer@YourStorageAccount.dfs.core.windows.net/YourFolder/Delta/Dimsalesreasons/'\n",
        "\n",
        "DeltaTable.forPath(spark, sourcepath).history().show() "
      ]
    },
    {
      "cell_type": "code",
      "execution_count": 8,
      "metadata": {
        "jupyter": {
          "outputs_hidden": false,
          "source_hidden": false
        },
        "microsoft": {
          "language": "python"
        },
        "nteract": {
          "transient": {
            "deleting": false
          }
        }
      },
      "outputs": [
        {
          "data": {
            "application/vnd.livy.statement-meta+json": {
              "execution_finish_time": "2023-02-21T17:05:07.2005088Z",
              "execution_start_time": "2023-02-21T17:05:04.3423708Z",
              "livy_statement_state": "available",
              "parent_msg_id": "2f76a013-0492-472e-bc53-60e434df986c",
              "queued_time": "2023-02-21T17:05:04.1875512Z",
              "session_id": "21",
              "session_start_time": null,
              "spark_jobs": null,
              "spark_pool": "mysparkpool",
              "state": "finished",
              "statement_id": 8
            },
            "text/plain": [
              "StatementMeta(mysparkpool, 21, 8, Finished, Available)"
            ]
          },
          "metadata": {},
          "output_type": "display_data"
        },
        {
          "name": "stdout",
          "output_type": "stream",
          "text": [
            "+--------------+-----------------------+--------------------+---------------------+\n",
            "|SalesReasonKey|SalesReasonAlternateKey|     SalesReasonName|SalesReasonReasonType|\n",
            "+--------------+-----------------------+--------------------+---------------------+\n",
            "|             4|                      4|Television  Adver...|            Marketing|\n",
            "|             3|                      3|Magazine Advertis...|            Marketing|\n",
            "|             7|                      7|          Demo Event|            Marketing|\n",
            "|             8|                      8|         Sponsorship|            Marketing|\n",
            "|             2|                      2|        On Promotion|            Promotion|\n",
            "|             5|                      5|        Manufacturer|                Other|\n",
            "|            10|                     10|               Other|                Other|\n",
            "|             6|                      6|              Review|                Other|\n",
            "|             9|                      9|             Quality|                Other|\n",
            "|             1|                      1|               Price|                Other|\n",
            "+--------------+-----------------------+--------------------+---------------------+\n",
            "\n"
          ]
        }
      ],
      "source": [
        "%%pyspark\n",
        "#Time travel using the Version\n",
        "\n",
        "sourcepath = \"abfss://YourContainer@YourStorageAccount.dfs.core.windows.net/YourFolder/Delta/Dimsalesreasons/\"\n",
        "\n",
        "df_read = spark.read.format(\"delta\").option(\"versionAsOf\",0).load(sourcepath)\n",
        "df_read.show()"
      ]
    },
    {
      "cell_type": "code",
      "execution_count": 10,
      "metadata": {
        "jupyter": {
          "outputs_hidden": false,
          "source_hidden": false
        },
        "microsoft": {
          "language": "python"
        },
        "nteract": {
          "transient": {
            "deleting": false
          }
        }
      },
      "outputs": [
        {
          "data": {
            "application/vnd.livy.statement-meta+json": {
              "execution_finish_time": "2023-02-21T17:05:38.4233219Z",
              "execution_start_time": "2023-02-21T17:05:35.5067992Z",
              "livy_statement_state": "available",
              "parent_msg_id": "1f74ba0b-71e3-4f0c-ae1f-9e6d245b33a9",
              "queued_time": "2023-02-21T17:05:35.3426222Z",
              "session_id": "21",
              "session_start_time": null,
              "spark_jobs": null,
              "spark_pool": "mysparkpool",
              "state": "finished",
              "statement_id": 10
            },
            "text/plain": [
              "StatementMeta(mysparkpool, 21, 10, Finished, Available)"
            ]
          },
          "metadata": {},
          "output_type": "display_data"
        },
        {
          "name": "stdout",
          "output_type": "stream",
          "text": [
            "+--------------+-----------------------+--------------------+---------------------+\n",
            "|SalesReasonKey|SalesReasonAlternateKey|     SalesReasonName|SalesReasonReasonType|\n",
            "+--------------+-----------------------+--------------------+---------------------+\n",
            "|             4|                      4|Television  Adver...|            Marketing|\n",
            "|             3|                      3|Magazine Advertis...|            Marketing|\n",
            "|             7|                      7|          Demo Event|            Marketing|\n",
            "|             8|                      8|         Sponsorship|            Marketing|\n",
            "|             2|                      2|        On Promotion|            Promotion|\n",
            "|             5|                      5|        Manufacturer|                Other|\n",
            "|            10|                     10|               Other|                Other|\n",
            "|             6|                      6|              Review|                Other|\n",
            "|             9|                      9|             Quality|                Other|\n",
            "|             1|                      1|               Price|                Other|\n",
            "+--------------+-----------------------+--------------------+---------------------+\n",
            "\n"
          ]
        }
      ],
      "source": [
        "%%pyspark\n",
        "#Time travel using the Timestamp\n",
        "\n",
        "DeltaTable.forPath(spark, sourcepath)\n",
        "\n",
        "sourcepath = \"abfss://YourContainer@YourStorageAccount.dfs.core.windows.net/YourFolder/Delta/Dimsalesreasons/\"\n",
        "\n",
        "df_read = spark.read.format(\"delta\").option(\"timestampAsOf\", \"2023-02-21 16:52:06.483\").load(sourcepath)\n",
        "df_read.show()\n"
      ]
    },
    {
      "cell_type": "code",
      "execution_count": 11,
      "metadata": {
        "jupyter": {
          "outputs_hidden": false,
          "source_hidden": false
        },
        "microsoft": {
          "language": "python"
        },
        "nteract": {
          "transient": {
            "deleting": false
          }
        }
      },
      "outputs": [
        {
          "data": {
            "application/vnd.livy.statement-meta+json": {
              "execution_finish_time": "2023-02-21T17:13:47.4102119Z",
              "execution_start_time": "2023-02-21T17:13:36.6317948Z",
              "livy_statement_state": "available",
              "parent_msg_id": "66e102c4-b785-4d9e-8d49-4641981541cf",
              "queued_time": "2023-02-21T17:13:36.4794474Z",
              "session_id": "21",
              "session_start_time": null,
              "spark_jobs": null,
              "spark_pool": "mysparkpool",
              "state": "finished",
              "statement_id": 11
            },
            "text/plain": [
              "StatementMeta(mysparkpool, 21, 11, Finished, Available)"
            ]
          },
          "metadata": {},
          "output_type": "display_data"
        },
        {
          "data": {
            "text/plain": [
              "DataFrame[table_size_after_restore: bigint, num_of_files_after_restore: bigint, num_removed_files: bigint, num_restored_files: bigint, removed_files_size: bigint, restored_files_size: bigint]"
            ]
          },
          "execution_count": 25,
          "metadata": {},
          "output_type": "execute_result"
        }
      ],
      "source": [
        "%%pyspark\n",
        "#Restoring the table using the proper version\n",
        "from delta.tables import *\n",
        "\n",
        "sourcepath = \"abfss://YourContainer@YourStorageAccount.dfs.core.windows.net/YourFolder/Delta/Dimsalesreasons/\"\n",
        "\n",
        "deltaTable = DeltaTable.forPath(spark, sourcepath)\n"
      ]
    },
    {
      "cell_type": "code",
      "execution_count": 12,
      "metadata": {
        "jupyter": {
          "outputs_hidden": false,
          "source_hidden": false
        },
        "microsoft": {
          "language": "python"
        },
        "nteract": {
          "transient": {
            "deleting": false
          }
        }
      },
      "outputs": [
        {
          "data": {
            "application/vnd.livy.statement-meta+json": {
              "execution_finish_time": "2023-02-21T17:14:18.0692962Z",
              "execution_start_time": "2023-02-21T17:14:15.0436239Z",
              "livy_statement_state": "available",
              "parent_msg_id": "10a08427-d3eb-47d0-b3e8-245b1455a49d",
              "queued_time": "2023-02-21T17:14:14.8503134Z",
              "session_id": "21",
              "session_start_time": null,
              "spark_jobs": null,
              "spark_pool": "mysparkpool",
              "state": "finished",
              "statement_id": 12
            },
            "text/plain": [
              "StatementMeta(mysparkpool, 21, 12, Finished, Available)"
            ]
          },
          "metadata": {},
          "output_type": "display_data"
        },
        {
          "name": "stdout",
          "output_type": "stream",
          "text": [
            "+--------------+-----------------------+--------------------+---------------------+\n",
            "|SalesReasonKey|SalesReasonAlternateKey|     SalesReasonName|SalesReasonReasonType|\n",
            "+--------------+-----------------------+--------------------+---------------------+\n",
            "|             4|                      4|Television  Adver...|            Marketing|\n",
            "|             3|                      3|Magazine Advertis...|            Marketing|\n",
            "|             7|                      7|          Demo Event|            Marketing|\n",
            "|             8|                      8|         Sponsorship|            Marketing|\n",
            "|             2|                      2|        On Promotion|            Promotion|\n",
            "|             5|                      5|        Manufacturer|                Other|\n",
            "|            10|                     10|               Other|                Other|\n",
            "|             6|                      6|              Review|                Other|\n",
            "|             9|                      9|             Quality|                Other|\n",
            "|             1|                      1|               Price|                Other|\n",
            "+--------------+-----------------------+--------------------+---------------------+\n",
            "\n"
          ]
        }
      ],
      "source": [
        "%%pyspark\n",
        "#Checking the values\n",
        "\n",
        "sourcepath = \"abfss://YourContainer@YourStorageAccount.dfs.core.windows.net/YourFolder/Delta/Dimsalesreasons/\"\n",
        "\n",
        "df_read = spark.read.format(\"delta\").load(sourcepath)\n",
        "df_read.show()"
      ]
    }
  ],
  "metadata": {
    "description": null,
    "kernel_info": {
      "name": "synapse_pyspark"
    },
    "kernelspec": {
      "display_name": "Synapse PySpark",
      "language": "Python",
      "name": "synapse_pyspark"
    },
    "language_info": {
      "name": "python"
    },
    "save_output": true,
    "synapse_widget": {
      "state": {},
      "version": "0.1"
    }
  },
  "nbformat": 4,
  "nbformat_minor": 2
}
