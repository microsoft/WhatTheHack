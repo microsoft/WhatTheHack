{
  "cells": [
    {
      "cell_type": "markdown",
      "metadata": {
        "nteract": {
          "transient": {
            "deleting": false
          }
        }
      },
      "source": [
        "# Step 1 | Pulling data from the Bronze\n",
        "## 1.1 | Setting up the Bronze ADLS connection"
      ]
    },
    {
      "cell_type": "code",
      "execution_count": 1,
      "metadata": {
        "jupyter": {
          "outputs_hidden": false,
          "source_hidden": false
        },
        "nteract": {
          "transient": {
            "deleting": false
          }
        }
      },
      "outputs": [
        {
          "data": {
            "application/vnd.livy.statement-meta+json": {
              "execution_finish_time": "2022-12-09T14:42:41.6329783Z",
              "execution_start_time": "2022-12-09T14:42:41.4425006Z",
              "livy_statement_state": "available",
              "queued_time": "2022-12-09T14:39:18.5558686Z",
              "session_id": "6",
              "session_start_time": "2022-12-09T14:39:18.5862686Z",
              "spark_jobs": null,
              "spark_pool": "SparkPool",
              "state": "finished",
              "statement_id": 1
            },
            "text/plain": [
              "StatementMeta(SparkPool, 6, 1, Finished, Available)"
            ]
          },
          "metadata": {},
          "output_type": "display_data"
        },
        {
          "name": "stdout",
          "output_type": "stream",
          "text": [
            "ADLS Path: abfss://demobronzelayer@demostoragebronzeraw.dfs.core.windows.net/AdventureWorksLT/Customer/Landing/\n",
            "ADLS Path: abfss://demobronzelayer@demostoragebronzeraw.dfs.core.windows.net/AdventureWorksLT/Address/Landing/\n"
          ]
        }
      ],
      "source": [
        "from pyspark.sql import SparkSession \n",
        "from pyspark.sql.types import * \n",
        "\n",
        "# Bronze Storage Account Info | Check Azure Portal if you are unsure #\n",
        "account_name = 'demostoragebronzeraw' \n",
        "container_name = 'AdventureWorksLT' \n",
        "relative_path_customer = 'Customer/Landing/' \n",
        "relative_path_address = 'Address/Landing/' \n",
        "\n",
        "# Complete Path To Files | This could be done with a loop if you have a lot of files #\n",
        "adls_path_customer = 'abfss://%s@%s.dfs.core.windows.net/%s' % (container_name, account_name, relative_path_customer) \n",
        "adls_path_address = 'abfss://%s@%s.dfs.core.windows.net/%s' % (container_name, account_name, relative_path_address) \n",
        "print('ADLS Path: ' + adls_path_customer) \n",
        "print('ADLS Path: ' + adls_path_address) "
      ]
    },
    {
      "cell_type": "markdown",
      "metadata": {
        "nteract": {
          "transient": {
            "deleting": false
          }
        }
      },
      "source": [
        "## 1.2 | Read files and show Data Frame"
      ]
    },
    {
      "cell_type": "code",
      "execution_count": 2,
      "metadata": {
        "jupyter": {
          "outputs_hidden": false,
          "source_hidden": false
        },
        "nteract": {
          "transient": {
            "deleting": false
          }
        }
      },
      "outputs": [
        {
          "data": {
            "application/vnd.livy.statement-meta+json": {
              "execution_finish_time": "2022-12-09T14:43:26.6693249Z",
              "execution_start_time": "2022-12-09T14:42:50.7893619Z",
              "livy_statement_state": "available",
              "queued_time": "2022-12-09T14:42:50.6659476Z",
              "session_id": "6",
              "session_start_time": null,
              "spark_jobs": null,
              "spark_pool": "SparkPool",
              "state": "finished",
              "statement_id": 2
            },
            "text/plain": [
              "StatementMeta(SparkPool, 6, 2, Finished, Available)"
            ]
          },
          "metadata": {},
          "output_type": "display_data"
        },
        {
          "name": "stdout",
          "output_type": "stream",
          "text": [
            "+----------+---------+-----+---------+----------+----------+------+--------------------+--------------------+--------------------+------------+--------------------+------------+--------------------+-------------------+----------------+-------------------+\n",
            "|CustomerID|NameStyle|Title|FirstName|MiddleName|  LastName|Suffix|         CompanyName|         SalesPerson|        EmailAddress|       Phone|        PasswordHash|PasswordSalt|             rowguid|       ModifiedDate|    SourceSystem|      IngestionTime|\n",
            "+----------+---------+-----+---------+----------+----------+------+--------------------+--------------------+--------------------+------------+--------------------+------------+--------------------+-------------------+----------------+-------------------+\n",
            "|         1|    false|  Mr.|  Orlando|        N.|       Gee|  null|        A Bike Store|adventure-works\\p...|orlando0@adventur...|245-555-0173|L/Rlwxzp4w7RWmEgX...|    1KjXYs4=|3F5AE95E-B87D-4AE...|2005-08-01 00:00:00|AdventureWorksLT|2022-11-22 12:55:08|\n",
            "|         2|    false|  Mr.|    Keith|      null|    Harris|  null|  Progressive Sports|adventure-works\\d...|keith0@adventure-...|170-555-0127|YPdtRdvqeAhj6wyxE...|    fs1ZGhY=|E552F657-A9AF-4A7...|2006-08-01 00:00:00|AdventureWorksLT|2022-11-22 12:55:08|\n",
            "|         3|    false|  Ms.|    Donna|        F.|  Carreras|  null|Advanced Bike Com...|adventure-works\\j...|donna0@adventure-...|279-555-0130|LNoK27abGQo48gGue...|    YTNH5Rw=|130774B1-DB21-4EF...|2005-09-01 00:00:00|AdventureWorksLT|2022-11-22 12:55:08|\n",
            "|         4|    false|  Ms.|    Janet|        M.|     Gates|  null|Modular Cycle Sys...|adventure-works\\j...|janet1@adventure-...|710-555-0173|ElzTpSNbUW1Ut+L5c...|    nm7D5e4=|FF862851-1DAA-404...|2006-07-01 00:00:00|AdventureWorksLT|2022-11-22 12:55:08|\n",
            "|         5|    false|  Mr.|     Lucy|      null|Harrington|  null|Metropolitan Spor...|adventure-works\\shu0|lucy0@adventure-w...|828-555-0186|KJqV15wsX3PG8TS5G...|    cNFKU4w=|83905BDC-6F5E-4F7...|2006-09-01 00:00:00|AdventureWorksLT|2022-11-22 12:55:08|\n",
            "+----------+---------+-----+---------+----------+----------+------+--------------------+--------------------+--------------------+------------+--------------------+------------+--------------------+-------------------+----------------+-------------------+\n",
            "only showing top 5 rows\n",
            "\n",
            "+----------+---------+-----------+--------------------+--------------------+\n",
            "|CustomerID|AddressID|AddressType|             rowguid|        ModifiedDate|\n",
            "+----------+---------+-----------+--------------------+--------------------+\n",
            "|     29485|     1086|Main Office|16765338-DBE4-442...|2007-09-01 00:00:...|\n",
            "|     29486|      621|Main Office|22B3E910-14AF-4ED...|2005-09-01 00:00:...|\n",
            "|     29489|     1069|Main Office|A095C88B-D7E6-417...|2005-07-01 00:00:...|\n",
            "|     29490|      887|Main Office|F12E1702-D897-403...|2006-09-01 00:00:...|\n",
            "|     29492|      618|Main Office|5B3B3EB2-3F43-47E...|2006-12-01 00:00:...|\n",
            "+----------+---------+-----------+--------------------+--------------------+\n",
            "only showing top 5 rows\n",
            "\n"
          ]
        }
      ],
      "source": [
        "# Read the CSV files into a Data Frame\n",
        "csv_path = adls_path_customer + '*.csv' \n",
        "BronzeCustomerDF = spark.read.csv(csv_path, header = 'true') \n",
        "csv_path = adls_path_address + '*.csv' \n",
        "BronzeAddressDF = spark.read.csv(csv_path, header = 'true') \n",
        "\n",
        "#Show the contents of the Data Frame\n",
        "BronzeCustomerDF.show(5)\n",
        "BronzeAddressDF.show(5)"
      ]
    },
    {
      "cell_type": "markdown",
      "metadata": {
        "nteract": {
          "transient": {
            "deleting": false
          }
        }
      },
      "source": [
        "## 1.3 | Create a temporary SQL view from the Data Frame"
      ]
    },
    {
      "cell_type": "code",
      "execution_count": 3,
      "metadata": {
        "jupyter": {
          "outputs_hidden": false,
          "source_hidden": false
        },
        "nteract": {
          "transient": {
            "deleting": false
          }
        }
      },
      "outputs": [
        {
          "data": {
            "application/vnd.livy.statement-meta+json": {
              "execution_finish_time": "2022-12-09T14:43:45.7225425Z",
              "execution_start_time": "2022-12-09T14:43:32.8640298Z",
              "livy_statement_state": "available",
              "queued_time": "2022-12-09T14:43:32.7437063Z",
              "session_id": "6",
              "session_start_time": null,
              "spark_jobs": null,
              "spark_pool": "SparkPool",
              "state": "finished",
              "statement_id": 3
            },
            "text/plain": [
              "StatementMeta(SparkPool, 6, 3, Finished, Available)"
            ]
          },
          "metadata": {},
          "output_type": "display_data"
        }
      ],
      "source": [
        "# View creation #\n",
        "BronzeCustomerDF.createOrReplaceTempView( \"tmpViewBronzeCustomer\" )\n",
        "BronzeAddressDF.createOrReplaceTempView( \"tmpViewBronzeAddress\" )"
      ]
    },
    {
      "cell_type": "markdown",
      "metadata": {
        "nteract": {
          "transient": {
            "deleting": false
          }
        }
      },
      "source": [
        "## 1.4 | Using SparkSQL to read from the temporary views"
      ]
    },
    {
      "cell_type": "code",
      "execution_count": 4,
      "metadata": {
        "collapsed": false,
        "jupyter": {
          "outputs_hidden": false,
          "source_hidden": false
        },
        "microsoft": {
          "language": "sparksql"
        },
        "nteract": {
          "transient": {
            "deleting": false
          }
        }
      },
      "outputs": [
        {
          "data": {
            "application/vnd.livy.statement-meta+json": {
              "execution_finish_time": "2022-12-09T14:43:52.8209006Z",
              "execution_start_time": "2022-12-09T14:43:52.8204854Z",
              "livy_statement_state": "available",
              "queued_time": "2022-12-09T14:43:49.3479344Z",
              "session_id": "6",
              "session_start_time": null,
              "spark_jobs": null,
              "spark_pool": null,
              "state": "finished",
              "statement_id": -1
            },
            "text/plain": [
              "StatementMeta(, 6, -1, Finished, Available)"
            ]
          },
          "metadata": {},
          "output_type": "display_data"
        },
        {
          "data": {
            "application/vnd.synapse.sparksql-result+json": {
              "data": [
                [
                  "1",
                  "false",
                  "Mr.",
                  "Orlando",
                  "N.",
                  "Gee",
                  null,
                  "A Bike Store",
                  "adventure-works\\pamela0",
                  "orlando0@adventure-works.com",
                  "245-555-0173",
                  "L/Rlwxzp4w7RWmEgXX+/A7cXaePEPcp+KwQhl2fJL7w=",
                  "1KjXYs4=",
                  "3F5AE95E-B87D-4AED-95B4-C3797AFCB74F",
                  "2005-08-01 00:00:00",
                  "AdventureWorksLT",
                  "2022-11-22 12:55:08"
                ],
                [
                  "2",
                  "false",
                  "Mr.",
                  "Keith",
                  null,
                  "Harris",
                  null,
                  "Progressive Sports",
                  "adventure-works\\david8",
                  "keith0@adventure-works.com",
                  "170-555-0127",
                  "YPdtRdvqeAhj6wyxEsFdshBDNXxkCXn+CRgbvJItknw=",
                  "fs1ZGhY=",
                  "E552F657-A9AF-4A7D-A645-C429D6E02491",
                  "2006-08-01 00:00:00",
                  "AdventureWorksLT",
                  "2022-11-22 12:55:08"
                ],
                [
                  "3",
                  "false",
                  "Ms.",
                  "Donna",
                  "F.",
                  "Carreras",
                  null,
                  "Advanced Bike Components",
                  "adventure-works\\jillian0",
                  "donna0@adventure-works.com",
                  "279-555-0130",
                  "LNoK27abGQo48gGue3EBV/UrlYSToV0/s87dCRV7uJk=",
                  "YTNH5Rw=",
                  "130774B1-DB21-4EF3-98C8-C104BCD6ED6D",
                  "2005-09-01 00:00:00",
                  "AdventureWorksLT",
                  "2022-11-22 12:55:08"
                ],
                [
                  "4",
                  "false",
                  "Ms.",
                  "Janet",
                  "M.",
                  "Gates",
                  null,
                  "Modular Cycle Systems",
                  "adventure-works\\jillian0",
                  "janet1@adventure-works.com",
                  "710-555-0173",
                  "ElzTpSNbUW1Ut+L5cWlfR7MF6nBZia8WpmGaQPjLOJA=",
                  "nm7D5e4=",
                  "FF862851-1DAA-4044-BE7C-3E85583C054D",
                  "2006-07-01 00:00:00",
                  "AdventureWorksLT",
                  "2022-11-22 12:55:08"
                ],
                [
                  "5",
                  "false",
                  "Mr.",
                  "Lucy",
                  null,
                  "Harrington",
                  null,
                  "Metropolitan Sports Supply",
                  "adventure-works\\shu0",
                  "lucy0@adventure-works.com",
                  "828-555-0186",
                  "KJqV15wsX3PG8TS5GSddp6LFFVdd3CoRftZM/tP0+R4=",
                  "cNFKU4w=",
                  "83905BDC-6F5E-4F71-B162-C98DA069F38A",
                  "2006-09-01 00:00:00",
                  "AdventureWorksLT",
                  "2022-11-22 12:55:08"
                ],
                [
                  "6",
                  "false",
                  "Ms.",
                  "Rosmarie",
                  "J.",
                  "Carroll",
                  null,
                  "Aerobic Exercise Company",
                  "adventure-works\\linda3",
                  "rosmarie0@adventure-works.com",
                  "244-555-0112",
                  "OKT0scizCdIzymHHOtyJKQiC/fCILSooSZ8dQ2Y34VM=",
                  "ihWf50M=",
                  "1A92DF88-BFA2-467D-BD54-FCB9E647FDD7",
                  "2007-09-01 00:00:00",
                  "AdventureWorksLT",
                  "2022-11-22 12:55:08"
                ],
                [
                  "7",
                  "false",
                  "Mr.",
                  "Dominic",
                  "P.",
                  "Gash",
                  null,
                  "Associated Bikes",
                  "adventure-works\\shu0",
                  "dominic0@adventure-works.com",
                  "192-555-0173",
                  "ZccoP/jZGQm+Xpzc7RKwDhS11YFNybwcPVRYTSNcnSg=",
                  "sPoUBSQ=",
                  "03E9273E-B193-448E-9823-FE0C44AEED78",
                  "2006-07-01 00:00:00",
                  "AdventureWorksLT",
                  "2022-11-22 12:55:08"
                ],
                [
                  "10",
                  "false",
                  "Ms.",
                  "Kathleen",
                  "M.",
                  "Garza",
                  null,
                  "Rural Cycle Emporium",
                  "adventure-works\\josé1",
                  "kathleen0@adventure-works.com",
                  "150-555-0127",
                  "Qa3aMCxNbVLGrc0b99KsbQqiVgwYDfHcsK9GZSUxcTM=",
                  "Ls05W3g=",
                  "CDB6698D-2FF1-4FBA-8F22-60AD1D11DABD",
                  "2006-09-01 00:00:00",
                  "AdventureWorksLT",
                  "2022-11-22 12:55:08"
                ],
                [
                  "11",
                  "false",
                  "Ms.",
                  "Katherine",
                  null,
                  "Harding",
                  null,
                  "Sharp Bikes",
                  "adventure-works\\josé1",
                  "katherine0@adventure-works.com",
                  "926-555-0159",
                  "uRlorVzDGNJIX9I+ehTlRK+liT4UKRgWhApJgUMC2d4=",
                  "jpHKbqE=",
                  "750F3495-59C4-48A0-80E1-E37EC60E77D9",
                  "2005-08-01 00:00:00",
                  "AdventureWorksLT",
                  "2022-11-22 12:55:08"
                ],
                [
                  "12",
                  "false",
                  "Mr.",
                  "Johnny",
                  "A.",
                  "Caprio",
                  "Jr.",
                  "Bikes and Motorbikes",
                  "adventure-works\\garrett1",
                  "johnny0@adventure-works.com",
                  "112-555-0191",
                  "jtF9jBoFYeJTaET7x+eJDkd7BzMz15Wo9odbGPBaIak=",
                  "wVLnvHo=",
                  "947BCAF1-1F32-44F3-B9C3-0011F95FBE54",
                  "2006-08-01 00:00:00",
                  "AdventureWorksLT",
                  "2022-11-22 12:55:08"
                ]
              ],
              "schema": {
                "fields": [
                  {
                    "metadata": {},
                    "name": "CustomerID",
                    "nullable": true,
                    "type": "string"
                  },
                  {
                    "metadata": {},
                    "name": "NameStyle",
                    "nullable": true,
                    "type": "string"
                  },
                  {
                    "metadata": {},
                    "name": "Title",
                    "nullable": true,
                    "type": "string"
                  },
                  {
                    "metadata": {},
                    "name": "FirstName",
                    "nullable": true,
                    "type": "string"
                  },
                  {
                    "metadata": {},
                    "name": "MiddleName",
                    "nullable": true,
                    "type": "string"
                  },
                  {
                    "metadata": {},
                    "name": "LastName",
                    "nullable": true,
                    "type": "string"
                  },
                  {
                    "metadata": {},
                    "name": "Suffix",
                    "nullable": true,
                    "type": "string"
                  },
                  {
                    "metadata": {},
                    "name": "CompanyName",
                    "nullable": true,
                    "type": "string"
                  },
                  {
                    "metadata": {},
                    "name": "SalesPerson",
                    "nullable": true,
                    "type": "string"
                  },
                  {
                    "metadata": {},
                    "name": "EmailAddress",
                    "nullable": true,
                    "type": "string"
                  },
                  {
                    "metadata": {},
                    "name": "Phone",
                    "nullable": true,
                    "type": "string"
                  },
                  {
                    "metadata": {},
                    "name": "PasswordHash",
                    "nullable": true,
                    "type": "string"
                  },
                  {
                    "metadata": {},
                    "name": "PasswordSalt",
                    "nullable": true,
                    "type": "string"
                  },
                  {
                    "metadata": {},
                    "name": "rowguid",
                    "nullable": true,
                    "type": "string"
                  },
                  {
                    "metadata": {},
                    "name": "ModifiedDate",
                    "nullable": true,
                    "type": "string"
                  },
                  {
                    "metadata": {},
                    "name": "SourceSystem",
                    "nullable": true,
                    "type": "string"
                  },
                  {
                    "metadata": {},
                    "name": "IngestionTime",
                    "nullable": true,
                    "type": "string"
                  }
                ],
                "type": "struct"
              }
            },
            "text/plain": [
              "<Spark SQL result set with 10 rows and 17 fields>"
            ]
          },
          "execution_count": 4,
          "metadata": {},
          "output_type": "execute_result"
        },
        {
          "data": {
            "application/vnd.synapse.sparksql-result+json": {
              "data": [
                [
                  "29485",
                  "1086",
                  "Main Office",
                  "16765338-DBE4-4421-B5E9-3836B9278E63",
                  "2007-09-01 00:00:00.000"
                ],
                [
                  "29486",
                  "621",
                  "Main Office",
                  "22B3E910-14AF-4ED5-8B4D-23BBE757414D",
                  "2005-09-01 00:00:00.000"
                ],
                [
                  "29489",
                  "1069",
                  "Main Office",
                  "A095C88B-D7E6-4178-A078-2ECA44214801",
                  "2005-07-01 00:00:00.000"
                ],
                [
                  "29490",
                  "887",
                  "Main Office",
                  "F12E1702-D897-4035-B614-0FE2C72168A9",
                  "2006-09-01 00:00:00.000"
                ],
                [
                  "29492",
                  "618",
                  "Main Office",
                  "5B3B3EB2-3F43-47ED-A20C-23697DABF23B",
                  "2006-12-01 00:00:00.000"
                ],
                [
                  "29494",
                  "537",
                  "Main Office",
                  "492D92B6-31AF-47EA-8E00-7C11C7CCC20D",
                  "2005-09-01 00:00:00.000"
                ],
                [
                  "29496",
                  "1072",
                  "Main Office",
                  "0A66B0F3-24BC-4148-9661-26E935CEC99A",
                  "2007-09-01 00:00:00.000"
                ],
                [
                  "29497",
                  "889",
                  "Main Office",
                  "7E0B56FD-7324-4898-BEDB-2F56A843BB0F",
                  "2005-07-01 00:00:00.000"
                ],
                [
                  "29499",
                  "527",
                  "Main Office",
                  "C90CB0C3-976A-4075-A2B9-13136F4F1A92",
                  "2006-09-01 00:00:00.000"
                ],
                [
                  "29502",
                  "893",
                  "Main Office",
                  "8ACB1C6A-7CDF-417B-AFD5-9F4C642F3C7E",
                  "2007-07-01 00:00:00.000"
                ]
              ],
              "schema": {
                "fields": [
                  {
                    "metadata": {},
                    "name": "CustomerID",
                    "nullable": true,
                    "type": "string"
                  },
                  {
                    "metadata": {},
                    "name": "AddressID",
                    "nullable": true,
                    "type": "string"
                  },
                  {
                    "metadata": {},
                    "name": "AddressType",
                    "nullable": true,
                    "type": "string"
                  },
                  {
                    "metadata": {},
                    "name": "rowguid",
                    "nullable": true,
                    "type": "string"
                  },
                  {
                    "metadata": {},
                    "name": "ModifiedDate",
                    "nullable": true,
                    "type": "string"
                  }
                ],
                "type": "struct"
              }
            },
            "text/plain": [
              "<Spark SQL result set with 10 rows and 5 fields>"
            ]
          },
          "execution_count": 4,
          "metadata": {},
          "output_type": "execute_result"
        }
      ],
      "source": [
        "%%sql\n",
        "\n",
        "SELECT * FROM tmpViewBronzeCustomer LIMIT 10;\n",
        "SELECT * FROM tmpViewBronzeAddress LIMIT 10;"
      ]
    },
    {
      "cell_type": "markdown",
      "metadata": {
        "nteract": {
          "transient": {
            "deleting": false
          }
        }
      },
      "source": [
        "# Step 2 | Getting the data ready for Silver\n",
        "## 2.1 | Consolidation and Standardization"
      ]
    },
    {
      "cell_type": "code",
      "execution_count": 5,
      "metadata": {
        "collapsed": false,
        "jupyter": {
          "outputs_hidden": false,
          "source_hidden": false
        },
        "microsoft": {
          "language": "sparksql"
        },
        "nteract": {
          "transient": {
            "deleting": false
          }
        }
      },
      "outputs": [
        {
          "data": {
            "application/vnd.livy.statement-meta+json": {
              "execution_finish_time": "2022-12-09T14:44:02.00765Z",
              "execution_start_time": "2022-12-09T14:43:57.9592357Z",
              "livy_statement_state": "available",
              "queued_time": "2022-12-09T14:43:57.8369859Z",
              "session_id": "6",
              "session_start_time": null,
              "spark_jobs": null,
              "spark_pool": "SparkPool",
              "state": "finished",
              "statement_id": 6
            },
            "text/plain": [
              "StatementMeta(SparkPool, 6, 6, Finished, Available)"
            ]
          },
          "metadata": {},
          "output_type": "display_data"
        },
        {
          "data": {
            "application/vnd.synapse.sparksql-result+json": {
              "data": [
                [
                  "ADW-29485",
                  "Catherine R. Abel",
                  "747-555-0171",
                  "catherine0@adventure-works.com",
                  1086,
                  "AdventureWorksLT",
                  "2009-05-16T16:33:33Z"
                ],
                [
                  "ADW-29486",
                  "Kim  Abercrombie",
                  "334-555-0137",
                  "kim2@adventure-works.com",
                  621,
                  "AdventureWorksLT",
                  "2009-05-16T16:33:33Z"
                ],
                [
                  "ADW-29489",
                  "Frances B. Adams",
                  "991-555-0183",
                  "frances0@adventure-works.com",
                  1069,
                  "AdventureWorksLT",
                  "2009-05-16T16:33:33Z"
                ],
                [
                  "ADW-29490",
                  "Margaret J. Smith",
                  "959-555-0151",
                  "margaret0@adventure-works.com",
                  887,
                  "AdventureWorksLT",
                  "2009-05-16T16:33:33Z"
                ],
                [
                  "ADW-29492",
                  "Jay  Adams",
                  "158-555-0142",
                  "jay1@adventure-works.com",
                  618,
                  "AdventureWorksLT",
                  "2009-05-16T16:33:33Z"
                ],
                [
                  "ADW-29494",
                  "Samuel N. Agcaoili",
                  "554-555-0110",
                  "samuel0@adventure-works.com",
                  537,
                  "AdventureWorksLT",
                  "2005-09-01T00:00:00Z"
                ],
                [
                  "ADW-29496",
                  "Robert E. Ahlering",
                  "678-555-0175",
                  "robert1@adventure-works.com",
                  1072,
                  "AdventureWorksLT",
                  "2007-09-01T00:00:00Z"
                ],
                [
                  "ADW-29497",
                  "François  Ferrier",
                  "571-555-0128",
                  "françois1@adventure-works.com",
                  889,
                  "AdventureWorksLT",
                  "2005-07-01T00:00:00Z"
                ],
                [
                  "ADW-29499",
                  "Amy E. Alberts",
                  "727-555-0115",
                  "amy1@adventure-works.com",
                  527,
                  "AdventureWorksLT",
                  "2006-09-01T00:00:00Z"
                ],
                [
                  "ADW-29502",
                  "Paul L. Alcorn",
                  "331-555-0162",
                  "paul2@adventure-works.com",
                  893,
                  "AdventureWorksLT",
                  "2007-07-01T00:00:00Z"
                ]
              ],
              "schema": {
                "fields": [
                  {
                    "metadata": {},
                    "name": "CustomerID",
                    "nullable": true,
                    "type": "string"
                  },
                  {
                    "metadata": {},
                    "name": "CustomerName",
                    "nullable": false,
                    "type": "string"
                  },
                  {
                    "metadata": {},
                    "name": "CustomerPhone",
                    "nullable": true,
                    "type": "string"
                  },
                  {
                    "metadata": {},
                    "name": "CustomerEmail",
                    "nullable": true,
                    "type": "string"
                  },
                  {
                    "metadata": {},
                    "name": "CustomerAddressID",
                    "nullable": true,
                    "type": "integer"
                  },
                  {
                    "metadata": {},
                    "name": "SourceSystem",
                    "nullable": false,
                    "type": "string"
                  },
                  {
                    "metadata": {},
                    "name": "ModifiedDate",
                    "nullable": true,
                    "type": "timestamp"
                  }
                ],
                "type": "struct"
              }
            },
            "text/plain": [
              "<Spark SQL result set with 10 rows and 7 fields>"
            ]
          },
          "execution_count": 5,
          "metadata": {},
          "output_type": "execute_result"
        }
      ],
      "source": [
        "%%sql\n",
        "/*\n",
        "In this step we do\n",
        "- Consolidation: Join multiple source data points and only keep the fields you need in Silver and ignore the fluff. Use UNIONs to group multiple files from different sources.\n",
        "- Standardization and Formatting: Clean and format the data so that it can align to one standard schema across multiple sources\n",
        "*/\n",
        "SELECT \n",
        "   CAST('ADW-' || Customer.CustomerID AS VARCHAR(100)) AS CustomerID, \n",
        "   CAST(COALESCE(Customer.FirstName,'') || ' ' || COALESCE(Customer.MiddleName,'') || ' ' || COALESCE(Customer.LastName,'') AS VARCHAR(200)) AS CustomerName, \n",
        "   CAST(Customer.Phone AS VARCHAR(20)) AS CustomerPhone, \n",
        "   CAST(Customer.EmailAddress AS VARCHAR(100)) AS CustomerEmail,\n",
        "   CAST(Address.AddressID AS INT)  AS CustomerAddressID,\n",
        "   CAST('AdventureWorksLT' AS VARCHAR(20)) AS SourceSystem,\n",
        "   CAST(Customer.ModifiedDate AS TIMESTAMP) AS ModifiedDate \n",
        "FROM \n",
        "    tmpViewBronzeCustomer Customer\n",
        "INNER JOIN\n",
        "    tmpViewBronzeAddress Address\n",
        "    ON Customer.CustomerID = Address.CustomerID\n",
        "LIMIT 10"
      ]
    },
    {
      "cell_type": "markdown",
      "metadata": {
        "nteract": {
          "transient": {
            "deleting": false
          }
        }
      },
      "source": [
        "## 2.2 | Setting up the Silver ADLS connection"
      ]
    },
    {
      "cell_type": "code",
      "execution_count": 6,
      "metadata": {
        "jupyter": {
          "outputs_hidden": false,
          "source_hidden": false
        },
        "nteract": {
          "transient": {
            "deleting": false
          }
        }
      },
      "outputs": [
        {
          "data": {
            "application/vnd.livy.statement-meta+json": {
              "execution_finish_time": "2022-12-09T14:44:07.8804867Z",
              "execution_start_time": "2022-12-09T14:44:07.689921Z",
              "livy_statement_state": "available",
              "queued_time": "2022-12-09T14:44:07.5751733Z",
              "session_id": "6",
              "session_start_time": null,
              "spark_jobs": null,
              "spark_pool": "SparkPool",
              "state": "finished",
              "statement_id": 7
            },
            "text/plain": [
              "StatementMeta(SparkPool, 6, 7, Finished, Available)"
            ]
          },
          "metadata": {},
          "output_type": "display_data"
        },
        {
          "name": "stdout",
          "output_type": "stream",
          "text": [
            "ADLS Path: abfss://demosilverlayer@demostoragesilver.dfs.core.windows.net/CustomerMaster/Delta/\n"
          ]
        }
      ],
      "source": [
        "# Silver Storage Account Info | Check Azure Portal if you are unsure #\n",
        "account_name = 'demostoragesilver' \n",
        "container_name = 'sales' \n",
        "relative_path = 'CustomerMaster/Delta/'\n",
        "adls_path = 'abfss://%s@%s.dfs.core.windows.net/%s' % (container_name, account_name, relative_path) \n",
        "print('ADLS Path: ' + adls_path) "
      ]
    },
    {
      "cell_type": "markdown",
      "metadata": {
        "nteract": {
          "transient": {
            "deleting": false
          }
        }
      },
      "source": [
        "## 2.3 | Setting up a Delta table"
      ]
    },
    {
      "cell_type": "code",
      "execution_count": 61,
      "metadata": {
        "collapsed": false,
        "jupyter": {
          "outputs_hidden": false,
          "source_hidden": false
        },
        "microsoft": {
          "language": "sparksql"
        },
        "nteract": {
          "transient": {
            "deleting": false
          }
        }
      },
      "outputs": [
        {
          "data": {
            "application/vnd.livy.statement-meta+json": {
              "execution_finish_time": "2022-12-09T05:23:22.8583625Z",
              "execution_start_time": "2022-12-09T05:23:22.8580134Z",
              "livy_statement_state": "available",
              "queued_time": "2022-12-09T05:23:19.5155365Z",
              "session_id": "5",
              "session_start_time": null,
              "spark_jobs": null,
              "spark_pool": null,
              "state": "finished",
              "statement_id": -1
            },
            "text/plain": [
              "StatementMeta(, 5, -1, Finished, Available)"
            ]
          },
          "metadata": {},
          "output_type": "display_data"
        },
        {
          "data": {
            "application/vnd.synapse.sparksql-result+json": {
              "data": [],
              "schema": {
                "fields": [],
                "type": "struct"
              }
            },
            "text/plain": [
              "<Spark SQL result set with 0 rows and 0 fields>"
            ]
          },
          "execution_count": 61,
          "metadata": {},
          "output_type": "execute_result"
        },
        {
          "data": {
            "application/vnd.synapse.sparksql-result+json": {
              "data": [],
              "schema": {
                "fields": [],
                "type": "struct"
              }
            },
            "text/plain": [
              "<Spark SQL result set with 0 rows and 0 fields>"
            ]
          },
          "execution_count": 61,
          "metadata": {},
          "output_type": "execute_result"
        }
      ],
      "source": [
        "%%sql\n",
        "/*Use the ADLS Path from the step above and paste in the LOCATION area below*/\n",
        "DROP TABLE CustomerMaster;\n",
        "CREATE TABLE CustomerMaster \n",
        "(\n",
        "    CustomerID  string,\n",
        "    CustomerName  string,\n",
        "\tCustomerPhone  string,\n",
        "\tCustomerEmail  string,\n",
        "\tCustomerAddressID  int,\n",
        "\tSourceSystem  string,\n",
        "\tModifiedDate  timestamp\n",
        ") \n",
        "USING DELTA\n",
        "LOCATION 'abfss://sales@demostoragesilver.dfs.core.windows.net/CustomerMaster/Delta/'\n",
        "/*Verify that the table has been created by going to the storage location and looking for a 'delta_log' directory*/"
      ]
    },
    {
      "cell_type": "markdown",
      "metadata": {
        "nteract": {
          "transient": {
            "deleting": false
          }
        }
      },
      "source": [
        "# Step 3 | Loading the Silver Layer\n",
        "## 3.1 | Creating temporary view to load the Delta table"
      ]
    },
    {
      "cell_type": "code",
      "execution_count": 7,
      "metadata": {
        "collapsed": false,
        "jupyter": {
          "outputs_hidden": false,
          "source_hidden": false
        },
        "microsoft": {
          "language": "sparksql"
        },
        "nteract": {
          "transient": {
            "deleting": false
          }
        }
      },
      "outputs": [
        {
          "data": {
            "application/vnd.livy.statement-meta+json": {
              "execution_finish_time": "2022-12-09T14:44:18.1330749Z",
              "execution_start_time": "2022-12-09T14:44:16.9750211Z",
              "livy_statement_state": "available",
              "queued_time": "2022-12-09T14:44:16.8561441Z",
              "session_id": "6",
              "session_start_time": null,
              "spark_jobs": null,
              "spark_pool": "SparkPool",
              "state": "finished",
              "statement_id": 8
            },
            "text/plain": [
              "StatementMeta(SparkPool, 6, 8, Finished, Available)"
            ]
          },
          "metadata": {},
          "output_type": "display_data"
        },
        {
          "data": {
            "application/vnd.synapse.sparksql-result+json": {
              "data": [],
              "schema": {
                "fields": [],
                "type": "struct"
              }
            },
            "text/plain": [
              "<Spark SQL result set with 0 rows and 0 fields>"
            ]
          },
          "execution_count": 7,
          "metadata": {},
          "output_type": "execute_result"
        }
      ],
      "source": [
        "%%sql\n",
        "/*Creating a temporary view for all the new and updated rows that need to be loaded into Delta\n",
        "There will be a seperate logic to figure out the rows that need to be deleted*/\n",
        "CREATE OR REPLACE TEMP VIEW tmpViewSilverCustomerMaster_InsertUpdate AS\n",
        "(\n",
        "  SELECT \n",
        "    CAST('ADW-' || Customer.CustomerID AS VARCHAR(100)) AS CustomerID, \n",
        "    CAST(COALESCE(Customer.FirstName,'') || ' ' || COALESCE(Customer.MiddleName,'') || ' ' || COALESCE(Customer.LastName,'') AS VARCHAR(200)) AS CustomerName, \n",
        "    CAST(Customer.Phone AS VARCHAR(20)) AS CustomerPhone, \n",
        "    CAST(Customer.EmailAddress AS VARCHAR(100)) AS CustomerEmail,\n",
        "    CAST(Address.AddressID AS INT)  AS CustomerAddressID,\n",
        "    CAST('AdventureWorksLT' AS VARCHAR(20)) AS SourceSystem,\n",
        "    CAST(Customer.ModifiedDate AS TIMESTAMP) AS ModifiedDate \n",
        "  FROM \n",
        "      tmpViewBronzeCustomer Customer\n",
        "  INNER JOIN\n",
        "      tmpViewBronzeAddress Address\n",
        "      ON Customer.CustomerID = Address.CustomerID\n",
        ");\n"
      ]
    },
    {
      "cell_type": "markdown",
      "metadata": {
        "nteract": {
          "transient": {
            "deleting": false
          }
        }
      },
      "source": [
        "## 3.2 Loading Delta table"
      ]
    },
    {
      "cell_type": "code",
      "execution_count": 62,
      "metadata": {
        "collapsed": false,
        "jupyter": {
          "outputs_hidden": false,
          "source_hidden": false
        },
        "microsoft": {
          "language": "sparksql"
        },
        "nteract": {
          "transient": {
            "deleting": false
          }
        }
      },
      "outputs": [
        {
          "data": {
            "application/vnd.livy.statement-meta+json": {
              "execution_finish_time": "2022-12-09T05:23:44.0331977Z",
              "execution_start_time": "2022-12-09T05:23:38.5703112Z",
              "livy_statement_state": "available",
              "queued_time": "2022-12-09T05:23:38.458571Z",
              "session_id": "5",
              "session_start_time": null,
              "spark_jobs": null,
              "spark_pool": "SparkPool",
              "state": "finished",
              "statement_id": 31
            },
            "text/plain": [
              "StatementMeta(SparkPool, 5, 31, Finished, Available)"
            ]
          },
          "metadata": {},
          "output_type": "display_data"
        },
        {
          "data": {
            "application/vnd.synapse.sparksql-result+json": {
              "data": [],
              "schema": {
                "fields": [],
                "type": "struct"
              }
            },
            "text/plain": [
              "<Spark SQL result set with 0 rows and 0 fields>"
            ]
          },
          "execution_count": 62,
          "metadata": {},
          "output_type": "execute_result"
        }
      ],
      "source": [
        "%%sql\n",
        "/* --Sample of how MERGE statements works--\n",
        "\n",
        "MERGE INTO target t\n",
        "USING (\n",
        "  -- Find the latest change for each key based on the timestamp\n",
        "  SELECT key, latest.newValue as newValue, latest.deleted as deleted FROM (    \n",
        "    -- Note: For nested structs, max on struct is computed as \n",
        "    -- max on first struct field, if equal fall back to second fields, and so on.\n",
        "    SELECT key, max(struct(time, newValue, deleted)) as latest FROM changes GROUP BY key\n",
        "  )\n",
        ") s\n",
        "ON s.key = t.key\n",
        "WHEN MATCHED AND s.deleted = true THEN DELETE\n",
        "WHEN MATCHED THEN UPDATE SET key = s.key, value = s.newValue\n",
        "WHEN NOT MATCHED AND s.deleted = false THEN INSERT (key, value) VALUES (key, newValue)\n",
        "*/\n",
        "\n",
        "MERGE INTO CustomerMaster\n",
        "USING tmpViewSilverCustomerMaster_InsertUpdate CM_IU\n",
        "ON CustomerMaster.CustomerID = CM_IU.CustomerID\n",
        "WHEN MATCHED THEN UPDATE SET *\n",
        "WHEN NOT MATCHED THEN INSERT *"
      ]
    },
    {
      "cell_type": "markdown",
      "metadata": {
        "nteract": {
          "transient": {
            "deleting": false
          }
        }
      },
      "source": [
        "## 3.3 | Reading Delta table"
      ]
    },
    {
      "cell_type": "code",
      "execution_count": 8,
      "metadata": {
        "collapsed": false,
        "jupyter": {
          "outputs_hidden": false,
          "source_hidden": false
        },
        "microsoft": {
          "language": "sparksql"
        },
        "nteract": {
          "transient": {
            "deleting": false
          }
        }
      },
      "outputs": [
        {
          "data": {
            "application/vnd.livy.statement-meta+json": {
              "execution_finish_time": "2022-12-09T14:44:50.0570089Z",
              "execution_start_time": "2022-12-09T14:44:50.0558989Z",
              "livy_statement_state": "available",
              "queued_time": "2022-12-09T14:44:27.6288533Z",
              "session_id": "6",
              "session_start_time": null,
              "spark_jobs": null,
              "spark_pool": null,
              "state": "finished",
              "statement_id": -1
            },
            "text/plain": [
              "StatementMeta(, 6, -1, Finished, Available)"
            ]
          },
          "metadata": {},
          "output_type": "display_data"
        },
        {
          "data": {
            "application/vnd.synapse.sparksql-result+json": {
              "data": [
                [
                  "ADW-29485",
                  "Catherine R. Abel",
                  "747-555-0171",
                  "catherine0@adventure-works.com",
                  1086,
                  "AdventureWorksLT",
                  "2009-05-16T16:33:33Z"
                ],
                [
                  "ADW-29486",
                  "Kim  Abercrombie",
                  "334-555-0137",
                  "kim2@adventure-works.com",
                  621,
                  "AdventureWorksLT",
                  "2009-05-16T16:33:33Z"
                ],
                [
                  "ADW-29489",
                  "Frances B. Adams",
                  "991-555-0183",
                  "frances0@adventure-works.com",
                  1069,
                  "AdventureWorksLT",
                  "2009-05-16T16:33:33Z"
                ],
                [
                  "ADW-29490",
                  "Margaret J. Smith",
                  "959-555-0151",
                  "margaret0@adventure-works.com",
                  887,
                  "AdventureWorksLT",
                  "2009-05-16T16:33:33Z"
                ],
                [
                  "ADW-29492",
                  "Jay  Adams",
                  "158-555-0142",
                  "jay1@adventure-works.com",
                  618,
                  "AdventureWorksLT",
                  "2009-05-16T16:33:33Z"
                ],
                [
                  "ADW-29494",
                  "Samuel N. Agcaoili",
                  "554-555-0110",
                  "samuel0@adventure-works.com",
                  537,
                  "AdventureWorksLT",
                  "2005-09-01T00:00:00Z"
                ],
                [
                  "ADW-29496",
                  "Robert E. Ahlering",
                  "678-555-0175",
                  "robert1@adventure-works.com",
                  1072,
                  "AdventureWorksLT",
                  "2007-09-01T00:00:00Z"
                ],
                [
                  "ADW-29497",
                  "François  Ferrier",
                  "571-555-0128",
                  "françois1@adventure-works.com",
                  889,
                  "AdventureWorksLT",
                  "2005-07-01T00:00:00Z"
                ],
                [
                  "ADW-29499",
                  "Amy E. Alberts",
                  "727-555-0115",
                  "amy1@adventure-works.com",
                  527,
                  "AdventureWorksLT",
                  "2006-09-01T00:00:00Z"
                ],
                [
                  "ADW-29502",
                  "Paul L. Alcorn",
                  "331-555-0162",
                  "paul2@adventure-works.com",
                  893,
                  "AdventureWorksLT",
                  "2007-07-01T00:00:00Z"
                ]
              ],
              "schema": {
                "fields": [
                  {
                    "metadata": {},
                    "name": "CustomerID",
                    "nullable": true,
                    "type": "string"
                  },
                  {
                    "metadata": {},
                    "name": "CustomerName",
                    "nullable": true,
                    "type": "string"
                  },
                  {
                    "metadata": {},
                    "name": "CustomerPhone",
                    "nullable": true,
                    "type": "string"
                  },
                  {
                    "metadata": {},
                    "name": "CustomerEmail",
                    "nullable": true,
                    "type": "string"
                  },
                  {
                    "metadata": {},
                    "name": "CustomerAddressID",
                    "nullable": true,
                    "type": "integer"
                  },
                  {
                    "metadata": {},
                    "name": "SourceSystem",
                    "nullable": true,
                    "type": "string"
                  },
                  {
                    "metadata": {},
                    "name": "ModifiedDate",
                    "nullable": true,
                    "type": "timestamp"
                  }
                ],
                "type": "struct"
              }
            },
            "text/plain": [
              "<Spark SQL result set with 10 rows and 7 fields>"
            ]
          },
          "execution_count": 8,
          "metadata": {},
          "output_type": "execute_result"
        },
        {
          "data": {
            "application/vnd.synapse.sparksql-result+json": {
              "data": [
                [
                  "417"
                ]
              ],
              "schema": {
                "fields": [
                  {
                    "metadata": {},
                    "name": "CNT",
                    "nullable": false,
                    "type": "long"
                  }
                ],
                "type": "struct"
              }
            },
            "text/plain": [
              "<Spark SQL result set with 1 rows and 1 fields>"
            ]
          },
          "execution_count": 8,
          "metadata": {},
          "output_type": "execute_result"
        }
      ],
      "source": [
        "%%sql\n",
        "\n",
        "SELECT *\n",
        "FROM CustomerMaster \n",
        "ORDER BY CustomerID\n",
        "LIMIT 10;\n",
        "\n",
        "SELECT COUNT(*) AS CNT\n",
        "FROM CustomerMaster;"
      ]
    },
    {
      "cell_type": "markdown",
      "metadata": {
        "nteract": {
          "transient": {
            "deleting": false
          }
        }
      },
      "source": [
        "## 3.4 | Showing the Delta history and time travel"
      ]
    },
    {
      "cell_type": "code",
      "execution_count": 9,
      "metadata": {
        "collapsed": false,
        "jupyter": {
          "outputs_hidden": false,
          "source_hidden": false
        },
        "microsoft": {
          "language": "sparksql"
        },
        "nteract": {
          "transient": {
            "deleting": false
          }
        }
      },
      "outputs": [
        {
          "data": {
            "application/vnd.livy.statement-meta+json": {
              "execution_finish_time": "2022-12-09T14:44:58.1786097Z",
              "execution_start_time": "2022-12-09T14:44:55.2780585Z",
              "livy_statement_state": "available",
              "queued_time": "2022-12-09T14:44:55.1625089Z",
              "session_id": "6",
              "session_start_time": null,
              "spark_jobs": null,
              "spark_pool": "SparkPool",
              "state": "finished",
              "statement_id": 11
            },
            "text/plain": [
              "StatementMeta(SparkPool, 6, 11, Finished, Available)"
            ]
          },
          "metadata": {},
          "output_type": "display_data"
        },
        {
          "data": {
            "application/vnd.synapse.sparksql-result+json": {
              "data": [
                [
                  "1",
                  "2022-12-09T05:23:41Z",
                  null,
                  null,
                  "MERGE",
                  {
                    "matchedPredicates": "[{\"actionType\":\"update\"}]",
                    "notMatchedPredicates": "[{\"actionType\":\"insert\"}]",
                    "predicate": "(spark_catalog.default.CustomerMaster.CustomerID = CM_IU.CustomerID)"
                  },
                  null,
                  null,
                  null,
                  "0",
                  "Serializable",
                  false,
                  {
                    "executionTimeMs": "2618",
                    "numOutputRows": "417",
                    "numSourceRows": "0",
                    "numTargetFilesAdded": "1",
                    "numTargetFilesRemoved": "0",
                    "numTargetRowsCopied": "0",
                    "numTargetRowsDeleted": "0",
                    "numTargetRowsInserted": "417",
                    "numTargetRowsUpdated": "0",
                    "rewriteTimeMs": "1765",
                    "scanTimeMs": "830"
                  },
                  null,
                  "Apache-Spark/3.2.2.5.0-73283859 Delta-Lake/1.2.1.6"
                ],
                [
                  "0",
                  "2022-12-09T05:22:45Z",
                  null,
                  null,
                  "CREATE TABLE",
                  {
                    "description": null,
                    "isManaged": "false",
                    "partitionBy": "[]",
                    "properties": "{}"
                  },
                  null,
                  null,
                  null,
                  null,
                  "Serializable",
                  true,
                  {},
                  null,
                  "Apache-Spark/3.2.2.5.0-73283859 Delta-Lake/1.2.1.6"
                ]
              ],
              "schema": {
                "fields": [
                  {
                    "metadata": {},
                    "name": "version",
                    "nullable": true,
                    "type": "long"
                  },
                  {
                    "metadata": {},
                    "name": "timestamp",
                    "nullable": true,
                    "type": "timestamp"
                  },
                  {
                    "metadata": {},
                    "name": "userId",
                    "nullable": true,
                    "type": "string"
                  },
                  {
                    "metadata": {},
                    "name": "userName",
                    "nullable": true,
                    "type": "string"
                  },
                  {
                    "metadata": {},
                    "name": "operation",
                    "nullable": true,
                    "type": "string"
                  },
                  {
                    "metadata": {},
                    "name": "operationParameters",
                    "nullable": true,
                    "type": {
                      "keyType": "string",
                      "type": "map",
                      "valueContainsNull": true,
                      "valueType": "string"
                    }
                  },
                  {
                    "metadata": {},
                    "name": "job",
                    "nullable": true,
                    "type": {
                      "fields": [
                        {
                          "metadata": {},
                          "name": "jobId",
                          "nullable": true,
                          "type": "string"
                        },
                        {
                          "metadata": {},
                          "name": "jobName",
                          "nullable": true,
                          "type": "string"
                        },
                        {
                          "metadata": {},
                          "name": "runId",
                          "nullable": true,
                          "type": "string"
                        },
                        {
                          "metadata": {},
                          "name": "jobOwnerId",
                          "nullable": true,
                          "type": "string"
                        },
                        {
                          "metadata": {},
                          "name": "triggerType",
                          "nullable": true,
                          "type": "string"
                        }
                      ],
                      "type": "struct"
                    }
                  },
                  {
                    "metadata": {},
                    "name": "notebook",
                    "nullable": true,
                    "type": {
                      "fields": [
                        {
                          "metadata": {},
                          "name": "notebookId",
                          "nullable": true,
                          "type": "string"
                        }
                      ],
                      "type": "struct"
                    }
                  },
                  {
                    "metadata": {},
                    "name": "clusterId",
                    "nullable": true,
                    "type": "string"
                  },
                  {
                    "metadata": {},
                    "name": "readVersion",
                    "nullable": true,
                    "type": "long"
                  },
                  {
                    "metadata": {},
                    "name": "isolationLevel",
                    "nullable": true,
                    "type": "string"
                  },
                  {
                    "metadata": {},
                    "name": "isBlindAppend",
                    "nullable": true,
                    "type": "boolean"
                  },
                  {
                    "metadata": {},
                    "name": "operationMetrics",
                    "nullable": true,
                    "type": {
                      "keyType": "string",
                      "type": "map",
                      "valueContainsNull": true,
                      "valueType": "string"
                    }
                  },
                  {
                    "metadata": {},
                    "name": "userMetadata",
                    "nullable": true,
                    "type": "string"
                  },
                  {
                    "metadata": {},
                    "name": "engineInfo",
                    "nullable": true,
                    "type": "string"
                  }
                ],
                "type": "struct"
              }
            },
            "text/plain": [
              "<Spark SQL result set with 2 rows and 15 fields>"
            ]
          },
          "execution_count": 9,
          "metadata": {},
          "output_type": "execute_result"
        }
      ],
      "source": [
        "%%sql\n",
        "DESCRIBE HISTORY CustomerMaster\n",
        "\n",
        "/*\n",
        "SELECT *\n",
        "FROM CustomerMaster \n",
        "TIMESTAMP AS OF '2022-12-09T05:23:45Z'\n",
        "*/"
      ]
    },
    {
      "cell_type": "code",
      "execution_count": 10,
      "metadata": {
        "jupyter": {
          "outputs_hidden": false,
          "source_hidden": false
        },
        "nteract": {
          "transient": {
            "deleting": false
          }
        }
      },
      "outputs": [
        {
          "data": {
            "application/vnd.livy.statement-meta+json": {
              "execution_finish_time": "2022-12-09T14:45:04.3649492Z",
              "execution_start_time": "2022-12-09T14:45:02.3784056Z",
              "livy_statement_state": "available",
              "queued_time": "2022-12-09T14:45:02.2198304Z",
              "session_id": "6",
              "session_start_time": null,
              "spark_jobs": null,
              "spark_pool": "SparkPool",
              "state": "finished",
              "statement_id": 12
            },
            "text/plain": [
              "StatementMeta(SparkPool, 6, 12, Finished, Available)"
            ]
          },
          "metadata": {},
          "output_type": "display_data"
        },
        {
          "name": "stdout",
          "output_type": "stream",
          "text": [
            "+----------+------------------+-------------+--------------------+-----------------+----------------+-------------------+\n",
            "|CustomerID|      CustomerName|CustomerPhone|       CustomerEmail|CustomerAddressID|    SourceSystem|       ModifiedDate|\n",
            "+----------+------------------+-------------+--------------------+-----------------+----------------+-------------------+\n",
            "| ADW-29485| Catherine R. Abel| 747-555-0171|catherine0@advent...|             1086|AdventureWorksLT|2009-05-16 16:33:33|\n",
            "| ADW-29486|  Kim  Abercrombie| 334-555-0137|kim2@adventure-wo...|              621|AdventureWorksLT|2009-05-16 16:33:33|\n",
            "| ADW-29489|  Frances B. Adams| 991-555-0183|frances0@adventur...|             1069|AdventureWorksLT|2009-05-16 16:33:33|\n",
            "| ADW-29490| Margaret J. Smith| 959-555-0151|margaret0@adventu...|              887|AdventureWorksLT|2009-05-16 16:33:33|\n",
            "| ADW-29492|        Jay  Adams| 158-555-0142|jay1@adventure-wo...|              618|AdventureWorksLT|2009-05-16 16:33:33|\n",
            "| ADW-29494|Samuel N. Agcaoili| 554-555-0110|samuel0@adventure...|              537|AdventureWorksLT|2005-09-01 00:00:00|\n",
            "| ADW-29496|Robert E. Ahlering| 678-555-0175|robert1@adventure...|             1072|AdventureWorksLT|2007-09-01 00:00:00|\n",
            "| ADW-29497| François  Ferrier| 571-555-0128|françois1@adventu...|              889|AdventureWorksLT|2005-07-01 00:00:00|\n",
            "| ADW-29499|    Amy E. Alberts| 727-555-0115|amy1@adventure-wo...|              527|AdventureWorksLT|2006-09-01 00:00:00|\n",
            "| ADW-29502|    Paul L. Alcorn| 331-555-0162|paul2@adventure-w...|              893|AdventureWorksLT|2007-07-01 00:00:00|\n",
            "+----------+------------------+-------------+--------------------+-----------------+----------------+-------------------+\n",
            "only showing top 10 rows\n",
            "\n"
          ]
        }
      ],
      "source": [
        "CustomerMasterAsOfDF = (spark\n",
        "    .read\n",
        "    .format(\"delta\")\n",
        "    .option(\"versionAsOf\", 1)\n",
        "    .load(\"abfss://sales@demostoragesilver.dfs.core.windows.net/CustomerMaster/Delta/\")\n",
        ")\n",
        "\n",
        "#.option(\"TimestampAsOf\", '2022-12-09T05:23:41Z')\n",
        "\n",
        "CustomerMasterAsOfDF.orderBy(\"CustomerID\").show(10)"
      ]
    },
    {
      "cell_type": "markdown",
      "metadata": {
        "nteract": {
          "transient": {
            "deleting": false
          }
        }
      },
      "source": [
        "## 3.X | Bonus: Find out how to deal with deleted records from the source"
      ]
    },
    {
      "cell_type": "code",
      "execution_count": 11,
      "metadata": {
        "jupyter": {
          "outputs_hidden": false,
          "source_hidden": false
        },
        "nteract": {
          "transient": {
            "deleting": false
          }
        }
      },
      "outputs": [
        {
          "data": {
            "application/vnd.livy.statement-meta+json": {
              "execution_finish_time": "2022-12-09T15:09:22.7588876Z",
              "execution_start_time": "2022-12-09T15:09:13.3179488Z",
              "livy_statement_state": "cancelled",
              "queued_time": "2022-12-09T15:09:13.1777074Z",
              "session_id": "6",
              "session_start_time": null,
              "spark_jobs": null,
              "spark_pool": "SparkPool",
              "state": "finished",
              "statement_id": 13
            },
            "text/plain": [
              "StatementMeta(SparkPool, 6, 13, Finished, Cancelled)"
            ]
          },
          "metadata": {},
          "output_type": "display_data"
        }
      ],
      "source": [
        "# Hint\n",
        "# Research SQL Serverless in Azure Synapse\n",
        "# Use that a comparison point and compare your temporary view with the Serverless Silver object\n",
        "# Remove those records that are in the Serverless object but not in the current loads view using the MERGE statement\n",
        "# Sample code on how to connect to a Serverless SQL object is show below\n",
        "\n",
        "\n",
        "# Azure SQL servername is in the format \"jdbc:sqlserver://<AzureSQLServerName>.database.windows.net:1433\"\n",
        "# Synapse SQL serverless name is in the format \"jdbc:sqlserver://<AzureSynapsename>-ondemand.sql.azuresynapse.net:1433\" \n",
        "#servername = \"jdbc:sqlserver://supply-chain-synapse-ondemand.sql.azuresynapse.net:1433\"\n",
        "#dbname = \"SilverDataLake\"\n",
        "#url = servername + \";\" + \"databaseName=\" + dbname + \";\"\n",
        "#dbtable = \"vwSilverNotebookDemoProducts\"\n",
        "#user= mssparkutils.credentials.getSecret('kv-SupplyChainHack','synapseusername')\n",
        "#password = mssparkutils.credentials.getSecret('kv-SupplyChainHack','synapsepassword')\n",
        "\n",
        "#Read from SQL table using MS SQL Connector\n",
        "#print(\"read data from SQL server table  \")\n",
        "#SilverProductsDF = spark.read \\\n",
        "#        .format(\"com.microsoft.sqlserver.jdbc.spark\") \\\n",
        "#        .option(\"url\", url) \\\n",
        "#        .option(\"dbtable\", dbtable) \\\n",
        "#        .option(\"user\", user) \\\n",
        "#        .option(\"password\", password).load()\n",
        "\n",
        "#SilverProductsDF.orderBy(\"ProductID\").show(10)\n",
        "\n",
        "#SilverProductsDF.createOrReplaceTempView( \"tmpSilverProducts\" )\n",
        "\n",
        "#SELECT * FROM tmpSilverProducts ORDER BY ProductID"
      ]
    }
  ],
  "metadata": {
    "description": null,
    "kernel_info": {
      "name": "synapse_pyspark"
    },
    "kernelspec": {
      "display_name": "Synapse PySpark",
      "language": "Python",
      "name": "synapse_pyspark"
    },
    "language_info": {
      "name": "python"
    },
    "save_output": true,
    "synapse_widget": {
      "state": {},
      "version": "0.1"
    }
  },
  "nbformat": 4,
  "nbformat_minor": 2
}
