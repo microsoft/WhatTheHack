{
    "metadata": {
        "kernelspec": {
            "name": "SQL",
            "display_name": "SQL",
            "language": "sql"
        },
        "language_info": {
            "name": "sql",
            "version": ""
        },
        "extensions": {
            "azuredatastudio": {
                "version": 1,
                "views": []
            }
        }
    },
    "nbformat_minor": 2,
    "nbformat": 4,
    "cells": [
        {
            "cell_type": "markdown",
            "source": [
                "select \\* on the SalesLT.Address table from the AdventureWorks Table.  The key field for the row level security is <mark>Country</mark>"
            ],
            "metadata": {
                "azdata_cell_guid": "1b11ae7e-8efc-45c4-8abb-46afeb0711ac",
                "extensions": {
                    "azuredatastudio": {
                        "views": []
                    }
                }
            },
            "attachments": {}
        },
        {
            "cell_type": "code",
            "source": [
                "select Top 100 * from SalesLT.Address\r\n",
                ""
            ],
            "metadata": {
                "azdata_cell_guid": "374c417e-3412-4642-ab4c-2d737eb72704",
                "tags": [
                    "hide_input"
                ],
                "extensions": {
                    "azuredatastudio": {
                        "views": []
                    }
                },
                "language": "sql"
            },
            "outputs": [
                {
                    "output_type": "display_data",
                    "data": {
                        "text/html": "(0 rows affected)"
                    },
                    "metadata": {}
                },
                {
                    "output_type": "display_data",
                    "data": {
                        "text/html": "Total execution time: 00:00:00.579"
                    },
                    "metadata": {}
                },
                {
                    "output_type": "execute_result",
                    "execution_count": 1,
                    "data": {
                        "application/vnd.dataresource+json": {
                            "schema": {
                                "fields": [
                                    {
                                        "name": "AddressID"
                                    },
                                    {
                                        "name": "AddressLine1"
                                    },
                                    {
                                        "name": "AddressLine2"
                                    },
                                    {
                                        "name": "City"
                                    },
                                    {
                                        "name": "StateProvince"
                                    },
                                    {
                                        "name": "CountryRegion"
                                    },
                                    {
                                        "name": "PostalCode"
                                    },
                                    {
                                        "name": "rowguid"
                                    },
                                    {
                                        "name": "ModifiedDate"
                                    }
                                ]
                            },
                            "data": []
                        },
                        "text/html": "<table><tr><th>AddressID</th><th>AddressLine1</th><th>AddressLine2</th><th>City</th><th>StateProvince</th><th>CountryRegion</th><th>PostalCode</th><th>rowguid</th><th>ModifiedDate</th></tr></table>"
                    },
                    "metadata": {}
                }
            ],
            "execution_count": 1
        },
        {
            "cell_type": "markdown",
            "source": [
                "Create User Logins on the Master Database that we will use to test Row Level Security"
            ],
            "metadata": {
                "azdata_cell_guid": "947aa7a8-7bc9-42f1-9c0f-8e4f6c3147c5",
                "extensions": {
                    "azuredatastudio": {
                        "views": []
                    }
                }
            }
        },
        {
            "cell_type": "code",
            "source": [
                "-- Creates the logins in the master db with password 'Bazinga!1234'.  \r\n",
                "CREATE LOGIN vendorusa \r\n",
                "    WITH PASSWORD = 'Bazinga!1234';  \r\n",
                "\r\n",
                "CREATE LOGIN vendorcan\r\n",
                "    WITH PASSWORD = 'Bazinga!1234';  \r\n",
                "GO  \r\n",
                "  \r\n",
                "CREATE LOGIN vendormgr\r\n",
                "    WITH PASSWORD = 'Bazinga!1234';  \r\n",
                "GO  "
            ],
            "metadata": {
                "azdata_cell_guid": "e12c1e40-349b-4140-9b33-261ae0f640c9",
                "extensions": {
                    "azuredatastudio": {
                        "views": []
                    }
                },
                "language": "sql",
                "tags": []
            },
            "outputs": [
                {
                    "output_type": "error",
                    "ename": "",
                    "evalue": "Msg 15025, Level 16, State 1, Line 2\r\nThe server principal 'vendorusa' already exists.",
                    "traceback": []
                },
                {
                    "output_type": "error",
                    "ename": "",
                    "evalue": "Msg 15025, Level 16, State 1, Line 5\r\nThe server principal 'vendorcan' already exists.",
                    "traceback": []
                },
                {
                    "output_type": "display_data",
                    "data": {
                        "text/html": "Commands completed successfully."
                    },
                    "metadata": {}
                },
                {
                    "output_type": "display_data",
                    "data": {
                        "text/html": "Total execution time: 00:00:00.097"
                    },
                    "metadata": {}
                }
            ],
            "execution_count": 10
        },
        {
            "cell_type": "markdown",
            "source": [
                "Creates a database user for the logins created above on the AdventureWorks database."
            ],
            "metadata": {
                "azdata_cell_guid": "e88b1eed-28e1-4d1d-bc60-07c72cafd7eb",
                "extensions": {
                    "azuredatastudio": {
                        "views": []
                    }
                }
            },
            "attachments": {}
        },
        {
            "cell_type": "code",
            "source": [
                "CREATE USER vendorusa FOR LOGIN vendorusa; \r\n",
                "CREATE USER vendorcan FOR LOGIN vendorcan;\r\n",
                "CREATE USER vendormgr FOR LOGIN vendormgr;\r\n",
                "GO"
            ],
            "metadata": {
                "azdata_cell_guid": "a0fc8b4c-1ff2-40d9-be3b-d7be70f26faa",
                "extensions": {
                    "azuredatastudio": {
                        "views": []
                    }
                },
                "language": "sql",
                "tags": []
            },
            "outputs": [
                {
                    "output_type": "display_data",
                    "data": {
                        "text/html": "Commands completed successfully."
                    },
                    "metadata": {}
                },
                {
                    "output_type": "display_data",
                    "data": {
                        "text/html": "Total execution time: 00:00:00.067"
                    },
                    "metadata": {}
                }
            ],
            "execution_count": 30
        },
        {
            "cell_type": "markdown",
            "source": [
                "Grant read access on the table to each of the users.  This is the only access they have to the database."
            ],
            "metadata": {
                "azdata_cell_guid": "bfc07f09-7855-4949-b837-cc465b9d1942",
                "extensions": {
                    "azuredatastudio": {
                        "views": []
                    }
                }
            }
        },
        {
            "cell_type": "code",
            "source": [
                "GRANT SELECT ON SalesLT.Address TO VendorUSA;  \r\n",
                "GRANT SELECT ON SalesLT.Address TO VendorCAN; \r\n",
                "GRANT SELECT ON SalesLT.Address TO VendorMGR;\r\n",
                "GO"
            ],
            "metadata": {
                "azdata_cell_guid": "99f06c85-e2d3-4a7d-b499-cbfdeef05316",
                "tags": [],
                "extensions": {
                    "azuredatastudio": {
                        "views": []
                    }
                },
                "language": "sql"
            },
            "outputs": [
                {
                    "output_type": "display_data",
                    "data": {
                        "text/html": "Commands completed successfully."
                    },
                    "metadata": {}
                },
                {
                    "output_type": "display_data",
                    "data": {
                        "text/html": "Total execution time: 00:00:00.067"
                    },
                    "metadata": {}
                }
            ],
            "execution_count": 13
        },
        {
            "cell_type": "markdown",
            "source": [
                "Create a table to hold the lookup data – in this case a relationship between Address.Country and Vendor"
            ],
            "metadata": {
                "azdata_cell_guid": "e983a992-d173-4860-b173-6a102b4c9fde"
            },
            "attachments": {}
        },
        {
            "cell_type": "code",
            "source": [
                "CREATE TABLE SalesLT.Lk_Country_Vendor\r\n",
                "  ( Vendor sysname,\r\n",
                "    CountryRegion varchar(50)\r\n",
                "  ) ;"
            ],
            "metadata": {
                "azdata_cell_guid": "9cec42bb-3bb3-4d5f-8ea4-c85fc378e08b",
                "language": "sql"
            },
            "outputs": [
                {
                    "output_type": "display_data",
                    "data": {
                        "text/html": "Commands completed successfully."
                    },
                    "metadata": {}
                },
                {
                    "output_type": "display_data",
                    "data": {
                        "text/html": "Total execution time: 00:00:00.602"
                    },
                    "metadata": {}
                }
            ],
            "execution_count": 7
        },
        {
            "cell_type": "markdown",
            "source": [
                "Populate the lookup table with sample data, linking Country to vendor."
            ],
            "metadata": {
                "azdata_cell_guid": "e0d94ef3-a967-4454-b91e-7df6ba978369"
            },
            "attachments": {}
        },
        {
            "cell_type": "code",
            "source": [
                "--INSERT INTO SalesLT.Lk_Country_Vendor VALUES ('dbo', 'United Kingdom');\r\n",
                "\r\n",
                "delete from SalesLT.Lk_Country_Vendor where COUNTRYRegion = 'United Kingdon'\r\n",
                "\r\n",
                ""
            ],
            "metadata": {
                "azdata_cell_guid": "d3109102-97ca-49c4-8f23-ead8145c50b5",
                "language": "sql",
                "tags": []
            },
            "outputs": [
                {
                    "output_type": "display_data",
                    "data": {
                        "text/html": "(1 row affected)"
                    },
                    "metadata": {}
                },
                {
                    "output_type": "display_data",
                    "data": {
                        "text/html": "Total execution time: 00:00:00.271"
                    },
                    "metadata": {}
                }
            ],
            "execution_count": 26
        },
        {
            "cell_type": "code",
            "source": [
                "-- View the 2 rows in the table\r\n",
                "SELECT * FROM SalesLT.Lk_Country_Vendor;"
            ],
            "metadata": {
                "language": "sql",
                "azdata_cell_guid": "1c3cf9dd-33ae-4f43-9c23-869efbcfe9af"
            },
            "outputs": [
                {
                    "output_type": "display_data",
                    "data": {
                        "text/html": "(4 rows affected)"
                    },
                    "metadata": {}
                },
                {
                    "output_type": "display_data",
                    "data": {
                        "text/html": "Total execution time: 00:00:00.186"
                    },
                    "metadata": {}
                },
                {
                    "output_type": "execute_result",
                    "execution_count": 2,
                    "data": {
                        "application/vnd.dataresource+json": {
                            "schema": {
                                "fields": [
                                    {
                                        "name": "Vendor"
                                    },
                                    {
                                        "name": "CountryRegion"
                                    }
                                ]
                            },
                            "data": [
                                {
                                    "0": "VendorUSA",
                                    "1": "United States"
                                },
                                {
                                    "0": "VendorCAN",
                                    "1": "Canada"
                                },
                                {
                                    "0": "Jack.Bender@microsoft.com",
                                    "1": "United Kingdom"
                                },
                                {
                                    "0": "dbo",
                                    "1": "United Kingdom"
                                }
                            ]
                        },
                        "text/html": "<table><tr><th>Vendor</th><th>CountryRegion</th></tr><tr><td>VendorUSA</td><td>United States</td></tr><tr><td>VendorCAN</td><td>Canada</td></tr><tr><td>Jack.Bender@microsoft.com</td><td>United Kingdom</td></tr><tr><td>dbo</td><td>United Kingdom</td></tr></table>"
                    },
                    "metadata": {}
                }
            ],
            "execution_count": 2
        },
        {
            "cell_type": "code",
            "source": [
                "select SYSTEM_USER"
            ],
            "metadata": {
                "language": "sql",
                "azdata_cell_guid": "9d439f86-afa5-4249-8ff1-8a40d05a708f"
            },
            "outputs": [
                {
                    "output_type": "display_data",
                    "data": {
                        "text/html": "(1 row affected)"
                    },
                    "metadata": {}
                },
                {
                    "output_type": "display_data",
                    "data": {
                        "text/html": "Total execution time: 00:00:00.068"
                    },
                    "metadata": {}
                },
                {
                    "output_type": "execute_result",
                    "execution_count": 4,
                    "data": {
                        "application/vnd.dataresource+json": {
                            "schema": {
                                "fields": [
                                    {
                                        "name": "(No column name)"
                                    }
                                ]
                            },
                            "data": [
                                {
                                    "0": "synapseadmin"
                                }
                            ]
                        },
                        "text/html": "<table><tr><th>(No column name)</th></tr><tr><td>synapseadmin</td></tr></table>"
                    },
                    "metadata": {}
                }
            ],
            "execution_count": 4
        },
        {
            "cell_type": "markdown",
            "source": [
                "Create a new schema, and an inline table-valued function. The function returns 1 when a user queries the fact table Address and the Vendor column of the table Lk_Country_Vendor is the same as the user executing the query (@Vendor = USER_NAME()) when joined to the fact table on the CountryRegion column, or if the user executing the query is the Manager user (USER_NAME() = 'Manager')."
            ],
            "metadata": {
                "azdata_cell_guid": "5e82b9d4-3cd7-4133-915a-61ff6426f5a4",
                "extensions": {
                    "azuredatastudio": {
                        "views": []
                    }
                }
            },
            "attachments": {}
        },
        {
            "cell_type": "code",
            "source": [
                "CREATE SCHEMA Security ;\r\n",
                "GO\r\n",
                "CREATE FUNCTION Security.fn_securitypredicate\r\n",
                "         (@CountryRegion AS varchar(50))\r\n",
                "RETURNS TABLE\r\n",
                "WITH SCHEMABINDING\r\n",
                "AS\r\n",
                "           RETURN ( SELECT 1 as Result\r\n",
                "                     FROM SalesLT.Address A\r\n",
                "            INNER JOIN SalesLT.Lk_Country_Vendor L\r\n",
                "                     ON A.CountryRegion = L.CountryRegion\r\n",
                "            WHERE ( A.CountryRegion = @CountryRegion\r\n",
                "                    AND L.Vendor = SYSTEM_USER )\r\n",
                "                 OR SYSTEM_USER = 'vendormgr'\r\n",
                "                   ) ;"
            ],
            "metadata": {
                "azdata_cell_guid": "0b341a40-920c-460a-bb2a-63965918516a",
                "extensions": {
                    "azuredatastudio": {
                        "views": []
                    }
                },
                "language": "sql"
            },
            "outputs": [
                {
                    "output_type": "display_data",
                    "data": {
                        "text/html": "Commands completed successfully."
                    },
                    "metadata": {}
                },
                {
                    "output_type": "display_data",
                    "data": {
                        "text/html": "Total execution time: 00:00:00.080"
                    },
                    "metadata": {}
                }
            ],
            "execution_count": 37
        },
        {
            "cell_type": "code",
            "source": [
                "--DROP FUNCTION Security.fn_securitypredicate"
            ],
            "metadata": {
                "language": "sql",
                "azdata_cell_guid": "1954d125-1092-4186-9a0a-9a6d33f1ddff"
            },
            "outputs": [
                {
                    "output_type": "display_data",
                    "data": {
                        "text/html": "Commands completed successfully."
                    },
                    "metadata": {}
                },
                {
                    "output_type": "display_data",
                    "data": {
                        "text/html": "Total execution time: 00:00:00.203"
                    },
                    "metadata": {}
                }
            ],
            "execution_count": 36
        },
        {
            "cell_type": "markdown",
            "source": [
                "Create a security policy adding the function as a filter predicate. The state must be set to ON to enable the policy  \n",
                "<mark>We specify the VendorID field on the yellow 2019 table as that is the field our FILTER PREDICATE will use to filter data based on the logged in user.</mark>"
            ],
            "metadata": {
                "azdata_cell_guid": "9231eff9-99a3-4e58-98a3-eb8fa5a07ffc",
                "extensions": {
                    "azuredatastudio": {
                        "views": []
                    }
                }
            }
        },
        {
            "cell_type": "code",
            "source": [
                "CREATE SECURITY POLICY VendorFilter  \r\n",
                "ADD FILTER PREDICATE Security.fn_securitypredicate(CountryRegion)\r\n",
                "ON SalesLT.Address\r\n",
                "WITH (STATE = ON);  \r\n",
                "GO"
            ],
            "metadata": {
                "azdata_cell_guid": "76c813bd-6174-4b5d-999a-08631bf109e7",
                "extensions": {
                    "azuredatastudio": {
                        "views": []
                    }
                },
                "language": "sql",
                "tags": []
            },
            "outputs": [
                {
                    "output_type": "display_data",
                    "data": {
                        "text/html": "Commands completed successfully."
                    },
                    "metadata": {}
                },
                {
                    "output_type": "display_data",
                    "data": {
                        "text/html": "Total execution time: 00:00:00.094"
                    },
                    "metadata": {}
                }
            ],
            "execution_count": 38
        },
        {
            "cell_type": "code",
            "source": [
                "DROP SECURITY POLICY VendorFilter  "
            ],
            "metadata": {
                "language": "sql",
                "azdata_cell_guid": "88abc2d8-668c-4250-8a04-f6ad45d8a58e"
            },
            "outputs": [
                {
                    "output_type": "display_data",
                    "data": {
                        "text/html": "Commands completed successfully."
                    },
                    "metadata": {}
                },
                {
                    "output_type": "display_data",
                    "data": {
                        "text/html": "Total execution time: 00:00:00.071"
                    },
                    "metadata": {}
                }
            ],
            "execution_count": 32
        },
        {
            "cell_type": "markdown",
            "source": [
                "Allow SELECT permissions to the fn_securitypredicate function"
            ],
            "metadata": {
                "azdata_cell_guid": "0d8239b3-4784-4965-8f2c-676cbce7a777",
                "extensions": {
                    "azuredatastudio": {
                        "views": []
                    }
                }
            }
        },
        {
            "cell_type": "code",
            "source": [
                "GRANT SELECT ON Security.fn_securitypredicate TO VendorUSA;  \r\n",
                "GRANT SELECT ON Security.fn_securitypredicate TO VendorCAN; \r\n",
                "GRANT SELECT ON Security.fn_securitypredicate TO VendorMGR; "
            ],
            "metadata": {
                "azdata_cell_guid": "264c7d8a-6fe5-4757-8434-ecd97b56ec6e",
                "extensions": {
                    "azuredatastudio": {
                        "views": []
                    }
                },
                "language": "sql",
                "tags": [
                    "hide_input"
                ]
            },
            "outputs": [
                {
                    "output_type": "display_data",
                    "data": {
                        "text/html": "Commands completed successfully."
                    },
                    "metadata": {}
                },
                {
                    "output_type": "display_data",
                    "data": {
                        "text/html": "Total execution time: 00:00:00.130"
                    },
                    "metadata": {}
                }
            ],
            "execution_count": 39
        },
        {
            "cell_type": "markdown",
            "source": [
                "Now test the filtering predicate, by selected from the table as each user.  \n",
                "<mark>This may cause data explorer to error and you may need to perform this in SQL Server Management Studio or Synapse Workspace as when Data Explorer errors, you must close it out and restart it again.</mark>"
            ],
            "metadata": {
                "azdata_cell_guid": "8a9e0324-5938-459a-b36a-8cc7bf87131d",
                "extensions": {
                    "azuredatastudio": {
                        "views": []
                    }
                }
            }
        },
        {
            "cell_type": "code",
            "source": [
                "EXECUTE AS USER = 'VendorUSA';  \r\n",
                "SELECT * FROM [SalesLT].Address;\r\n",
                "REVERT;  \r\n",
                "\r\n",
                ""
            ],
            "metadata": {
                "azdata_cell_guid": "fa41a428-f61c-45ee-b6c3-5cc0e96d90fe",
                "tags": [],
                "extensions": {
                    "azuredatastudio": {
                        "views": []
                    }
                },
                "language": "sql"
            },
            "outputs": [
                {
                    "output_type": "error",
                    "ename": "",
                    "evalue": "Msg 40529, Level 16, State 1, Line 1\r\nBuilt-in function 'SUSER_SNAME' in impersonation context is not supported in this version of SQL Server.",
                    "traceback": []
                },
                {
                    "output_type": "display_data",
                    "data": {
                        "text/html": "Total execution time: 00:00:00.122"
                    },
                    "metadata": {}
                }
            ],
            "execution_count": 5
        },
        {
            "cell_type": "code",
            "source": [
                "EXECUTE AS USER = 'VendorCAN';  \r\n",
                "SELECT * FROM [SalesLT].Address;\r\n",
                "REVERT;  \r\n",
                "\r\n",
                " "
            ],
            "metadata": {
                "azdata_cell_guid": "58be73cc-4175-4b93-b6fe-2bd3fa030cb5",
                "extensions": {
                    "azuredatastudio": {
                        "views": []
                    }
                },
                "language": "sql",
                "tags": []
            },
            "outputs": [
                {
                    "output_type": "display_data",
                    "data": {
                        "text/html": "(115 rows affected)"
                    },
                    "metadata": {}
                },
                {
                    "output_type": "display_data",
                    "data": {
                        "text/html": "Total execution time: 00:00:00.608"
                    },
                    "metadata": {}
                },
                {
                    "output_type": "execute_result",
                    "execution_count": 19,
                    "data": {
                        "application/vnd.dataresource+json": {
                            "schema": {
                                "fields": [
                                    {
                                        "name": "AddressID"
                                    },
                                    {
                                        "name": "AddressLine1"
                                    },
                                    {
                                        "name": "AddressLine2"
                                    },
                                    {
                                        "name": "City"
                                    },
                                    {
                                        "name": "StateProvince"
                                    },
                                    {
                                        "name": "CountryRegion"
                                    },
                                    {
                                        "name": "PostalCode"
                                    },
                                    {
                                        "name": "rowguid"
                                    },
                                    {
                                        "name": "ModifiedDate"
                                    }
                                ]
                            },
                            "data": [
                                {
                                    "0": "488",
                                    "1": "45259 Canada Way",
                                    "2": "NULL",
                                    "3": "Burnaby",
                                    "4": "British Columbia",
                                    "5": "Canada",
                                    "6": "V5G 4S4",
                                    "7": "6D2D6846-3F17-474E-8D31-AD3A59C0CEB0",
                                    "8": "2007-08-01 00:00:00.0000000"
                                },
                                {
                                    "0": "514",
                                    "1": "63 West Beaver Creek",
                                    "2": "NULL",
                                    "3": "Richmond Hill",
                                    "4": "Ontario",
                                    "5": "Canada",
                                    "6": "L4E 3M5",
                                    "7": "AD60DBA9-3B01-47E9-BB5E-DF94D0579F14",
                                    "8": "2006-09-01 00:00:00.0000000"
                                },
                                {
                                    "0": "511",
                                    "1": "Bureau 9900 825, Avenue Querbes",
                                    "2": "NULL",
                                    "3": "Outremont",
                                    "4": "Quebec",
                                    "5": "Canada",
                                    "6": "H1Y 2G5",
                                    "7": "EF10CF20-A540-4D5C-BEFD-1B48B7D48402",
                                    "8": "2006-12-01 00:00:00.0000000"
                                },
                                {
                                    "0": "519",
                                    "1": "2500-622 5th Ave Sw",
                                    "2": "NULL",
                                    "3": "Calgary",
                                    "4": "Alberta",
                                    "5": "Canada",
                                    "6": "T2P 2G8",
                                    "7": "13754965-6A09-4343-968C-8699C27FDFAA",
                                    "8": "2006-08-01 00:00:00.0000000"
                                },
                                {
                                    "0": "482",
                                    "1": "2500 University Avenue",
                                    "2": "NULL",
                                    "3": "Toronto",
                                    "4": "Ontario",
                                    "5": "Canada",
                                    "6": "M4B 1V5",
                                    "7": "197A1735-E89E-4F15-A5F7-FEB98B369094",
                                    "8": "2005-07-01 00:00:00.0000000"
                                },
                                {
                                    "0": "507",
                                    "1": "975 Princess Street",
                                    "2": "NULL",
                                    "3": "Kingston",
                                    "4": "Ontario",
                                    "5": "Canada",
                                    "6": "7L",
                                    "7": "D7849F5F-C042-4FCE-8F6B-BA5CD8708E10",
                                    "8": "2007-09-01 00:00:00.0000000"
                                },
                                {
                                    "0": "462",
                                    "1": "630 University Avenue",
                                    "2": "NULL",
                                    "3": "Toronto",
                                    "4": "Ontario",
                                    "5": "Canada",
                                    "6": "M4B 1V7",
                                    "7": "27D5BDAD-647D-4A56-859A-BC6A82AF7DCD",
                                    "8": "2005-08-01 00:00:00.0000000"
                                },
                                {
                                    "0": "500",
                                    "1": "5700 Explorer Drive",
                                    "2": "NULL",
                                    "3": "Mississauga",
                                    "4": "Ontario",
                                    "5": "Canada",
                                    "6": "L4W 5J3",
                                    "7": "F6FED7FA-39D9-4A60-A1F5-1622489E55FD",
                                    "8": "2005-08-01 00:00:00.0000000"
                                },
                                {
                                    "0": "506",
                                    "1": "255117 - 101 Avenue",
                                    "2": "NULL",
                                    "3": "Surrey",
                                    "4": "British Columbia",
                                    "5": "Canada",
                                    "6": "V3T 4W3",
                                    "7": "22895B47-6086-4550-B437-A75DBEDFE1D9",
                                    "8": "2005-08-01 00:00:00.0000000"
                                },
                                {
                                    "0": "526",
                                    "1": "251420a 170th Street",
                                    "2": "NULL",
                                    "3": "Edmonton",
                                    "4": "Alberta",
                                    "5": "Canada",
                                    "6": "T5",
                                    "7": "476D80AE-69A0-480D-9DF3-8FD0C1095A21",
                                    "8": "2006-07-01 00:00:00.0000000"
                                },
                                {
                                    "0": "510",
                                    "1": "750 Philip Street",
                                    "2": "NULL",
                                    "3": "Waterloo",
                                    "4": "Ontario",
                                    "5": "Canada",
                                    "6": "N2V",
                                    "7": "F2B96299-187A-4E52-96DE-FE9D1C8AB33F",
                                    "8": "2005-11-01 00:00:00.0000000"
                                },
                                {
                                    "0": "556",
                                    "1": "990th Floor 700 De La GauchetiSre Ou",
                                    "2": "NULL",
                                    "3": "Montreal",
                                    "4": "Quebec",
                                    "5": "Canada",
                                    "6": "H1Y 2H3",
                                    "7": "87846D7C-AB01-41C6-A4CC-FAD06D74D11B",
                                    "8": "2005-07-01 00:00:00.0000000"
                                },
                                {
                                    "0": "530",
                                    "1": "Suite #9902",
                                    "2": "NULL",
                                    "3": "North York",
                                    "4": "Ontario",
                                    "5": "Canada",
                                    "6": "M4C 4K6",
                                    "7": "FE36E0C8-AD8A-4D2C-BC53-5D69BE5A9CE7",
                                    "8": "2005-07-01 00:00:00.0000000"
                                },
                                {
                                    "0": "531",
                                    "1": "5th Floor, 79 Place D'armes",
                                    "2": "NULL",
                                    "3": "Kingston",
                                    "4": "Ontario",
                                    "5": "Canada",
                                    "6": "7L",
                                    "7": "F6FB5F79-C5FA-4A7C-8D75-6E9243360308",
                                    "8": "2006-11-01 00:00:00.0000000"
                                },
                                {
                                    "0": "534",
                                    "1": "Depot 80",
                                    "2": "NULL",
                                    "3": "Sillery",
                                    "4": "Quebec",
                                    "5": "Canada",
                                    "6": "G1T",
                                    "7": "3178440D-5C3A-48F2-AF6B-0A607774E265",
                                    "8": "2005-08-01 00:00:00.0000000"
                                },
                                {
                                    "0": "32",
                                    "1": "26910 Indela Road",
                                    "2": "NULL",
                                    "3": "Montreal",
                                    "4": "Quebec",
                                    "5": "Canada",
                                    "6": "H1Y 2H5",
                                    "7": "84A95F62-3AE8-4E7E-BBD5-5A6F00CD982D",
                                    "8": "2006-08-01 00:00:00.0000000"
                                },
                                {
                                    "0": "513",
                                    "1": "253711 Mayfield Place, Unit 150",
                                    "2": "NULL",
                                    "3": "Richmond",
                                    "4": "British Columbia",
                                    "5": "Canada",
                                    "6": "V6B 3P7",
                                    "7": "C418C2F4-6B32-4404-AAB1-E0BEC3958C11",
                                    "8": "2007-09-01 00:00:00.0000000"
                                },
                                {
                                    "0": "515",
                                    "1": "9900 Ronson Drive",
                                    "2": "NULL",
                                    "3": "Etobicoke",
                                    "4": "Ontario",
                                    "5": "Canada",
                                    "6": "M9W 3P3",
                                    "7": "42242712-6DD2-423F-9B89-C953454E3B09",
                                    "8": "2006-07-01 00:00:00.0000000"
                                },
                                {
                                    "0": "509",
                                    "1": "Suite 25800 3401 - 10810th Avenue",
                                    "2": "NULL",
                                    "3": "Surrey",
                                    "4": "British Columbia",
                                    "5": "Canada",
                                    "6": "V3T 4W3",
                                    "7": "28C52717-7117-41B6-A5C7-FDA60D566163",
                                    "8": "2005-08-01 00:00:00.0000000"
                                },
                                {
                                    "0": "481",
                                    "1": "65 Gamelin Street",
                                    "2": "NULL",
                                    "3": "Hull",
                                    "4": "Quebec",
                                    "5": "Canada",
                                    "6": "8Y",
                                    "7": "F35E73BA-678F-4A0F-80BC-6385A7A6CB24",
                                    "8": "2006-08-01 00:00:00.0000000"
                                },
                                {
                                    "0": "480",
                                    "1": "25 First Canadian Place",
                                    "2": "NULL",
                                    "3": "Toronto",
                                    "4": "Ontario",
                                    "5": "Canada",
                                    "6": "M4B 1V5",
                                    "7": "07A009B2-1421-4597-AB85-22BCE3C82B2C",
                                    "8": "2005-08-01 00:00:00.0000000"
                                },
                                {
                                    "0": "449",
                                    "1": "Station E",
                                    "2": "NULL",
                                    "3": "Chalk Riber",
                                    "4": "Ontario",
                                    "5": "Canada",
                                    "6": "K0J 1J0",
                                    "7": "8B5A7729-CB75-4303-A607-7F9793B4D94F",
                                    "8": "2005-08-01 00:00:00.0000000"
                                },
                                {
                                    "0": "454",
                                    "1": "3255 Front Street West",
                                    "2": "NULL",
                                    "3": "Toronto",
                                    "4": "Ontario",
                                    "5": "Canada",
                                    "6": "M4B 1V6",
                                    "7": "EF4DC57D-8B8B-4074-B5F0-ACBEF65DBEC1",
                                    "8": "2007-08-01 00:00:00.0000000"
                                },
                                {
                                    "0": "493",
                                    "1": "6th Floor 5250 Main Street",
                                    "2": "NULL",
                                    "3": "Winnipeg",
                                    "4": "Manitoba",
                                    "5": "Canada",
                                    "6": "R3",
                                    "7": "AC0E73D8-FF0A-42BD-8502-E19EBAC7343F",
                                    "8": "2007-09-01 00:00:00.0000000"
                                },
                                {
                                    "0": "455",
                                    "1": "2550 Signet Drive",
                                    "2": "NULL",
                                    "3": "Weston",
                                    "4": "Ontario",
                                    "5": "Canada",
                                    "6": "M9V 4W3",
                                    "7": "43D582CF-E95F-4861-BA60-2DC7121410A6",
                                    "8": "2006-08-01 00:00:00.0000000"
                                },
                                {
                                    "0": "485",
                                    "1": "9900-6400 Boul, Taschereau",
                                    "2": "NULL",
                                    "3": "Brossard",
                                    "4": "Quebec",
                                    "5": "Canada",
                                    "6": "J4Z 1R4",
                                    "7": "7C46D2FC-E31E-402F-A093-4CF18F7F6E54",
                                    "8": "2006-07-01 00:00:00.0000000"
                                },
                                {
                                    "0": "501",
                                    "1": "965 De La Gauchetiere West",
                                    "2": "NULL",
                                    "3": "Montreal",
                                    "4": "Quebec",
                                    "5": "Canada",
                                    "6": "H1Y 2H8",
                                    "7": "ACB9C033-18C6-4F02-975E-9C5226B96B72",
                                    "8": "2005-08-01 00:00:00.0000000"
                                },
                                {
                                    "0": "504",
                                    "1": "Suite 99320 255 - 510th Avenue S.W.",
                                    "2": "NULL",
                                    "3": "Calgary",
                                    "4": "Alberta",
                                    "5": "Canada",
                                    "6": "T2P 2G8",
                                    "7": "CFF7437F-6830-4797-875B-D9A54EA38975",
                                    "8": "2005-08-01 00:00:00.0000000"
                                },
                                {
                                    "0": "479",
                                    "1": "2550 Middlefield Road",
                                    "2": "NULL",
                                    "3": "Scarborough",
                                    "4": "Ontario",
                                    "5": "Canada",
                                    "6": "M1V 4M2",
                                    "7": "E60801BF-CFB3-4606-A738-8AA0EB587AFB",
                                    "8": "2005-08-01 00:00:00.0000000"
                                },
                                {
                                    "0": "516",
                                    "1": "251 Indell Lane",
                                    "2": "NULL",
                                    "3": "Brampton",
                                    "4": "Ontario",
                                    "5": "Canada",
                                    "6": "L6W 2T7",
                                    "7": "A1F36994-B5B3-4646-87EA-692A513395EA",
                                    "8": "2006-08-01 00:00:00.0000000"
                                },
                                {
                                    "0": "532",
                                    "1": "#500-75 O'Connor Street",
                                    "2": "NULL",
                                    "3": "Ottawa",
                                    "4": "Ontario",
                                    "5": "Canada",
                                    "6": "K4B 1S2",
                                    "7": "1B58B9BC-A691-4927-BF17-569E4BE822F3",
                                    "8": "2005-12-01 00:00:00.0000000"
                                },
                                {
                                    "0": "457",
                                    "1": "5250-505 Burning St",
                                    "2": "NULL",
                                    "3": "Vancouver",
                                    "4": "British Columbia",
                                    "5": "Canada",
                                    "6": "V7L 4J4",
                                    "7": "93F02C61-783D-4F04-8A57-416F25817ABA",
                                    "8": "2006-07-01 00:00:00.0000000"
                                },
                                {
                                    "0": "517",
                                    "1": "2573 Dufferin Street",
                                    "2": "NULL",
                                    "3": "Toronto",
                                    "4": "Ontario",
                                    "5": "Canada",
                                    "6": "M4B 1V5",
                                    "7": "97605C5C-8309-44F2-9A98-C5A5709497FF",
                                    "8": "2005-07-01 00:00:00.0000000"
                                },
                                {
                                    "0": "503",
                                    "1": "P.O. Box 44000",
                                    "2": "NULL",
                                    "3": "Winnipeg",
                                    "4": "Manitoba",
                                    "5": "Canada",
                                    "6": "R3",
                                    "7": "C4F3E274-13E1-4A99-8FD3-2C7D3D1EE5A1",
                                    "8": "2005-08-01 00:00:00.0000000"
                                },
                                {
                                    "0": "553",
                                    "1": "253131 Lake Frasier Drive, Office No. 2",
                                    "2": "NULL",
                                    "3": "Calgary",
                                    "4": "Alberta",
                                    "5": "Canada",
                                    "6": "T2P 2G8",
                                    "7": "EF7B5BD3-3A04-4A09-A0D2-02B98E3333DC",
                                    "8": "2005-08-01 00:00:00.0000000"
                                },
                                {
                                    "0": "552",
                                    "1": "25730, boul. St-Régis",
                                    "2": "NULL",
                                    "3": "Dorval",
                                    "4": "Quebec",
                                    "5": "Canada",
                                    "6": "H9P 1H1",
                                    "7": "6832A3BD-56EC-42FE-8B4C-6BFD09F89EB4",
                                    "8": "2008-06-01 00:00:00.0000000"
                                },
                                {
                                    "0": "550",
                                    "1": "2520 Flanders Road",
                                    "2": "NULL",
                                    "3": "Toronto",
                                    "4": "Ontario",
                                    "5": "Canada",
                                    "6": "M4B 1V4",
                                    "7": "A1D478E6-76DA-445F-A924-0B5DEE3C7CBB",
                                    "8": "2006-08-01 00:00:00.0000000"
                                },
                                {
                                    "0": "497",
                                    "1": "#9900 2700 Production Way",
                                    "2": "NULL",
                                    "3": "Burnaby",
                                    "4": "British Columbia",
                                    "5": "Canada",
                                    "6": "V5A 4X1",
                                    "7": "AA651B28-0A51-4084-8444-A70CC71BCE65",
                                    "8": "2005-08-01 00:00:00.0000000"
                                },
                                {
                                    "0": "542",
                                    "1": "5 place Ville-Marie",
                                    "2": "NULL",
                                    "3": "Montreal",
                                    "4": "Quebec",
                                    "5": "Canada",
                                    "6": "H1Y 2H7",
                                    "7": "B242B256-254B-4624-B3AF-BF0058BB0B7B",
                                    "8": "2006-09-01 00:00:00.0000000"
                                },
                                {
                                    "0": "546",
                                    "1": "250333 Southport Road, S.W.",
                                    "2": "NULL",
                                    "3": "Calgary",
                                    "4": "Alberta",
                                    "5": "Canada",
                                    "6": "T2P 2G8",
                                    "7": "11D29E3F-D9B2-4E24-AC01-EEBA72DA4DDF",
                                    "8": "2007-08-01 00:00:00.0000000"
                                },
                                {
                                    "0": "473",
                                    "1": "595 Burning Street",
                                    "2": "NULL",
                                    "3": "Vancouver",
                                    "4": "British Columbia",
                                    "5": "Canada",
                                    "6": "V7L 4J4",
                                    "7": "0EC83A85-137E-4CF3-B13D-3926277698B2",
                                    "8": "2005-09-01 00:00:00.0000000"
                                },
                                {
                                    "0": "489",
                                    "1": "9960 King Street E.",
                                    "2": "NULL",
                                    "3": "Toronto",
                                    "4": "Ontario",
                                    "5": "Canada",
                                    "6": "M4B 1V5",
                                    "7": "EB632E56-4299-4714-9E91-224319BDCB62",
                                    "8": "2007-08-01 00:00:00.0000000"
                                },
                                {
                                    "0": "464",
                                    "1": "99, Rue Saint-pierre",
                                    "2": "NULL",
                                    "3": "Pnot-Rouge",
                                    "4": "Quebec",
                                    "5": "Canada",
                                    "6": "J1E 2T7",
                                    "7": "C4A1EE36-8149-46B7-A313-A63010987A8E",
                                    "8": "2005-07-01 00:00:00.0000000"
                                },
                                {
                                    "0": "467",
                                    "1": "25900-700-9th Ave S.W.",
                                    "2": "NULL",
                                    "3": "Calgary",
                                    "4": "Alberta",
                                    "5": "Canada",
                                    "6": "T2P 2G8",
                                    "7": "13560188-CE4A-470D-9913-49903047D459",
                                    "8": "2005-11-01 00:00:00.0000000"
                                },
                                {
                                    "0": "551",
                                    "1": "32605 West 252 Mile Road, Suite 250",
                                    "2": "NULL",
                                    "3": "Aurora",
                                    "4": "Ontario",
                                    "5": "Canada",
                                    "6": "L4G 7N6",
                                    "7": "E7567A62-3ACF-4F0B-B202-E28B92DE689A",
                                    "8": "2006-09-01 00:00:00.0000000"
                                },
                                {
                                    "0": "536",
                                    "1": "No. 2000-25080 Beaver Hall Hill",
                                    "2": "NULL",
                                    "3": "Quebec",
                                    "4": "Quebec",
                                    "5": "Canada",
                                    "6": "G1R",
                                    "7": "0C38C439-4562-4E37-8F23-AFF2C9005C38",
                                    "8": "2006-09-01 00:00:00.0000000"
                                },
                                {
                                    "0": "533",
                                    "1": "4400 March Road",
                                    "2": "NULL",
                                    "3": "Kanata",
                                    "4": "Ontario",
                                    "5": "Canada",
                                    "6": "K2L 1H5",
                                    "7": "43484CD9-AD5B-41F4-A9CC-DDFBAC4B5AA5",
                                    "8": "2005-11-01 00:00:00.0000000"
                                },
                                {
                                    "0": "541",
                                    "1": "25981 College Street",
                                    "2": "NULL",
                                    "3": "Montreal",
                                    "4": "Quebec",
                                    "5": "Canada",
                                    "6": "H1Y 2H5",
                                    "7": "AF56D631-EB1C-4716-A89B-88BC4AE04B93",
                                    "8": "2006-08-01 00:00:00.0000000"
                                },
                                {
                                    "0": "540",
                                    "1": "254 Colonnade Road",
                                    "2": "NULL",
                                    "3": "Nepean",
                                    "4": "Ontario",
                                    "5": "Canada",
                                    "6": "K2J 2W5",
                                    "7": "1C97F465-F2AF-4D34-BE8C-7AFDAD119425",
                                    "8": "2005-08-01 00:00:00.0000000"
                                },
                                {
                                    "0": "491",
                                    "1": "20225 Lansing Ave",
                                    "2": "NULL",
                                    "3": "Montreal",
                                    "4": "Quebec",
                                    "5": "Canada",
                                    "6": "H1Y 2H7",
                                    "7": "A9B5A261-2463-4489-9951-EACFA29A8231",
                                    "8": "2007-09-01 00:00:00.0000000"
                                },
                                {
                                    "0": "548",
                                    "1": "63 Free St.",
                                    "2": "NULL",
                                    "3": "Toronto",
                                    "4": "Ontario",
                                    "5": "Canada",
                                    "6": "M4B 1V4",
                                    "7": "5649C5D8-1798-4622-95BF-DC7E581284A0",
                                    "8": "2005-09-01 00:00:00.0000000"
                                },
                                {
                                    "0": "539",
                                    "1": "6th Floor, 25st Canadian Place",
                                    "2": "NULL",
                                    "3": "Toronto",
                                    "4": "Ontario",
                                    "5": "Canada",
                                    "6": "M4B 1V5",
                                    "7": "D51784C0-CC77-48C2-8FA6-75405F3E35B9",
                                    "8": "2005-08-01 00:00:00.0000000"
                                },
                                {
                                    "0": "545",
                                    "1": "999 West Georgia St.",
                                    "2": "NULL",
                                    "3": "Vancouver",
                                    "4": "Ontario",
                                    "5": "Canada",
                                    "6": "V5T 1Y9",
                                    "7": "9D35F3C2-966E-4B3B-8D29-0E6AB8DEF01B",
                                    "8": "2006-09-01 00:00:00.0000000"
                                },
                                {
                                    "0": "524",
                                    "1": "9693 Louis H Lafontaine",
                                    "2": "NULL",
                                    "3": "Ville De'anjou",
                                    "4": "Quebec",
                                    "5": "Canada",
                                    "6": "J1G 2R3",
                                    "7": "ACC21BD9-FB1B-4764-941B-2FB98AA4EB27",
                                    "8": "2006-08-01 00:00:00.0000000"
                                },
                                {
                                    "0": "525",
                                    "1": "69251 Creditview Road",
                                    "2": "NULL",
                                    "3": "Mississauga",
                                    "4": "Ontario",
                                    "5": "Canada",
                                    "6": "L5B 3V4",
                                    "7": "2CA11975-213A-46FB-A0BE-2529003074CC",
                                    "8": "2005-07-01 00:00:00.0000000"
                                },
                                {
                                    "0": "487",
                                    "1": "9259 - 1110th Avenue Sw",
                                    "2": "NULL",
                                    "3": "Calgary",
                                    "4": "Alberta",
                                    "5": "Canada",
                                    "6": "T2P 2G8",
                                    "7": "275AC976-0D23-4D97-9F58-BB186D1CC089",
                                    "8": "2006-09-01 00:00:00.0000000"
                                },
                                {
                                    "0": "475",
                                    "1": "2512-410th Avenue S.W.",
                                    "2": "NULL",
                                    "3": "Calgary",
                                    "4": "Alberta",
                                    "5": "Canada",
                                    "6": "T2P 2G8",
                                    "7": "EC6C99B9-61E2-4400-8180-208F5A6C7EFF",
                                    "8": "2007-09-01 00:00:00.0000000"
                                },
                                {
                                    "0": "554",
                                    "1": "9984 Wellington Street",
                                    "2": "NULL",
                                    "3": "Ottawa",
                                    "4": "Ontario",
                                    "5": "Canada",
                                    "6": "K4B 1S2",
                                    "7": "6E0797C9-FD43-418F-A5FE-8683292B95FE",
                                    "8": "2006-08-01 00:00:00.0000000"
                                },
                                {
                                    "0": "448",
                                    "1": "2575 Bloor Street East",
                                    "2": "NULL",
                                    "3": "Toronto",
                                    "4": "Ontario",
                                    "5": "Canada",
                                    "6": "M4B 1V6",
                                    "7": "2DF6D0AD-0926-4F34-A450-9B1083150CBF",
                                    "8": "2007-08-01 00:00:00.0000000"
                                },
                                {
                                    "0": "512",
                                    "1": "700 Bureau Road",
                                    "2": "NULL",
                                    "3": "Montreal",
                                    "4": "Quebec",
                                    "5": "Canada",
                                    "6": "H1Y 2H7",
                                    "7": "963F514B-7752-46E8-9742-1FD40A68EA33",
                                    "8": "2007-09-01 00:00:00.0000000"
                                },
                                {
                                    "0": "465",
                                    "1": "25245 Rue Sherbrooke Ouest",
                                    "2": "NULL",
                                    "3": "Montreal",
                                    "4": "Quebec",
                                    "5": "Canada",
                                    "6": "H1Y 2H5",
                                    "7": "10EE8C14-2792-4F02-B83D-92511D20470F",
                                    "8": "2007-07-01 00:00:00.0000000"
                                },
                                {
                                    "0": "484",
                                    "1": "2510 Crew Court",
                                    "2": "NULL",
                                    "3": "Montreal",
                                    "4": "Quebec",
                                    "5": "Canada",
                                    "6": "H1Y 2H8",
                                    "7": "1F41EDC1-7144-4D6B-9CBD-4318C2358FA1",
                                    "8": "2008-06-01 00:00:00.0000000"
                                },
                                {
                                    "0": "543",
                                    "1": "6030 Conroy Road",
                                    "2": "NULL",
                                    "3": "Ottawa",
                                    "4": "Ontario",
                                    "5": "Canada",
                                    "6": "K4B 1S3",
                                    "7": "AA8F3ECB-C454-448B-B774-FF9CDF01E629",
                                    "8": "2006-09-01 00:00:00.0000000"
                                },
                                {
                                    "0": "544",
                                    "1": "30025 Wayburne Drive, Suite 275",
                                    "2": "NULL",
                                    "3": "Burnaby",
                                    "4": "British Columbia",
                                    "5": "Canada",
                                    "6": "V5G 4W1",
                                    "7": "4C65A591-C6B0-43D8-8FAF-F4B1CB9953E1",
                                    "8": "2005-09-01 00:00:00.0000000"
                                },
                                {
                                    "0": "476",
                                    "1": "258 King Street East",
                                    "2": "NULL",
                                    "3": "Toronto",
                                    "4": "Ontario",
                                    "5": "Canada",
                                    "6": "M4B 1V7",
                                    "7": "90C770A5-A474-43D1-9A67-0F5DE336F9DC",
                                    "8": "2005-08-01 00:00:00.0000000"
                                },
                                {
                                    "0": "490",
                                    "1": "9979 Bayview Drive",
                                    "2": "NULL",
                                    "3": "Barrie",
                                    "4": "Ontario",
                                    "5": "Canada",
                                    "6": "L4N",
                                    "7": "85D72A98-F631-457C-8FFF-04FAEC508F5D",
                                    "8": "2006-08-01 00:00:00.0000000"
                                },
                                {
                                    "0": "505",
                                    "1": "6400, 888 - 3rd Avenue",
                                    "2": "NULL",
                                    "3": "Calgary",
                                    "4": "Alberta",
                                    "5": "Canada",
                                    "6": "T2P 2G8",
                                    "7": "A6EFF2B6-3B11-47EF-AB7E-701E5041C71C",
                                    "8": "2005-08-01 00:00:00.0000000"
                                },
                                {
                                    "0": "472",
                                    "1": "250551 Shellbridge Way",
                                    "2": "NULL",
                                    "3": "Richmond",
                                    "4": "British Columbia",
                                    "5": "Canada",
                                    "6": "V6B 3P7",
                                    "7": "1A6A1A7B-E208-473D-A8F4-14A89D06FAD2",
                                    "8": "2005-09-01 00:00:00.0000000"
                                },
                                {
                                    "0": "452",
                                    "1": "55 Lakeshore Blvd East",
                                    "2": "NULL",
                                    "3": "Toronto",
                                    "4": "Ontario",
                                    "5": "Canada",
                                    "6": "M4B 1V6",
                                    "7": "A358652F-0E00-49E6-B6B0-DE1099C43506",
                                    "8": "2005-09-01 00:00:00.0000000"
                                },
                                {
                                    "0": "495",
                                    "1": "Suite 800 2530 Slater Street",
                                    "2": "NULL",
                                    "3": "Ottawa",
                                    "4": "Ontario",
                                    "5": "Canada",
                                    "6": "K4B 1T7",
                                    "7": "C6633AD5-006D-4967-B97E-7919DD48A700",
                                    "8": "2006-09-01 00:00:00.0000000"
                                },
                                {
                                    "0": "445",
                                    "1": "6388 Lake City Way",
                                    "2": "NULL",
                                    "3": "Burnaby",
                                    "4": "British Columbia",
                                    "5": "Canada",
                                    "6": "V5A 3A6",
                                    "7": "53572F25-9133-4A8B-A065-102FF35416EE",
                                    "8": "2006-09-01 00:00:00.0000000"
                                },
                                {
                                    "0": "466",
                                    "1": "655-4th Ave S.W.",
                                    "2": "NULL",
                                    "3": "Calgary",
                                    "4": "Alberta",
                                    "5": "Canada",
                                    "6": "T2P 2G8",
                                    "7": "09C5F0BA-7128-4455-832D-0DF587248A5A",
                                    "8": "2005-08-01 00:00:00.0000000"
                                },
                                {
                                    "0": "499",
                                    "1": "Suite 2502 410 Albert Street",
                                    "2": "NULL",
                                    "3": "Waterloo",
                                    "4": "Ontario",
                                    "5": "Canada",
                                    "6": "N2V",
                                    "7": "44099B0E-03F3-447C-83BF-BE4BAA010A83",
                                    "8": "2006-08-01 00:00:00.0000000"
                                },
                                {
                                    "0": "492",
                                    "1": "99954 Boul. Laurier, Local 060, Place",
                                    "2": "NULL",
                                    "3": "Sainte-Foy",
                                    "4": "Quebec",
                                    "5": "Canada",
                                    "6": "G1W",
                                    "7": "541CDE7C-3F3A-435F-A7B5-F30055DFBC68",
                                    "8": "2007-09-01 00:00:00.0000000"
                                },
                                {
                                    "0": "535",
                                    "1": "250 Kingsbridge Garden Circle",
                                    "2": "NULL",
                                    "3": "Mississauga",
                                    "4": "Ontario",
                                    "5": "Canada",
                                    "6": "L5B 3V4",
                                    "7": "9771494E-9053-40F2-84A5-E0D108DEEFED",
                                    "8": "2005-11-01 00:00:00.0000000"
                                },
                                {
                                    "0": "483",
                                    "1": "955 Green Valley Crescent",
                                    "2": "NULL",
                                    "3": "Ottawa",
                                    "4": "Ontario",
                                    "5": "Canada",
                                    "6": "K4B 1S1",
                                    "7": "C6B743C3-F830-43E4-BA58-DD36FC451D14",
                                    "8": "2007-09-01 00:00:00.0000000"
                                },
                                {
                                    "0": "453",
                                    "1": "6333 Cote Vertu",
                                    "2": "NULL",
                                    "3": "Montreal",
                                    "4": "Quebec",
                                    "5": "Canada",
                                    "6": "H1Y 2H7",
                                    "7": "355681F2-4D9D-4522-BFA0-105BE64394D8",
                                    "8": "2007-09-01 00:00:00.0000000"
                                },
                                {
                                    "0": "469",
                                    "1": "400-25155 West Pender St",
                                    "2": "NULL",
                                    "3": "Vancouver",
                                    "4": "British Columbia",
                                    "5": "Canada",
                                    "6": "V7L 4J4",
                                    "7": "B81768F9-3B05-43DC-8DDE-85FFCA00D4DE",
                                    "8": "2007-09-01 00:00:00.0000000"
                                },
                                {
                                    "0": "468",
                                    "1": "Po Box 83270",
                                    "2": "NULL",
                                    "3": "Vancouver",
                                    "4": "British Columbia",
                                    "5": "Canada",
                                    "6": "V7L 4J4",
                                    "7": "C00A5DFF-B134-4900-9561-E67EEB425F9F",
                                    "8": "2007-08-01 00:00:00.0000000"
                                },
                                {
                                    "0": "470",
                                    "1": "2511 Baker Road",
                                    "2": "NULL",
                                    "3": "Toronto",
                                    "4": "Ontario",
                                    "5": "Canada",
                                    "6": "M4B 1V7",
                                    "7": "6E934D97-69B9-4FCF-9E4E-56BF94E52986",
                                    "8": "2005-09-01 00:00:00.0000000"
                                },
                                {
                                    "0": "508",
                                    "1": "2900 - 25055 Dunning Street",
                                    "2": "NULL",
                                    "3": "Vancouver",
                                    "4": "British Columbia",
                                    "5": "Canada",
                                    "6": "V7L 4J4",
                                    "7": "4EE0334F-027C-4036-880F-6E9104E21533",
                                    "8": "2006-12-01 00:00:00.0000000"
                                },
                                {
                                    "0": "471",
                                    "1": "770 Notre Datme Quest Bureau 800",
                                    "2": "NULL",
                                    "3": "Montreal",
                                    "4": "Quebec",
                                    "5": "Canada",
                                    "6": "H1Y 2H7",
                                    "7": "5EDA011D-31D1-4DFB-A78C-397B6335F85B",
                                    "8": "2005-09-01 00:00:00.0000000"
                                },
                                {
                                    "0": "478",
                                    "1": "2545 King Street West",
                                    "2": "NULL",
                                    "3": "Toronto",
                                    "4": "Ontario",
                                    "5": "Canada",
                                    "6": "M4B 1V7",
                                    "7": "2817A0B7-8985-4527-BB7B-B75F55F4D8DE",
                                    "8": "2005-08-01 00:00:00.0000000"
                                },
                                {
                                    "0": "518",
                                    "1": "995 Crescent",
                                    "2": "NULL",
                                    "3": "Richmond Hill",
                                    "4": "Ontario",
                                    "5": "Canada",
                                    "6": "L4E 3M5",
                                    "7": "0B49022D-8B49-4CF6-B0A3-46231CD48441",
                                    "8": "2007-09-01 00:00:00.0000000"
                                },
                                {
                                    "0": "527",
                                    "1": "252851 Rowan Place",
                                    "2": "NULL",
                                    "3": "Richmond",
                                    "4": "British Columbia",
                                    "5": "Canada",
                                    "6": "V6B 3P7",
                                    "7": "11EAEE50-8A14-4B81-951E-86701B6F60C0",
                                    "8": "2006-09-01 00:00:00.0000000"
                                },
                                {
                                    "0": "538",
                                    "1": "25 Danger Street West",
                                    "2": "Floor 7",
                                    "3": "Toronto",
                                    "4": "Ontario",
                                    "5": "Canada",
                                    "6": "M4B 1V5",
                                    "7": "10B2404C-F0AF-409C-AF5D-0218BEB03D0D",
                                    "8": "2007-08-01 00:00:00.0000000"
                                },
                                {
                                    "0": "557",
                                    "1": "660 Saint-Jacques, Bureau 400",
                                    "2": "NULL",
                                    "3": "Montreal",
                                    "4": "Quebec",
                                    "5": "Canada",
                                    "6": "H1Y 2H8",
                                    "7": "DCE88C1F-8BFE-4306-BA02-50446466C5E5",
                                    "8": "2006-09-01 00:00:00.0000000"
                                },
                                {
                                    "0": "450",
                                    "1": "575 Rue St Amable",
                                    "2": "NULL",
                                    "3": "Quebec",
                                    "4": "Quebec",
                                    "5": "Canada",
                                    "6": "G1R",
                                    "7": "5F3C345A-6475-41D5-B17B-DB8D27733BB1",
                                    "8": "2006-09-01 00:00:00.0000000"
                                },
                                {
                                    "0": "521",
                                    "1": "55 Standish Court",
                                    "2": "NULL",
                                    "3": "Mississauga",
                                    "4": "Ontario",
                                    "5": "Canada",
                                    "6": "L5B 3V4",
                                    "7": "97C329E2-FA67-4478-AA7B-78A8DEECF7CA",
                                    "8": "2006-09-01 00:00:00.0000000"
                                },
                                {
                                    "0": "456",
                                    "1": "6777 Kingsway",
                                    "2": "NULL",
                                    "3": "Burnaby",
                                    "4": "British Columbia",
                                    "5": "Canada",
                                    "6": "V5H 3Z7",
                                    "7": "2F3B383E-08A5-407D-AB1B-A1390E87A888",
                                    "8": "2006-08-01 00:00:00.0000000"
                                },
                                {
                                    "0": "498",
                                    "1": "25537 Hillside Avenue",
                                    "2": "NULL",
                                    "3": "Victoria",
                                    "4": "British Columbia",
                                    "5": "Canada",
                                    "6": "V8V",
                                    "7": "385C24E0-E20C-40C9-BAC9-95D70D5B6900",
                                    "8": "2005-08-01 00:00:00.0000000"
                                },
                                {
                                    "0": "523",
                                    "1": "46990 Viking Way",
                                    "2": "NULL",
                                    "3": "Richmond",
                                    "4": "British Columbia",
                                    "5": "Canada",
                                    "6": "V6B 3P7",
                                    "7": "85C88CD6-682C-4358-9F8C-5A24F4CCFD98",
                                    "8": "2005-08-01 00:00:00.0000000"
                                },
                                {
                                    "0": "555",
                                    "1": "9950 Ferrand Drive, 9th Floor",
                                    "2": "NULL",
                                    "3": "Toronto",
                                    "4": "Ontario",
                                    "5": "Canada",
                                    "6": "M4B 1V4",
                                    "7": "32890831-931E-44AD-801B-41B1AD862ECA",
                                    "8": "2005-09-01 00:00:00.0000000"
                                },
                                {
                                    "0": "474",
                                    "1": "252345 8810th Avenue",
                                    "2": "NULL",
                                    "3": "Surrey",
                                    "4": "British Columbia",
                                    "5": "Canada",
                                    "6": "V3T 4W3",
                                    "7": "447CA097-077D-4980-A431-8FAFAD156CED",
                                    "8": "2005-09-01 00:00:00.0000000"
                                },
                                {
                                    "0": "486",
                                    "1": "600 Boul. Rene-levesque Ouest",
                                    "2": "NULL",
                                    "3": "Montreal",
                                    "4": "Quebec",
                                    "5": "Canada",
                                    "6": "H1Y 2H7",
                                    "7": "112049E4-64D5-4305-9545-933E89B74F6E",
                                    "8": "2006-07-01 00:00:00.0000000"
                                },
                                {
                                    "0": "494",
                                    "1": "Box 99354 300 Union Street",
                                    "2": "NULL",
                                    "3": "Saint John",
                                    "4": "Brunswick",
                                    "5": "Canada",
                                    "6": "E2P 1E3",
                                    "7": "21FF77A8-39DC-44D8-917C-FDD645DBF9EB",
                                    "8": "2006-07-01 00:00:00.0000000"
                                },
                                {
                                    "0": "520",
                                    "1": "6700 Boul Taschereau",
                                    "2": "NULL",
                                    "3": "Brossard",
                                    "4": "Quebec",
                                    "5": "Canada",
                                    "6": "J4Z 1C5",
                                    "7": "B730EAFF-5828-4C8C-86C1-9137F50FCA48",
                                    "8": "2005-09-01 00:00:00.0000000"
                                },
                                {
                                    "0": "549",
                                    "1": "609 Evans Avenue",
                                    "2": "NULL",
                                    "3": "Toronto",
                                    "4": "Ontario",
                                    "5": "Canada",
                                    "6": "M4B 1V4",
                                    "7": "DCF9C9B5-A7B6-4383-9480-1F84130B5F8B",
                                    "8": "2006-09-01 00:00:00.0000000"
                                },
                                {
                                    "0": "537",
                                    "1": "No. 25800-130 King Street West",
                                    "2": "NULL",
                                    "3": "Toronto",
                                    "4": "Ontario",
                                    "5": "Canada",
                                    "6": "M4B 1V5",
                                    "7": "C2BCDAEC-366C-489C-BF43-8CC2881179F3",
                                    "8": "2005-09-01 00:00:00.0000000"
                                },
                                {
                                    "0": "502",
                                    "1": "No. 25400 10665 Jasper Avenue",
                                    "2": "NULL",
                                    "3": "Edmonton",
                                    "4": "Alberta",
                                    "5": "Canada",
                                    "6": "T5",
                                    "7": "51180CA2-6614-46A5-B89C-EF7B0421C847",
                                    "8": "2006-08-01 00:00:00.0000000"
                                },
                                {
                                    "0": "463",
                                    "1": "992 St Clair Ave East",
                                    "2": "NULL",
                                    "3": "Toronto",
                                    "4": "Ontario",
                                    "5": "Canada",
                                    "6": "M4B 1V7",
                                    "7": "D6ED51FA-6DD1-460C-99E0-64BA90F035AE",
                                    "8": "2005-09-01 00:00:00.0000000"
                                },
                                {
                                    "0": "461",
                                    "1": "2560 Bay Street",
                                    "2": "NULL",
                                    "3": "Toronto",
                                    "4": "Ontario",
                                    "5": "Canada",
                                    "6": "M4B 1V7",
                                    "7": "726819A8-1B02-4EFD-AEB9-3FD801D9F153",
                                    "8": "2006-08-01 00:00:00.0000000"
                                },
                                {
                                    "0": "459",
                                    "1": "25575 The Queensway",
                                    "2": "NULL",
                                    "3": "Etobicoke",
                                    "4": "Ontario",
                                    "5": "Canada",
                                    "6": "M9W 3P3",
                                    "7": "616235EA-DC36-4C39-BF91-FFE12BB676E0",
                                    "8": "2005-08-01 00:00:00.0000000"
                                },
                                {
                                    "0": "447",
                                    "1": "22580 Free Street",
                                    "2": "NULL",
                                    "3": "Toronto",
                                    "4": "Ontario",
                                    "5": "Canada",
                                    "6": "M4B 1V7",
                                    "7": "88CEE379-DBB8-433B-B84E-A35E09435500",
                                    "8": "2006-08-01 00:00:00.0000000"
                                },
                                {
                                    "0": "528",
                                    "1": "5990 Avebury Road",
                                    "2": "NULL",
                                    "3": "Mississauga",
                                    "4": "Ontario",
                                    "5": "Canada",
                                    "6": "L5B 3V4",
                                    "7": "D9928CCC-FC35-435A-8A0F-6887813E0E06",
                                    "8": "2005-09-01 00:00:00.0000000"
                                },
                                {
                                    "0": "496",
                                    "1": "Suite 500 995 W. 11th Avenue",
                                    "2": "NULL",
                                    "3": "Mississauga",
                                    "4": "Ontario",
                                    "5": "Canada",
                                    "6": "L5A 1H6",
                                    "7": "496C1AD3-2925-4322-8811-890AB6107F67",
                                    "8": "2007-08-01 00:00:00.0000000"
                                },
                                {
                                    "0": "522",
                                    "1": "43251 Viking Way, Unit 130",
                                    "2": "NULL",
                                    "3": "Richmond",
                                    "4": "British Columbia",
                                    "5": "Canada",
                                    "6": "V6B 3P7",
                                    "7": "842BCBE5-9DA5-42D5-A4BB-4197DB5B69C7",
                                    "8": "2007-02-01 00:00:00.0000000"
                                },
                                {
                                    "0": "547",
                                    "1": "7000 Victoria Park Avenue",
                                    "2": "NULL",
                                    "3": "Toronto",
                                    "4": "Ontario",
                                    "5": "Canada",
                                    "6": "M4B 1V4",
                                    "7": "28125EC3-FDC2-45D8-93B3-CD7DB2113424",
                                    "8": "2007-09-01 00:00:00.0000000"
                                },
                                {
                                    "0": "451",
                                    "1": "2512-4th Ave Sw",
                                    "2": "NULL",
                                    "3": "Calgary",
                                    "4": "Alberta",
                                    "5": "Canada",
                                    "6": "T2P 2G8",
                                    "7": "49644F1E-6F90-46D9-8DBB-9DB15F0EF7EC",
                                    "8": "2006-12-01 00:00:00.0000000"
                                },
                                {
                                    "0": "460",
                                    "1": "2521 McPherson Street",
                                    "2": "NULL",
                                    "3": "Markham",
                                    "4": "Ontario",
                                    "5": "Canada",
                                    "6": "L3S 3K2",
                                    "7": "7D6F03AC-5D55-422E-850E-B8743FAC81B2",
                                    "8": "2007-08-01 00:00:00.0000000"
                                },
                                {
                                    "0": "558",
                                    "1": "67255 - 8th Street N.E., Suite 350",
                                    "2": "NULL",
                                    "3": "Calgary",
                                    "4": "Alberta",
                                    "5": "Canada",
                                    "6": "T2P 2G8",
                                    "7": "DA596ABB-B3AF-48EC-A082-9E94CD870A5F",
                                    "8": "2006-12-01 00:00:00.0000000"
                                },
                                {
                                    "0": "458",
                                    "1": "600 Slater Street",
                                    "2": "NULL",
                                    "3": "Ottawa",
                                    "4": "Ontario",
                                    "5": "Canada",
                                    "6": "K4B 1S2",
                                    "7": "49F4EE42-E20B-4E66-B43C-A28E9FC63CA0",
                                    "8": "2005-07-01 00:00:00.0000000"
                                },
                                {
                                    "0": "529",
                                    "1": "254480 River Rd",
                                    "2": "NULL",
                                    "3": "Richmond",
                                    "4": "British Columbia",
                                    "5": "Canada",
                                    "6": "V6B 3P7",
                                    "7": "034076FD-CD0E-4EAD-864E-8CE7F47D6612",
                                    "8": "2005-07-01 00:00:00.0000000"
                                },
                                {
                                    "0": "446",
                                    "1": "52560 Free Street",
                                    "2": "NULL",
                                    "3": "Toronto",
                                    "4": "Ontario",
                                    "5": "Canada",
                                    "6": "M4B 1V7",
                                    "7": "801A1DFC-5125-486B-AA84-CCBD2EC57CA4",
                                    "8": "2005-08-01 00:00:00.0000000"
                                },
                                {
                                    "0": "477",
                                    "1": "6th Floor Ferguson Block",
                                    "2": "NULL",
                                    "3": "Toronto",
                                    "4": "Ontario",
                                    "5": "Canada",
                                    "6": "M4B 1V7",
                                    "7": "39F3B067-2263-4591-ABF9-D5210DA4F783",
                                    "8": "2005-08-01 00:00:00.0000000"
                                }
                            ]
                        },
                        "text/html": "<table><tr><th>AddressID</th><th>AddressLine1</th><th>AddressLine2</th><th>City</th><th>StateProvince</th><th>CountryRegion</th><th>PostalCode</th><th>rowguid</th><th>ModifiedDate</th></tr><tr><td>488</td><td>45259 Canada Way</td><td>NULL</td><td>Burnaby</td><td>British Columbia</td><td>Canada</td><td>V5G 4S4</td><td>6D2D6846-3F17-474E-8D31-AD3A59C0CEB0</td><td>2007-08-01 00:00:00.0000000</td></tr><tr><td>514</td><td>63 West Beaver Creek</td><td>NULL</td><td>Richmond Hill</td><td>Ontario</td><td>Canada</td><td>L4E 3M5</td><td>AD60DBA9-3B01-47E9-BB5E-DF94D0579F14</td><td>2006-09-01 00:00:00.0000000</td></tr><tr><td>511</td><td>Bureau 9900 825, Avenue Querbes</td><td>NULL</td><td>Outremont</td><td>Quebec</td><td>Canada</td><td>H1Y 2G5</td><td>EF10CF20-A540-4D5C-BEFD-1B48B7D48402</td><td>2006-12-01 00:00:00.0000000</td></tr><tr><td>519</td><td>2500-622 5th Ave Sw</td><td>NULL</td><td>Calgary</td><td>Alberta</td><td>Canada</td><td>T2P 2G8</td><td>13754965-6A09-4343-968C-8699C27FDFAA</td><td>2006-08-01 00:00:00.0000000</td></tr><tr><td>482</td><td>2500 University Avenue</td><td>NULL</td><td>Toronto</td><td>Ontario</td><td>Canada</td><td>M4B 1V5</td><td>197A1735-E89E-4F15-A5F7-FEB98B369094</td><td>2005-07-01 00:00:00.0000000</td></tr><tr><td>507</td><td>975 Princess Street</td><td>NULL</td><td>Kingston</td><td>Ontario</td><td>Canada</td><td>7L</td><td>D7849F5F-C042-4FCE-8F6B-BA5CD8708E10</td><td>2007-09-01 00:00:00.0000000</td></tr><tr><td>462</td><td>630 University Avenue</td><td>NULL</td><td>Toronto</td><td>Ontario</td><td>Canada</td><td>M4B 1V7</td><td>27D5BDAD-647D-4A56-859A-BC6A82AF7DCD</td><td>2005-08-01 00:00:00.0000000</td></tr><tr><td>500</td><td>5700 Explorer Drive</td><td>NULL</td><td>Mississauga</td><td>Ontario</td><td>Canada</td><td>L4W 5J3</td><td>F6FED7FA-39D9-4A60-A1F5-1622489E55FD</td><td>2005-08-01 00:00:00.0000000</td></tr><tr><td>506</td><td>255117 - 101 Avenue</td><td>NULL</td><td>Surrey</td><td>British Columbia</td><td>Canada</td><td>V3T 4W3</td><td>22895B47-6086-4550-B437-A75DBEDFE1D9</td><td>2005-08-01 00:00:00.0000000</td></tr><tr><td>526</td><td>251420a 170th Street</td><td>NULL</td><td>Edmonton</td><td>Alberta</td><td>Canada</td><td>T5</td><td>476D80AE-69A0-480D-9DF3-8FD0C1095A21</td><td>2006-07-01 00:00:00.0000000</td></tr><tr><td>510</td><td>750 Philip Street</td><td>NULL</td><td>Waterloo</td><td>Ontario</td><td>Canada</td><td>N2V</td><td>F2B96299-187A-4E52-96DE-FE9D1C8AB33F</td><td>2005-11-01 00:00:00.0000000</td></tr><tr><td>556</td><td>990th Floor 700 De La GauchetiSre Ou</td><td>NULL</td><td>Montreal</td><td>Quebec</td><td>Canada</td><td>H1Y 2H3</td><td>87846D7C-AB01-41C6-A4CC-FAD06D74D11B</td><td>2005-07-01 00:00:00.0000000</td></tr><tr><td>530</td><td>Suite #9902</td><td>NULL</td><td>North York</td><td>Ontario</td><td>Canada</td><td>M4C 4K6</td><td>FE36E0C8-AD8A-4D2C-BC53-5D69BE5A9CE7</td><td>2005-07-01 00:00:00.0000000</td></tr><tr><td>531</td><td>5th Floor, 79 Place D'armes</td><td>NULL</td><td>Kingston</td><td>Ontario</td><td>Canada</td><td>7L</td><td>F6FB5F79-C5FA-4A7C-8D75-6E9243360308</td><td>2006-11-01 00:00:00.0000000</td></tr><tr><td>534</td><td>Depot 80</td><td>NULL</td><td>Sillery</td><td>Quebec</td><td>Canada</td><td>G1T</td><td>3178440D-5C3A-48F2-AF6B-0A607774E265</td><td>2005-08-01 00:00:00.0000000</td></tr><tr><td>32</td><td>26910 Indela Road</td><td>NULL</td><td>Montreal</td><td>Quebec</td><td>Canada</td><td>H1Y 2H5</td><td>84A95F62-3AE8-4E7E-BBD5-5A6F00CD982D</td><td>2006-08-01 00:00:00.0000000</td></tr><tr><td>513</td><td>253711 Mayfield Place, Unit 150</td><td>NULL</td><td>Richmond</td><td>British Columbia</td><td>Canada</td><td>V6B 3P7</td><td>C418C2F4-6B32-4404-AAB1-E0BEC3958C11</td><td>2007-09-01 00:00:00.0000000</td></tr><tr><td>515</td><td>9900 Ronson Drive</td><td>NULL</td><td>Etobicoke</td><td>Ontario</td><td>Canada</td><td>M9W 3P3</td><td>42242712-6DD2-423F-9B89-C953454E3B09</td><td>2006-07-01 00:00:00.0000000</td></tr><tr><td>509</td><td>Suite 25800 3401 - 10810th Avenue</td><td>NULL</td><td>Surrey</td><td>British Columbia</td><td>Canada</td><td>V3T 4W3</td><td>28C52717-7117-41B6-A5C7-FDA60D566163</td><td>2005-08-01 00:00:00.0000000</td></tr><tr><td>481</td><td>65 Gamelin Street</td><td>NULL</td><td>Hull</td><td>Quebec</td><td>Canada</td><td>8Y</td><td>F35E73BA-678F-4A0F-80BC-6385A7A6CB24</td><td>2006-08-01 00:00:00.0000000</td></tr><tr><td>480</td><td>25 First Canadian Place</td><td>NULL</td><td>Toronto</td><td>Ontario</td><td>Canada</td><td>M4B 1V5</td><td>07A009B2-1421-4597-AB85-22BCE3C82B2C</td><td>2005-08-01 00:00:00.0000000</td></tr><tr><td>449</td><td>Station E</td><td>NULL</td><td>Chalk Riber</td><td>Ontario</td><td>Canada</td><td>K0J 1J0</td><td>8B5A7729-CB75-4303-A607-7F9793B4D94F</td><td>2005-08-01 00:00:00.0000000</td></tr><tr><td>454</td><td>3255 Front Street West</td><td>NULL</td><td>Toronto</td><td>Ontario</td><td>Canada</td><td>M4B 1V6</td><td>EF4DC57D-8B8B-4074-B5F0-ACBEF65DBEC1</td><td>2007-08-01 00:00:00.0000000</td></tr><tr><td>493</td><td>6th Floor 5250 Main Street</td><td>NULL</td><td>Winnipeg</td><td>Manitoba</td><td>Canada</td><td>R3</td><td>AC0E73D8-FF0A-42BD-8502-E19EBAC7343F</td><td>2007-09-01 00:00:00.0000000</td></tr><tr><td>455</td><td>2550 Signet Drive</td><td>NULL</td><td>Weston</td><td>Ontario</td><td>Canada</td><td>M9V 4W3</td><td>43D582CF-E95F-4861-BA60-2DC7121410A6</td><td>2006-08-01 00:00:00.0000000</td></tr><tr><td>485</td><td>9900-6400 Boul, Taschereau</td><td>NULL</td><td>Brossard</td><td>Quebec</td><td>Canada</td><td>J4Z 1R4</td><td>7C46D2FC-E31E-402F-A093-4CF18F7F6E54</td><td>2006-07-01 00:00:00.0000000</td></tr><tr><td>501</td><td>965 De La Gauchetiere West</td><td>NULL</td><td>Montreal</td><td>Quebec</td><td>Canada</td><td>H1Y 2H8</td><td>ACB9C033-18C6-4F02-975E-9C5226B96B72</td><td>2005-08-01 00:00:00.0000000</td></tr><tr><td>504</td><td>Suite 99320 255 - 510th Avenue S.W.</td><td>NULL</td><td>Calgary</td><td>Alberta</td><td>Canada</td><td>T2P 2G8</td><td>CFF7437F-6830-4797-875B-D9A54EA38975</td><td>2005-08-01 00:00:00.0000000</td></tr><tr><td>479</td><td>2550 Middlefield Road</td><td>NULL</td><td>Scarborough</td><td>Ontario</td><td>Canada</td><td>M1V 4M2</td><td>E60801BF-CFB3-4606-A738-8AA0EB587AFB</td><td>2005-08-01 00:00:00.0000000</td></tr><tr><td>516</td><td>251 Indell Lane</td><td>NULL</td><td>Brampton</td><td>Ontario</td><td>Canada</td><td>L6W 2T7</td><td>A1F36994-B5B3-4646-87EA-692A513395EA</td><td>2006-08-01 00:00:00.0000000</td></tr><tr><td>532</td><td>#500-75 O'Connor Street</td><td>NULL</td><td>Ottawa</td><td>Ontario</td><td>Canada</td><td>K4B 1S2</td><td>1B58B9BC-A691-4927-BF17-569E4BE822F3</td><td>2005-12-01 00:00:00.0000000</td></tr><tr><td>457</td><td>5250-505 Burning St</td><td>NULL</td><td>Vancouver</td><td>British Columbia</td><td>Canada</td><td>V7L 4J4</td><td>93F02C61-783D-4F04-8A57-416F25817ABA</td><td>2006-07-01 00:00:00.0000000</td></tr><tr><td>517</td><td>2573 Dufferin Street</td><td>NULL</td><td>Toronto</td><td>Ontario</td><td>Canada</td><td>M4B 1V5</td><td>97605C5C-8309-44F2-9A98-C5A5709497FF</td><td>2005-07-01 00:00:00.0000000</td></tr><tr><td>503</td><td>P.O. Box 44000</td><td>NULL</td><td>Winnipeg</td><td>Manitoba</td><td>Canada</td><td>R3</td><td>C4F3E274-13E1-4A99-8FD3-2C7D3D1EE5A1</td><td>2005-08-01 00:00:00.0000000</td></tr><tr><td>553</td><td>253131 Lake Frasier Drive, Office No. 2</td><td>NULL</td><td>Calgary</td><td>Alberta</td><td>Canada</td><td>T2P 2G8</td><td>EF7B5BD3-3A04-4A09-A0D2-02B98E3333DC</td><td>2005-08-01 00:00:00.0000000</td></tr><tr><td>552</td><td>25730, boul. St-Régis</td><td>NULL</td><td>Dorval</td><td>Quebec</td><td>Canada</td><td>H9P 1H1</td><td>6832A3BD-56EC-42FE-8B4C-6BFD09F89EB4</td><td>2008-06-01 00:00:00.0000000</td></tr><tr><td>550</td><td>2520 Flanders Road</td><td>NULL</td><td>Toronto</td><td>Ontario</td><td>Canada</td><td>M4B 1V4</td><td>A1D478E6-76DA-445F-A924-0B5DEE3C7CBB</td><td>2006-08-01 00:00:00.0000000</td></tr><tr><td>497</td><td>#9900 2700 Production Way</td><td>NULL</td><td>Burnaby</td><td>British Columbia</td><td>Canada</td><td>V5A 4X1</td><td>AA651B28-0A51-4084-8444-A70CC71BCE65</td><td>2005-08-01 00:00:00.0000000</td></tr><tr><td>542</td><td>5 place Ville-Marie</td><td>NULL</td><td>Montreal</td><td>Quebec</td><td>Canada</td><td>H1Y 2H7</td><td>B242B256-254B-4624-B3AF-BF0058BB0B7B</td><td>2006-09-01 00:00:00.0000000</td></tr><tr><td>546</td><td>250333 Southport Road, S.W.</td><td>NULL</td><td>Calgary</td><td>Alberta</td><td>Canada</td><td>T2P 2G8</td><td>11D29E3F-D9B2-4E24-AC01-EEBA72DA4DDF</td><td>2007-08-01 00:00:00.0000000</td></tr><tr><td>473</td><td>595 Burning Street</td><td>NULL</td><td>Vancouver</td><td>British Columbia</td><td>Canada</td><td>V7L 4J4</td><td>0EC83A85-137E-4CF3-B13D-3926277698B2</td><td>2005-09-01 00:00:00.0000000</td></tr><tr><td>489</td><td>9960 King Street E.</td><td>NULL</td><td>Toronto</td><td>Ontario</td><td>Canada</td><td>M4B 1V5</td><td>EB632E56-4299-4714-9E91-224319BDCB62</td><td>2007-08-01 00:00:00.0000000</td></tr><tr><td>464</td><td>99, Rue Saint-pierre</td><td>NULL</td><td>Pnot-Rouge</td><td>Quebec</td><td>Canada</td><td>J1E 2T7</td><td>C4A1EE36-8149-46B7-A313-A63010987A8E</td><td>2005-07-01 00:00:00.0000000</td></tr><tr><td>467</td><td>25900-700-9th Ave S.W.</td><td>NULL</td><td>Calgary</td><td>Alberta</td><td>Canada</td><td>T2P 2G8</td><td>13560188-CE4A-470D-9913-49903047D459</td><td>2005-11-01 00:00:00.0000000</td></tr><tr><td>551</td><td>32605 West 252 Mile Road, Suite 250</td><td>NULL</td><td>Aurora</td><td>Ontario</td><td>Canada</td><td>L4G 7N6</td><td>E7567A62-3ACF-4F0B-B202-E28B92DE689A</td><td>2006-09-01 00:00:00.0000000</td></tr><tr><td>536</td><td>No. 2000-25080 Beaver Hall Hill</td><td>NULL</td><td>Quebec</td><td>Quebec</td><td>Canada</td><td>G1R</td><td>0C38C439-4562-4E37-8F23-AFF2C9005C38</td><td>2006-09-01 00:00:00.0000000</td></tr><tr><td>533</td><td>4400 March Road</td><td>NULL</td><td>Kanata</td><td>Ontario</td><td>Canada</td><td>K2L 1H5</td><td>43484CD9-AD5B-41F4-A9CC-DDFBAC4B5AA5</td><td>2005-11-01 00:00:00.0000000</td></tr><tr><td>541</td><td>25981 College Street</td><td>NULL</td><td>Montreal</td><td>Quebec</td><td>Canada</td><td>H1Y 2H5</td><td>AF56D631-EB1C-4716-A89B-88BC4AE04B93</td><td>2006-08-01 00:00:00.0000000</td></tr><tr><td>540</td><td>254 Colonnade Road</td><td>NULL</td><td>Nepean</td><td>Ontario</td><td>Canada</td><td>K2J 2W5</td><td>1C97F465-F2AF-4D34-BE8C-7AFDAD119425</td><td>2005-08-01 00:00:00.0000000</td></tr><tr><td>491</td><td>20225 Lansing Ave</td><td>NULL</td><td>Montreal</td><td>Quebec</td><td>Canada</td><td>H1Y 2H7</td><td>A9B5A261-2463-4489-9951-EACFA29A8231</td><td>2007-09-01 00:00:00.0000000</td></tr><tr><td>548</td><td>63 Free St.</td><td>NULL</td><td>Toronto</td><td>Ontario</td><td>Canada</td><td>M4B 1V4</td><td>5649C5D8-1798-4622-95BF-DC7E581284A0</td><td>2005-09-01 00:00:00.0000000</td></tr><tr><td>539</td><td>6th Floor, 25st Canadian Place</td><td>NULL</td><td>Toronto</td><td>Ontario</td><td>Canada</td><td>M4B 1V5</td><td>D51784C0-CC77-48C2-8FA6-75405F3E35B9</td><td>2005-08-01 00:00:00.0000000</td></tr><tr><td>545</td><td>999 West Georgia St.</td><td>NULL</td><td>Vancouver</td><td>Ontario</td><td>Canada</td><td>V5T 1Y9</td><td>9D35F3C2-966E-4B3B-8D29-0E6AB8DEF01B</td><td>2006-09-01 00:00:00.0000000</td></tr><tr><td>524</td><td>9693 Louis H Lafontaine</td><td>NULL</td><td>Ville De'anjou</td><td>Quebec</td><td>Canada</td><td>J1G 2R3</td><td>ACC21BD9-FB1B-4764-941B-2FB98AA4EB27</td><td>2006-08-01 00:00:00.0000000</td></tr><tr><td>525</td><td>69251 Creditview Road</td><td>NULL</td><td>Mississauga</td><td>Ontario</td><td>Canada</td><td>L5B 3V4</td><td>2CA11975-213A-46FB-A0BE-2529003074CC</td><td>2005-07-01 00:00:00.0000000</td></tr><tr><td>487</td><td>9259 - 1110th Avenue Sw</td><td>NULL</td><td>Calgary</td><td>Alberta</td><td>Canada</td><td>T2P 2G8</td><td>275AC976-0D23-4D97-9F58-BB186D1CC089</td><td>2006-09-01 00:00:00.0000000</td></tr><tr><td>475</td><td>2512-410th Avenue S.W.</td><td>NULL</td><td>Calgary</td><td>Alberta</td><td>Canada</td><td>T2P 2G8</td><td>EC6C99B9-61E2-4400-8180-208F5A6C7EFF</td><td>2007-09-01 00:00:00.0000000</td></tr><tr><td>554</td><td>9984 Wellington Street</td><td>NULL</td><td>Ottawa</td><td>Ontario</td><td>Canada</td><td>K4B 1S2</td><td>6E0797C9-FD43-418F-A5FE-8683292B95FE</td><td>2006-08-01 00:00:00.0000000</td></tr><tr><td>448</td><td>2575 Bloor Street East</td><td>NULL</td><td>Toronto</td><td>Ontario</td><td>Canada</td><td>M4B 1V6</td><td>2DF6D0AD-0926-4F34-A450-9B1083150CBF</td><td>2007-08-01 00:00:00.0000000</td></tr><tr><td>512</td><td>700 Bureau Road</td><td>NULL</td><td>Montreal</td><td>Quebec</td><td>Canada</td><td>H1Y 2H7</td><td>963F514B-7752-46E8-9742-1FD40A68EA33</td><td>2007-09-01 00:00:00.0000000</td></tr><tr><td>465</td><td>25245 Rue Sherbrooke Ouest</td><td>NULL</td><td>Montreal</td><td>Quebec</td><td>Canada</td><td>H1Y 2H5</td><td>10EE8C14-2792-4F02-B83D-92511D20470F</td><td>2007-07-01 00:00:00.0000000</td></tr><tr><td>484</td><td>2510 Crew Court</td><td>NULL</td><td>Montreal</td><td>Quebec</td><td>Canada</td><td>H1Y 2H8</td><td>1F41EDC1-7144-4D6B-9CBD-4318C2358FA1</td><td>2008-06-01 00:00:00.0000000</td></tr><tr><td>543</td><td>6030 Conroy Road</td><td>NULL</td><td>Ottawa</td><td>Ontario</td><td>Canada</td><td>K4B 1S3</td><td>AA8F3ECB-C454-448B-B774-FF9CDF01E629</td><td>2006-09-01 00:00:00.0000000</td></tr><tr><td>544</td><td>30025 Wayburne Drive, Suite 275</td><td>NULL</td><td>Burnaby</td><td>British Columbia</td><td>Canada</td><td>V5G 4W1</td><td>4C65A591-C6B0-43D8-8FAF-F4B1CB9953E1</td><td>2005-09-01 00:00:00.0000000</td></tr><tr><td>476</td><td>258 King Street East</td><td>NULL</td><td>Toronto</td><td>Ontario</td><td>Canada</td><td>M4B 1V7</td><td>90C770A5-A474-43D1-9A67-0F5DE336F9DC</td><td>2005-08-01 00:00:00.0000000</td></tr><tr><td>490</td><td>9979 Bayview Drive</td><td>NULL</td><td>Barrie</td><td>Ontario</td><td>Canada</td><td>L4N</td><td>85D72A98-F631-457C-8FFF-04FAEC508F5D</td><td>2006-08-01 00:00:00.0000000</td></tr><tr><td>505</td><td>6400, 888 - 3rd Avenue</td><td>NULL</td><td>Calgary</td><td>Alberta</td><td>Canada</td><td>T2P 2G8</td><td>A6EFF2B6-3B11-47EF-AB7E-701E5041C71C</td><td>2005-08-01 00:00:00.0000000</td></tr><tr><td>472</td><td>250551 Shellbridge Way</td><td>NULL</td><td>Richmond</td><td>British Columbia</td><td>Canada</td><td>V6B 3P7</td><td>1A6A1A7B-E208-473D-A8F4-14A89D06FAD2</td><td>2005-09-01 00:00:00.0000000</td></tr><tr><td>452</td><td>55 Lakeshore Blvd East</td><td>NULL</td><td>Toronto</td><td>Ontario</td><td>Canada</td><td>M4B 1V6</td><td>A358652F-0E00-49E6-B6B0-DE1099C43506</td><td>2005-09-01 00:00:00.0000000</td></tr><tr><td>495</td><td>Suite 800 2530 Slater Street</td><td>NULL</td><td>Ottawa</td><td>Ontario</td><td>Canada</td><td>K4B 1T7</td><td>C6633AD5-006D-4967-B97E-7919DD48A700</td><td>2006-09-01 00:00:00.0000000</td></tr><tr><td>445</td><td>6388 Lake City Way</td><td>NULL</td><td>Burnaby</td><td>British Columbia</td><td>Canada</td><td>V5A 3A6</td><td>53572F25-9133-4A8B-A065-102FF35416EE</td><td>2006-09-01 00:00:00.0000000</td></tr><tr><td>466</td><td>655-4th Ave S.W.</td><td>NULL</td><td>Calgary</td><td>Alberta</td><td>Canada</td><td>T2P 2G8</td><td>09C5F0BA-7128-4455-832D-0DF587248A5A</td><td>2005-08-01 00:00:00.0000000</td></tr><tr><td>499</td><td>Suite 2502 410 Albert Street</td><td>NULL</td><td>Waterloo</td><td>Ontario</td><td>Canada</td><td>N2V</td><td>44099B0E-03F3-447C-83BF-BE4BAA010A83</td><td>2006-08-01 00:00:00.0000000</td></tr><tr><td>492</td><td>99954 Boul. Laurier, Local 060, Place</td><td>NULL</td><td>Sainte-Foy</td><td>Quebec</td><td>Canada</td><td>G1W</td><td>541CDE7C-3F3A-435F-A7B5-F30055DFBC68</td><td>2007-09-01 00:00:00.0000000</td></tr><tr><td>535</td><td>250 Kingsbridge Garden Circle</td><td>NULL</td><td>Mississauga</td><td>Ontario</td><td>Canada</td><td>L5B 3V4</td><td>9771494E-9053-40F2-84A5-E0D108DEEFED</td><td>2005-11-01 00:00:00.0000000</td></tr><tr><td>483</td><td>955 Green Valley Crescent</td><td>NULL</td><td>Ottawa</td><td>Ontario</td><td>Canada</td><td>K4B 1S1</td><td>C6B743C3-F830-43E4-BA58-DD36FC451D14</td><td>2007-09-01 00:00:00.0000000</td></tr><tr><td>453</td><td>6333 Cote Vertu</td><td>NULL</td><td>Montreal</td><td>Quebec</td><td>Canada</td><td>H1Y 2H7</td><td>355681F2-4D9D-4522-BFA0-105BE64394D8</td><td>2007-09-01 00:00:00.0000000</td></tr><tr><td>469</td><td>400-25155 West Pender St</td><td>NULL</td><td>Vancouver</td><td>British Columbia</td><td>Canada</td><td>V7L 4J4</td><td>B81768F9-3B05-43DC-8DDE-85FFCA00D4DE</td><td>2007-09-01 00:00:00.0000000</td></tr><tr><td>468</td><td>Po Box 83270</td><td>NULL</td><td>Vancouver</td><td>British Columbia</td><td>Canada</td><td>V7L 4J4</td><td>C00A5DFF-B134-4900-9561-E67EEB425F9F</td><td>2007-08-01 00:00:00.0000000</td></tr><tr><td>470</td><td>2511 Baker Road</td><td>NULL</td><td>Toronto</td><td>Ontario</td><td>Canada</td><td>M4B 1V7</td><td>6E934D97-69B9-4FCF-9E4E-56BF94E52986</td><td>2005-09-01 00:00:00.0000000</td></tr><tr><td>508</td><td>2900 - 25055 Dunning Street</td><td>NULL</td><td>Vancouver</td><td>British Columbia</td><td>Canada</td><td>V7L 4J4</td><td>4EE0334F-027C-4036-880F-6E9104E21533</td><td>2006-12-01 00:00:00.0000000</td></tr><tr><td>471</td><td>770 Notre Datme Quest Bureau 800</td><td>NULL</td><td>Montreal</td><td>Quebec</td><td>Canada</td><td>H1Y 2H7</td><td>5EDA011D-31D1-4DFB-A78C-397B6335F85B</td><td>2005-09-01 00:00:00.0000000</td></tr><tr><td>478</td><td>2545 King Street West</td><td>NULL</td><td>Toronto</td><td>Ontario</td><td>Canada</td><td>M4B 1V7</td><td>2817A0B7-8985-4527-BB7B-B75F55F4D8DE</td><td>2005-08-01 00:00:00.0000000</td></tr><tr><td>518</td><td>995 Crescent</td><td>NULL</td><td>Richmond Hill</td><td>Ontario</td><td>Canada</td><td>L4E 3M5</td><td>0B49022D-8B49-4CF6-B0A3-46231CD48441</td><td>2007-09-01 00:00:00.0000000</td></tr><tr><td>527</td><td>252851 Rowan Place</td><td>NULL</td><td>Richmond</td><td>British Columbia</td><td>Canada</td><td>V6B 3P7</td><td>11EAEE50-8A14-4B81-951E-86701B6F60C0</td><td>2006-09-01 00:00:00.0000000</td></tr><tr><td>538</td><td>25 Danger Street West</td><td>Floor 7</td><td>Toronto</td><td>Ontario</td><td>Canada</td><td>M4B 1V5</td><td>10B2404C-F0AF-409C-AF5D-0218BEB03D0D</td><td>2007-08-01 00:00:00.0000000</td></tr><tr><td>557</td><td>660 Saint-Jacques, Bureau 400</td><td>NULL</td><td>Montreal</td><td>Quebec</td><td>Canada</td><td>H1Y 2H8</td><td>DCE88C1F-8BFE-4306-BA02-50446466C5E5</td><td>2006-09-01 00:00:00.0000000</td></tr><tr><td>450</td><td>575 Rue St Amable</td><td>NULL</td><td>Quebec</td><td>Quebec</td><td>Canada</td><td>G1R</td><td>5F3C345A-6475-41D5-B17B-DB8D27733BB1</td><td>2006-09-01 00:00:00.0000000</td></tr><tr><td>521</td><td>55 Standish Court</td><td>NULL</td><td>Mississauga</td><td>Ontario</td><td>Canada</td><td>L5B 3V4</td><td>97C329E2-FA67-4478-AA7B-78A8DEECF7CA</td><td>2006-09-01 00:00:00.0000000</td></tr><tr><td>456</td><td>6777 Kingsway</td><td>NULL</td><td>Burnaby</td><td>British Columbia</td><td>Canada</td><td>V5H 3Z7</td><td>2F3B383E-08A5-407D-AB1B-A1390E87A888</td><td>2006-08-01 00:00:00.0000000</td></tr><tr><td>498</td><td>25537 Hillside Avenue</td><td>NULL</td><td>Victoria</td><td>British Columbia</td><td>Canada</td><td>V8V</td><td>385C24E0-E20C-40C9-BAC9-95D70D5B6900</td><td>2005-08-01 00:00:00.0000000</td></tr><tr><td>523</td><td>46990 Viking Way</td><td>NULL</td><td>Richmond</td><td>British Columbia</td><td>Canada</td><td>V6B 3P7</td><td>85C88CD6-682C-4358-9F8C-5A24F4CCFD98</td><td>2005-08-01 00:00:00.0000000</td></tr><tr><td>555</td><td>9950 Ferrand Drive, 9th Floor</td><td>NULL</td><td>Toronto</td><td>Ontario</td><td>Canada</td><td>M4B 1V4</td><td>32890831-931E-44AD-801B-41B1AD862ECA</td><td>2005-09-01 00:00:00.0000000</td></tr><tr><td>474</td><td>252345 8810th Avenue</td><td>NULL</td><td>Surrey</td><td>British Columbia</td><td>Canada</td><td>V3T 4W3</td><td>447CA097-077D-4980-A431-8FAFAD156CED</td><td>2005-09-01 00:00:00.0000000</td></tr><tr><td>486</td><td>600 Boul. Rene-levesque Ouest</td><td>NULL</td><td>Montreal</td><td>Quebec</td><td>Canada</td><td>H1Y 2H7</td><td>112049E4-64D5-4305-9545-933E89B74F6E</td><td>2006-07-01 00:00:00.0000000</td></tr><tr><td>494</td><td>Box 99354 300 Union Street</td><td>NULL</td><td>Saint John</td><td>Brunswick</td><td>Canada</td><td>E2P 1E3</td><td>21FF77A8-39DC-44D8-917C-FDD645DBF9EB</td><td>2006-07-01 00:00:00.0000000</td></tr><tr><td>520</td><td>6700 Boul Taschereau</td><td>NULL</td><td>Brossard</td><td>Quebec</td><td>Canada</td><td>J4Z 1C5</td><td>B730EAFF-5828-4C8C-86C1-9137F50FCA48</td><td>2005-09-01 00:00:00.0000000</td></tr><tr><td>549</td><td>609 Evans Avenue</td><td>NULL</td><td>Toronto</td><td>Ontario</td><td>Canada</td><td>M4B 1V4</td><td>DCF9C9B5-A7B6-4383-9480-1F84130B5F8B</td><td>2006-09-01 00:00:00.0000000</td></tr><tr><td>537</td><td>No. 25800-130 King Street West</td><td>NULL</td><td>Toronto</td><td>Ontario</td><td>Canada</td><td>M4B 1V5</td><td>C2BCDAEC-366C-489C-BF43-8CC2881179F3</td><td>2005-09-01 00:00:00.0000000</td></tr><tr><td>502</td><td>No. 25400 10665 Jasper Avenue</td><td>NULL</td><td>Edmonton</td><td>Alberta</td><td>Canada</td><td>T5</td><td>51180CA2-6614-46A5-B89C-EF7B0421C847</td><td>2006-08-01 00:00:00.0000000</td></tr><tr><td>463</td><td>992 St Clair Ave East</td><td>NULL</td><td>Toronto</td><td>Ontario</td><td>Canada</td><td>M4B 1V7</td><td>D6ED51FA-6DD1-460C-99E0-64BA90F035AE</td><td>2005-09-01 00:00:00.0000000</td></tr><tr><td>461</td><td>2560 Bay Street</td><td>NULL</td><td>Toronto</td><td>Ontario</td><td>Canada</td><td>M4B 1V7</td><td>726819A8-1B02-4EFD-AEB9-3FD801D9F153</td><td>2006-08-01 00:00:00.0000000</td></tr><tr><td>459</td><td>25575 The Queensway</td><td>NULL</td><td>Etobicoke</td><td>Ontario</td><td>Canada</td><td>M9W 3P3</td><td>616235EA-DC36-4C39-BF91-FFE12BB676E0</td><td>2005-08-01 00:00:00.0000000</td></tr><tr><td>447</td><td>22580 Free Street</td><td>NULL</td><td>Toronto</td><td>Ontario</td><td>Canada</td><td>M4B 1V7</td><td>88CEE379-DBB8-433B-B84E-A35E09435500</td><td>2006-08-01 00:00:00.0000000</td></tr><tr><td>528</td><td>5990 Avebury Road</td><td>NULL</td><td>Mississauga</td><td>Ontario</td><td>Canada</td><td>L5B 3V4</td><td>D9928CCC-FC35-435A-8A0F-6887813E0E06</td><td>2005-09-01 00:00:00.0000000</td></tr><tr><td>496</td><td>Suite 500 995 W. 11th Avenue</td><td>NULL</td><td>Mississauga</td><td>Ontario</td><td>Canada</td><td>L5A 1H6</td><td>496C1AD3-2925-4322-8811-890AB6107F67</td><td>2007-08-01 00:00:00.0000000</td></tr><tr><td>522</td><td>43251 Viking Way, Unit 130</td><td>NULL</td><td>Richmond</td><td>British Columbia</td><td>Canada</td><td>V6B 3P7</td><td>842BCBE5-9DA5-42D5-A4BB-4197DB5B69C7</td><td>2007-02-01 00:00:00.0000000</td></tr><tr><td>547</td><td>7000 Victoria Park Avenue</td><td>NULL</td><td>Toronto</td><td>Ontario</td><td>Canada</td><td>M4B 1V4</td><td>28125EC3-FDC2-45D8-93B3-CD7DB2113424</td><td>2007-09-01 00:00:00.0000000</td></tr><tr><td>451</td><td>2512-4th Ave Sw</td><td>NULL</td><td>Calgary</td><td>Alberta</td><td>Canada</td><td>T2P 2G8</td><td>49644F1E-6F90-46D9-8DBB-9DB15F0EF7EC</td><td>2006-12-01 00:00:00.0000000</td></tr><tr><td>460</td><td>2521 McPherson Street</td><td>NULL</td><td>Markham</td><td>Ontario</td><td>Canada</td><td>L3S 3K2</td><td>7D6F03AC-5D55-422E-850E-B8743FAC81B2</td><td>2007-08-01 00:00:00.0000000</td></tr><tr><td>558</td><td>67255 - 8th Street N.E., Suite 350</td><td>NULL</td><td>Calgary</td><td>Alberta</td><td>Canada</td><td>T2P 2G8</td><td>DA596ABB-B3AF-48EC-A082-9E94CD870A5F</td><td>2006-12-01 00:00:00.0000000</td></tr><tr><td>458</td><td>600 Slater Street</td><td>NULL</td><td>Ottawa</td><td>Ontario</td><td>Canada</td><td>K4B 1S2</td><td>49F4EE42-E20B-4E66-B43C-A28E9FC63CA0</td><td>2005-07-01 00:00:00.0000000</td></tr><tr><td>529</td><td>254480 River Rd</td><td>NULL</td><td>Richmond</td><td>British Columbia</td><td>Canada</td><td>V6B 3P7</td><td>034076FD-CD0E-4EAD-864E-8CE7F47D6612</td><td>2005-07-01 00:00:00.0000000</td></tr><tr><td>446</td><td>52560 Free Street</td><td>NULL</td><td>Toronto</td><td>Ontario</td><td>Canada</td><td>M4B 1V7</td><td>801A1DFC-5125-486B-AA84-CCBD2EC57CA4</td><td>2005-08-01 00:00:00.0000000</td></tr><tr><td>477</td><td>6th Floor Ferguson Block</td><td>NULL</td><td>Toronto</td><td>Ontario</td><td>Canada</td><td>M4B 1V7</td><td>39F3B067-2263-4591-ABF9-D5210DA4F783</td><td>2005-08-01 00:00:00.0000000</td></tr></table>"
                    },
                    "metadata": {}
                }
            ],
            "execution_count": 19
        },
        {
            "cell_type": "code",
            "source": [
                "EXECUTE AS USER = 'VendorMGR';  \r\n",
                "SELECT * FROM [SalesLT].Address;\r\n",
                "REVERT;  \r\n",
                "\r\n",
                ""
            ],
            "metadata": {
                "azdata_cell_guid": "16a40a99-25d0-49e1-a488-6226aaf5eb7e",
                "tags": [],
                "extensions": {
                    "azuredatastudio": {
                        "views": []
                    }
                },
                "language": "sql"
            },
            "outputs": [
                {
                    "output_type": "display_data",
                    "data": {
                        "text/html": "(450 rows affected)"
                    },
                    "metadata": {}
                },
                {
                    "output_type": "display_data",
                    "data": {
                        "text/html": "Total execution time: 00:00:00.504"
                    },
                    "metadata": {}
                },
                {
                    "output_type": "execute_result",
                    "execution_count": 20,
                    "data": {
                        "application/vnd.dataresource+json": {
                            "schema": {
                                "fields": [
                                    {
                                        "name": "AddressID"
                                    },
                                    {
                                        "name": "AddressLine1"
                                    },
                                    {
                                        "name": "AddressLine2"
                                    },
                                    {
                                        "name": "City"
                                    },
                                    {
                                        "name": "StateProvince"
                                    },
                                    {
                                        "name": "CountryRegion"
                                    },
                                    {
                                        "name": "PostalCode"
                                    },
                                    {
                                        "name": "rowguid"
                                    },
                                    {
                                        "name": "ModifiedDate"
                                    }
                                ]
                            },
                            "data": [
                                {
                                    "0": "826",
                                    "1": "Kensington Valley Shops",
                                    "2": "NULL",
                                    "3": "Howell",
                                    "4": "Michigan",
                                    "5": "United States",
                                    "6": "48843",
                                    "7": "C2D04D48-EF2B-4349-877B-EA6DF9895079",
                                    "8": "2006-07-01 00:00:00.0000000"
                                },
                                {
                                    "0": "1031",
                                    "1": "Natomas Marketplace",
                                    "2": "NULL",
                                    "3": "Sacramento",
                                    "4": "California",
                                    "5": "United States",
                                    "6": "95814",
                                    "7": "27AF5ED8-D33A-4FB2-9C55-D5CDD5017CD4",
                                    "8": "2006-08-01 00:00:00.0000000"
                                },
                                {
                                    "0": "841",
                                    "1": "Washington Square",
                                    "2": "NULL",
                                    "3": "Portland",
                                    "4": "Oregon",
                                    "5": "United States",
                                    "6": "97205",
                                    "7": "7B5AE329-FB7C-4A2C-B33C-827920ACACDC",
                                    "8": "2005-11-01 00:00:00.0000000"
                                },
                                {
                                    "0": "519",
                                    "1": "2500-622 5th Ave Sw",
                                    "2": "NULL",
                                    "3": "Calgary",
                                    "4": "Alberta",
                                    "5": "Canada",
                                    "6": "T2P 2G8",
                                    "7": "13754965-6A09-4343-968C-8699C27FDFAA",
                                    "8": "2006-08-01 00:00:00.0000000"
                                },
                                {
                                    "0": "482",
                                    "1": "2500 University Avenue",
                                    "2": "NULL",
                                    "3": "Toronto",
                                    "4": "Ontario",
                                    "5": "Canada",
                                    "6": "M4B 1V5",
                                    "7": "197A1735-E89E-4F15-A5F7-FEB98B369094",
                                    "8": "2005-07-01 00:00:00.0000000"
                                },
                                {
                                    "0": "652",
                                    "1": "Wymbush",
                                    "2": "NULL",
                                    "3": "Milton Keynes",
                                    "4": "England",
                                    "5": "United Kingdom",
                                    "6": "MK8 8DF",
                                    "7": "54E20963-B0E9-41CF-AB7E-D50459A3325C",
                                    "8": "2006-09-01 00:00:00.0000000"
                                },
                                {
                                    "0": "597",
                                    "1": "99450 Highway 59 North",
                                    "2": "NULL",
                                    "3": "Humble",
                                    "4": "Texas",
                                    "5": "United States",
                                    "6": "77338",
                                    "7": "3BD8466E-2A52-4661-8460-50736409EE8A",
                                    "8": "2006-08-01 00:00:00.0000000"
                                },
                                {
                                    "0": "500",
                                    "1": "5700 Explorer Drive",
                                    "2": "NULL",
                                    "3": "Mississauga",
                                    "4": "Ontario",
                                    "5": "Canada",
                                    "6": "L4W 5J3",
                                    "7": "F6FED7FA-39D9-4A60-A1F5-1622489E55FD",
                                    "8": "2005-08-01 00:00:00.0000000"
                                },
                                {
                                    "0": "832",
                                    "1": "2251 Elliot Avenue",
                                    "2": "NULL",
                                    "3": "Seattle",
                                    "4": "Washington",
                                    "5": "United States",
                                    "6": "98104",
                                    "7": "6D6A8E1A-FFD8-4D2D-A70D-88467049A880",
                                    "8": "2005-08-01 00:00:00.0000000"
                                },
                                {
                                    "0": "593",
                                    "1": "2345 North Freeway",
                                    "2": "NULL",
                                    "3": "Houston",
                                    "4": "Texas",
                                    "5": "United States",
                                    "6": "77003",
                                    "7": "74E5959F-4C5F-4BDA-ABCF-429762E1670D",
                                    "8": "2005-08-01 00:00:00.0000000"
                                },
                                {
                                    "0": "607",
                                    "1": "25220 Airline Road",
                                    "2": "NULL",
                                    "3": "Corpus Christi",
                                    "4": "Texas",
                                    "5": "United States",
                                    "6": "78404",
                                    "7": "6E7FE435-895A-4E65-913B-2AD21CF4CE6D",
                                    "8": "2006-08-01 00:00:00.0000000"
                                },
                                {
                                    "0": "510",
                                    "1": "750 Philip Street",
                                    "2": "NULL",
                                    "3": "Waterloo",
                                    "4": "Ontario",
                                    "5": "Canada",
                                    "6": "N2V",
                                    "7": "F2B96299-187A-4E52-96DE-FE9D1C8AB33F",
                                    "8": "2005-11-01 00:00:00.0000000"
                                },
                                {
                                    "0": "633",
                                    "1": "Medford Outlet Center",
                                    "2": "NULL",
                                    "3": "Medford",
                                    "4": "Minnesota",
                                    "5": "United States",
                                    "6": "55049",
                                    "7": "7CDA3069-3B49-4205-B853-40744D7D875F",
                                    "8": "2006-08-01 00:00:00.0000000"
                                },
                                {
                                    "0": "626",
                                    "1": "Lone Star Factory",
                                    "2": "NULL",
                                    "3": "La Marque",
                                    "4": "Texas",
                                    "5": "United States",
                                    "6": "77568",
                                    "7": "5F33B654-E091-4B2F-B5BD-AC5AC6D47EE6",
                                    "8": "2007-08-01 00:00:00.0000000"
                                },
                                {
                                    "0": "530",
                                    "1": "Suite #9902",
                                    "2": "NULL",
                                    "3": "North York",
                                    "4": "Ontario",
                                    "5": "Canada",
                                    "6": "M4C 4K6",
                                    "7": "FE36E0C8-AD8A-4D2C-BC53-5D69BE5A9CE7",
                                    "8": "2005-07-01 00:00:00.0000000"
                                },
                                {
                                    "0": "667",
                                    "1": "997b Tradescant Road",
                                    "2": "NULL",
                                    "3": "London",
                                    "4": "England",
                                    "5": "United Kingdom",
                                    "6": "SW8 1XD",
                                    "7": "0A318015-4FBE-479A-B2DA-EEE21DF430AF",
                                    "8": "2006-08-01 00:00:00.0000000"
                                },
                                {
                                    "0": "604",
                                    "1": "1200 First Ave.",
                                    "2": "NULL",
                                    "3": "Joliet",
                                    "4": "Illinois",
                                    "5": "United States",
                                    "6": "60433",
                                    "7": "79972B72-7D84-4A33-AE27-44A5EFAEF39D",
                                    "8": "2007-09-01 00:00:00.0000000"
                                },
                                {
                                    "0": "658",
                                    "1": "Ellesfield Ave",
                                    "2": "NULL",
                                    "3": "Bracknell",
                                    "4": "England",
                                    "5": "United Kingdom",
                                    "6": "RG12 8TB",
                                    "7": "BC28152F-8005-4C0E-98FF-51BF77A4A667",
                                    "8": "2006-08-01 00:00:00.0000000"
                                },
                                {
                                    "0": "32",
                                    "1": "26910 Indela Road",
                                    "2": "NULL",
                                    "3": "Montreal",
                                    "4": "Quebec",
                                    "5": "Canada",
                                    "6": "H1Y 2H5",
                                    "7": "84A95F62-3AE8-4E7E-BBD5-5A6F00CD982D",
                                    "8": "2006-08-01 00:00:00.0000000"
                                },
                                {
                                    "0": "596",
                                    "1": "72540 Blanco Rd.",
                                    "2": "NULL",
                                    "3": "San Antonio",
                                    "4": "Texas",
                                    "5": "United States",
                                    "6": "78204",
                                    "7": "5EC50E4C-3026-4BD5-9A15-00776AD22EEC",
                                    "8": "2005-08-01 00:00:00.0000000"
                                },
                                {
                                    "0": "869",
                                    "1": "2583 Se 272nd St",
                                    "2": "NULL",
                                    "3": "Kent",
                                    "4": "Washington",
                                    "5": "United States",
                                    "6": "98031",
                                    "7": "E13C4F18-990A-4B7D-9FC9-AFD0EA943B13",
                                    "8": "2005-08-01 00:00:00.0000000"
                                },
                                {
                                    "0": "509",
                                    "1": "Suite 25800 3401 - 10810th Avenue",
                                    "2": "NULL",
                                    "3": "Surrey",
                                    "4": "British Columbia",
                                    "5": "Canada",
                                    "6": "V3T 4W3",
                                    "7": "28C52717-7117-41B6-A5C7-FDA60D566163",
                                    "8": "2005-08-01 00:00:00.0000000"
                                },
                                {
                                    "0": "906",
                                    "1": "7009 Sw Hall Blvd.",
                                    "2": "NULL",
                                    "3": "Tigard",
                                    "4": "Oregon",
                                    "5": "United States",
                                    "6": "97223",
                                    "7": "B8EFDBFA-3BA9-45D8-9C09-646DD0C8AF93",
                                    "8": "2006-09-01 00:00:00.0000000"
                                },
                                {
                                    "0": "588",
                                    "1": "99828 Routh Street, Suite 825",
                                    "2": "NULL",
                                    "3": "Dallas",
                                    "4": "Texas",
                                    "5": "United States",
                                    "6": "75201",
                                    "7": "180F5A76-930D-4B70-9D70-7AA3E49BB71E",
                                    "8": "2005-08-01 00:00:00.0000000"
                                },
                                {
                                    "0": "671",
                                    "1": "25 Hartfield Road, Wimbledon",
                                    "2": "NULL",
                                    "3": "London",
                                    "4": "England",
                                    "5": "United Kingdom",
                                    "6": "SW19 3RU",
                                    "7": "00FD96BC-6EE6-4D2C-A88C-07BC1CAE6EFE",
                                    "8": "2008-02-01 00:00:00.0000000"
                                },
                                {
                                    "0": "454",
                                    "1": "3255 Front Street West",
                                    "2": "NULL",
                                    "3": "Toronto",
                                    "4": "Ontario",
                                    "5": "Canada",
                                    "6": "M4B 1V6",
                                    "7": "EF4DC57D-8B8B-4074-B5F0-ACBEF65DBEC1",
                                    "8": "2007-08-01 00:00:00.0000000"
                                },
                                {
                                    "0": "493",
                                    "1": "6th Floor 5250 Main Street",
                                    "2": "NULL",
                                    "3": "Winnipeg",
                                    "4": "Manitoba",
                                    "5": "Canada",
                                    "6": "R3",
                                    "7": "AC0E73D8-FF0A-42BD-8502-E19EBAC7343F",
                                    "8": "2007-09-01 00:00:00.0000000"
                                },
                                {
                                    "0": "28",
                                    "1": "9228 Via Del Sol",
                                    "2": "NULL",
                                    "3": "Phoenix",
                                    "4": "Arizona",
                                    "5": "United States",
                                    "6": "85004",
                                    "7": "12AE5EE1-FC3E-468B-9B92-3B970B169774",
                                    "8": "2005-09-01 00:00:00.0000000"
                                },
                                {
                                    "0": "455",
                                    "1": "2550 Signet Drive",
                                    "2": "NULL",
                                    "3": "Weston",
                                    "4": "Ontario",
                                    "5": "Canada",
                                    "6": "M9V 4W3",
                                    "7": "43D582CF-E95F-4861-BA60-2DC7121410A6",
                                    "8": "2006-08-01 00:00:00.0000000"
                                },
                                {
                                    "0": "485",
                                    "1": "9900-6400 Boul, Taschereau",
                                    "2": "NULL",
                                    "3": "Brossard",
                                    "4": "Quebec",
                                    "5": "Canada",
                                    "6": "J4Z 1R4",
                                    "7": "7C46D2FC-E31E-402F-A093-4CF18F7F6E54",
                                    "8": "2006-07-01 00:00:00.0000000"
                                },
                                {
                                    "0": "610",
                                    "1": "44025 W. Empire",
                                    "2": "NULL",
                                    "3": "Denby",
                                    "4": "South Dakota",
                                    "5": "United States",
                                    "6": "57716",
                                    "7": "8AFB400F-1FE5-460D-BC56-4A7BF801B41B",
                                    "8": "2007-09-01 00:00:00.0000000"
                                },
                                {
                                    "0": "504",
                                    "1": "Suite 99320 255 - 510th Avenue S.W.",
                                    "2": "NULL",
                                    "3": "Calgary",
                                    "4": "Alberta",
                                    "5": "Canada",
                                    "6": "T2P 2G8",
                                    "7": "CFF7437F-6830-4797-875B-D9A54EA38975",
                                    "8": "2005-08-01 00:00:00.0000000"
                                },
                                {
                                    "0": "479",
                                    "1": "2550 Middlefield Road",
                                    "2": "NULL",
                                    "3": "Scarborough",
                                    "4": "Ontario",
                                    "5": "Canada",
                                    "6": "M1V 4M2",
                                    "7": "E60801BF-CFB3-4606-A738-8AA0EB587AFB",
                                    "8": "2005-08-01 00:00:00.0000000"
                                },
                                {
                                    "0": "1098",
                                    "1": "Po Box 252525",
                                    "2": "NULL",
                                    "3": "Santa Ana",
                                    "4": "California",
                                    "5": "United States",
                                    "6": "92701",
                                    "7": "7D2BD572-F8AB-435A-A47B-3A534D7D9CDC",
                                    "8": "2006-09-01 00:00:00.0000000"
                                },
                                {
                                    "0": "532",
                                    "1": "#500-75 O'Connor Street",
                                    "2": "NULL",
                                    "3": "Ottawa",
                                    "4": "Ontario",
                                    "5": "Canada",
                                    "6": "K4B 1S2",
                                    "7": "1B58B9BC-A691-4927-BF17-569E4BE822F3",
                                    "8": "2005-12-01 00:00:00.0000000"
                                },
                                {
                                    "0": "457",
                                    "1": "5250-505 Burning St",
                                    "2": "NULL",
                                    "3": "Vancouver",
                                    "4": "British Columbia",
                                    "5": "Canada",
                                    "6": "V7L 4J4",
                                    "7": "93F02C61-783D-4F04-8A57-416F25817ABA",
                                    "8": "2006-07-01 00:00:00.0000000"
                                },
                                {
                                    "0": "661",
                                    "1": "725a The Arches",
                                    "2": "NULL",
                                    "3": "Berks",
                                    "4": "England",
                                    "5": "United Kingdom",
                                    "6": "SL4 1RH",
                                    "7": "38F5F598-E9BB-499C-B90D-088B2CD1B5BD",
                                    "8": "2006-08-01 00:00:00.0000000"
                                },
                                {
                                    "0": "640",
                                    "1": "251 The Metro Center",
                                    "2": "NULL",
                                    "3": "Wokingham",
                                    "4": "England",
                                    "5": "United Kingdom",
                                    "6": "RG41 1QW",
                                    "7": "0E4AC5BB-BE0D-4A96-A58E-064DAEC08E1A",
                                    "8": "2007-09-01 00:00:00.0000000"
                                },
                                {
                                    "0": "573",
                                    "1": "25269 Wood Dale Rd.",
                                    "2": "NULL",
                                    "3": "Wood Dale",
                                    "4": "Illinois",
                                    "5": "United States",
                                    "6": "60191",
                                    "7": "E4C1153E-6C1A-45DF-ADDB-80FAC429FA3F",
                                    "8": "2005-11-01 00:00:00.0000000"
                                },
                                {
                                    "0": "552",
                                    "1": "25730, boul. St-Régis",
                                    "2": "NULL",
                                    "3": "Dorval",
                                    "4": "Quebec",
                                    "5": "Canada",
                                    "6": "H9P 1H1",
                                    "7": "6832A3BD-56EC-42FE-8B4C-6BFD09F89EB4",
                                    "8": "2008-06-01 00:00:00.0000000"
                                },
                                {
                                    "0": "1095",
                                    "1": "9980 S Alma School Road",
                                    "2": "NULL",
                                    "3": "Chandler",
                                    "4": "Arizona",
                                    "5": "United States",
                                    "6": "85225",
                                    "7": "B09B3F8E-89F2-4528-9578-53CBCF805B4A",
                                    "8": "2007-02-01 00:00:00.0000000"
                                },
                                {
                                    "0": "497",
                                    "1": "#9900 2700 Production Way",
                                    "2": "NULL",
                                    "3": "Burnaby",
                                    "4": "British Columbia",
                                    "5": "Canada",
                                    "6": "V5A 4X1",
                                    "7": "AA651B28-0A51-4084-8444-A70CC71BCE65",
                                    "8": "2005-08-01 00:00:00.0000000"
                                },
                                {
                                    "0": "542",
                                    "1": "5 place Ville-Marie",
                                    "2": "NULL",
                                    "3": "Montreal",
                                    "4": "Quebec",
                                    "5": "Canada",
                                    "6": "H1Y 2H7",
                                    "7": "B242B256-254B-4624-B3AF-BF0058BB0B7B",
                                    "8": "2006-09-01 00:00:00.0000000"
                                },
                                {
                                    "0": "546",
                                    "1": "250333 Southport Road, S.W.",
                                    "2": "NULL",
                                    "3": "Calgary",
                                    "4": "Alberta",
                                    "5": "Canada",
                                    "6": "T2P 2G8",
                                    "7": "11D29E3F-D9B2-4E24-AC01-EEBA72DA4DDF",
                                    "8": "2007-08-01 00:00:00.0000000"
                                },
                                {
                                    "0": "999",
                                    "1": "Receiving",
                                    "2": "NULL",
                                    "3": "Fullerton",
                                    "4": "California",
                                    "5": "United States",
                                    "6": "92831",
                                    "7": "93D3C32F-CC26-4F27-B91F-35A804554976",
                                    "8": "2006-09-01 00:00:00.0000000"
                                },
                                {
                                    "0": "489",
                                    "1": "9960 King Street E.",
                                    "2": "NULL",
                                    "3": "Toronto",
                                    "4": "Ontario",
                                    "5": "Canada",
                                    "6": "M4B 1V5",
                                    "7": "EB632E56-4299-4714-9E91-224319BDCB62",
                                    "8": "2007-08-01 00:00:00.0000000"
                                },
                                {
                                    "0": "464",
                                    "1": "99, Rue Saint-pierre",
                                    "2": "NULL",
                                    "3": "Pnot-Rouge",
                                    "4": "Quebec",
                                    "5": "Canada",
                                    "6": "J1E 2T7",
                                    "7": "C4A1EE36-8149-46B7-A313-A63010987A8E",
                                    "8": "2005-07-01 00:00:00.0000000"
                                },
                                {
                                    "0": "875",
                                    "1": "2540 Dell Range Blvd",
                                    "2": "NULL",
                                    "3": "Cheyenne",
                                    "4": "Wyoming",
                                    "5": "United States",
                                    "6": "82001",
                                    "7": "3AC8958A-76EE-41CA-8A88-2B783EA18ACC",
                                    "8": "2006-07-01 00:00:00.0000000"
                                },
                                {
                                    "0": "467",
                                    "1": "25900-700-9th Ave S.W.",
                                    "2": "NULL",
                                    "3": "Calgary",
                                    "4": "Alberta",
                                    "5": "Canada",
                                    "6": "T2P 2G8",
                                    "7": "13560188-CE4A-470D-9913-49903047D459",
                                    "8": "2005-11-01 00:00:00.0000000"
                                },
                                {
                                    "0": "551",
                                    "1": "32605 West 252 Mile Road, Suite 250",
                                    "2": "NULL",
                                    "3": "Aurora",
                                    "4": "Ontario",
                                    "5": "Canada",
                                    "6": "L4G 7N6",
                                    "7": "E7567A62-3ACF-4F0B-B202-E28B92DE689A",
                                    "8": "2006-09-01 00:00:00.0000000"
                                },
                                {
                                    "0": "1033",
                                    "1": "Lakewood Mall",
                                    "2": "NULL",
                                    "3": "Lakewood",
                                    "4": "California",
                                    "5": "United States",
                                    "6": "90712",
                                    "7": "D28C7FEF-9EA3-458F-A2B9-11964C3CC60B",
                                    "8": "2007-07-01 00:00:00.0000000"
                                },
                                {
                                    "0": "1009",
                                    "1": "2500 N Serene Blvd",
                                    "2": "19th Floor",
                                    "3": "El Segundo",
                                    "4": "California",
                                    "5": "United States",
                                    "6": "90245",
                                    "7": "7619E3BD-780B-45B1-A477-8FC3E0948352",
                                    "8": "2007-08-01 00:00:00.0000000"
                                },
                                {
                                    "0": "615",
                                    "1": "Fountains On The Lake",
                                    "2": "NULL",
                                    "3": "Stafford",
                                    "4": "Texas",
                                    "5": "United States",
                                    "6": "77477",
                                    "7": "BC2D6156-BCF7-47F7-A409-31122653F701",
                                    "8": "2005-07-01 00:00:00.0000000"
                                },
                                {
                                    "0": "540",
                                    "1": "254 Colonnade Road",
                                    "2": "NULL",
                                    "3": "Nepean",
                                    "4": "Ontario",
                                    "5": "Canada",
                                    "6": "K2J 2W5",
                                    "7": "1C97F465-F2AF-4D34-BE8C-7AFDAD119425",
                                    "8": "2005-08-01 00:00:00.0000000"
                                },
                                {
                                    "0": "1104",
                                    "1": "9927 N. Main St.",
                                    "2": "NULL",
                                    "3": "Tooele",
                                    "4": "Utah",
                                    "5": "United States",
                                    "6": "84074",
                                    "7": "CE0FA600-8761-402C-A6C0-84FB6244984B",
                                    "8": "2005-08-01 00:00:00.0000000"
                                },
                                {
                                    "0": "297",
                                    "1": "7943 Walnut Ave",
                                    "2": "NULL",
                                    "3": "Renton",
                                    "4": "Washington",
                                    "5": "United States",
                                    "6": "98055",
                                    "7": "52410DA4-2778-4B1D-A599-95746625CE6D",
                                    "8": "2006-08-01 00:00:00.0000000"
                                },
                                {
                                    "0": "539",
                                    "1": "6th Floor, 25st Canadian Place",
                                    "2": "NULL",
                                    "3": "Toronto",
                                    "4": "Ontario",
                                    "5": "Canada",
                                    "6": "M4B 1V5",
                                    "7": "D51784C0-CC77-48C2-8FA6-75405F3E35B9",
                                    "8": "2005-08-01 00:00:00.0000000"
                                },
                                {
                                    "0": "638",
                                    "1": "255 Irving Street",
                                    "2": "NULL",
                                    "3": "London",
                                    "4": "England",
                                    "5": "United Kingdom",
                                    "6": "C2H 7AU",
                                    "7": "D8A77424-94AE-43AB-A011-1A9EBB3852E7",
                                    "8": "2007-08-01 00:00:00.0000000"
                                },
                                {
                                    "0": "1000",
                                    "1": "22555 Paseo De Las Americas",
                                    "2": "NULL",
                                    "3": "San Diego",
                                    "4": "California",
                                    "5": "United States",
                                    "6": "92102",
                                    "7": "982BDCC2-6429-4725-A6DF-4FAF032EC908",
                                    "8": "2006-08-01 00:00:00.0000000"
                                },
                                {
                                    "0": "560",
                                    "1": "800 Interchange Blvd.",
                                    "2": "Suite 2501",
                                    "3": "Austin",
                                    "4": "Texas",
                                    "5": "United States",
                                    "6": "78701",
                                    "7": "5790365C-DA3C-43BC-93D3-99104C038B71",
                                    "8": "2006-07-01 00:00:00.0000000"
                                },
                                {
                                    "0": "488",
                                    "1": "45259 Canada Way",
                                    "2": "NULL",
                                    "3": "Burnaby",
                                    "4": "British Columbia",
                                    "5": "Canada",
                                    "6": "V5G 4S4",
                                    "7": "6D2D6846-3F17-474E-8D31-AD3A59C0CEB0",
                                    "8": "2007-08-01 00:00:00.0000000"
                                },
                                {
                                    "0": "878",
                                    "1": "4210 E Sprague Ave",
                                    "2": "NULL",
                                    "3": "Spokane",
                                    "4": "Washington",
                                    "5": "United States",
                                    "6": "99202",
                                    "7": "7C04CF1B-AD79-44D4-9611-381B2F094F96",
                                    "8": "2006-07-01 00:00:00.0000000"
                                },
                                {
                                    "0": "511",
                                    "1": "Bureau 9900 825, Avenue Querbes",
                                    "2": "NULL",
                                    "3": "Outremont",
                                    "4": "Quebec",
                                    "5": "Canada",
                                    "6": "H1Y 2G5",
                                    "7": "EF10CF20-A540-4D5C-BEFD-1B48B7D48402",
                                    "8": "2006-12-01 00:00:00.0000000"
                                },
                                {
                                    "0": "848",
                                    "1": "Bldg. 9n/99298",
                                    "2": "NULL",
                                    "3": "Redmond",
                                    "4": "Washington",
                                    "5": "United States",
                                    "6": "98052",
                                    "7": "F8EF420D-B3C8-48B1-A237-4A7D2DAD987E",
                                    "8": "2005-08-01 00:00:00.0000000"
                                },
                                {
                                    "0": "659",
                                    "1": "Warrington Ldc Unit 25/2",
                                    "2": "NULL",
                                    "3": "Woolston",
                                    "4": "England",
                                    "5": "United Kingdom",
                                    "6": "WA1 4SY",
                                    "7": "F44A7D0D-9BC5-427E-B3AE-F638DD5804B0",
                                    "8": "2007-09-01 00:00:00.0000000"
                                },
                                {
                                    "0": "507",
                                    "1": "975 Princess Street",
                                    "2": "NULL",
                                    "3": "Kingston",
                                    "4": "Ontario",
                                    "5": "Canada",
                                    "6": "7L",
                                    "7": "D7849F5F-C042-4FCE-8F6B-BA5CD8708E10",
                                    "8": "2007-09-01 00:00:00.0000000"
                                },
                                {
                                    "0": "462",
                                    "1": "630 University Avenue",
                                    "2": "NULL",
                                    "3": "Toronto",
                                    "4": "Ontario",
                                    "5": "Canada",
                                    "6": "M4B 1V7",
                                    "7": "27D5BDAD-647D-4A56-859A-BC6A82AF7DCD",
                                    "8": "2005-08-01 00:00:00.0000000"
                                },
                                {
                                    "0": "1069",
                                    "1": "6900 Sisk Road",
                                    "2": "NULL",
                                    "3": "Modesto",
                                    "4": "California",
                                    "5": "United States",
                                    "6": "95354",
                                    "7": "60110399-EDF3-4C06-AC87-1D9856E9D2E3",
                                    "8": "2005-07-01 00:00:00.0000000"
                                },
                                {
                                    "0": "584",
                                    "1": "250880 Baur Blvd",
                                    "2": "NULL",
                                    "3": "Saint Louis",
                                    "4": "Missouri",
                                    "5": "United States",
                                    "6": "63103",
                                    "7": "ED1EE7DA-5087-4E7A-B019-7782742BC451",
                                    "8": "2007-07-01 00:00:00.0000000"
                                },
                                {
                                    "0": "526",
                                    "1": "251420a 170th Street",
                                    "2": "NULL",
                                    "3": "Edmonton",
                                    "4": "Alberta",
                                    "5": "Canada",
                                    "6": "T5",
                                    "7": "476D80AE-69A0-480D-9DF3-8FD0C1095A21",
                                    "8": "2006-07-01 00:00:00.0000000"
                                },
                                {
                                    "0": "776",
                                    "1": "997000 Telegraph Rd.",
                                    "2": "NULL",
                                    "3": "Southfield",
                                    "4": "Michigan",
                                    "5": "United States",
                                    "6": "48034",
                                    "7": "F0159341-8CDB-4587-BC74-95FFB9E7D662",
                                    "8": "2005-11-01 00:00:00.0000000"
                                },
                                {
                                    "0": "582",
                                    "1": "5700 Legacy Dr",
                                    "2": "NULL",
                                    "3": "Plano",
                                    "4": "Texas",
                                    "5": "United States",
                                    "6": "75074",
                                    "7": "08EBF5A9-2171-433E-85B8-56FFF949D041",
                                    "8": "2007-09-01 00:00:00.0000000"
                                },
                                {
                                    "0": "564",
                                    "1": "509 Nafta Boulevard",
                                    "2": "NULL",
                                    "3": "Laredo",
                                    "4": "Texas",
                                    "5": "United States",
                                    "6": "78040",
                                    "7": "F9A8A87A-152F-4204-B5D2-DBCB8DA1C13B",
                                    "8": "2005-08-01 00:00:00.0000000"
                                },
                                {
                                    "0": "886",
                                    "1": "Lancaster Mall",
                                    "2": "NULL",
                                    "3": "Salem",
                                    "4": "Oregon",
                                    "5": "United States",
                                    "6": "97301",
                                    "7": "3513C4CD-96AF-4E5F-B3FF-32D268FB5F54",
                                    "8": "2006-08-01 00:00:00.0000000"
                                },
                                {
                                    "0": "668",
                                    "1": "2574 Milton Park",
                                    "2": "NULL",
                                    "3": "Oxford",
                                    "4": "England",
                                    "5": "United Kingdom",
                                    "6": "OX14 4SE",
                                    "7": "62D0C689-CF44-4AB3-9C3E-6142F4E0101C",
                                    "8": "2007-08-01 00:00:00.0000000"
                                },
                                {
                                    "0": "990",
                                    "1": "5420 West 22500 South",
                                    "2": "NULL",
                                    "3": "Salt Lake City",
                                    "4": "Utah",
                                    "5": "United States",
                                    "6": "84101",
                                    "7": "7612C47A-E24A-4BD8-9B8B-3AED15AF64F9",
                                    "8": "2006-07-01 00:00:00.0000000"
                                },
                                {
                                    "0": "850",
                                    "1": "558 S 6th St",
                                    "2": "NULL",
                                    "3": "Klamath Falls",
                                    "4": "Oregon",
                                    "5": "United States",
                                    "6": "97601",
                                    "7": "329894AB-0142-4D9B-9851-2DA2F6DC95E3",
                                    "8": "2007-09-01 00:00:00.0000000"
                                },
                                {
                                    "0": "632",
                                    "1": "Fiesta Trail Shopping Center",
                                    "2": "NULL",
                                    "3": "San Antonio",
                                    "4": "Texas",
                                    "5": "United States",
                                    "6": "78204",
                                    "7": "F79532D7-38E9-42EC-8EA4-C9D7E1C13C12",
                                    "8": "2005-07-01 00:00:00.0000000"
                                },
                                {
                                    "0": "996",
                                    "1": "2575 West 2700 South",
                                    "2": "NULL",
                                    "3": "Salt Lake City",
                                    "4": "Utah",
                                    "5": "United States",
                                    "6": "84101",
                                    "7": "708FC1DD-4994-4AA5-80A5-8C977C37AA15",
                                    "8": "2006-08-01 00:00:00.0000000"
                                },
                                {
                                    "0": "576",
                                    "1": "4255 East Lies Road",
                                    "2": "NULL",
                                    "3": "Carol Stream",
                                    "4": "Illinois",
                                    "5": "United States",
                                    "6": "60188",
                                    "7": "C1A9793E-50B5-431C-82DD-8B36ACC9AC4E",
                                    "8": "2005-11-01 00:00:00.0000000"
                                },
                                {
                                    "0": "988",
                                    "1": "482505 Warm Springs Blvd.",
                                    "2": "NULL",
                                    "3": "Fremont",
                                    "4": "California",
                                    "5": "United States",
                                    "6": "94536",
                                    "7": "CD6D22B0-D941-4928-B6F7-1508021E6539",
                                    "8": "2006-09-01 00:00:00.0000000"
                                },
                                {
                                    "0": "603",
                                    "1": "9500b E. Central Texas Expressway",
                                    "2": "NULL",
                                    "3": "Killeen",
                                    "4": "Texas",
                                    "5": "United States",
                                    "6": "76541",
                                    "7": "0E6E9E86-A637-4FD5-A945-AC342BFD715B",
                                    "8": "2007-08-01 00:00:00.0000000"
                                },
                                {
                                    "0": "1027",
                                    "1": "409 Santa Monica Blvd.",
                                    "2": "NULL",
                                    "3": "Santa Monica",
                                    "4": "California",
                                    "5": "United States",
                                    "6": "90401",
                                    "7": "58D58E3E-BF3E-4E0C-8F96-1717821E3516",
                                    "8": "2006-09-01 00:00:00.0000000"
                                },
                                {
                                    "0": "834",
                                    "1": "99300 223rd Southeast",
                                    "2": "NULL",
                                    "3": "Bothell",
                                    "4": "Washington",
                                    "5": "United States",
                                    "6": "98011",
                                    "7": "D505AEA8-B89A-41ED-90A9-44D4179EFF77",
                                    "8": "2007-04-01 00:00:00.0000000"
                                },
                                {
                                    "0": "1073",
                                    "1": "3065 Santa Margarita Parkway",
                                    "2": "NULL",
                                    "3": "Trabuco Canyon",
                                    "4": "California",
                                    "5": "United States",
                                    "6": "92679",
                                    "7": "C5C0801F-F124-4A5E-B8BA-0ACE3BF0F993",
                                    "8": "2005-07-01 00:00:00.0000000"
                                },
                                {
                                    "0": "1045",
                                    "1": "Nut Tree Factory",
                                    "2": "NULL",
                                    "3": "Vacaville",
                                    "4": "California",
                                    "5": "United States",
                                    "6": "95688",
                                    "7": "EB58EEBB-3F55-45D1-9702-EDDACCD687E2",
                                    "8": "2005-08-01 00:00:00.0000000"
                                },
                                {
                                    "0": "1056",
                                    "1": "Lake Elisnor Place",
                                    "2": "NULL",
                                    "3": "Lake Elsinore",
                                    "4": "California",
                                    "5": "United States",
                                    "6": "92530",
                                    "7": "596345C5-0BE2-444D-BA93-D109713BC0B6",
                                    "8": "2005-08-01 00:00:00.0000000"
                                },
                                {
                                    "0": "785",
                                    "1": "399700 John R. Rd.",
                                    "2": "NULL",
                                    "3": "Madison Heights",
                                    "4": "Michigan",
                                    "5": "United States",
                                    "6": "48071",
                                    "7": "7B234147-CD95-45E8-A1D5-711FE6A33DAC",
                                    "8": "2005-08-01 00:00:00.0000000"
                                },
                                {
                                    "0": "562",
                                    "1": "2505 Gateway Drive",
                                    "2": "NULL",
                                    "3": "North Sioux City",
                                    "4": "South Dakota",
                                    "5": "United States",
                                    "6": "57049",
                                    "7": "57A5E455-526C-402A-BC5D-EE613BF58372",
                                    "8": "2005-08-01 00:00:00.0000000"
                                },
                                {
                                    "0": "890",
                                    "1": "Holiday Village Mall",
                                    "2": "NULL",
                                    "3": "Great Falls",
                                    "4": "Montana",
                                    "5": "United States",
                                    "6": "59401",
                                    "7": "5FE7C888-BB21-421E-9B8B-38DA8DA10085",
                                    "8": "2005-11-01 00:00:00.0000000"
                                },
                                {
                                    "0": "501",
                                    "1": "965 De La Gauchetiere West",
                                    "2": "NULL",
                                    "3": "Montreal",
                                    "4": "Quebec",
                                    "5": "Canada",
                                    "6": "H1Y 2H8",
                                    "7": "ACB9C033-18C6-4F02-975E-9C5226B96B72",
                                    "8": "2005-08-01 00:00:00.0000000"
                                },
                                {
                                    "0": "586",
                                    "1": "6030 Robinson Road",
                                    "2": "NULL",
                                    "3": "Jefferson City",
                                    "4": "Missouri",
                                    "5": "United States",
                                    "6": "65101",
                                    "7": "35B2FB0C-60EA-48F2-814A-F6813242858E",
                                    "8": "2005-09-01 00:00:00.0000000"
                                },
                                {
                                    "0": "899",
                                    "1": "North 93270 Newport Highway",
                                    "2": "NULL",
                                    "3": "Spokane",
                                    "4": "Washington",
                                    "5": "United States",
                                    "6": "99202",
                                    "7": "8AE1C168-958E-41DA-92D8-7A3A0765F744",
                                    "8": "2007-08-01 00:00:00.0000000"
                                },
                                {
                                    "0": "618",
                                    "1": "Blue Ridge Mall",
                                    "2": "NULL",
                                    "3": "Kansas City",
                                    "4": "Missouri",
                                    "5": "United States",
                                    "6": "64106",
                                    "7": "8612FBAD-3CE1-435B-BE0B-5A48DDBD2B62",
                                    "8": "2006-12-01 00:00:00.0000000"
                                },
                                {
                                    "0": "595",
                                    "1": "660 Lindbergh",
                                    "2": "NULL",
                                    "3": "Saint Louis",
                                    "4": "Missouri",
                                    "5": "United States",
                                    "6": "63103",
                                    "7": "012D17BA-C426-40C2-A9FD-85093E2CEB8A",
                                    "8": "2006-09-01 00:00:00.0000000"
                                },
                                {
                                    "0": "635",
                                    "1": "93-2501, Blackfriars Road,",
                                    "2": "NULL",
                                    "3": "London",
                                    "4": "England",
                                    "5": "United Kingdom",
                                    "6": "SE1 8HL",
                                    "7": "00E75F99-488C-462D-A0BC-AC3C08A9DB77",
                                    "8": "2006-09-01 00:00:00.0000000"
                                },
                                {
                                    "0": "1024",
                                    "1": "9952 E. Lohman Ave.",
                                    "2": "NULL",
                                    "3": "Las Cruces",
                                    "4": "New Mexico",
                                    "5": "United States",
                                    "6": "88001",
                                    "7": "42AF4B56-ECE2-4595-929D-FB60DB1392D9",
                                    "8": "2005-07-01 00:00:00.0000000"
                                },
                                {
                                    "0": "503",
                                    "1": "P.O. Box 44000",
                                    "2": "NULL",
                                    "3": "Winnipeg",
                                    "4": "Manitoba",
                                    "5": "Canada",
                                    "6": "R3",
                                    "7": "C4F3E274-13E1-4A99-8FD3-2C7D3D1EE5A1",
                                    "8": "2005-08-01 00:00:00.0000000"
                                },
                                {
                                    "0": "849",
                                    "1": "4251 First Avenue",
                                    "2": "NULL",
                                    "3": "Seattle",
                                    "4": "Washington",
                                    "5": "United States",
                                    "6": "98104",
                                    "7": "A077368B-26BF-41B7-B35F-FC380092E6B9",
                                    "8": "2005-07-01 00:00:00.0000000"
                                },
                                {
                                    "0": "1021",
                                    "1": "440 West Huntington Dr.",
                                    "2": "NULL",
                                    "3": "Monrovia",
                                    "4": "California",
                                    "5": "United States",
                                    "6": "91016",
                                    "7": "2AE4D8C2-6D11-4945-A032-430DC8CE5B1B",
                                    "8": "2005-07-01 00:00:00.0000000"
                                },
                                {
                                    "0": "550",
                                    "1": "2520 Flanders Road",
                                    "2": "NULL",
                                    "3": "Toronto",
                                    "4": "Ontario",
                                    "5": "Canada",
                                    "6": "M4B 1V4",
                                    "7": "A1D478E6-76DA-445F-A924-0B5DEE3C7CBB",
                                    "8": "2006-08-01 00:00:00.0000000"
                                },
                                {
                                    "0": "646",
                                    "1": "Butterfield Hse, 7-251 Chapel St",
                                    "2": "NULL",
                                    "3": "Lancaster",
                                    "4": "England",
                                    "5": "United Kingdom",
                                    "6": "LA1 1LN",
                                    "7": "BCE1F4B3-A9C0-413E-AC8D-4C07A960E26C",
                                    "8": "2006-08-01 00:00:00.0000000"
                                },
                                {
                                    "0": "644",
                                    "1": "Bradford",
                                    "2": "Raven House, Kingsgate",
                                    "3": "W. York",
                                    "4": "England",
                                    "5": "United Kingdom",
                                    "6": "BD1 4SJ",
                                    "7": "65684E2E-D39C-4EF7-80D8-86C2F576C3C2",
                                    "8": "2007-08-01 00:00:00.0000000"
                                },
                                {
                                    "0": "471",
                                    "1": "770 Notre Datme Quest Bureau 800",
                                    "2": "NULL",
                                    "3": "Montreal",
                                    "4": "Quebec",
                                    "5": "Canada",
                                    "6": "H1Y 2H7",
                                    "7": "5EDA011D-31D1-4DFB-A78C-397B6335F85B",
                                    "8": "2005-09-01 00:00:00.0000000"
                                },
                                {
                                    "0": "1044",
                                    "1": "Ontario Mills",
                                    "2": "NULL",
                                    "3": "Ontario",
                                    "4": "California",
                                    "5": "United States",
                                    "6": "91764",
                                    "7": "C66B86D8-BDFC-4161-9CBF-9A46D5F57B91",
                                    "8": "2007-07-01 00:00:00.0000000"
                                },
                                {
                                    "0": "1035",
                                    "1": "Vista Marketplace",
                                    "2": "NULL",
                                    "3": "Alhambra",
                                    "4": "California",
                                    "5": "United States",
                                    "6": "91801",
                                    "7": "7795FCDF-76C3-4627-86B2-0291398868DE",
                                    "8": "2006-09-01 00:00:00.0000000"
                                },
                                {
                                    "0": "1029",
                                    "1": "Topanga Plaza",
                                    "2": "NULL",
                                    "3": "Canoga Park",
                                    "4": "California",
                                    "5": "United States",
                                    "6": "91303",
                                    "7": "0B945127-9C6F-47A1-80E4-2FB0E057FA55",
                                    "8": "2007-07-01 00:00:00.0000000"
                                },
                                {
                                    "0": "836",
                                    "1": "35525-9th Street Sw",
                                    "2": "NULL",
                                    "3": "Puyallup",
                                    "4": "Washington",
                                    "5": "United States",
                                    "6": "98371",
                                    "7": "77232D41-48BB-4C8D-8323-5581753E9531",
                                    "8": "2006-09-01 00:00:00.0000000"
                                },
                                {
                                    "0": "862",
                                    "1": "3307 Evergreen Blvd",
                                    "2": "Ste 1071",
                                    "3": "Washougal",
                                    "4": "Washington",
                                    "5": "United States",
                                    "6": "98671",
                                    "7": "0C81CBD2-96D3-40C1-97D4-056D776B7676",
                                    "8": "2005-11-01 00:00:00.0000000"
                                },
                                {
                                    "0": "569",
                                    "1": "Sapp Road West",
                                    "2": "NULL",
                                    "3": "Round Rock",
                                    "4": "Texas",
                                    "5": "United States",
                                    "6": "78664",
                                    "7": "B7EA2783-866E-4AD9-945C-914B674AD2CD",
                                    "8": "2005-09-01 00:00:00.0000000"
                                },
                                {
                                    "0": "1014",
                                    "1": "25136 Jefferson Blvd.",
                                    "2": "NULL",
                                    "3": "Culver City",
                                    "4": "California",
                                    "5": "United States",
                                    "6": "90232",
                                    "7": "05196D3F-F726-4AB9-A66B-AF87500846AD",
                                    "8": "2006-09-01 00:00:00.0000000"
                                },
                                {
                                    "0": "572",
                                    "1": "P.O. Box 6256916",
                                    "2": "NULL",
                                    "3": "Dallas",
                                    "4": "Texas",
                                    "5": "United States",
                                    "6": "75201",
                                    "7": "206E0FF7-E120-4845-ACB4-A4443EBF6429",
                                    "8": "2007-09-01 00:00:00.0000000"
                                },
                                {
                                    "0": "568",
                                    "1": "25269 N. Wood Dale Rd",
                                    "2": "NULL",
                                    "3": "Wood Dale",
                                    "4": "Illinois",
                                    "5": "United States",
                                    "6": "60191",
                                    "7": "E863927D-49FB-47AB-9CA6-A5F36D082B66",
                                    "8": "2005-09-01 00:00:00.0000000"
                                },
                                {
                                    "0": "851",
                                    "1": "994 Sw Cherry Park Rd",
                                    "2": "NULL",
                                    "3": "Troutdale",
                                    "4": "Oregon",
                                    "5": "United States",
                                    "6": "97060",
                                    "7": "FCDE15FF-85D3-4136-9FB6-EA493F39605E",
                                    "8": "2005-08-01 00:00:00.0000000"
                                },
                                {
                                    "0": "491",
                                    "1": "20225 Lansing Ave",
                                    "2": "NULL",
                                    "3": "Montreal",
                                    "4": "Quebec",
                                    "5": "Canada",
                                    "6": "H1Y 2H7",
                                    "7": "A9B5A261-2463-4489-9951-EACFA29A8231",
                                    "8": "2007-09-01 00:00:00.0000000"
                                },
                                {
                                    "0": "1052",
                                    "1": "San Diego Factory",
                                    "2": "NULL",
                                    "3": "San Ysidro",
                                    "4": "California",
                                    "5": "United States",
                                    "6": "92173",
                                    "7": "8C3CFF8C-3A5D-419A-8DD8-3349C29AA3FD",
                                    "8": "2005-08-01 00:00:00.0000000"
                                },
                                {
                                    "0": "521",
                                    "1": "55 Standish Court",
                                    "2": "NULL",
                                    "3": "Mississauga",
                                    "4": "Ontario",
                                    "5": "Canada",
                                    "6": "L5B 3V4",
                                    "7": "97C329E2-FA67-4478-AA7B-78A8DEECF7CA",
                                    "8": "2006-09-01 00:00:00.0000000"
                                },
                                {
                                    "0": "866",
                                    "1": "2528 Meridian E",
                                    "2": "NULL",
                                    "3": "Puyallup",
                                    "4": "Washington",
                                    "5": "United States",
                                    "6": "98371",
                                    "7": "5668E02C-16FA-4331-8603-29EE11417843",
                                    "8": "2007-08-01 00:00:00.0000000"
                                },
                                {
                                    "0": "524",
                                    "1": "9693 Louis H Lafontaine",
                                    "2": "NULL",
                                    "3": "Ville De'anjou",
                                    "4": "Quebec",
                                    "5": "Canada",
                                    "6": "J1G 2R3",
                                    "7": "ACC21BD9-FB1B-4764-941B-2FB98AA4EB27",
                                    "8": "2006-08-01 00:00:00.0000000"
                                },
                                {
                                    "0": "672",
                                    "1": "99 Dean Street, Soho",
                                    "2": "NULL",
                                    "3": "London",
                                    "4": "England",
                                    "5": "United Kingdom",
                                    "6": "W1V 5RN",
                                    "7": "ECEBD4B1-11C3-4681-A6DA-2F73148FB63E",
                                    "8": "2006-09-01 00:00:00.0000000"
                                },
                                {
                                    "0": "11382",
                                    "1": "99 Front Street",
                                    "2": "NULL",
                                    "3": "Minneapolis",
                                    "4": "Minnesota",
                                    "5": "United States",
                                    "6": "55402",
                                    "7": "878660A8-A9FE-4EF8-8D2D-53C614C6F042",
                                    "8": "2005-08-01 00:00:00.0000000"
                                },
                                {
                                    "0": "660",
                                    "1": "6 The Farm, Liberty Road",
                                    "2": "NULL",
                                    "3": "Maidenhead",
                                    "4": "England",
                                    "5": "United Kingdom",
                                    "6": "SL67RJ",
                                    "7": "E22D616B-EA06-48E9-A00F-B1C4BB02F595",
                                    "8": "2007-09-01 00:00:00.0000000"
                                },
                                {
                                    "0": "624",
                                    "1": "Factory Merchants",
                                    "2": "NULL",
                                    "3": "Branson",
                                    "4": "Missouri",
                                    "5": "United States",
                                    "6": "65616",
                                    "7": "DC707744-912B-4E7A-945A-1B959168DC94",
                                    "8": "2007-02-01 00:00:00.0000000"
                                },
                                {
                                    "0": "1057",
                                    "1": "Norwalk Square",
                                    "2": "NULL",
                                    "3": "Norwalk",
                                    "4": "California",
                                    "5": "United States",
                                    "6": "90650",
                                    "7": "CCCE93BE-AB0B-4211-8407-5BE45034534C",
                                    "8": "2005-09-01 00:00:00.0000000"
                                },
                                {
                                    "0": "665",
                                    "1": "46-44 Albemarle Street",
                                    "2": "NULL",
                                    "3": "London",
                                    "4": "England",
                                    "5": "United Kingdom",
                                    "6": "W1X3SE",
                                    "7": "1B01B172-96CE-4601-AD19-F545DCDFD62F",
                                    "8": "2007-08-01 00:00:00.0000000"
                                },
                                {
                                    "0": "591",
                                    "1": "48255 I-10 E. @ Eastpoint Blvd.",
                                    "2": "NULL",
                                    "3": "Baytown",
                                    "4": "Texas",
                                    "5": "United States",
                                    "6": "77520",
                                    "7": "8D604CA1-2F01-46C1-9041-39915144B446",
                                    "8": "2006-09-01 00:00:00.0000000"
                                },
                                {
                                    "0": "654",
                                    "1": "308-3250 Casting Road",
                                    "2": "NULL",
                                    "3": "York",
                                    "4": "England",
                                    "5": "United Kingdom",
                                    "6": "Y024 1GF",
                                    "7": "9D67C322-8698-440A-8F3E-5E1E30EDBD0D",
                                    "8": "2007-08-01 00:00:00.0000000"
                                },
                                {
                                    "0": "1019",
                                    "1": "4660 Rodeo Road",
                                    "2": "NULL",
                                    "3": "Santa Fe",
                                    "4": "New Mexico",
                                    "5": "United States",
                                    "6": "87501",
                                    "7": "4FE824C1-F1BC-48B6-A4FD-6B866D0D07C8",
                                    "8": "2007-09-01 00:00:00.0000000"
                                },
                                {
                                    "0": "838",
                                    "1": "25300 Biddle Road",
                                    "2": "NULL",
                                    "3": "Medford",
                                    "4": "Oregon",
                                    "5": "United States",
                                    "6": "97504",
                                    "7": "349CBAB0-E4E3-40B2-AC50-3EA087110F8B",
                                    "8": "2007-09-01 00:00:00.0000000"
                                },
                                {
                                    "0": "620",
                                    "1": "Horizon Outlet",
                                    "2": "NULL",
                                    "3": "Woodbury",
                                    "4": "Minnesota",
                                    "5": "United States",
                                    "6": "55125",
                                    "7": "70080B27-59BD-4BA1-84D2-68204B304D70",
                                    "8": "2005-09-01 00:00:00.0000000"
                                },
                                {
                                    "0": "1008",
                                    "1": "910 Main Street.",
                                    "2": "NULL",
                                    "3": "Sparks",
                                    "4": "Nevada",
                                    "5": "United States",
                                    "6": "89431",
                                    "7": "F12C6F58-6095-47D4-9FA0-21A639B90DB9",
                                    "8": "2006-08-01 00:00:00.0000000"
                                },
                                {
                                    "0": "543",
                                    "1": "6030 Conroy Road",
                                    "2": "NULL",
                                    "3": "Ottawa",
                                    "4": "Ontario",
                                    "5": "Canada",
                                    "6": "K4B 1S3",
                                    "7": "AA8F3ECB-C454-448B-B774-FF9CDF01E629",
                                    "8": "2006-09-01 00:00:00.0000000"
                                },
                                {
                                    "0": "1061",
                                    "1": "Eastern Beltway Center",
                                    "2": "NULL",
                                    "3": "Las Vegas",
                                    "4": "Nevada",
                                    "5": "United States",
                                    "6": "89106",
                                    "7": "84603598-F6D4-4E26-9B9E-6A468365D4D8",
                                    "8": "2005-12-01 00:00:00.0000000"
                                },
                                {
                                    "0": "857",
                                    "1": "7990 Ocean Beach Hwy.",
                                    "2": "NULL",
                                    "3": "Longview",
                                    "4": "Washington",
                                    "5": "United States",
                                    "6": "98632",
                                    "7": "873D03B3-E2EF-4B8B-ADD8-F237FDC7FE31",
                                    "8": "2005-08-01 00:00:00.0000000"
                                },
                                {
                                    "0": "1018",
                                    "1": "630 N. Capitol Ave.",
                                    "2": "NULL",
                                    "3": "San Jose",
                                    "4": "California",
                                    "5": "United States",
                                    "6": "95112",
                                    "7": "ACEB7A03-C8E6-43F6-94F2-266E571BD413",
                                    "8": "2007-07-01 00:00:00.0000000"
                                },
                                {
                                    "0": "531",
                                    "1": "5th Floor, 79 Place D'armes",
                                    "2": "NULL",
                                    "3": "Kingston",
                                    "4": "Ontario",
                                    "5": "Canada",
                                    "6": "7L",
                                    "7": "F6FB5F79-C5FA-4A7C-8D75-6E9243360308",
                                    "8": "2006-11-01 00:00:00.0000000"
                                },
                                {
                                    "0": "185",
                                    "1": "2681 Eagle Peak",
                                    "2": "NULL",
                                    "3": "Bellevue",
                                    "4": "Washington",
                                    "5": "United States",
                                    "6": "98004",
                                    "7": "7BCCF442-2268-46CC-8472-14C44C14E98C",
                                    "8": "2006-09-01 00:00:00.0000000"
                                },
                                {
                                    "0": "863",
                                    "1": "2507 Pacific Ave S",
                                    "2": "NULL",
                                    "3": "Tacoma",
                                    "4": "Washington",
                                    "5": "United States",
                                    "6": "98403",
                                    "7": "FBAC273F-934E-474F-9CCB-F96CA9AE889D",
                                    "8": "2005-09-01 00:00:00.0000000"
                                },
                                {
                                    "0": "835",
                                    "1": "259826 Russell Rd. South",
                                    "2": "NULL",
                                    "3": "Kent",
                                    "4": "Washington",
                                    "5": "United States",
                                    "6": "98031",
                                    "7": "5D3832B3-72DD-4A9B-A596-8293D4037C18",
                                    "8": "2005-09-01 00:00:00.0000000"
                                },
                                {
                                    "0": "810",
                                    "1": "Redford Plaza",
                                    "2": "NULL",
                                    "3": "Redford",
                                    "4": "Michigan",
                                    "5": "United States",
                                    "6": "48239",
                                    "7": "43E988F4-B82D-4424-A59F-43DD81F9016B",
                                    "8": "2005-07-01 00:00:00.0000000"
                                },
                                {
                                    "0": "515",
                                    "1": "9900 Ronson Drive",
                                    "2": "NULL",
                                    "3": "Etobicoke",
                                    "4": "Ontario",
                                    "5": "Canada",
                                    "6": "M9W 3P3",
                                    "7": "42242712-6DD2-423F-9B89-C953454E3B09",
                                    "8": "2006-07-01 00:00:00.0000000"
                                },
                                {
                                    "0": "472",
                                    "1": "250551 Shellbridge Way",
                                    "2": "NULL",
                                    "3": "Richmond",
                                    "4": "British Columbia",
                                    "5": "Canada",
                                    "6": "V6B 3P7",
                                    "7": "1A6A1A7B-E208-473D-A8F4-14A89D06FAD2",
                                    "8": "2005-09-01 00:00:00.0000000"
                                },
                                {
                                    "0": "612",
                                    "1": "Ring Plaza",
                                    "2": "NULL",
                                    "3": "Norridge",
                                    "4": "Illinois",
                                    "5": "United States",
                                    "6": "60706",
                                    "7": "60AB96A4-26F6-439C-9F32-238BD16B293F",
                                    "8": "2006-09-01 00:00:00.0000000"
                                },
                                {
                                    "0": "885",
                                    "1": "755 Columbia Ctr Blvd",
                                    "2": "NULL",
                                    "3": "Kennewick",
                                    "4": "Washington",
                                    "5": "United States",
                                    "6": "99337",
                                    "7": "F3B58620-4857-44A0-9C48-51F21C1CA0C8",
                                    "8": "2007-09-01 00:00:00.0000000"
                                },
                                {
                                    "0": "602",
                                    "1": "6425 Nw Loop 410",
                                    "2": "NULL",
                                    "3": "San Antonio",
                                    "4": "Texas",
                                    "5": "United States",
                                    "6": "78204",
                                    "7": "6241806C-C9CC-46AA-A91F-B663C7E0C8BB",
                                    "8": "2006-09-01 00:00:00.0000000"
                                },
                                {
                                    "0": "1025",
                                    "1": "2530 South Colorado Blvd.",
                                    "2": "NULL",
                                    "3": "Denver",
                                    "4": "Colorado",
                                    "5": "United States",
                                    "6": "80203",
                                    "7": "012EF479-5DAD-4009-B456-24E47CA1F472",
                                    "8": "2005-09-01 00:00:00.0000000"
                                },
                                {
                                    "0": "902",
                                    "1": "950 Gateway Street",
                                    "2": "NULL",
                                    "3": "Springfield",
                                    "4": "Oregon",
                                    "5": "United States",
                                    "6": "97477",
                                    "7": "E8BEECAF-8668-4D53-97E8-405BC6978DEF",
                                    "8": "2006-09-01 00:00:00.0000000"
                                },
                                {
                                    "0": "1075",
                                    "1": "5525 South Hover Road",
                                    "2": "NULL",
                                    "3": "Longmont",
                                    "4": "Colorado",
                                    "5": "United States",
                                    "6": "80501",
                                    "7": "E5FA71B3-685A-4D11-BC0C-E4AA69CD4DED",
                                    "8": "2006-07-01 00:00:00.0000000"
                                },
                                {
                                    "0": "1036",
                                    "1": "Sports Store At Park City",
                                    "2": "NULL",
                                    "3": "Park City",
                                    "4": "Utah",
                                    "5": "United States",
                                    "6": "84098",
                                    "7": "A04EC332-1120-4AC3-837E-97EFC40636B2",
                                    "8": "2005-09-01 00:00:00.0000000"
                                },
                                {
                                    "0": "466",
                                    "1": "655-4th Ave S.W.",
                                    "2": "NULL",
                                    "3": "Calgary",
                                    "4": "Alberta",
                                    "5": "Canada",
                                    "6": "T2P 2G8",
                                    "7": "09C5F0BA-7128-4455-832D-0DF587248A5A",
                                    "8": "2005-08-01 00:00:00.0000000"
                                },
                                {
                                    "0": "601",
                                    "1": "6996 South Lindbergh",
                                    "2": "NULL",
                                    "3": "Saint Louis",
                                    "4": "Missouri",
                                    "5": "United States",
                                    "6": "63103",
                                    "7": "A8F4D544-A137-4775-B6C9-7C85A12A4DDC",
                                    "8": "2006-08-01 00:00:00.0000000"
                                },
                                {
                                    "0": "613",
                                    "1": "Lakeline Mall",
                                    "2": "NULL",
                                    "3": "Cedar Park",
                                    "4": "Texas",
                                    "5": "United States",
                                    "6": "78613",
                                    "7": "D26F02D6-326A-4088-B9EE-D441DFDFA1DF",
                                    "8": "2006-09-01 00:00:00.0000000"
                                },
                                {
                                    "0": "535",
                                    "1": "250 Kingsbridge Garden Circle",
                                    "2": "NULL",
                                    "3": "Mississauga",
                                    "4": "Ontario",
                                    "5": "Canada",
                                    "6": "L5B 3V4",
                                    "7": "9771494E-9053-40F2-84A5-E0D108DEEFED",
                                    "8": "2005-11-01 00:00:00.0000000"
                                },
                                {
                                    "0": "880",
                                    "1": "S Sound Ctr Suite 25300",
                                    "2": "NULL",
                                    "3": "Lacey",
                                    "4": "Washington",
                                    "5": "United States",
                                    "6": "98503",
                                    "7": "3A400497-1000-4D9F-BB8D-D9CBF00C2822",
                                    "8": "2005-08-01 00:00:00.0000000"
                                },
                                {
                                    "0": "991",
                                    "1": "60025 Bollinger Canyon Road",
                                    "2": "NULL",
                                    "3": "San Ramon",
                                    "4": "California",
                                    "5": "United States",
                                    "6": "94583",
                                    "7": "962A4D00-C5AA-41CC-B7BC-2AFBE2FA65B8",
                                    "8": "2006-09-01 00:00:00.0000000"
                                },
                                {
                                    "0": "453",
                                    "1": "6333 Cote Vertu",
                                    "2": "NULL",
                                    "3": "Montreal",
                                    "4": "Quebec",
                                    "5": "Canada",
                                    "6": "H1Y 2H7",
                                    "7": "355681F2-4D9D-4522-BFA0-105BE64394D8",
                                    "8": "2007-09-01 00:00:00.0000000"
                                },
                                {
                                    "0": "1079",
                                    "1": "25150 El Camino Real",
                                    "2": "NULL",
                                    "3": "San Bruno",
                                    "4": "California",
                                    "5": "United States",
                                    "6": "94066",
                                    "7": "9F1BC24E-66F2-41E2-94A2-D1001C050BB4",
                                    "8": "2005-09-01 00:00:00.0000000"
                                },
                                {
                                    "0": "605",
                                    "1": "7760 N. Pan Am Expwy",
                                    "2": "NULL",
                                    "3": "San Antonio",
                                    "4": "Texas",
                                    "5": "United States",
                                    "6": "78204",
                                    "7": "6C3DA38C-887D-410C-B022-8F2BF2DB3339",
                                    "8": "2005-09-01 00:00:00.0000000"
                                },
                                {
                                    "0": "553",
                                    "1": "253131 Lake Frasier Drive, Office No. 2",
                                    "2": "NULL",
                                    "3": "Calgary",
                                    "4": "Alberta",
                                    "5": "Canada",
                                    "6": "T2P 2G8",
                                    "7": "EF7B5BD3-3A04-4A09-A0D2-02B98E3333DC",
                                    "8": "2005-08-01 00:00:00.0000000"
                                },
                                {
                                    "0": "645",
                                    "1": "Garamonde Drive, Wymbush",
                                    "2": "P.O. Box 803",
                                    "3": "Milton Keynes",
                                    "4": "England",
                                    "5": "United Kingdom",
                                    "6": "MK8 8ZD",
                                    "7": "6EF999E7-5510-4B02-B89E-DDCF51AE3864",
                                    "8": "2007-07-01 00:00:00.0000000"
                                },
                                {
                                    "0": "891",
                                    "1": "2526a Tri-Lake Blvd Ne",
                                    "2": "NULL",
                                    "3": "Kirkland",
                                    "4": "Washington",
                                    "5": "United States",
                                    "6": "98033",
                                    "7": "EC34E865-D130-403F-A437-D92D7EF02F05",
                                    "8": "2005-12-01 00:00:00.0000000"
                                },
                                {
                                    "0": "585",
                                    "1": "Noah Lane",
                                    "2": "NULL",
                                    "3": "Chicago",
                                    "4": "Illinois",
                                    "5": "United States",
                                    "6": "60610",
                                    "7": "E9408FBB-1C28-4923-9D85-2DFADB3B4B6B",
                                    "8": "2006-08-01 00:00:00.0000000"
                                },
                                {
                                    "0": "9",
                                    "1": "8713 Yosemite Ct.",
                                    "2": "NULL",
                                    "3": "Bothell",
                                    "4": "Washington",
                                    "5": "United States",
                                    "6": "98011",
                                    "7": "268AF621-76D7-4C78-9441-144FD139821A",
                                    "8": "2006-07-01 00:00:00.0000000"
                                },
                                {
                                    "0": "1093",
                                    "1": "7750 E Marching Rd",
                                    "2": "NULL",
                                    "3": "Scottsdale",
                                    "4": "Arizona",
                                    "5": "United States",
                                    "6": "85257",
                                    "7": "F181458A-B5A3-4944-B7B1-73DCAD67C14E",
                                    "8": "2007-08-01 00:00:00.0000000"
                                },
                                {
                                    "0": "473",
                                    "1": "595 Burning Street",
                                    "2": "NULL",
                                    "3": "Vancouver",
                                    "4": "British Columbia",
                                    "5": "Canada",
                                    "6": "V7L 4J4",
                                    "7": "0EC83A85-137E-4CF3-B13D-3926277698B2",
                                    "8": "2005-09-01 00:00:00.0000000"
                                },
                                {
                                    "0": "1043",
                                    "1": "Hanford Mall",
                                    "2": "NULL",
                                    "3": "Hanford",
                                    "4": "California",
                                    "5": "United States",
                                    "6": "93230",
                                    "7": "F4F57D92-1839-49F4-A491-63F43215AAF1",
                                    "8": "2005-12-01 00:00:00.0000000"
                                },
                                {
                                    "0": "622",
                                    "1": "Management Mall",
                                    "2": "NULL",
                                    "3": "San Antonio",
                                    "4": "Texas",
                                    "5": "United States",
                                    "6": "78204",
                                    "7": "E82D1276-E19A-4FAD-90F5-7E19AF94EA64",
                                    "8": "2006-03-01 00:00:00.0000000"
                                },
                                {
                                    "0": "1038",
                                    "1": "123 Camelia Avenue",
                                    "2": "NULL",
                                    "3": "Oxnard",
                                    "4": "California",
                                    "5": "United States",
                                    "6": "93030",
                                    "7": "A86C8140-AD7D-4CAA-9B40-4006BD9998E2",
                                    "8": "2007-09-01 00:00:00.0000000"
                                },
                                {
                                    "0": "527",
                                    "1": "252851 Rowan Place",
                                    "2": "NULL",
                                    "3": "Richmond",
                                    "4": "British Columbia",
                                    "5": "Canada",
                                    "6": "V6B 3P7",
                                    "7": "11EAEE50-8A14-4B81-951E-86701B6F60C0",
                                    "8": "2006-09-01 00:00:00.0000000"
                                },
                                {
                                    "0": "538",
                                    "1": "25 Danger Street West",
                                    "2": "Floor 7",
                                    "3": "Toronto",
                                    "4": "Ontario",
                                    "5": "Canada",
                                    "6": "M4B 1V5",
                                    "7": "10B2404C-F0AF-409C-AF5D-0218BEB03D0D",
                                    "8": "2007-08-01 00:00:00.0000000"
                                },
                                {
                                    "0": "1039",
                                    "1": "Mountain Square",
                                    "2": "NULL",
                                    "3": "Upland",
                                    "4": "California",
                                    "5": "United States",
                                    "6": "91786",
                                    "7": "8F1BDC33-0BFB-41D0-BB85-71AAFE6126E7",
                                    "8": "2006-09-01 00:00:00.0000000"
                                },
                                {
                                    "0": "625",
                                    "1": "Cedar Creek Stores",
                                    "2": "NULL",
                                    "3": "Mosinee",
                                    "4": "Wisconsin",
                                    "5": "United States",
                                    "6": "54455",
                                    "7": "2E6E124E-BB43-4D40-8515-82DDA7994BD4",
                                    "8": "2007-08-01 00:00:00.0000000"
                                },
                                {
                                    "0": "852",
                                    "1": "25718 Se Sunnyside Rd",
                                    "2": "NULL",
                                    "3": "Clackamas",
                                    "4": "Oregon",
                                    "5": "United States",
                                    "6": "97015-6403",
                                    "7": "E85AC59F-59B6-4ED2-9436-FCDB78959B80",
                                    "8": "2007-08-01 00:00:00.0000000"
                                },
                                {
                                    "0": "989",
                                    "1": "39933 Mission Oaks Blvd",
                                    "2": "NULL",
                                    "3": "Camarillo",
                                    "4": "California",
                                    "5": "United States",
                                    "6": "93010",
                                    "7": "8B1241CA-1DB6-4F9D-861E-1D6CC3796443",
                                    "8": "2007-09-01 00:00:00.0000000"
                                },
                                {
                                    "0": "882",
                                    "1": "Medford",
                                    "2": "NULL",
                                    "3": "Medford",
                                    "4": "Oregon",
                                    "5": "United States",
                                    "6": "97504",
                                    "7": "DBC16BDD-C86D-4D5F-91F5-79FA000716FB",
                                    "8": "2007-07-01 00:00:00.0000000"
                                },
                                {
                                    "0": "649",
                                    "1": "Knaves Beech Ind.",
                                    "2": "NULL",
                                    "3": "High Wycombe",
                                    "4": "England",
                                    "5": "United Kingdom",
                                    "6": "HP10 9QY",
                                    "7": "11FCFF74-5C80-4B37-A842-45C765D96029",
                                    "8": "2007-09-01 00:00:00.0000000"
                                },
                                {
                                    "0": "873",
                                    "1": "44606 N Division St",
                                    "2": "NULL",
                                    "3": "Spokane",
                                    "4": "Washington",
                                    "5": "United States",
                                    "6": "99202",
                                    "7": "3438AFB3-390C-48D5-8CCF-5438278D981D",
                                    "8": "2007-08-01 00:00:00.0000000"
                                },
                                {
                                    "0": "614",
                                    "1": "Town East Center",
                                    "2": "NULL",
                                    "3": "Mesquite",
                                    "4": "Texas",
                                    "5": "United States",
                                    "6": "75149",
                                    "7": "7BA1AF96-5A8E-4259-835C-DA67DB296A5E",
                                    "8": "2006-09-01 00:00:00.0000000"
                                },
                                {
                                    "0": "673",
                                    "1": "Park House-4th Floor, 2516 Park St.",
                                    "2": "NULL",
                                    "3": "London",
                                    "4": "England",
                                    "5": "United Kingdom",
                                    "6": "W1Y 3RA",
                                    "7": "2506679E-041B-4D52-B9A9-07A0D5E88EEA",
                                    "8": "2006-08-01 00:00:00.0000000"
                                },
                                {
                                    "0": "1046",
                                    "1": "Rocky Mountain Pines Outlet",
                                    "2": "NULL",
                                    "3": "Loveland",
                                    "4": "Colorado",
                                    "5": "United States",
                                    "6": "80537",
                                    "7": "518E7219-193F-4D72-90C9-E82F201AFBE4",
                                    "8": "2005-08-01 00:00:00.0000000"
                                },
                                {
                                    "0": "1013",
                                    "1": "54254 Pacific Ave.",
                                    "2": "NULL",
                                    "3": "Stockton",
                                    "4": "California",
                                    "5": "United States",
                                    "6": "95202",
                                    "7": "7B82A39F-D175-4543-8F6F-AE6FE9C34A99",
                                    "8": "2006-08-01 00:00:00.0000000"
                                },
                                {
                                    "0": "514",
                                    "1": "63 West Beaver Creek",
                                    "2": "NULL",
                                    "3": "Richmond Hill",
                                    "4": "Ontario",
                                    "5": "Canada",
                                    "6": "L4E 3M5",
                                    "7": "AD60DBA9-3B01-47E9-BB5E-DF94D0579F14",
                                    "8": "2006-09-01 00:00:00.0000000"
                                },
                                {
                                    "0": "1090",
                                    "1": "25130 South State Street",
                                    "2": "NULL",
                                    "3": "Sandy",
                                    "4": "Utah",
                                    "5": "United States",
                                    "6": "84070",
                                    "7": "CF3AE92A-3E66-4AF0-B683-731826E89CD1",
                                    "8": "2007-09-01 00:00:00.0000000"
                                },
                                {
                                    "0": "475",
                                    "1": "2512-410th Avenue S.W.",
                                    "2": "NULL",
                                    "3": "Calgary",
                                    "4": "Alberta",
                                    "5": "Canada",
                                    "6": "T2P 2G8",
                                    "7": "EC6C99B9-61E2-4400-8180-208F5A6C7EFF",
                                    "8": "2007-09-01 00:00:00.0000000"
                                },
                                {
                                    "0": "1101",
                                    "1": "825 W 500 S",
                                    "2": "NULL",
                                    "3": "Bountiful",
                                    "4": "Utah",
                                    "5": "United States",
                                    "6": "84010",
                                    "7": "2E6D7491-E0A8-4C79-98CE-BAC61A07FB25",
                                    "8": "2006-10-01 00:00:00.0000000"
                                },
                                {
                                    "0": "448",
                                    "1": "2575 Bloor Street East",
                                    "2": "NULL",
                                    "3": "Toronto",
                                    "4": "Ontario",
                                    "5": "Canada",
                                    "6": "M4B 1V6",
                                    "7": "2DF6D0AD-0926-4F34-A450-9B1083150CBF",
                                    "8": "2007-08-01 00:00:00.0000000"
                                },
                                {
                                    "0": "512",
                                    "1": "700 Bureau Road",
                                    "2": "NULL",
                                    "3": "Montreal",
                                    "4": "Quebec",
                                    "5": "Canada",
                                    "6": "H1Y 2H7",
                                    "7": "963F514B-7752-46E8-9742-1FD40A68EA33",
                                    "8": "2007-09-01 00:00:00.0000000"
                                },
                                {
                                    "0": "465",
                                    "1": "25245 Rue Sherbrooke Ouest",
                                    "2": "NULL",
                                    "3": "Montreal",
                                    "4": "Quebec",
                                    "5": "Canada",
                                    "6": "H1Y 2H5",
                                    "7": "10EE8C14-2792-4F02-B83D-92511D20470F",
                                    "8": "2007-07-01 00:00:00.0000000"
                                },
                                {
                                    "0": "574",
                                    "1": "Po Box 8259024",
                                    "2": "NULL",
                                    "3": "Dallas",
                                    "4": "Texas",
                                    "5": "United States",
                                    "6": "75201",
                                    "7": "9794B438-2E91-4699-85DF-5FCF98210AC1",
                                    "8": "2006-09-01 00:00:00.0000000"
                                },
                                {
                                    "0": "589",
                                    "1": "One Dancing, Rr No. 25",
                                    "2": "Box 8033",
                                    "3": "Round Rock",
                                    "4": "Texas",
                                    "5": "United States",
                                    "6": "78664",
                                    "7": "A514F151-6B2D-452C-A983-D68AED9E112E",
                                    "8": "2005-09-01 00:00:00.0000000"
                                },
                                {
                                    "0": "1001",
                                    "1": "Incom Sports Center",
                                    "2": "NULL",
                                    "3": "Ontario",
                                    "4": "California",
                                    "5": "United States",
                                    "6": "91764",
                                    "7": "079E5DE8-169F-4EB6-BE75-813B40A0143E",
                                    "8": "2005-08-01 00:00:00.0000000"
                                },
                                {
                                    "0": "556",
                                    "1": "990th Floor 700 De La GauchetiSre Ou",
                                    "2": "NULL",
                                    "3": "Montreal",
                                    "4": "Quebec",
                                    "5": "Canada",
                                    "6": "H1Y 2H3",
                                    "7": "87846D7C-AB01-41C6-A4CC-FAD06D74D11B",
                                    "8": "2005-07-01 00:00:00.0000000"
                                },
                                {
                                    "0": "1004",
                                    "1": "25600 E St Andrews Pl",
                                    "2": "NULL",
                                    "3": "Santa Ana",
                                    "4": "California",
                                    "5": "United States",
                                    "6": "92701",
                                    "7": "489390E0-48C0-4BB4-A5DC-38C4B39EA833",
                                    "8": "2005-09-01 00:00:00.0000000"
                                },
                                {
                                    "0": "476",
                                    "1": "258 King Street East",
                                    "2": "NULL",
                                    "3": "Toronto",
                                    "4": "Ontario",
                                    "5": "Canada",
                                    "6": "M4B 1V7",
                                    "7": "90C770A5-A474-43D1-9A67-0F5DE336F9DC",
                                    "8": "2005-08-01 00:00:00.0000000"
                                },
                                {
                                    "0": "1105",
                                    "1": "566 S. Main",
                                    "2": "NULL",
                                    "3": "Cedar City",
                                    "4": "Utah",
                                    "5": "United States",
                                    "6": "84720",
                                    "7": "C16F92AB-817F-42D1-A560-BC0F86FE2783",
                                    "8": "2006-07-01 00:00:00.0000000"
                                },
                                {
                                    "0": "842",
                                    "1": "258101 Nw Evergreen Parkway",
                                    "2": "NULL",
                                    "3": "Beaverton",
                                    "4": "Oregon",
                                    "5": "United States",
                                    "6": "97005",
                                    "7": "EB5A214A-15A1-4E25-B405-DC0EF9907874",
                                    "8": "2005-09-01 00:00:00.0000000"
                                },
                                {
                                    "0": "900",
                                    "1": "25708 Dell Range Blvd.",
                                    "2": "NULL",
                                    "3": "Cheyenne",
                                    "4": "Wyoming",
                                    "5": "United States",
                                    "6": "82001",
                                    "7": "9B10FE3A-A1FB-497E-8BC2-E84E8C2A77DA",
                                    "8": "2005-07-01 00:00:00.0000000"
                                },
                                {
                                    "0": "505",
                                    "1": "6400, 888 - 3rd Avenue",
                                    "2": "NULL",
                                    "3": "Calgary",
                                    "4": "Alberta",
                                    "5": "Canada",
                                    "6": "T2P 2G8",
                                    "7": "A6EFF2B6-3B11-47EF-AB7E-701E5041C71C",
                                    "8": "2005-08-01 00:00:00.0000000"
                                },
                                {
                                    "0": "1077",
                                    "1": "7505 Laguna Boulevard",
                                    "2": "NULL",
                                    "3": "Elk Grove",
                                    "4": "California",
                                    "5": "United States",
                                    "6": "95624",
                                    "7": "B6213E39-9DA3-4423-8756-0B195ED95FB4",
                                    "8": "2005-11-01 00:00:00.0000000"
                                },
                                {
                                    "0": "592",
                                    "1": "9903 Highway 6 South",
                                    "2": "NULL",
                                    "3": "Houston",
                                    "4": "Texas",
                                    "5": "United States",
                                    "6": "77003",
                                    "7": "CE585616-C47C-4BD4-8D71-1755B6417770",
                                    "8": "2005-07-01 00:00:00.0000000"
                                },
                                {
                                    "0": "579",
                                    "1": "25 N State St",
                                    "2": "NULL",
                                    "3": "Chicago",
                                    "4": "Illinois",
                                    "5": "United States",
                                    "6": "60610",
                                    "7": "02D95901-41C1-4479-A04F-9FFB5A2675E3",
                                    "8": "2006-07-01 00:00:00.0000000"
                                },
                                {
                                    "0": "481",
                                    "1": "65 Gamelin Street",
                                    "2": "NULL",
                                    "3": "Hull",
                                    "4": "Quebec",
                                    "5": "Canada",
                                    "6": "8Y",
                                    "7": "F35E73BA-678F-4A0F-80BC-6385A7A6CB24",
                                    "8": "2006-08-01 00:00:00.0000000"
                                },
                                {
                                    "0": "1097",
                                    "1": "Corp Ofc Accts Payable",
                                    "2": "NULL",
                                    "3": "El Segundo",
                                    "4": "California",
                                    "5": "United States",
                                    "6": "90245",
                                    "7": "5F6D242F-DDA3-462C-BEC1-097C63913176",
                                    "8": "2005-09-01 00:00:00.0000000"
                                },
                                {
                                    "0": "775",
                                    "1": "46460 West Oaks Drive",
                                    "2": "NULL",
                                    "3": "Novi",
                                    "4": "Michigan",
                                    "5": "United States",
                                    "6": "48375",
                                    "7": "D0614A62-08E0-4F83-AC72-51F58170B653",
                                    "8": "2006-09-01 00:00:00.0000000"
                                },
                                {
                                    "0": "1058",
                                    "1": "Riverside",
                                    "2": "NULL",
                                    "3": "Sherman Oaks",
                                    "4": "California",
                                    "5": "United States",
                                    "6": "91403",
                                    "7": "A26100F0-511F-45A2-879A-FF365794FCF5",
                                    "8": "2007-09-01 00:00:00.0000000"
                                },
                                {
                                    "0": "1102",
                                    "1": "603 Gellert Blvd",
                                    "2": "NULL",
                                    "3": "Daly City",
                                    "4": "California",
                                    "5": "United States",
                                    "6": "94015",
                                    "7": "A8DCAD62-8678-458C-87EB-E2C2E550FF80",
                                    "8": "2005-12-01 00:00:00.0000000"
                                },
                                {
                                    "0": "897",
                                    "1": "705 SE Mall Parkway",
                                    "2": "NULL",
                                    "3": "Everett",
                                    "4": "Washington",
                                    "5": "United States",
                                    "6": "98201",
                                    "7": "77A34652-5D9B-40B6-A15A-56D7EE4056F4",
                                    "8": "2006-08-01 00:00:00.0000000"
                                },
                                {
                                    "0": "445",
                                    "1": "6388 Lake City Way",
                                    "2": "NULL",
                                    "3": "Burnaby",
                                    "4": "British Columbia",
                                    "5": "Canada",
                                    "6": "V5A 3A6",
                                    "7": "53572F25-9133-4A8B-A065-102FF35416EE",
                                    "8": "2006-09-01 00:00:00.0000000"
                                },
                                {
                                    "0": "520",
                                    "1": "6700 Boul Taschereau",
                                    "2": "NULL",
                                    "3": "Brossard",
                                    "4": "Quebec",
                                    "5": "Canada",
                                    "6": "J4Z 1C5",
                                    "7": "B730EAFF-5828-4C8C-86C1-9137F50FCA48",
                                    "8": "2005-09-01 00:00:00.0000000"
                                },
                                {
                                    "0": "499",
                                    "1": "Suite 2502 410 Albert Street",
                                    "2": "NULL",
                                    "3": "Waterloo",
                                    "4": "Ontario",
                                    "5": "Canada",
                                    "6": "N2V",
                                    "7": "44099B0E-03F3-447C-83BF-BE4BAA010A83",
                                    "8": "2006-08-01 00:00:00.0000000"
                                },
                                {
                                    "0": "858",
                                    "1": "2345 West Spencer Road",
                                    "2": "NULL",
                                    "3": "Lynnwood",
                                    "4": "Washington",
                                    "5": "United States",
                                    "6": "98036",
                                    "7": "68AEB59D-0F79-4A0D-92EF-4D0C2BEB5821",
                                    "8": "2006-09-01 00:00:00.0000000"
                                },
                                {
                                    "0": "901",
                                    "1": "No. 60 Bellis Fair Parkway",
                                    "2": "NULL",
                                    "3": "Bellingham",
                                    "4": "Washington",
                                    "5": "United States",
                                    "6": "98225",
                                    "7": "8135B5DC-F7E9-401C-992C-93A058ADA079",
                                    "8": "2007-09-01 00:00:00.0000000"
                                },
                                {
                                    "0": "1012",
                                    "1": "789 West Alameda",
                                    "2": "NULL",
                                    "3": "Westminster",
                                    "4": "Colorado",
                                    "5": "United States",
                                    "6": "80030",
                                    "7": "73BF97F3-E4E3-402D-8609-7839AEBAA947",
                                    "8": "2006-09-01 00:00:00.0000000"
                                },
                                {
                                    "0": "876",
                                    "1": "765 Delridge Way Sw",
                                    "2": "NULL",
                                    "3": "Seattle",
                                    "4": "Washington",
                                    "5": "United States",
                                    "6": "98104",
                                    "7": "CB1392F5-FCB9-4CF5-B4C9-33FAFB876C3D",
                                    "8": "2005-07-01 00:00:00.0000000"
                                },
                                {
                                    "0": "840",
                                    "1": "Great Northwestern",
                                    "2": "NULL",
                                    "3": "North Bend",
                                    "4": "Washington",
                                    "5": "United States",
                                    "6": "98045",
                                    "7": "1EF6E60F-3582-4298-A7AD-195BE59BA7B7",
                                    "8": "2005-08-01 00:00:00.0000000"
                                },
                                {
                                    "0": "517",
                                    "1": "2573 Dufferin Street",
                                    "2": "NULL",
                                    "3": "Toronto",
                                    "4": "Ontario",
                                    "5": "Canada",
                                    "6": "M4B 1V5",
                                    "7": "97605C5C-8309-44F2-9A98-C5A5709497FF",
                                    "8": "2005-07-01 00:00:00.0000000"
                                },
                                {
                                    "0": "468",
                                    "1": "Po Box 83270",
                                    "2": "NULL",
                                    "3": "Vancouver",
                                    "4": "British Columbia",
                                    "5": "Canada",
                                    "6": "V7L 4J4",
                                    "7": "C00A5DFF-B134-4900-9561-E67EEB425F9F",
                                    "8": "2007-08-01 00:00:00.0000000"
                                },
                                {
                                    "0": "801",
                                    "1": "Horizon Outlet Center",
                                    "2": "NULL",
                                    "3": "Holland",
                                    "4": "Michigan",
                                    "5": "United States",
                                    "6": "49423",
                                    "7": "DC15BA52-B66C-4C5F-BDAF-1713E8C54B46",
                                    "8": "2005-07-01 00:00:00.0000000"
                                },
                                {
                                    "0": "1026",
                                    "1": "955 E. County Line Rd.",
                                    "2": "NULL",
                                    "3": "Englewood",
                                    "4": "Colorado",
                                    "5": "United States",
                                    "6": "80110",
                                    "7": "17A96F13-8658-4F02-A557-2BC4463ADE21",
                                    "8": "2007-09-01 00:00:00.0000000"
                                },
                                {
                                    "0": "856",
                                    "1": "3025 E Waterway Blvd",
                                    "2": "NULL",
                                    "3": "Shelton",
                                    "4": "Washington",
                                    "5": "United States",
                                    "6": "98584",
                                    "7": "779D4F7D-C90C-4A8A-BF29-41613E8907EF",
                                    "8": "2006-11-01 00:00:00.0000000"
                                },
                                {
                                    "0": "774",
                                    "1": "9920 North Telegraph Rd.",
                                    "2": "NULL",
                                    "3": "Pontiac",
                                    "4": "Michigan",
                                    "5": "United States",
                                    "6": "48342",
                                    "7": "7BC77B2E-ED84-443A-BD50-F67718DEA95D",
                                    "8": "2005-09-01 00:00:00.0000000"
                                },
                                {
                                    "0": "756",
                                    "1": "855 East Main Avenue",
                                    "2": "NULL",
                                    "3": "Zeeland",
                                    "4": "Michigan",
                                    "5": "United States",
                                    "6": "49464",
                                    "7": "7CC420B7-B43C-4E40-98ED-6C10CEC91C54",
                                    "8": "2005-08-01 00:00:00.0000000"
                                },
                                {
                                    "0": "447",
                                    "1": "22580 Free Street",
                                    "2": "NULL",
                                    "3": "Toronto",
                                    "4": "Ontario",
                                    "5": "Canada",
                                    "6": "M4B 1V7",
                                    "7": "88CEE379-DBB8-433B-B84E-A35E09435500",
                                    "8": "2006-08-01 00:00:00.0000000"
                                },
                                {
                                    "0": "1099",
                                    "1": "62500 Neil Road",
                                    "2": "NULL",
                                    "3": "Reno",
                                    "4": "Nevada",
                                    "5": "United States",
                                    "6": "89502",
                                    "7": "BE51F10F-1A66-46E6-8154-9FE01597769C",
                                    "8": "2005-08-01 00:00:00.0000000"
                                },
                                {
                                    "0": "786",
                                    "1": "6789 Warren Road",
                                    "2": "NULL",
                                    "3": "Westland",
                                    "4": "Michigan",
                                    "5": "United States",
                                    "6": "48185",
                                    "7": "90B0CF86-70E1-45D8-B6FD-0E1804A734C2",
                                    "8": "2006-12-01 00:00:00.0000000"
                                },
                                {
                                    "0": "518",
                                    "1": "995 Crescent",
                                    "2": "NULL",
                                    "3": "Richmond Hill",
                                    "4": "Ontario",
                                    "5": "Canada",
                                    "6": "L4E 3M5",
                                    "7": "0B49022D-8B49-4CF6-B0A3-46231CD48441",
                                    "8": "2007-09-01 00:00:00.0000000"
                                },
                                {
                                    "0": "600",
                                    "1": "25095 W. Florissant",
                                    "2": "NULL",
                                    "3": "Ferguson",
                                    "4": "Missouri",
                                    "5": "United States",
                                    "6": "63135",
                                    "7": "1A51283C-12BB-462E-A1B8-A0039C18E6D8",
                                    "8": "2005-08-01 00:00:00.0000000"
                                },
                                {
                                    "0": "1005",
                                    "1": "6756 Mowry",
                                    "2": "NULL",
                                    "3": "Newark",
                                    "4": "California",
                                    "5": "United States",
                                    "6": "94560",
                                    "7": "CFB5ED2A-43FE-4102-8413-73C74DACC79E",
                                    "8": "2006-08-01 00:00:00.0000000"
                                },
                                {
                                    "0": "575",
                                    "1": "42500 W 76th St",
                                    "2": "NULL",
                                    "3": "Chicago",
                                    "4": "Illinois",
                                    "5": "United States",
                                    "6": "60610",
                                    "7": "CD335652-0913-40EA-9AE0-323066FC04F0",
                                    "8": "2006-09-01 00:00:00.0000000"
                                },
                                {
                                    "0": "536",
                                    "1": "No. 2000-25080 Beaver Hall Hill",
                                    "2": "NULL",
                                    "3": "Quebec",
                                    "4": "Quebec",
                                    "5": "Canada",
                                    "6": "G1R",
                                    "7": "0C38C439-4562-4E37-8F23-AFF2C9005C38",
                                    "8": "2006-09-01 00:00:00.0000000"
                                },
                                {
                                    "0": "533",
                                    "1": "4400 March Road",
                                    "2": "NULL",
                                    "3": "Kanata",
                                    "4": "Ontario",
                                    "5": "Canada",
                                    "6": "K2L 1H5",
                                    "7": "43484CD9-AD5B-41F4-A9CC-DDFBAC4B5AA5",
                                    "8": "2005-11-01 00:00:00.0000000"
                                },
                                {
                                    "0": "1065",
                                    "1": "Factory Stores Of America",
                                    "2": "NULL",
                                    "3": "Mesa",
                                    "4": "Arizona",
                                    "5": "United States",
                                    "6": "85201",
                                    "7": "1B96D3A3-ED06-482F-A813-7136E5AAA57D",
                                    "8": "2006-09-01 00:00:00.0000000"
                                },
                                {
                                    "0": "853",
                                    "1": "567 Sw Mcloughlin Blvd",
                                    "2": "NULL",
                                    "3": "Milwaukie",
                                    "4": "Oregon",
                                    "5": "United States",
                                    "6": "97222",
                                    "7": "055B060A-7DA2-455C-BCB3-A8DCEA4C5156",
                                    "8": "2007-09-01 00:00:00.0000000"
                                },
                                {
                                    "0": "450",
                                    "1": "575 Rue St Amable",
                                    "2": "NULL",
                                    "3": "Quebec",
                                    "4": "Quebec",
                                    "5": "Canada",
                                    "6": "G1R",
                                    "7": "5F3C345A-6475-41D5-B17B-DB8D27733BB1",
                                    "8": "2006-09-01 00:00:00.0000000"
                                },
                                {
                                    "0": "1063",
                                    "1": "Viejas Outlet Center",
                                    "2": "NULL",
                                    "3": "Alpine",
                                    "4": "California",
                                    "5": "United States",
                                    "6": "91901",
                                    "7": "4F8EC2C2-71D6-4B7F-BCC7-808E17696373",
                                    "8": "2007-09-01 00:00:00.0000000"
                                },
                                {
                                    "0": "1070",
                                    "1": "3250 Baldwin Park Blvd",
                                    "2": "NULL",
                                    "3": "Baldwin Park",
                                    "4": "California",
                                    "5": "United States",
                                    "6": "91706",
                                    "7": "957EC59C-7A7D-438E-9014-20FBEB807E99",
                                    "8": "2005-08-01 00:00:00.0000000"
                                },
                                {
                                    "0": "1092",
                                    "1": "99700 Bell Road",
                                    "2": "NULL",
                                    "3": "Auburn",
                                    "4": "California",
                                    "5": "United States",
                                    "6": "95603",
                                    "7": "79CDD89C-3C91-48DB-8277-46D04AAD7251",
                                    "8": "2006-09-01 00:00:00.0000000"
                                },
                                {
                                    "0": "657",
                                    "1": "Unit 99a Battery Retail Pk",
                                    "2": "NULL",
                                    "3": "Birmingham",
                                    "4": "England",
                                    "5": "United Kingdom",
                                    "6": "B29 6SL",
                                    "7": "371A70E0-5802-4DF9-BB28-5B6BDF202283",
                                    "8": "2006-08-01 00:00:00.0000000"
                                },
                                {
                                    "0": "879",
                                    "1": "Valley Mall",
                                    "2": "NULL",
                                    "3": "Union Gap",
                                    "4": "Washington",
                                    "5": "United States",
                                    "6": "98903",
                                    "7": "860CB49B-5774-441F-B8C5-753CA50FA5E1",
                                    "8": "2006-07-01 00:00:00.0000000"
                                },
                                {
                                    "0": "1060",
                                    "1": "Arcadia Crossing",
                                    "2": "NULL",
                                    "3": "Phoenix",
                                    "4": "Arizona",
                                    "5": "United States",
                                    "6": "85004",
                                    "7": "CC91297C-567B-4186-96C8-2BA6F0875E73",
                                    "8": "2006-07-01 00:00:00.0000000"
                                },
                                {
                                    "0": "487",
                                    "1": "9259 - 1110th Avenue Sw",
                                    "2": "NULL",
                                    "3": "Calgary",
                                    "4": "Alberta",
                                    "5": "Canada",
                                    "6": "T2P 2G8",
                                    "7": "275AC976-0D23-4D97-9F58-BB186D1CC089",
                                    "8": "2006-09-01 00:00:00.0000000"
                                },
                                {
                                    "0": "865",
                                    "1": "750 Lakeway Dr",
                                    "2": "NULL",
                                    "3": "Bellingham",
                                    "4": "Washington",
                                    "5": "United States",
                                    "6": "98225",
                                    "7": "243020EC-84C3-417A-B34D-F7760FF130D1",
                                    "8": "2006-07-01 00:00:00.0000000"
                                },
                                {
                                    "0": "674",
                                    "1": "67 Vincent Square, Victoria",
                                    "2": "NULL",
                                    "3": "London",
                                    "4": "England",
                                    "5": "United Kingdom",
                                    "6": "SW1P 2NU",
                                    "7": "1A398C1B-2085-4F6D-A6EB-56493855C5D1",
                                    "8": "2007-09-01 00:00:00.0000000"
                                },
                                {
                                    "0": "25",
                                    "1": "9178 Jumping St.",
                                    "2": "NULL",
                                    "3": "Dallas",
                                    "4": "Texas",
                                    "5": "United States",
                                    "6": "75201",
                                    "7": "C8DF3BD9-48F0-4654-A8DD-14A67A84D3C6",
                                    "8": "2006-09-01 00:00:00.0000000"
                                },
                                {
                                    "0": "1068",
                                    "1": "7709 West Virginia Avenue",
                                    "2": "NULL",
                                    "3": "Phoenix",
                                    "4": "Arizona",
                                    "5": "United States",
                                    "6": "85004",
                                    "7": "B8184C93-A8DE-4321-B381-1BABC7088D60",
                                    "8": "2006-07-01 00:00:00.0000000"
                                },
                                {
                                    "0": "797",
                                    "1": "678 Eastman Ave.",
                                    "2": "NULL",
                                    "3": "Midland",
                                    "4": "Michigan",
                                    "5": "United States",
                                    "6": "48640",
                                    "7": "986DE66F-74E6-4830-A2AD-9212EFB77B76",
                                    "8": "2006-09-01 00:00:00.0000000"
                                },
                                {
                                    "0": "1089",
                                    "1": "25620 Firestone Boulevard",
                                    "2": "NULL",
                                    "3": "Norwalk",
                                    "4": "California",
                                    "5": "United States",
                                    "6": "90650",
                                    "7": "31A07731-18FF-4100-8319-B4704F414497",
                                    "8": "2007-07-01 00:00:00.0000000"
                                },
                                {
                                    "0": "630",
                                    "1": "Lincoln Square",
                                    "2": "NULL",
                                    "3": "Arlington",
                                    "4": "Texas",
                                    "5": "United States",
                                    "6": "76010",
                                    "7": "734DE48F-7F95-4386-986E-F8AB86C194A0",
                                    "8": "2005-09-01 00:00:00.0000000"
                                },
                                {
                                    "0": "1103",
                                    "1": "2564 S. Redwood Rd.",
                                    "2": "NULL",
                                    "3": "Riverton",
                                    "4": "Utah",
                                    "5": "United States",
                                    "6": "84065",
                                    "7": "E299E96D-63CB-4ACC-9BFD-5F0C23AE5820",
                                    "8": "2005-11-01 00:00:00.0000000"
                                },
                                {
                                    "0": "619",
                                    "1": "First Colony Mall",
                                    "2": "NULL",
                                    "3": "Sugar Land",
                                    "4": "Texas",
                                    "5": "United States",
                                    "6": "77478",
                                    "7": "DA205E92-2867-48A9-BF18-4558A31272AE",
                                    "8": "2005-12-01 00:00:00.0000000"
                                },
                                {
                                    "0": "1086",
                                    "1": "57251 Serene Blvd",
                                    "2": "NULL",
                                    "3": "Van Nuys",
                                    "4": "California",
                                    "5": "United States",
                                    "6": "91411",
                                    "7": "7DF3A412-F2B3-4ABB-88E1-21D4677F1311",
                                    "8": "2007-09-01 00:00:00.0000000"
                                },
                                {
                                    "0": "490",
                                    "1": "9979 Bayview Drive",
                                    "2": "NULL",
                                    "3": "Barrie",
                                    "4": "Ontario",
                                    "5": "Canada",
                                    "6": "L4N",
                                    "7": "85D72A98-F631-457C-8FFF-04FAEC508F5D",
                                    "8": "2006-08-01 00:00:00.0000000"
                                },
                                {
                                    "0": "1064",
                                    "1": "West Park Plaza",
                                    "2": "NULL",
                                    "3": "Irvine",
                                    "4": "California",
                                    "5": "United States",
                                    "6": "92614",
                                    "7": "365914CE-CBB2-429B-A2D8-24638FCF17FC",
                                    "8": "2006-01-01 00:00:00.0000000"
                                },
                                {
                                    "0": "837",
                                    "1": "640 South 994th St. W.",
                                    "2": "NULL",
                                    "3": "Billings",
                                    "4": "Montana",
                                    "5": "United States",
                                    "6": "59101",
                                    "7": "4E75AD15-557E-4C4D-9AEB-68A9718B412A",
                                    "8": "2007-09-01 00:00:00.0000000"
                                },
                                {
                                    "0": "513",
                                    "1": "253711 Mayfield Place, Unit 150",
                                    "2": "NULL",
                                    "3": "Richmond",
                                    "4": "British Columbia",
                                    "5": "Canada",
                                    "6": "V6B 3P7",
                                    "7": "C418C2F4-6B32-4404-AAB1-E0BEC3958C11",
                                    "8": "2007-09-01 00:00:00.0000000"
                                },
                                {
                                    "0": "993",
                                    "1": "Corporate Office",
                                    "2": "NULL",
                                    "3": "El Segundo",
                                    "4": "California",
                                    "5": "United States",
                                    "6": "90245",
                                    "7": "6CCCC74F-6389-4D08-8ED1-9079B42CF7AE",
                                    "8": "2006-09-01 00:00:00.0000000"
                                },
                                {
                                    "0": "861",
                                    "1": "25915 140th Ave Ne",
                                    "2": "NULL",
                                    "3": "Bellevue",
                                    "4": "Washington",
                                    "5": "United States",
                                    "6": "98004",
                                    "7": "0D46F203-CDB6-4495-83F5-A97FF0CEC174",
                                    "8": "2006-09-01 00:00:00.0000000"
                                },
                                {
                                    "0": "480",
                                    "1": "25 First Canadian Place",
                                    "2": "NULL",
                                    "3": "Toronto",
                                    "4": "Ontario",
                                    "5": "Canada",
                                    "6": "M4B 1V5",
                                    "7": "07A009B2-1421-4597-AB85-22BCE3C82B2C",
                                    "8": "2005-08-01 00:00:00.0000000"
                                },
                                {
                                    "0": "449",
                                    "1": "Station E",
                                    "2": "NULL",
                                    "3": "Chalk Riber",
                                    "4": "Ontario",
                                    "5": "Canada",
                                    "6": "K0J 1J0",
                                    "7": "8B5A7729-CB75-4303-A607-7F9793B4D94F",
                                    "8": "2005-08-01 00:00:00.0000000"
                                },
                                {
                                    "0": "1082",
                                    "1": "2551 East Warner Road",
                                    "2": "NULL",
                                    "3": "Gilbert",
                                    "4": "Arizona",
                                    "5": "United States",
                                    "6": "85233",
                                    "7": "D88AFBDA-B59B-496E-BA6D-B3B2356574FF",
                                    "8": "2007-08-01 00:00:00.0000000"
                                },
                                {
                                    "0": "11380",
                                    "1": "165 North Main",
                                    "2": "NULL",
                                    "3": "Austin",
                                    "4": "Texas",
                                    "5": "United States",
                                    "6": "78701",
                                    "7": "412E3088-1FB8-4A1F-B3A8-ABB23A4F01C1",
                                    "8": "2006-07-01 00:00:00.0000000"
                                },
                                {
                                    "0": "621",
                                    "1": "Tanger Factory",
                                    "2": "NULL",
                                    "3": "Branch",
                                    "4": "Minnesota",
                                    "5": "United States",
                                    "6": "55056",
                                    "7": "75D18DB1-C9EF-4DAD-BBD2-697FF73FAF6C",
                                    "8": "2005-09-01 00:00:00.0000000"
                                },
                                {
                                    "0": "460",
                                    "1": "2521 McPherson Street",
                                    "2": "NULL",
                                    "3": "Markham",
                                    "4": "Ontario",
                                    "5": "Canada",
                                    "6": "L3S 3K2",
                                    "7": "7D6F03AC-5D55-422E-850E-B8743FAC81B2",
                                    "8": "2007-08-01 00:00:00.0000000"
                                },
                                {
                                    "0": "859",
                                    "1": "1050 Oak Street",
                                    "2": "NULL",
                                    "3": "Seattle",
                                    "4": "Washington",
                                    "5": "United States",
                                    "6": "98104",
                                    "7": "8CAAF6BE-9C88-466D-862C-AE7673E3D0F0",
                                    "8": "2006-08-01 00:00:00.0000000"
                                },
                                {
                                    "0": "883",
                                    "1": "Heritage Mall",
                                    "2": "NULL",
                                    "3": "Albany",
                                    "4": "Oregon",
                                    "5": "United States",
                                    "6": "97321",
                                    "7": "CF9C1921-D741-4576-9D32-849E62D57698",
                                    "8": "2007-07-01 00:00:00.0000000"
                                },
                                {
                                    "0": "1048",
                                    "1": "Factory Merchants",
                                    "2": "NULL",
                                    "3": "Barstow",
                                    "4": "California",
                                    "5": "United States",
                                    "6": "92311",
                                    "7": "470574F9-6A06-43DC-A4B9-DE3C8D88B0E6",
                                    "8": "2005-09-01 00:00:00.0000000"
                                },
                                {
                                    "0": "845",
                                    "1": "22571 South 2500 East",
                                    "2": "NULL",
                                    "3": "Idaho Falls",
                                    "4": "Idaho",
                                    "5": "United States",
                                    "6": "83402",
                                    "7": "1E5743C8-B8F7-4A65-B812-0302FFCB9D0E",
                                    "8": "2007-07-01 00:00:00.0000000"
                                },
                                {
                                    "0": "577",
                                    "1": "2500 North Stemmons Freeway",
                                    "2": "NULL",
                                    "3": "Dallas",
                                    "4": "Texas",
                                    "5": "United States",
                                    "6": "75201",
                                    "7": "C91ED16C-4407-4EED-A241-C8327E5E50C2",
                                    "8": "2006-09-01 00:00:00.0000000"
                                },
                                {
                                    "0": "655",
                                    "1": "Wharfdale Road",
                                    "2": "NULL",
                                    "3": "Berkshire",
                                    "4": "England",
                                    "5": "United Kingdom",
                                    "6": "RG11 5TP",
                                    "7": "D0E03FCB-116E-4AD2-8B17-5C2F9FD3E8B0",
                                    "8": "2006-08-01 00:00:00.0000000"
                                },
                                {
                                    "0": "609",
                                    "1": "3900 S. 997th St.",
                                    "2": "NULL",
                                    "3": "Milwaukee",
                                    "4": "Wisconsin",
                                    "5": "United States",
                                    "6": "53202",
                                    "7": "7394624A-5CA8-4ADC-923C-235D971514B8",
                                    "8": "2005-09-01 00:00:00.0000000"
                                },
                                {
                                    "0": "1049",
                                    "1": "The Citadel Commerce Plaza",
                                    "2": "NULL",
                                    "3": "City Of Commerce",
                                    "4": "California",
                                    "5": "United States",
                                    "6": "90040",
                                    "7": "42CD575B-22A1-42E0-93BB-D8EE998E4FB7",
                                    "8": "2005-09-01 00:00:00.0000000"
                                },
                                {
                                    "0": "847",
                                    "1": "25102 Springwater",
                                    "2": "NULL",
                                    "3": "Wenatchee",
                                    "4": "Washington",
                                    "5": "United States",
                                    "6": "98801",
                                    "7": "F84F402F-9BD5-432E-A1D6-F284A6DFFA29",
                                    "8": "2006-06-01 00:00:00.0000000"
                                },
                                {
                                    "0": "606",
                                    "1": "99433 S. Greenbay Rd.",
                                    "2": "NULL",
                                    "3": "Racine",
                                    "4": "Wisconsin",
                                    "5": "United States",
                                    "6": "53182",
                                    "7": "48F98B9B-CF62-4A87-95E8-44DA6AAC6F97",
                                    "8": "2005-09-01 00:00:00.0000000"
                                },
                                {
                                    "0": "508",
                                    "1": "2900 - 25055 Dunning Street",
                                    "2": "NULL",
                                    "3": "Vancouver",
                                    "4": "British Columbia",
                                    "5": "Canada",
                                    "6": "V7L 4J4",
                                    "7": "4EE0334F-027C-4036-880F-6E9104E21533",
                                    "8": "2006-12-01 00:00:00.0000000"
                                },
                                {
                                    "0": "1041",
                                    "1": "Parkway Plaza",
                                    "2": "NULL",
                                    "3": "El Cajon",
                                    "4": "California",
                                    "5": "United States",
                                    "6": "92020",
                                    "7": "C0FDC154-D2B5-480D-A5DA-4E0D6B5D750C",
                                    "8": "2005-11-01 00:00:00.0000000"
                                },
                                {
                                    "0": "1003",
                                    "1": "5967 W Las Positas Blvd",
                                    "2": "NULL",
                                    "3": "Pleasanton",
                                    "4": "California",
                                    "5": "United States",
                                    "6": "94566",
                                    "7": "6B26292F-1EBE-41CE-9A3E-FF42D3C10A44",
                                    "8": "2007-07-01 00:00:00.0000000"
                                },
                                {
                                    "0": "478",
                                    "1": "2545 King Street West",
                                    "2": "NULL",
                                    "3": "Toronto",
                                    "4": "Ontario",
                                    "5": "Canada",
                                    "6": "M4B 1V7",
                                    "7": "2817A0B7-8985-4527-BB7B-B75F55F4D8DE",
                                    "8": "2005-08-01 00:00:00.0000000"
                                },
                                {
                                    "0": "642",
                                    "1": "Galashiels",
                                    "2": "NULL",
                                    "3": "Liverpool",
                                    "4": "England",
                                    "5": "United Kingdom",
                                    "6": "L4 4HB",
                                    "7": "3593CDF3-38EC-4847-AD42-157220E68F32",
                                    "8": "2007-09-01 00:00:00.0000000"
                                },
                                {
                                    "0": "1067",
                                    "1": "Bayshore Mall",
                                    "2": "NULL",
                                    "3": "Eureka",
                                    "4": "California",
                                    "5": "United States",
                                    "6": "95501",
                                    "7": "001D1A67-585C-44B2-AAC6-1199AFD7425F",
                                    "8": "2006-09-01 00:00:00.0000000"
                                },
                                {
                                    "0": "881",
                                    "1": "Southgate Mall",
                                    "2": "NULL",
                                    "3": "Missoula",
                                    "4": "Montana",
                                    "5": "United States",
                                    "6": "59801",
                                    "7": "3DED7F59-79A9-4034-98F9-F2A0B045D7AE",
                                    "8": "2006-10-01 00:00:00.0000000"
                                },
                                {
                                    "0": "563",
                                    "1": "74400 France Avenue South",
                                    "2": "NULL",
                                    "3": "Edina",
                                    "4": "Minnesota",
                                    "5": "United States",
                                    "6": "55436",
                                    "7": "A1841D05-CABD-4453-96E4-9B1E95CA2BC2",
                                    "8": "2006-09-01 00:00:00.0000000"
                                },
                                {
                                    "0": "1047",
                                    "1": "Stevens Creek Shopping Center",
                                    "2": "NULL",
                                    "3": "San Jose",
                                    "4": "California",
                                    "5": "United States",
                                    "6": "95112",
                                    "7": "0E6F74F0-9128-4688-9007-6395D6C6F4C4",
                                    "8": "2006-09-01 00:00:00.0000000"
                                },
                                {
                                    "0": "631",
                                    "1": "Kansas City Factory Outlet",
                                    "2": "NULL",
                                    "3": "Odessa",
                                    "4": "Missouri",
                                    "5": "United States",
                                    "6": "64076",
                                    "7": "BCD46B97-395D-4EEF-A712-245BA629621F",
                                    "8": "2005-07-01 00:00:00.0000000"
                                },
                                {
                                    "0": "541",
                                    "1": "25981 College Street",
                                    "2": "NULL",
                                    "3": "Montreal",
                                    "4": "Quebec",
                                    "5": "Canada",
                                    "6": "H1Y 2H5",
                                    "7": "AF56D631-EB1C-4716-A89B-88BC4AE04B93",
                                    "8": "2006-08-01 00:00:00.0000000"
                                },
                                {
                                    "0": "1088",
                                    "1": "99040 California Avenue",
                                    "2": "NULL",
                                    "3": "Sand City",
                                    "4": "California",
                                    "5": "United States",
                                    "6": "93955",
                                    "7": "A18799A1-342A-4B6C-A63C-8E4E2C07F734",
                                    "8": "2007-07-01 00:00:00.0000000"
                                },
                                {
                                    "0": "522",
                                    "1": "43251 Viking Way, Unit 130",
                                    "2": "NULL",
                                    "3": "Richmond",
                                    "4": "British Columbia",
                                    "5": "Canada",
                                    "6": "V6B 3P7",
                                    "7": "842BCBE5-9DA5-42D5-A4BB-4197DB5B69C7",
                                    "8": "2007-02-01 00:00:00.0000000"
                                },
                                {
                                    "0": "548",
                                    "1": "63 Free St.",
                                    "2": "NULL",
                                    "3": "Toronto",
                                    "4": "Ontario",
                                    "5": "Canada",
                                    "6": "M4B 1V4",
                                    "7": "5649C5D8-1798-4622-95BF-DC7E581284A0",
                                    "8": "2005-09-01 00:00:00.0000000"
                                },
                                {
                                    "0": "545",
                                    "1": "999 West Georgia St.",
                                    "2": "NULL",
                                    "3": "Vancouver",
                                    "4": "Ontario",
                                    "5": "Canada",
                                    "6": "V5T 1Y9",
                                    "7": "9D35F3C2-966E-4B3B-8D29-0E6AB8DEF01B",
                                    "8": "2006-09-01 00:00:00.0000000"
                                },
                                {
                                    "0": "456",
                                    "1": "6777 Kingsway",
                                    "2": "NULL",
                                    "3": "Burnaby",
                                    "4": "British Columbia",
                                    "5": "Canada",
                                    "6": "V5H 3Z7",
                                    "7": "2F3B383E-08A5-407D-AB1B-A1390E87A888",
                                    "8": "2006-08-01 00:00:00.0000000"
                                },
                                {
                                    "0": "997",
                                    "1": "70259 West Sunnyview Ave",
                                    "2": "NULL",
                                    "3": "Visalia",
                                    "4": "California",
                                    "5": "United States",
                                    "6": "93291",
                                    "7": "7C2E0511-DE61-4761-80EA-6A7B2F39E524",
                                    "8": "2007-09-01 00:00:00.0000000"
                                },
                                {
                                    "0": "1072",
                                    "1": "6500 East Grant Road",
                                    "2": "NULL",
                                    "3": "Tucson",
                                    "4": "Arizona",
                                    "5": "United States",
                                    "6": "85701",
                                    "7": "B9265D45-3FED-4B7D-AEEA-00D0E54B3CC7",
                                    "8": "2007-09-01 00:00:00.0000000"
                                },
                                {
                                    "0": "634",
                                    "1": "Ward Parkway Center",
                                    "2": "NULL",
                                    "3": "Kansas City",
                                    "4": "Missouri",
                                    "5": "United States",
                                    "6": "64106",
                                    "7": "3F2AA425-7D02-461A-A9C4-222AE41E3FE5",
                                    "8": "2006-09-01 00:00:00.0000000"
                                },
                                {
                                    "0": "617",
                                    "1": "Johnson Creek",
                                    "2": "NULL",
                                    "3": "Johnson Creek",
                                    "4": "Wisconsin",
                                    "5": "United States",
                                    "6": "53038",
                                    "7": "ACA53503-0920-446D-9C54-B83D7949D019",
                                    "8": "2007-06-01 00:00:00.0000000"
                                },
                                {
                                    "0": "1054",
                                    "1": "Belz Factory Outlet",
                                    "2": "NULL",
                                    "3": "Las Vegas",
                                    "4": "Nevada",
                                    "5": "United States",
                                    "6": "89106",
                                    "7": "0E75E01F-76D4-4420-BEB7-0033F16DEA62",
                                    "8": "2005-08-01 00:00:00.0000000"
                                },
                                {
                                    "0": "581",
                                    "1": "Po Box 8035996",
                                    "2": "NULL",
                                    "3": "Dallas",
                                    "4": "Texas",
                                    "5": "United States",
                                    "6": "75201",
                                    "7": "CC8321BA-C938-4765-8175-9126D432957F",
                                    "8": "2007-09-01 00:00:00.0000000"
                                },
                                {
                                    "0": "1076",
                                    "1": "8525 South Parker Road",
                                    "2": "NULL",
                                    "3": "Parker",
                                    "4": "Colorado",
                                    "5": "United States",
                                    "6": "80138",
                                    "7": "D4F4AB28-5F27-4F89-A0D6-5FCEA394BB47",
                                    "8": "2005-08-01 00:00:00.0000000"
                                },
                                {
                                    "0": "846",
                                    "1": "257700 Ne 76th Street",
                                    "2": "NULL",
                                    "3": "Redmond",
                                    "4": "Washington",
                                    "5": "United States",
                                    "6": "98052",
                                    "7": "E606AD23-F6D4-4AA5-B177-7D03D62B0187",
                                    "8": "2006-08-01 00:00:00.0000000"
                                },
                                {
                                    "0": "506",
                                    "1": "255117 - 101 Avenue",
                                    "2": "NULL",
                                    "3": "Surrey",
                                    "4": "British Columbia",
                                    "5": "Canada",
                                    "6": "V3T 4W3",
                                    "7": "22895B47-6086-4550-B437-A75DBEDFE1D9",
                                    "8": "2005-08-01 00:00:00.0000000"
                                },
                                {
                                    "0": "648",
                                    "1": "586 Fulham Road,",
                                    "2": "NULL",
                                    "3": "London",
                                    "4": "England",
                                    "5": "United Kingdom",
                                    "6": "SW6 SBY",
                                    "7": "0DA65673-2A35-4E6A-A607-A6CC2D134EA8",
                                    "8": "2007-08-01 00:00:00.0000000"
                                },
                                {
                                    "0": "544",
                                    "1": "30025 Wayburne Drive, Suite 275",
                                    "2": "NULL",
                                    "3": "Burnaby",
                                    "4": "British Columbia",
                                    "5": "Canada",
                                    "6": "V5G 4W1",
                                    "7": "4C65A591-C6B0-43D8-8FAF-F4B1CB9953E1",
                                    "8": "2005-09-01 00:00:00.0000000"
                                },
                                {
                                    "0": "994",
                                    "1": "25001 Montague Expressway",
                                    "2": "NULL",
                                    "3": "Milpitas",
                                    "4": "California",
                                    "5": "United States",
                                    "6": "95035",
                                    "7": "89901B2A-FDA8-4926-B22C-DD5D583681A6",
                                    "8": "2006-07-01 00:00:00.0000000"
                                },
                                {
                                    "0": "643",
                                    "1": "Banbury",
                                    "2": "NULL",
                                    "3": "Oxon",
                                    "4": "England",
                                    "5": "United Kingdom",
                                    "6": "OX16 8RS",
                                    "7": "99FF4C64-B405-4AC1-85ED-49E4E60EF87F",
                                    "8": "2006-09-01 00:00:00.0000000"
                                },
                                {
                                    "0": "992",
                                    "1": "9992 Whipple Rd",
                                    "2": "NULL",
                                    "3": "Union City",
                                    "4": "California",
                                    "5": "United States",
                                    "6": "94587",
                                    "7": "88258A1B-B50F-440F-93B9-5D7AF831D5FC",
                                    "8": "2006-09-01 00:00:00.0000000"
                                },
                                {
                                    "0": "855",
                                    "1": "15 East Main",
                                    "2": "NULL",
                                    "3": "Port Orchard",
                                    "4": "Washington",
                                    "5": "United States",
                                    "6": "98366",
                                    "7": "09926325-7F83-427B-83D6-817DF7D70CE9",
                                    "8": "2005-07-01 00:00:00.0000000"
                                },
                                {
                                    "0": "1059",
                                    "1": "The Quad @ WestView",
                                    "2": "NULL",
                                    "3": "Whittier",
                                    "4": "California",
                                    "5": "United States",
                                    "6": "90605",
                                    "7": "2215F750-1863-4AFF-926D-DE309C298DE9",
                                    "8": "2007-07-01 00:00:00.0000000"
                                },
                                {
                                    "0": "1062",
                                    "1": "Factory Stores/tucson",
                                    "2": "NULL",
                                    "3": "Tucson",
                                    "4": "Arizona",
                                    "5": "United States",
                                    "6": "85701",
                                    "7": "C15ECA9A-6054-40E4-8D09-D4341AABCE2D",
                                    "8": "2005-09-01 00:00:00.0000000"
                                },
                                {
                                    "0": "854",
                                    "1": "490 Ne 4th St",
                                    "2": "NULL",
                                    "3": "Renton",
                                    "4": "Washington",
                                    "5": "United States",
                                    "6": "98055",
                                    "7": "471190D7-86C1-48CD-985A-7046B1B89C3C",
                                    "8": "2007-08-01 00:00:00.0000000"
                                },
                                {
                                    "0": "843",
                                    "1": "253950 N.E. 178th Place",
                                    "2": "NULL",
                                    "3": "Woodinville",
                                    "4": "Washington",
                                    "5": "United States",
                                    "6": "98072",
                                    "7": "E75A2222-D636-4494-A314-2125EE2336F8",
                                    "8": "2005-09-01 00:00:00.0000000"
                                },
                                {
                                    "0": "570",
                                    "1": "52500 Liberty Way",
                                    "2": "NULL",
                                    "3": "Fort Worth",
                                    "4": "Texas",
                                    "5": "United States",
                                    "6": "76102",
                                    "7": "F5A1147F-761F-4577-BB48-BBEF73B4A27F",
                                    "8": "2006-07-01 00:00:00.0000000"
                                },
                                {
                                    "0": "653",
                                    "1": "Burgess Hill",
                                    "2": "Edward Way",
                                    "3": "West Sussex",
                                    "4": "England",
                                    "5": "United Kingdom",
                                    "6": "RH15 9UD",
                                    "7": "38CC8647-B4BB-4669-B21D-C7497E76478D",
                                    "8": "2006-09-01 00:00:00.0000000"
                                },
                                {
                                    "0": "868",
                                    "1": "25111 228th St Sw",
                                    "2": "NULL",
                                    "3": "Bothell",
                                    "4": "Washington",
                                    "5": "United States",
                                    "6": "98011",
                                    "7": "40100C97-5097-43BE-9F44-ABD881220E8F",
                                    "8": "2006-07-01 00:00:00.0000000"
                                },
                                {
                                    "0": "1074",
                                    "1": "9920 Bridgepointe Parkway",
                                    "2": "NULL",
                                    "3": "San Mateo",
                                    "4": "California",
                                    "5": "United States",
                                    "6": "94404",
                                    "7": "C346981B-2093-474A-9BC0-54CE2E0E4A94",
                                    "8": "2005-07-01 00:00:00.0000000"
                                },
                                {
                                    "0": "995",
                                    "1": "4460 Newport Center Drive",
                                    "2": "NULL",
                                    "3": "Newport Beach",
                                    "4": "California",
                                    "5": "United States",
                                    "6": "92625",
                                    "7": "D6B9E9E9-F288-4590-BE12-8DDBB5E53BC2",
                                    "8": "2006-07-01 00:00:00.0000000"
                                },
                                {
                                    "0": "502",
                                    "1": "No. 25400 10665 Jasper Avenue",
                                    "2": "NULL",
                                    "3": "Edmonton",
                                    "4": "Alberta",
                                    "5": "Canada",
                                    "6": "T5",
                                    "7": "51180CA2-6614-46A5-B89C-EF7B0421C847",
                                    "8": "2006-08-01 00:00:00.0000000"
                                },
                                {
                                    "0": "516",
                                    "1": "251 Indell Lane",
                                    "2": "NULL",
                                    "3": "Brampton",
                                    "4": "Ontario",
                                    "5": "Canada",
                                    "6": "L6W 2T7",
                                    "7": "A1F36994-B5B3-4646-87EA-692A513395EA",
                                    "8": "2006-08-01 00:00:00.0000000"
                                },
                                {
                                    "0": "874",
                                    "1": "2550 Ne Sandy Blvd",
                                    "2": "NULL",
                                    "3": "Portland",
                                    "4": "Oregon",
                                    "5": "United States",
                                    "6": "97205",
                                    "7": "14D5DDE7-C771-4819-9FF1-A4FAA66F0E7A",
                                    "8": "2006-09-01 00:00:00.0000000"
                                },
                                {
                                    "0": "877",
                                    "1": "4781 Highway 95",
                                    "2": "NULL",
                                    "3": "Sandpoint",
                                    "4": "Idaho",
                                    "5": "United States",
                                    "6": "83864",
                                    "7": "49F0B458-40CD-4852-A936-8576070FCB96",
                                    "8": "2006-07-01 00:00:00.0000000"
                                },
                                {
                                    "0": "469",
                                    "1": "400-25155 West Pender St",
                                    "2": "NULL",
                                    "3": "Vancouver",
                                    "4": "British Columbia",
                                    "5": "Canada",
                                    "6": "V7L 4J4",
                                    "7": "B81768F9-3B05-43DC-8DDE-85FFCA00D4DE",
                                    "8": "2007-09-01 00:00:00.0000000"
                                },
                                {
                                    "0": "599",
                                    "1": "70 N.W. Plaza",
                                    "2": "NULL",
                                    "3": "Saint Ann",
                                    "4": "Missouri",
                                    "5": "United States",
                                    "6": "63074",
                                    "7": "4735A716-33C4-4366-BCC0-410BCEEF3E2C",
                                    "8": "2007-08-01 00:00:00.0000000"
                                },
                                {
                                    "0": "470",
                                    "1": "2511 Baker Road",
                                    "2": "NULL",
                                    "3": "Toronto",
                                    "4": "Ontario",
                                    "5": "Canada",
                                    "6": "M4B 1V7",
                                    "7": "6E934D97-69B9-4FCF-9E4E-56BF94E52986",
                                    "8": "2005-09-01 00:00:00.0000000"
                                },
                                {
                                    "0": "1007",
                                    "1": "77 Beale Street",
                                    "2": "Room 99767c",
                                    "3": "San Francisco",
                                    "4": "California",
                                    "5": "United States",
                                    "6": "94109",
                                    "7": "5122F535-C03E-4244-90C8-5D360C0C4CC4",
                                    "8": "2005-09-01 00:00:00.0000000"
                                },
                                {
                                    "0": "844",
                                    "1": "755 Nw Grandstand",
                                    "2": "NULL",
                                    "3": "Issaquah",
                                    "4": "Washington",
                                    "5": "United States",
                                    "6": "98027",
                                    "7": "0E8578F8-21F7-482D-8DD8-8AA52F68F70A",
                                    "8": "2007-09-01 00:00:00.0000000"
                                },
                                {
                                    "0": "1051",
                                    "1": "Pavillion @ Redlands",
                                    "2": "NULL",
                                    "3": "Redlands",
                                    "4": "California",
                                    "5": "United States",
                                    "6": "92373",
                                    "7": "B2F0F099-DDD2-4AB6-90AF-972D72186937",
                                    "8": "2005-10-01 00:00:00.0000000"
                                },
                                {
                                    "0": "528",
                                    "1": "5990 Avebury Road",
                                    "2": "NULL",
                                    "3": "Mississauga",
                                    "4": "Ontario",
                                    "5": "Canada",
                                    "6": "L5B 3V4",
                                    "7": "D9928CCC-FC35-435A-8A0F-6887813E0E06",
                                    "8": "2005-09-01 00:00:00.0000000"
                                },
                                {
                                    "0": "1023",
                                    "1": "870 N. 54th Ave.",
                                    "2": "NULL",
                                    "3": "Chandler",
                                    "4": "Arizona",
                                    "5": "United States",
                                    "6": "85225",
                                    "7": "26D3A3EC-3D51-493E-A541-A0CC80B54F35",
                                    "8": "2007-07-01 00:00:00.0000000"
                                },
                                {
                                    "0": "839",
                                    "1": "Gateway",
                                    "2": "NULL",
                                    "3": "Portland",
                                    "4": "Oregon",
                                    "5": "United States",
                                    "6": "97205",
                                    "7": "3A56B180-70CD-42FE-A19C-F62B5037AA3A",
                                    "8": "2006-08-01 00:00:00.0000000"
                                },
                                {
                                    "0": "1028",
                                    "1": "Mall Of Orange",
                                    "2": "NULL",
                                    "3": "Orange",
                                    "4": "California",
                                    "5": "United States",
                                    "6": "92867",
                                    "7": "8D9B75CC-90C4-4E15-B69C-891126386BA6",
                                    "8": "2005-08-01 00:00:00.0000000"
                                },
                                {
                                    "0": "1042",
                                    "1": "Stonewood Mall",
                                    "2": "NULL",
                                    "3": "Downey",
                                    "4": "California",
                                    "5": "United States",
                                    "6": "90241",
                                    "7": "D1D79211-AEC3-424D-A279-AF1D01DA3EC2",
                                    "8": "2005-08-01 00:00:00.0000000"
                                },
                                {
                                    "0": "1002",
                                    "1": "C/O Starpak, Inc.",
                                    "2": "NULL",
                                    "3": "Greeley",
                                    "4": "Colorado",
                                    "5": "United States",
                                    "6": "80631",
                                    "7": "512BD07C-7ED7-421B-923F-D41999BD5BD7",
                                    "8": "2006-08-01 00:00:00.0000000"
                                },
                                {
                                    "0": "446",
                                    "1": "52560 Free Street",
                                    "2": "NULL",
                                    "3": "Toronto",
                                    "4": "Ontario",
                                    "5": "Canada",
                                    "6": "M4B 1V7",
                                    "7": "801A1DFC-5125-486B-AA84-CCBD2EC57CA4",
                                    "8": "2005-08-01 00:00:00.0000000"
                                },
                                {
                                    "0": "871",
                                    "1": "2502 Evergreen Ste E",
                                    "2": "NULL",
                                    "3": "Everett",
                                    "4": "Washington",
                                    "5": "United States",
                                    "6": "98201",
                                    "7": "3AE9003F-F806-41AD-98A5-3C4A86514BC3",
                                    "8": "2005-07-01 00:00:00.0000000"
                                },
                                {
                                    "0": "1084",
                                    "1": "25751 University Drive",
                                    "2": "NULL",
                                    "3": "Vista",
                                    "4": "California",
                                    "5": "United States",
                                    "6": "92084",
                                    "7": "BD3035F6-4018-4E4C-8D70-6DD3F4FE8EB4",
                                    "8": "2007-05-01 00:00:00.0000000"
                                },
                                {
                                    "0": "561",
                                    "1": "90025 Sterling St",
                                    "2": "NULL",
                                    "3": "Irving",
                                    "4": "Texas",
                                    "5": "United States",
                                    "6": "75061",
                                    "7": "C1CA3287-F642-44DA-BBA1-8AB47E1907DD",
                                    "8": "2006-09-01 00:00:00.0000000"
                                },
                                {
                                    "0": "525",
                                    "1": "69251 Creditview Road",
                                    "2": "NULL",
                                    "3": "Mississauga",
                                    "4": "Ontario",
                                    "5": "Canada",
                                    "6": "L5B 3V4",
                                    "7": "2CA11975-213A-46FB-A0BE-2529003074CC",
                                    "8": "2005-07-01 00:00:00.0000000"
                                },
                                {
                                    "0": "1020",
                                    "1": "251340 E. South St.",
                                    "2": "NULL",
                                    "3": "Cerritos",
                                    "4": "California",
                                    "5": "United States",
                                    "6": "90703",
                                    "7": "BA72737A-0827-46A8-AF5B-971FD8464A87",
                                    "8": "2005-09-01 00:00:00.0000000"
                                },
                                {
                                    "0": "1081",
                                    "1": "25871 North Main Street",
                                    "2": "NULL",
                                    "3": "Walnut Creek",
                                    "4": "California",
                                    "5": "United States",
                                    "6": "94596",
                                    "7": "A00218D5-482D-44C2-8CD0-6F65AF8642D3",
                                    "8": "2006-08-01 00:00:00.0000000"
                                },
                                {
                                    "0": "639",
                                    "1": "Garamonde Drive, Wymbush",
                                    "2": "PO Box 4023",
                                    "3": "Milton Keynes",
                                    "4": "England",
                                    "5": "United Kingdom",
                                    "6": "MK8 8ZD",
                                    "7": "8F34CEDD-FB6E-4814-B509-9965A31BC2E5",
                                    "8": "2007-09-01 00:00:00.0000000"
                                },
                                {
                                    "0": "608",
                                    "1": "25306 Harvey Rd.",
                                    "2": "NULL",
                                    "3": "College Station",
                                    "4": "Texas",
                                    "5": "United States",
                                    "6": "77840",
                                    "7": "49D7554E-852F-4D68-81B5-44C7A615F117",
                                    "8": "2006-08-01 00:00:00.0000000"
                                },
                                {
                                    "0": "825",
                                    "1": "Port Huron",
                                    "2": "NULL",
                                    "3": "Port Huron",
                                    "4": "Michigan",
                                    "5": "United States",
                                    "6": "48060",
                                    "7": "A1CADF47-C018-40CC-8381-6CC940DE46C8",
                                    "8": "2005-10-01 00:00:00.0000000"
                                },
                                {
                                    "0": "637",
                                    "1": "Phoenix Way, Cirencester",
                                    "2": "NULL",
                                    "3": "Gloucestershire",
                                    "4": "England",
                                    "5": "United Kingdom",
                                    "6": "GL7 1RY",
                                    "7": "10A3D496-881E-4042-BBD0-5802CF73A872",
                                    "8": "2007-09-01 00:00:00.0000000"
                                },
                                {
                                    "0": "1085",
                                    "1": "49925 Crestview Drive N.E.",
                                    "2": "NULL",
                                    "3": "Rio Rancho",
                                    "4": "New Mexico",
                                    "5": "United States",
                                    "6": "87124",
                                    "7": "3A1F16CF-6889-40B2-B067-7D044A8C7D42",
                                    "8": "2005-09-01 00:00:00.0000000"
                                },
                                {
                                    "0": "864",
                                    "1": "67 Rainer Ave S",
                                    "2": "NULL",
                                    "3": "Renton",
                                    "4": "Washington",
                                    "5": "United States",
                                    "6": "98055",
                                    "7": "A2FC2F01-C6BE-4AF4-B718-2A86EB782E5F",
                                    "8": "2005-08-01 00:00:00.0000000"
                                },
                                {
                                    "0": "887",
                                    "1": "Lewiston Mall",
                                    "2": "NULL",
                                    "3": "Lewiston",
                                    "4": "Idaho",
                                    "5": "United States",
                                    "6": "83501",
                                    "7": "4DDBACC9-7898-403E-856A-128E34245424",
                                    "8": "2006-09-01 00:00:00.0000000"
                                },
                                {
                                    "0": "559",
                                    "1": "12345 Sterling Avenue",
                                    "2": "NULL",
                                    "3": "Irving",
                                    "4": "Texas",
                                    "5": "United States",
                                    "6": "75061",
                                    "7": "0D39391C-A319-486B-AC9E-5863795D6675",
                                    "8": "2005-09-01 00:00:00.0000000"
                                },
                                {
                                    "0": "486",
                                    "1": "600 Boul. Rene-levesque Ouest",
                                    "2": "NULL",
                                    "3": "Montreal",
                                    "4": "Quebec",
                                    "5": "Canada",
                                    "6": "H1Y 2H7",
                                    "7": "112049E4-64D5-4305-9545-933E89B74F6E",
                                    "8": "2006-07-01 00:00:00.0000000"
                                },
                                {
                                    "0": "534",
                                    "1": "Depot 80",
                                    "2": "NULL",
                                    "3": "Sillery",
                                    "4": "Quebec",
                                    "5": "Canada",
                                    "6": "G1T",
                                    "7": "3178440D-5C3A-48F2-AF6B-0A607774E265",
                                    "8": "2005-08-01 00:00:00.0000000"
                                },
                                {
                                    "0": "1006",
                                    "1": "25472 Marlay Ave",
                                    "2": "NULL",
                                    "3": "Fontana",
                                    "4": "California",
                                    "5": "United States",
                                    "6": "92335",
                                    "7": "90C5F983-B302-4F6C-9D8A-BFB9E1BFF406",
                                    "8": "2007-09-01 00:00:00.0000000"
                                },
                                {
                                    "0": "590",
                                    "1": "9995 West Central Entrance",
                                    "2": "NULL",
                                    "3": "Duluth",
                                    "4": "Minnesota",
                                    "5": "United States",
                                    "6": "55802",
                                    "7": "86553E06-3BF8-4C21-8E40-AE95309C4B3E",
                                    "8": "2006-07-01 00:00:00.0000000"
                                },
                                {
                                    "0": "1066",
                                    "1": "Prime Outlets",
                                    "2": "NULL",
                                    "3": "Phoenix",
                                    "4": "Arizona",
                                    "5": "United States",
                                    "6": "85004",
                                    "7": "BD687691-297F-4B72-9465-C8DBD0F8E2EE",
                                    "8": "2005-09-01 00:00:00.0000000"
                                },
                                {
                                    "0": "860",
                                    "1": "4927 S Meridian Ave Ste D",
                                    "2": "NULL",
                                    "3": "Puyallup",
                                    "4": "Washington",
                                    "5": "United States",
                                    "6": "98371",
                                    "7": "FF2BE5E9-7D22-4C1C-ACF8-199148E957AB",
                                    "8": "2006-07-01 00:00:00.0000000"
                                },
                                {
                                    "0": "495",
                                    "1": "Suite 800 2530 Slater Street",
                                    "2": "NULL",
                                    "3": "Ottawa",
                                    "4": "Ontario",
                                    "5": "Canada",
                                    "6": "K4B 1T7",
                                    "7": "C6633AD5-006D-4967-B97E-7919DD48A700",
                                    "8": "2006-09-01 00:00:00.0000000"
                                },
                                {
                                    "0": "895",
                                    "1": "3250 South Meridian",
                                    "2": "NULL",
                                    "3": "Puyallup",
                                    "4": "Washington",
                                    "5": "United States",
                                    "6": "98371",
                                    "7": "3B2E6107-040B-4F60-8901-A950BF0562D4",
                                    "8": "2005-07-01 00:00:00.0000000"
                                },
                                {
                                    "0": "1034",
                                    "1": "Oxnard Outlet",
                                    "2": "NULL",
                                    "3": "Oxnard",
                                    "4": "California",
                                    "5": "United States",
                                    "6": "93030",
                                    "7": "300D2A6E-67B4-417B-83A9-2026818A21C6",
                                    "8": "2007-09-01 00:00:00.0000000"
                                },
                                {
                                    "0": "11381",
                                    "1": "2000 300th Street",
                                    "2": "NULL",
                                    "3": "Denver",
                                    "4": "Colorado",
                                    "5": "United States",
                                    "6": "80203",
                                    "7": "A9DBB460-A624-4E6A-AA22-311EE18F6746",
                                    "8": "2005-09-01 00:00:00.0000000"
                                },
                                {
                                    "0": "492",
                                    "1": "99954 Boul. Laurier, Local 060, Place",
                                    "2": "NULL",
                                    "3": "Sainte-Foy",
                                    "4": "Quebec",
                                    "5": "Canada",
                                    "6": "G1W",
                                    "7": "541CDE7C-3F3A-435F-A7B5-F30055DFBC68",
                                    "8": "2007-09-01 00:00:00.0000000"
                                },
                                {
                                    "0": "893",
                                    "1": "White Mountain Mall",
                                    "2": "NULL",
                                    "3": "Rock Springs",
                                    "4": "Wyoming",
                                    "5": "United States",
                                    "6": "82901",
                                    "7": "9308A21D-AAE2-42E2-889D-2CD802072D36",
                                    "8": "2007-07-01 00:00:00.0000000"
                                },
                                {
                                    "0": "664",
                                    "1": "99-3 Forest Works",
                                    "2": "NULL",
                                    "3": "London",
                                    "4": "England",
                                    "5": "United Kingdom",
                                    "6": "E17 6JF",
                                    "7": "EB46AF5A-EC2B-41FF-914E-DDAE8EC1F476",
                                    "8": "2006-07-01 00:00:00.0000000"
                                },
                                {
                                    "0": "463",
                                    "1": "992 St Clair Ave East",
                                    "2": "NULL",
                                    "3": "Toronto",
                                    "4": "Ontario",
                                    "5": "Canada",
                                    "6": "M4B 1V7",
                                    "7": "D6ED51FA-6DD1-460C-99E0-64BA90F035AE",
                                    "8": "2005-09-01 00:00:00.0000000"
                                },
                                {
                                    "0": "578",
                                    "1": "220 Mercy Drive",
                                    "2": "NULL",
                                    "3": "Garland",
                                    "4": "Texas",
                                    "5": "United States",
                                    "6": "75040",
                                    "7": "791E9C8D-6C3A-4CFD-9F0A-C4A99424C268",
                                    "8": "2005-07-01 00:00:00.0000000"
                                },
                                {
                                    "0": "1016",
                                    "1": "72502 Eastern Ave.",
                                    "2": "NULL",
                                    "3": "Bell Gardens",
                                    "4": "California",
                                    "5": "United States",
                                    "6": "90201",
                                    "7": "06431D74-4CAF-442C-870E-EFC20F9D45B8",
                                    "8": "2006-09-01 00:00:00.0000000"
                                },
                                {
                                    "0": "896",
                                    "1": "2255 254th Avenue Se",
                                    "2": "NULL",
                                    "3": "Albany",
                                    "4": "Oregon",
                                    "5": "United States",
                                    "6": "97321",
                                    "7": "77D18072-B99B-4B1E-A9B9-948FA927EFBB",
                                    "8": "2007-09-01 00:00:00.0000000"
                                },
                                {
                                    "0": "459",
                                    "1": "25575 The Queensway",
                                    "2": "NULL",
                                    "3": "Etobicoke",
                                    "4": "Ontario",
                                    "5": "Canada",
                                    "6": "M9W 3P3",
                                    "7": "616235EA-DC36-4C39-BF91-FFE12BB676E0",
                                    "8": "2005-08-01 00:00:00.0000000"
                                },
                                {
                                    "0": "884",
                                    "1": "Lewis County Mall",
                                    "2": "NULL",
                                    "3": "Chehalis",
                                    "4": "Washington",
                                    "5": "United States",
                                    "6": "98532",
                                    "7": "2F91410B-2988-4E8F-BF01-8009C2F9ABBA",
                                    "8": "2005-08-01 00:00:00.0000000"
                                },
                                {
                                    "0": "628",
                                    "1": "City Center",
                                    "2": "NULL",
                                    "3": "Minneapolis",
                                    "4": "Minnesota",
                                    "5": "United States",
                                    "6": "55402",
                                    "7": "B80975D1-AB6E-42F1-B328-5DB1D445E2C9",
                                    "8": "2005-08-01 00:00:00.0000000"
                                },
                                {
                                    "0": "1071",
                                    "1": "5867 Sunrise Boulevard",
                                    "2": "NULL",
                                    "3": "Citrus Heights",
                                    "4": "California",
                                    "5": "United States",
                                    "6": "95610",
                                    "7": "A64FC10B-61F7-4102-B076-E9CB77E9EC8F",
                                    "8": "2006-11-01 00:00:00.0000000"
                                },
                                {
                                    "0": "650",
                                    "1": "Elmhurst Road, Goring",
                                    "2": "NULL",
                                    "3": "Reading",
                                    "4": "England",
                                    "5": "United Kingdom",
                                    "6": "RG7 5H7",
                                    "7": "E4C0C239-182F-45B7-A6BB-B7E142FF0657",
                                    "8": "2006-07-01 00:00:00.0000000"
                                },
                                {
                                    "0": "611",
                                    "1": "23025 S.W. Military Rd.",
                                    "2": "NULL",
                                    "3": "San Antonio",
                                    "4": "Texas",
                                    "5": "United States",
                                    "6": "78204",
                                    "7": "76ED2669-D8A8-4468-943D-7319A9B18FE3",
                                    "8": "2005-08-01 00:00:00.0000000"
                                },
                                {
                                    "0": "670",
                                    "1": "7 Garden House Cloisters, 8 Batters",
                                    "2": "NULL",
                                    "3": "London",
                                    "4": "England",
                                    "5": "United Kingdom",
                                    "6": "SW8 4BG",
                                    "7": "333DAFF8-F22F-488C-928C-E6ECCF65452B",
                                    "8": "2006-07-01 00:00:00.0000000"
                                },
                                {
                                    "0": "666",
                                    "1": "399 Clearing Green",
                                    "2": "NULL",
                                    "3": "London",
                                    "4": "England",
                                    "5": "United Kingdom",
                                    "6": "EC1R 0DU",
                                    "7": "BAB4B0A1-055A-4581-A93F-E00C65C54FB6",
                                    "8": "2006-08-01 00:00:00.0000000"
                                },
                                {
                                    "0": "11",
                                    "1": "1318 Lasalle Street",
                                    "2": "NULL",
                                    "3": "Bothell",
                                    "4": "Washington",
                                    "5": "United States",
                                    "6": "98011",
                                    "7": "981B3303-ACA2-49C7-9A96-FB670785B269",
                                    "8": "2007-04-01 00:00:00.0000000"
                                },
                                {
                                    "0": "794",
                                    "1": "998 Forest Road",
                                    "2": "NULL",
                                    "3": "Saginaw",
                                    "4": "Michigan",
                                    "5": "United States",
                                    "6": "48601",
                                    "7": "01094C1B-2D79-402D-8106-9E80FBD57DC8",
                                    "8": "2007-08-01 00:00:00.0000000"
                                },
                                {
                                    "0": "806",
                                    "1": "Horizon Outlet Center",
                                    "2": "NULL",
                                    "3": "Monroe",
                                    "4": "Michigan",
                                    "5": "United States",
                                    "6": "98272",
                                    "7": "A986C31B-4B63-4925-AAFD-B95260D5D586",
                                    "8": "2006-08-01 00:00:00.0000000"
                                },
                                {
                                    "0": "1053",
                                    "1": "Pacific West Outlet",
                                    "2": "NULL",
                                    "3": "Gilroy",
                                    "4": "California",
                                    "5": "United States",
                                    "6": "95020",
                                    "7": "DE6463D5-42D9-4D34-AC99-4AAA19FAB3CA",
                                    "8": "2005-08-01 00:00:00.0000000"
                                },
                                {
                                    "0": "523",
                                    "1": "46990 Viking Way",
                                    "2": "NULL",
                                    "3": "Richmond",
                                    "4": "British Columbia",
                                    "5": "Canada",
                                    "6": "V6B 3P7",
                                    "7": "85C88CD6-682C-4358-9F8C-5A24F4CCFD98",
                                    "8": "2005-08-01 00:00:00.0000000"
                                },
                                {
                                    "0": "1030",
                                    "1": "Escondido",
                                    "2": "NULL",
                                    "3": "Escondido",
                                    "4": "California",
                                    "5": "United States",
                                    "6": "92025",
                                    "7": "E5B6618D-A92B-4DA1-BA99-316BABFFF7DB",
                                    "8": "2006-08-01 00:00:00.0000000"
                                },
                                {
                                    "0": "1037",
                                    "1": "North County Square",
                                    "2": "NULL",
                                    "3": "Vista",
                                    "4": "California",
                                    "5": "United States",
                                    "6": "92084",
                                    "7": "5A794553-877E-4977-8E76-DE38AA064EBD",
                                    "8": "2005-09-01 00:00:00.0000000"
                                },
                                {
                                    "0": "474",
                                    "1": "252345 8810th Avenue",
                                    "2": "NULL",
                                    "3": "Surrey",
                                    "4": "British Columbia",
                                    "5": "Canada",
                                    "6": "V3T 4W3",
                                    "7": "447CA097-077D-4980-A431-8FAFAD156CED",
                                    "8": "2005-09-01 00:00:00.0000000"
                                },
                                {
                                    "0": "566",
                                    "1": "63 W Monroe",
                                    "2": "NULL",
                                    "3": "Chicago",
                                    "4": "Illinois",
                                    "5": "United States",
                                    "6": "60610",
                                    "7": "61113716-53E4-4FAA-A5A2-247B03F0F9C6",
                                    "8": "2005-11-01 00:00:00.0000000"
                                },
                                {
                                    "0": "484",
                                    "1": "2510 Crew Court",
                                    "2": "NULL",
                                    "3": "Montreal",
                                    "4": "Quebec",
                                    "5": "Canada",
                                    "6": "H1Y 2H8",
                                    "7": "1F41EDC1-7144-4D6B-9CBD-4318C2358FA1",
                                    "8": "2008-06-01 00:00:00.0000000"
                                },
                                {
                                    "0": "888",
                                    "1": "Three Rivers Mall",
                                    "2": "NULL",
                                    "3": "Kelso",
                                    "4": "Washington",
                                    "5": "United States",
                                    "6": "98626",
                                    "7": "834AE73A-01A9-4850-9F8C-6DB5D1344AAD",
                                    "8": "2007-07-01 00:00:00.0000000"
                                },
                                {
                                    "0": "1015",
                                    "1": "99000 S. Avalon Blvd. Suite 750",
                                    "2": "NULL",
                                    "3": "Carson",
                                    "4": "California",
                                    "5": "United States",
                                    "6": "90746",
                                    "7": "206163D9-0324-476D-909E-607FE07B2A2A",
                                    "8": "2005-08-01 00:00:00.0000000"
                                },
                                {
                                    "0": "1094",
                                    "1": "25250 N 90th St",
                                    "2": "NULL",
                                    "3": "Scottsdale",
                                    "4": "Arizona",
                                    "5": "United States",
                                    "6": "85257",
                                    "7": "3E024D96-B7D3-4622-AB9B-0724B91B7832",
                                    "8": "2005-09-01 00:00:00.0000000"
                                },
                                {
                                    "0": "629",
                                    "1": "St. Louis Marketplace",
                                    "2": "NULL",
                                    "3": "Saint Louis",
                                    "4": "Missouri",
                                    "5": "United States",
                                    "6": "63103",
                                    "7": "163FDE0A-2148-44BC-9FC1-A7390650127C",
                                    "8": "2005-07-01 00:00:00.0000000"
                                },
                                {
                                    "0": "452",
                                    "1": "55 Lakeshore Blvd East",
                                    "2": "NULL",
                                    "3": "Toronto",
                                    "4": "Ontario",
                                    "5": "Canada",
                                    "6": "M4B 1V6",
                                    "7": "A358652F-0E00-49E6-B6B0-DE1099C43506",
                                    "8": "2005-09-01 00:00:00.0000000"
                                },
                                {
                                    "0": "623",
                                    "1": "Ohms Road",
                                    "2": "NULL",
                                    "3": "Houston",
                                    "4": "Texas",
                                    "5": "United States",
                                    "6": "77003",
                                    "7": "D4688E5C-2D2D-4925-B58A-356C117728D8",
                                    "8": "2007-07-01 00:00:00.0000000"
                                },
                                {
                                    "0": "892",
                                    "1": "Frontier Mall",
                                    "2": "NULL",
                                    "3": "Cheyenne",
                                    "4": "Wyoming",
                                    "5": "United States",
                                    "6": "82001",
                                    "7": "CB0A8223-FD82-4D26-B7C7-0C120E4EAFC5",
                                    "8": "2005-08-01 00:00:00.0000000"
                                },
                                {
                                    "0": "494",
                                    "1": "Box 99354 300 Union Street",
                                    "2": "NULL",
                                    "3": "Saint John",
                                    "4": "Brunswick",
                                    "5": "Canada",
                                    "6": "E2P 1E3",
                                    "7": "21FF77A8-39DC-44D8-917C-FDD645DBF9EB",
                                    "8": "2006-07-01 00:00:00.0000000"
                                },
                                {
                                    "0": "894",
                                    "1": "3390 South 23rd St.",
                                    "2": "NULL",
                                    "3": "Tacoma",
                                    "4": "Washington",
                                    "5": "United States",
                                    "6": "98403",
                                    "7": "E7979FA4-253C-41FD-B74F-2FEEC966A6B5",
                                    "8": "2006-01-01 00:00:00.0000000"
                                },
                                {
                                    "0": "537",
                                    "1": "No. 25800-130 King Street West",
                                    "2": "NULL",
                                    "3": "Toronto",
                                    "4": "Ontario",
                                    "5": "Canada",
                                    "6": "M4B 1V5",
                                    "7": "C2BCDAEC-366C-489C-BF43-8CC2881179F3",
                                    "8": "2005-09-01 00:00:00.0000000"
                                },
                                {
                                    "0": "483",
                                    "1": "955 Green Valley Crescent",
                                    "2": "NULL",
                                    "3": "Ottawa",
                                    "4": "Ontario",
                                    "5": "Canada",
                                    "6": "K4B 1S1",
                                    "7": "C6B743C3-F830-43E4-BA58-DD36FC451D14",
                                    "8": "2007-09-01 00:00:00.0000000"
                                },
                                {
                                    "0": "663",
                                    "1": "2524 Barlby Road",
                                    "2": "NULL",
                                    "3": "London",
                                    "4": "England",
                                    "5": "United Kingdom",
                                    "6": "W10 6BL",
                                    "7": "D8E96EBA-258C-4F6C-83BB-4CCB2235BBF7",
                                    "8": "2007-08-01 00:00:00.0000000"
                                },
                                {
                                    "0": "461",
                                    "1": "2560 Bay Street",
                                    "2": "NULL",
                                    "3": "Toronto",
                                    "4": "Ontario",
                                    "5": "Canada",
                                    "6": "M4B 1V7",
                                    "7": "726819A8-1B02-4EFD-AEB9-3FD801D9F153",
                                    "8": "2006-08-01 00:00:00.0000000"
                                },
                                {
                                    "0": "616",
                                    "1": "Southwest Outlet",
                                    "2": "NULL",
                                    "3": "Hillsboro",
                                    "4": "Texas",
                                    "5": "United States",
                                    "6": "76645",
                                    "7": "47F987F7-44FF-4372-AAF5-4CC7B7F64216",
                                    "8": "2005-07-01 00:00:00.0000000"
                                },
                                {
                                    "0": "788",
                                    "1": "2533 Eureka Rd.",
                                    "2": "NULL",
                                    "3": "Southgate",
                                    "4": "Michigan",
                                    "5": "United States",
                                    "6": "48195",
                                    "7": "7EF698FA-908E-42BB-8A2D-C62F5106323A",
                                    "8": "2006-09-01 00:00:00.0000000"
                                },
                                {
                                    "0": "496",
                                    "1": "Suite 500 995 W. 11th Avenue",
                                    "2": "NULL",
                                    "3": "Mississauga",
                                    "4": "Ontario",
                                    "5": "Canada",
                                    "6": "L5A 1H6",
                                    "7": "496C1AD3-2925-4322-8811-890AB6107F67",
                                    "8": "2007-08-01 00:00:00.0000000"
                                },
                                {
                                    "0": "872",
                                    "1": "755 W Washington Ave Ste D",
                                    "2": "NULL",
                                    "3": "Sequim",
                                    "4": "Washington",
                                    "5": "United States",
                                    "6": "98382",
                                    "7": "932514A1-04E4-4E95-B97C-0AD4C06B890E",
                                    "8": "2007-08-01 00:00:00.0000000"
                                },
                                {
                                    "0": "1055",
                                    "1": "Camarillo Athletic Stores",
                                    "2": "NULL",
                                    "3": "Camarillo",
                                    "4": "California",
                                    "5": "United States",
                                    "6": "93010",
                                    "7": "30E691F7-1D06-4DF7-AEDF-627AD911A770",
                                    "8": "2005-08-01 00:00:00.0000000"
                                },
                                {
                                    "0": "567",
                                    "1": "Corporate Office",
                                    "2": "NULL",
                                    "3": "Garland",
                                    "4": "Texas",
                                    "5": "United States",
                                    "6": "75040",
                                    "7": "10CC0938-B0AF-42E0-9176-564321C68787",
                                    "8": "2005-09-01 00:00:00.0000000"
                                },
                                {
                                    "0": "1050",
                                    "1": "University Town Center",
                                    "2": "NULL",
                                    "3": "San Diego",
                                    "4": "California",
                                    "5": "United States",
                                    "6": "92102",
                                    "7": "6D9EBB03-5C5A-4A20-8910-12D894591727",
                                    "8": "2005-09-01 00:00:00.0000000"
                                },
                                {
                                    "0": "583",
                                    "1": "625 W Jackson Blvd. Unit 2502",
                                    "2": "NULL",
                                    "3": "Chicago",
                                    "4": "Illinois",
                                    "5": "United States",
                                    "6": "60610",
                                    "7": "A35C7AC7-5AE8-43D9-92E7-180D78A9A7B8",
                                    "8": "2007-03-01 00:00:00.0000000"
                                },
                                {
                                    "0": "1032",
                                    "1": "Simi @ The Plaza",
                                    "2": "NULL",
                                    "3": "Simi Valley",
                                    "4": "California",
                                    "5": "United States",
                                    "6": "93065",
                                    "7": "8E4A379F-F6D6-4995-AA19-6DB50325D0FE",
                                    "8": "2005-08-01 00:00:00.0000000"
                                },
                                {
                                    "0": "627",
                                    "1": "Sports Stores @ Tuscola",
                                    "2": "NULL",
                                    "3": "Tuscola",
                                    "4": "Illinois",
                                    "5": "United States",
                                    "6": "61953",
                                    "7": "808EFDC0-EA1B-437D-88C0-A3B6A8864B7F",
                                    "8": "2006-07-01 00:00:00.0000000"
                                },
                                {
                                    "0": "555",
                                    "1": "9950 Ferrand Drive, 9th Floor",
                                    "2": "NULL",
                                    "3": "Toronto",
                                    "4": "Ontario",
                                    "5": "Canada",
                                    "6": "M4B 1V4",
                                    "7": "32890831-931E-44AD-801B-41B1AD862ECA",
                                    "8": "2005-09-01 00:00:00.0000000"
                                },
                                {
                                    "0": "907",
                                    "1": "99295 S.e. Tualatin Valley_hwy.",
                                    "2": "NULL",
                                    "3": "Hillsboro",
                                    "4": "Oregon",
                                    "5": "United States",
                                    "6": "97123",
                                    "7": "A0E88130-6262-4484-815E-E5C485BF3EAC",
                                    "8": "2007-08-01 00:00:00.0000000"
                                },
                                {
                                    "0": "598",
                                    "1": "455 256th St.",
                                    "2": "NULL",
                                    "3": "Moline",
                                    "4": "Illinois",
                                    "5": "United States",
                                    "6": "61265",
                                    "7": "FBEDD917-C269-4E36-A791-58B35F34B107",
                                    "8": "2005-08-01 00:00:00.0000000"
                                },
                                {
                                    "0": "571",
                                    "1": "25550 Executive Dr",
                                    "2": "NULL",
                                    "3": "Elgin",
                                    "4": "Illinois",
                                    "5": "United States",
                                    "6": "60120",
                                    "7": "8CAF52B2-D3E2-4A5F-A704-874768007F38",
                                    "8": "2005-12-01 00:00:00.0000000"
                                },
                                {
                                    "0": "789",
                                    "1": "250000 Eight Mile Road",
                                    "2": "NULL",
                                    "3": "Detroit",
                                    "4": "Michigan",
                                    "5": "United States",
                                    "6": "48226",
                                    "7": "66255753-B1B9-49C0-AB1D-1DE8217D5142",
                                    "8": "2006-08-01 00:00:00.0000000"
                                },
                                {
                                    "0": "1096",
                                    "1": "6753 Howard Hughes Parkway",
                                    "2": "NULL",
                                    "3": "Las Vegas",
                                    "4": "Nevada",
                                    "5": "United States",
                                    "6": "89106",
                                    "7": "30C83112-A09F-4E26-9AD7-4FD6C10FEC4E",
                                    "8": "2006-10-01 00:00:00.0000000"
                                },
                                {
                                    "0": "641",
                                    "1": "Bradford",
                                    "2": "NULL",
                                    "3": "W. York",
                                    "4": "England",
                                    "5": "United Kingdom",
                                    "6": "BD1 4SJ",
                                    "7": "F7B99541-1CE1-4AB6-AE0D-548E8FF4ABCD",
                                    "8": "2006-08-01 00:00:00.0000000"
                                },
                                {
                                    "0": "549",
                                    "1": "609 Evans Avenue",
                                    "2": "NULL",
                                    "3": "Toronto",
                                    "4": "Ontario",
                                    "5": "Canada",
                                    "6": "M4B 1V4",
                                    "7": "DCF9C9B5-A7B6-4383-9480-1F84130B5F8B",
                                    "8": "2006-09-01 00:00:00.0000000"
                                },
                                {
                                    "0": "558",
                                    "1": "67255 - 8th Street N.E., Suite 350",
                                    "2": "NULL",
                                    "3": "Calgary",
                                    "4": "Alberta",
                                    "5": "Canada",
                                    "6": "T2P 2G8",
                                    "7": "DA596ABB-B3AF-48EC-A082-9E94CD870A5F",
                                    "8": "2006-12-01 00:00:00.0000000"
                                },
                                {
                                    "0": "1100",
                                    "1": "4635 S. Harrison Blvd.",
                                    "2": "NULL",
                                    "3": "Ogden",
                                    "4": "Utah",
                                    "5": "United States",
                                    "6": "84401",
                                    "7": "BE4DFEEF-CB1C-4AF8-B517-3214C7C1F311",
                                    "8": "2007-09-01 00:00:00.0000000"
                                },
                                {
                                    "0": "651",
                                    "1": "New Millhouse, 2583 Milton Park",
                                    "2": "NULL",
                                    "3": "Abingdon",
                                    "4": "England",
                                    "5": "United Kingdom",
                                    "6": "OX14 4SE",
                                    "7": "E844B847-B0B3-491D-A4F1-0B78F56E4424",
                                    "8": "2007-09-01 00:00:00.0000000"
                                },
                                {
                                    "0": "662",
                                    "1": "Paramount House",
                                    "2": "NULL",
                                    "3": "London",
                                    "4": "England",
                                    "5": "United Kingdom",
                                    "6": "W1N 9FA",
                                    "7": "E50D1077-D135-41CC-A0B1-C53395F94541",
                                    "8": "2006-09-01 00:00:00.0000000"
                                },
                                {
                                    "0": "1010",
                                    "1": "5650 West 88th Ave.",
                                    "2": "NULL",
                                    "3": "Westminster",
                                    "4": "Colorado",
                                    "5": "United States",
                                    "6": "80030",
                                    "7": "BD7FA7A0-4CBE-442A-A5E5-E5E2B79214EC",
                                    "8": "2007-08-01 00:00:00.0000000"
                                },
                                {
                                    "0": "529",
                                    "1": "254480 River Rd",
                                    "2": "NULL",
                                    "3": "Richmond",
                                    "4": "British Columbia",
                                    "5": "Canada",
                                    "6": "V6B 3P7",
                                    "7": "034076FD-CD0E-4EAD-864E-8CE7F47D6612",
                                    "8": "2005-07-01 00:00:00.0000000"
                                },
                                {
                                    "0": "1078",
                                    "1": "9909 W. Ventura Boulevard",
                                    "2": "NULL",
                                    "3": "Camarillo",
                                    "4": "California",
                                    "5": "United States",
                                    "6": "93010",
                                    "7": "0A911F46-295E-4485-A9D8-90DFCC0C9223",
                                    "8": "2006-08-01 00:00:00.0000000"
                                },
                                {
                                    "0": "547",
                                    "1": "7000 Victoria Park Avenue",
                                    "2": "NULL",
                                    "3": "Toronto",
                                    "4": "Ontario",
                                    "5": "Canada",
                                    "6": "M4B 1V4",
                                    "7": "28125EC3-FDC2-45D8-93B3-CD7DB2113424",
                                    "8": "2007-09-01 00:00:00.0000000"
                                },
                                {
                                    "0": "669",
                                    "1": "Internet House, 3399 Science Park",
                                    "2": "NULL",
                                    "3": "Cambridge",
                                    "4": "England",
                                    "5": "United Kingdom",
                                    "6": "CB4 4BZ",
                                    "7": "56BAEC2A-5CC5-4A90-BEF9-EE57E82F2E69",
                                    "8": "2006-12-01 00:00:00.0000000"
                                },
                                {
                                    "0": "1091",
                                    "1": "5500 Grossmont Center Drive",
                                    "2": "NULL",
                                    "3": "La Mesa",
                                    "4": "California",
                                    "5": "United States",
                                    "6": "91941",
                                    "7": "24F1DBC4-7FDC-4EDB-B3CB-640F9FB72534",
                                    "8": "2005-09-01 00:00:00.0000000"
                                },
                                {
                                    "0": "554",
                                    "1": "9984 Wellington Street",
                                    "2": "NULL",
                                    "3": "Ottawa",
                                    "4": "Ontario",
                                    "5": "Canada",
                                    "6": "K4B 1S2",
                                    "7": "6E0797C9-FD43-418F-A5FE-8683292B95FE",
                                    "8": "2006-08-01 00:00:00.0000000"
                                },
                                {
                                    "0": "904",
                                    "1": "9905 Three Rivers Drive",
                                    "2": "NULL",
                                    "3": "Kelso",
                                    "4": "Washington",
                                    "5": "United States",
                                    "6": "98626",
                                    "7": "01A85112-6EE1-4F2C-9212-1C2ABC612E67",
                                    "8": "2006-07-01 00:00:00.0000000"
                                },
                                {
                                    "0": "647",
                                    "1": "Wade Road",
                                    "2": "NULL",
                                    "3": "Basingstoke Hants",
                                    "4": "England",
                                    "5": "United Kingdom",
                                    "6": "RG24 8PL",
                                    "7": "578C2529-F11C-4BF3-8084-6B505461E1CC",
                                    "8": "2007-07-01 00:00:00.0000000"
                                },
                                {
                                    "0": "867",
                                    "1": "48995 Evergreen Wy.",
                                    "2": "NULL",
                                    "3": "Everett",
                                    "4": "Washington",
                                    "5": "United States",
                                    "6": "98201",
                                    "7": "6CD4E374-0EF8-4CEE-AC60-9DBF1F4E0007",
                                    "8": "2007-09-01 00:00:00.0000000"
                                },
                                {
                                    "0": "905",
                                    "1": "225 South 314th Street",
                                    "2": "NULL",
                                    "3": "Federal Way",
                                    "4": "Washington",
                                    "5": "United States",
                                    "6": "98003",
                                    "7": "D305D73C-D595-4961-B870-0DCECB7C6EA9",
                                    "8": "2006-11-01 00:00:00.0000000"
                                },
                                {
                                    "0": "636",
                                    "1": "Science Park South, Birchwood",
                                    "2": "Stanford House",
                                    "3": "Warrington",
                                    "4": "England",
                                    "5": "United Kingdom",
                                    "6": "WA3 7BH",
                                    "7": "C0FC2D5B-88E7-4B60-8447-BB3522BD79E5",
                                    "8": "2007-07-01 00:00:00.0000000"
                                },
                                {
                                    "0": "1087",
                                    "1": "253731 West Bell Road",
                                    "2": "NULL",
                                    "3": "Surprise",
                                    "4": "Arizona",
                                    "5": "United States",
                                    "6": "85374",
                                    "7": "4BA77E6A-4A47-4BFE-8AEB-DBFEA179795D",
                                    "8": "2006-08-01 00:00:00.0000000"
                                },
                                {
                                    "0": "580",
                                    "1": "2509 W. Frankford",
                                    "2": "NULL",
                                    "3": "Carrollton",
                                    "4": "Texas",
                                    "5": "United States",
                                    "6": "75006",
                                    "7": "A0DBC338-CF0E-4962-9FBF-63220AECA66E",
                                    "8": "2006-07-01 00:00:00.0000000"
                                },
                                {
                                    "0": "1022",
                                    "1": "99235 Hawthorne Blvd.",
                                    "2": "NULL",
                                    "3": "Torrance",
                                    "4": "California",
                                    "5": "United States",
                                    "6": "90505",
                                    "7": "52724CD9-1DC9-4D28-9B89-C404692C0B73",
                                    "8": "2005-07-01 00:00:00.0000000"
                                },
                                {
                                    "0": "557",
                                    "1": "660 Saint-Jacques, Bureau 400",
                                    "2": "NULL",
                                    "3": "Montreal",
                                    "4": "Quebec",
                                    "5": "Canada",
                                    "6": "H1Y 2H8",
                                    "7": "DCE88C1F-8BFE-4306-BA02-50446466C5E5",
                                    "8": "2006-09-01 00:00:00.0000000"
                                },
                                {
                                    "0": "587",
                                    "1": "25500 Old Spanish Trail",
                                    "2": "NULL",
                                    "3": "Houston",
                                    "4": "Texas",
                                    "5": "United States",
                                    "6": "77003",
                                    "7": "9A71E3C4-CAEA-4C5C-A146-5B85A513D82F",
                                    "8": "2005-08-01 00:00:00.0000000"
                                },
                                {
                                    "0": "1040",
                                    "1": "Fox Hills",
                                    "2": "NULL",
                                    "3": "Culver City",
                                    "4": "California",
                                    "5": "United States",
                                    "6": "90232",
                                    "7": "5042B0A9-D10A-4F99-9F6F-50F96DEFA226",
                                    "8": "2005-08-01 00:00:00.0000000"
                                },
                                {
                                    "0": "451",
                                    "1": "2512-4th Ave Sw",
                                    "2": "NULL",
                                    "3": "Calgary",
                                    "4": "Alberta",
                                    "5": "Canada",
                                    "6": "T2P 2G8",
                                    "7": "49644F1E-6F90-46D9-8DBB-9DB15F0EF7EC",
                                    "8": "2006-12-01 00:00:00.0000000"
                                },
                                {
                                    "0": "1017",
                                    "1": "2560 E. Newlands Dr",
                                    "2": "NULL",
                                    "3": "Fernley",
                                    "4": "Nevada",
                                    "5": "United States",
                                    "6": "89408",
                                    "7": "5D07C55B-9E6A-49DE-8F49-04F28AD2F36A",
                                    "8": "2005-09-01 00:00:00.0000000"
                                },
                                {
                                    "0": "1011",
                                    "1": "9700 Sisk Road",
                                    "2": "NULL",
                                    "3": "Modesto",
                                    "4": "California",
                                    "5": "United States",
                                    "6": "95354",
                                    "7": "FB563347-C157-43B3-A7E4-A851495DF874",
                                    "8": "2006-09-01 00:00:00.0000000"
                                },
                                {
                                    "0": "1083",
                                    "1": "22589 West Craig Road",
                                    "2": "NULL",
                                    "3": "North Las Vegas",
                                    "4": "Nevada",
                                    "5": "United States",
                                    "6": "89030",
                                    "7": "A4C2EFE6-17E5-4DD5-9BED-6743405627E7",
                                    "8": "2007-05-01 00:00:00.0000000"
                                },
                                {
                                    "0": "656",
                                    "1": "7 Pioneer Business Park",
                                    "2": "NULL",
                                    "3": "York",
                                    "4": "England",
                                    "5": "United Kingdom",
                                    "6": "Y03 4TN",
                                    "7": "48865E15-033A-40FF-8327-18723D4A8846",
                                    "8": "2007-08-01 00:00:00.0000000"
                                },
                                {
                                    "0": "477",
                                    "1": "6th Floor Ferguson Block",
                                    "2": "NULL",
                                    "3": "Toronto",
                                    "4": "Ontario",
                                    "5": "Canada",
                                    "6": "M4B 1V7",
                                    "7": "39F3B067-2263-4591-ABF9-D5210DA4F783",
                                    "8": "2005-08-01 00:00:00.0000000"
                                },
                                {
                                    "0": "458",
                                    "1": "600 Slater Street",
                                    "2": "NULL",
                                    "3": "Ottawa",
                                    "4": "Ontario",
                                    "5": "Canada",
                                    "6": "K4B 1S2",
                                    "7": "49F4EE42-E20B-4E66-B43C-A28E9FC63CA0",
                                    "8": "2005-07-01 00:00:00.0000000"
                                },
                                {
                                    "0": "833",
                                    "1": "3207 S Grady Way",
                                    "2": "NULL",
                                    "3": "Renton",
                                    "4": "Washington",
                                    "5": "United States",
                                    "6": "98055",
                                    "7": "4E670A74-8ACE-44C8-91ED-76CBA7190BC2",
                                    "8": "2006-08-01 00:00:00.0000000"
                                },
                                {
                                    "0": "1080",
                                    "1": "2575 Rocky Mountain Ave.",
                                    "2": "NULL",
                                    "3": "Loveland",
                                    "4": "Colorado",
                                    "5": "United States",
                                    "6": "80537",
                                    "7": "BCC0867E-CB4E-4852-994E-03ABED8C95AB",
                                    "8": "2006-08-01 00:00:00.0000000"
                                },
                                {
                                    "0": "498",
                                    "1": "25537 Hillside Avenue",
                                    "2": "NULL",
                                    "3": "Victoria",
                                    "4": "British Columbia",
                                    "5": "Canada",
                                    "6": "V8V",
                                    "7": "385C24E0-E20C-40C9-BAC9-95D70D5B6900",
                                    "8": "2005-08-01 00:00:00.0000000"
                                },
                                {
                                    "0": "594",
                                    "1": "123 W. Lake Ave.",
                                    "2": "NULL",
                                    "3": "Peoria",
                                    "4": "Illinois",
                                    "5": "United States",
                                    "6": "61606",
                                    "7": "C9F2B21E-3EDB-4315-AA03-8ADDE7D8A598",
                                    "8": "2006-08-01 00:00:00.0000000"
                                },
                                {
                                    "0": "870",
                                    "1": "409 S. Main Ste. 25",
                                    "2": "NULL",
                                    "3": "Ellensburg",
                                    "4": "Washington",
                                    "5": "United States",
                                    "6": "98926",
                                    "7": "955E88EA-083D-446E-A856-42CB0692826A",
                                    "8": "2006-08-01 00:00:00.0000000"
                                },
                                {
                                    "0": "795",
                                    "1": "99800 Tittabawasee Rd.",
                                    "2": "NULL",
                                    "3": "Saginaw",
                                    "4": "Michigan",
                                    "5": "United States",
                                    "6": "48601",
                                    "7": "34D6D2D5-FEEC-40B8-97B5-CCEB89164305",
                                    "8": "2006-08-01 00:00:00.0000000"
                                },
                                {
                                    "0": "565",
                                    "1": "25149 Howard Dr",
                                    "2": "NULL",
                                    "3": "West Chicago",
                                    "4": "Illinois",
                                    "5": "United States",
                                    "6": "60185",
                                    "7": "F4915606-499D-477D-8309-E8F92E9D8FE3",
                                    "8": "2005-09-01 00:00:00.0000000"
                                },
                                {
                                    "0": "898",
                                    "1": "700 Se Sunnyside Road",
                                    "2": "NULL",
                                    "3": "Clackamas",
                                    "4": "Oregon",
                                    "5": "United States",
                                    "6": "97015",
                                    "7": "D88449DB-7116-427B-BFAF-CAE7C08DE084",
                                    "8": "2007-09-01 00:00:00.0000000"
                                },
                                {
                                    "0": "889",
                                    "1": "Eastridge Mall",
                                    "2": "NULL",
                                    "3": "Casper",
                                    "4": "Wyoming",
                                    "5": "United States",
                                    "6": "82601",
                                    "7": "6D5C5880-2C83-4DF1-B8CE-46CFE9A9FFAC",
                                    "8": "2005-07-01 00:00:00.0000000"
                                },
                                {
                                    "0": "998",
                                    "1": "60750 San Clemente",
                                    "2": "NULL",
                                    "3": "Hayward",
                                    "4": "California",
                                    "5": "United States",
                                    "6": "94541",
                                    "7": "822DC2BE-AAC2-4283-93A6-5027CFB6A7DF",
                                    "8": "2007-09-01 00:00:00.0000000"
                                },
                                {
                                    "0": "903",
                                    "1": "250775 SW Hillsdale Hwy",
                                    "2": "NULL",
                                    "3": "Beaverton",
                                    "4": "Oregon",
                                    "5": "United States",
                                    "6": "97005",
                                    "7": "AC8F33F8-4DC4-467D-B459-788D84749C5D",
                                    "8": "2006-08-01 00:00:00.0000000"
                                }
                            ]
                        },
                        "text/html": "<table><tr><th>AddressID</th><th>AddressLine1</th><th>AddressLine2</th><th>City</th><th>StateProvince</th><th>CountryRegion</th><th>PostalCode</th><th>rowguid</th><th>ModifiedDate</th></tr><tr><td>826</td><td>Kensington Valley Shops</td><td>NULL</td><td>Howell</td><td>Michigan</td><td>United States</td><td>48843</td><td>C2D04D48-EF2B-4349-877B-EA6DF9895079</td><td>2006-07-01 00:00:00.0000000</td></tr><tr><td>1031</td><td>Natomas Marketplace</td><td>NULL</td><td>Sacramento</td><td>California</td><td>United States</td><td>95814</td><td>27AF5ED8-D33A-4FB2-9C55-D5CDD5017CD4</td><td>2006-08-01 00:00:00.0000000</td></tr><tr><td>841</td><td>Washington Square</td><td>NULL</td><td>Portland</td><td>Oregon</td><td>United States</td><td>97205</td><td>7B5AE329-FB7C-4A2C-B33C-827920ACACDC</td><td>2005-11-01 00:00:00.0000000</td></tr><tr><td>519</td><td>2500-622 5th Ave Sw</td><td>NULL</td><td>Calgary</td><td>Alberta</td><td>Canada</td><td>T2P 2G8</td><td>13754965-6A09-4343-968C-8699C27FDFAA</td><td>2006-08-01 00:00:00.0000000</td></tr><tr><td>482</td><td>2500 University Avenue</td><td>NULL</td><td>Toronto</td><td>Ontario</td><td>Canada</td><td>M4B 1V5</td><td>197A1735-E89E-4F15-A5F7-FEB98B369094</td><td>2005-07-01 00:00:00.0000000</td></tr><tr><td>652</td><td>Wymbush</td><td>NULL</td><td>Milton Keynes</td><td>England</td><td>United Kingdom</td><td>MK8 8DF</td><td>54E20963-B0E9-41CF-AB7E-D50459A3325C</td><td>2006-09-01 00:00:00.0000000</td></tr><tr><td>597</td><td>99450 Highway 59 North</td><td>NULL</td><td>Humble</td><td>Texas</td><td>United States</td><td>77338</td><td>3BD8466E-2A52-4661-8460-50736409EE8A</td><td>2006-08-01 00:00:00.0000000</td></tr><tr><td>500</td><td>5700 Explorer Drive</td><td>NULL</td><td>Mississauga</td><td>Ontario</td><td>Canada</td><td>L4W 5J3</td><td>F6FED7FA-39D9-4A60-A1F5-1622489E55FD</td><td>2005-08-01 00:00:00.0000000</td></tr><tr><td>832</td><td>2251 Elliot Avenue</td><td>NULL</td><td>Seattle</td><td>Washington</td><td>United States</td><td>98104</td><td>6D6A8E1A-FFD8-4D2D-A70D-88467049A880</td><td>2005-08-01 00:00:00.0000000</td></tr><tr><td>593</td><td>2345 North Freeway</td><td>NULL</td><td>Houston</td><td>Texas</td><td>United States</td><td>77003</td><td>74E5959F-4C5F-4BDA-ABCF-429762E1670D</td><td>2005-08-01 00:00:00.0000000</td></tr><tr><td>607</td><td>25220 Airline Road</td><td>NULL</td><td>Corpus Christi</td><td>Texas</td><td>United States</td><td>78404</td><td>6E7FE435-895A-4E65-913B-2AD21CF4CE6D</td><td>2006-08-01 00:00:00.0000000</td></tr><tr><td>510</td><td>750 Philip Street</td><td>NULL</td><td>Waterloo</td><td>Ontario</td><td>Canada</td><td>N2V</td><td>F2B96299-187A-4E52-96DE-FE9D1C8AB33F</td><td>2005-11-01 00:00:00.0000000</td></tr><tr><td>633</td><td>Medford Outlet Center</td><td>NULL</td><td>Medford</td><td>Minnesota</td><td>United States</td><td>55049</td><td>7CDA3069-3B49-4205-B853-40744D7D875F</td><td>2006-08-01 00:00:00.0000000</td></tr><tr><td>626</td><td>Lone Star Factory</td><td>NULL</td><td>La Marque</td><td>Texas</td><td>United States</td><td>77568</td><td>5F33B654-E091-4B2F-B5BD-AC5AC6D47EE6</td><td>2007-08-01 00:00:00.0000000</td></tr><tr><td>530</td><td>Suite #9902</td><td>NULL</td><td>North York</td><td>Ontario</td><td>Canada</td><td>M4C 4K6</td><td>FE36E0C8-AD8A-4D2C-BC53-5D69BE5A9CE7</td><td>2005-07-01 00:00:00.0000000</td></tr><tr><td>667</td><td>997b Tradescant Road</td><td>NULL</td><td>London</td><td>England</td><td>United Kingdom</td><td>SW8 1XD</td><td>0A318015-4FBE-479A-B2DA-EEE21DF430AF</td><td>2006-08-01 00:00:00.0000000</td></tr><tr><td>604</td><td>1200 First Ave.</td><td>NULL</td><td>Joliet</td><td>Illinois</td><td>United States</td><td>60433</td><td>79972B72-7D84-4A33-AE27-44A5EFAEF39D</td><td>2007-09-01 00:00:00.0000000</td></tr><tr><td>658</td><td>Ellesfield Ave</td><td>NULL</td><td>Bracknell</td><td>England</td><td>United Kingdom</td><td>RG12 8TB</td><td>BC28152F-8005-4C0E-98FF-51BF77A4A667</td><td>2006-08-01 00:00:00.0000000</td></tr><tr><td>32</td><td>26910 Indela Road</td><td>NULL</td><td>Montreal</td><td>Quebec</td><td>Canada</td><td>H1Y 2H5</td><td>84A95F62-3AE8-4E7E-BBD5-5A6F00CD982D</td><td>2006-08-01 00:00:00.0000000</td></tr><tr><td>596</td><td>72540 Blanco Rd.</td><td>NULL</td><td>San Antonio</td><td>Texas</td><td>United States</td><td>78204</td><td>5EC50E4C-3026-4BD5-9A15-00776AD22EEC</td><td>2005-08-01 00:00:00.0000000</td></tr><tr><td>869</td><td>2583 Se 272nd St</td><td>NULL</td><td>Kent</td><td>Washington</td><td>United States</td><td>98031</td><td>E13C4F18-990A-4B7D-9FC9-AFD0EA943B13</td><td>2005-08-01 00:00:00.0000000</td></tr><tr><td>509</td><td>Suite 25800 3401 - 10810th Avenue</td><td>NULL</td><td>Surrey</td><td>British Columbia</td><td>Canada</td><td>V3T 4W3</td><td>28C52717-7117-41B6-A5C7-FDA60D566163</td><td>2005-08-01 00:00:00.0000000</td></tr><tr><td>906</td><td>7009 Sw Hall Blvd.</td><td>NULL</td><td>Tigard</td><td>Oregon</td><td>United States</td><td>97223</td><td>B8EFDBFA-3BA9-45D8-9C09-646DD0C8AF93</td><td>2006-09-01 00:00:00.0000000</td></tr><tr><td>588</td><td>99828 Routh Street, Suite 825</td><td>NULL</td><td>Dallas</td><td>Texas</td><td>United States</td><td>75201</td><td>180F5A76-930D-4B70-9D70-7AA3E49BB71E</td><td>2005-08-01 00:00:00.0000000</td></tr><tr><td>671</td><td>25 Hartfield Road, Wimbledon</td><td>NULL</td><td>London</td><td>England</td><td>United Kingdom</td><td>SW19 3RU</td><td>00FD96BC-6EE6-4D2C-A88C-07BC1CAE6EFE</td><td>2008-02-01 00:00:00.0000000</td></tr><tr><td>454</td><td>3255 Front Street West</td><td>NULL</td><td>Toronto</td><td>Ontario</td><td>Canada</td><td>M4B 1V6</td><td>EF4DC57D-8B8B-4074-B5F0-ACBEF65DBEC1</td><td>2007-08-01 00:00:00.0000000</td></tr><tr><td>493</td><td>6th Floor 5250 Main Street</td><td>NULL</td><td>Winnipeg</td><td>Manitoba</td><td>Canada</td><td>R3</td><td>AC0E73D8-FF0A-42BD-8502-E19EBAC7343F</td><td>2007-09-01 00:00:00.0000000</td></tr><tr><td>28</td><td>9228 Via Del Sol</td><td>NULL</td><td>Phoenix</td><td>Arizona</td><td>United States</td><td>85004</td><td>12AE5EE1-FC3E-468B-9B92-3B970B169774</td><td>2005-09-01 00:00:00.0000000</td></tr><tr><td>455</td><td>2550 Signet Drive</td><td>NULL</td><td>Weston</td><td>Ontario</td><td>Canada</td><td>M9V 4W3</td><td>43D582CF-E95F-4861-BA60-2DC7121410A6</td><td>2006-08-01 00:00:00.0000000</td></tr><tr><td>485</td><td>9900-6400 Boul, Taschereau</td><td>NULL</td><td>Brossard</td><td>Quebec</td><td>Canada</td><td>J4Z 1R4</td><td>7C46D2FC-E31E-402F-A093-4CF18F7F6E54</td><td>2006-07-01 00:00:00.0000000</td></tr><tr><td>610</td><td>44025 W. Empire</td><td>NULL</td><td>Denby</td><td>South Dakota</td><td>United States</td><td>57716</td><td>8AFB400F-1FE5-460D-BC56-4A7BF801B41B</td><td>2007-09-01 00:00:00.0000000</td></tr><tr><td>504</td><td>Suite 99320 255 - 510th Avenue S.W.</td><td>NULL</td><td>Calgary</td><td>Alberta</td><td>Canada</td><td>T2P 2G8</td><td>CFF7437F-6830-4797-875B-D9A54EA38975</td><td>2005-08-01 00:00:00.0000000</td></tr><tr><td>479</td><td>2550 Middlefield Road</td><td>NULL</td><td>Scarborough</td><td>Ontario</td><td>Canada</td><td>M1V 4M2</td><td>E60801BF-CFB3-4606-A738-8AA0EB587AFB</td><td>2005-08-01 00:00:00.0000000</td></tr><tr><td>1098</td><td>Po Box 252525</td><td>NULL</td><td>Santa Ana</td><td>California</td><td>United States</td><td>92701</td><td>7D2BD572-F8AB-435A-A47B-3A534D7D9CDC</td><td>2006-09-01 00:00:00.0000000</td></tr><tr><td>532</td><td>#500-75 O'Connor Street</td><td>NULL</td><td>Ottawa</td><td>Ontario</td><td>Canada</td><td>K4B 1S2</td><td>1B58B9BC-A691-4927-BF17-569E4BE822F3</td><td>2005-12-01 00:00:00.0000000</td></tr><tr><td>457</td><td>5250-505 Burning St</td><td>NULL</td><td>Vancouver</td><td>British Columbia</td><td>Canada</td><td>V7L 4J4</td><td>93F02C61-783D-4F04-8A57-416F25817ABA</td><td>2006-07-01 00:00:00.0000000</td></tr><tr><td>661</td><td>725a The Arches</td><td>NULL</td><td>Berks</td><td>England</td><td>United Kingdom</td><td>SL4 1RH</td><td>38F5F598-E9BB-499C-B90D-088B2CD1B5BD</td><td>2006-08-01 00:00:00.0000000</td></tr><tr><td>640</td><td>251 The Metro Center</td><td>NULL</td><td>Wokingham</td><td>England</td><td>United Kingdom</td><td>RG41 1QW</td><td>0E4AC5BB-BE0D-4A96-A58E-064DAEC08E1A</td><td>2007-09-01 00:00:00.0000000</td></tr><tr><td>573</td><td>25269 Wood Dale Rd.</td><td>NULL</td><td>Wood Dale</td><td>Illinois</td><td>United States</td><td>60191</td><td>E4C1153E-6C1A-45DF-ADDB-80FAC429FA3F</td><td>2005-11-01 00:00:00.0000000</td></tr><tr><td>552</td><td>25730, boul. St-Régis</td><td>NULL</td><td>Dorval</td><td>Quebec</td><td>Canada</td><td>H9P 1H1</td><td>6832A3BD-56EC-42FE-8B4C-6BFD09F89EB4</td><td>2008-06-01 00:00:00.0000000</td></tr><tr><td>1095</td><td>9980 S Alma School Road</td><td>NULL</td><td>Chandler</td><td>Arizona</td><td>United States</td><td>85225</td><td>B09B3F8E-89F2-4528-9578-53CBCF805B4A</td><td>2007-02-01 00:00:00.0000000</td></tr><tr><td>497</td><td>#9900 2700 Production Way</td><td>NULL</td><td>Burnaby</td><td>British Columbia</td><td>Canada</td><td>V5A 4X1</td><td>AA651B28-0A51-4084-8444-A70CC71BCE65</td><td>2005-08-01 00:00:00.0000000</td></tr><tr><td>542</td><td>5 place Ville-Marie</td><td>NULL</td><td>Montreal</td><td>Quebec</td><td>Canada</td><td>H1Y 2H7</td><td>B242B256-254B-4624-B3AF-BF0058BB0B7B</td><td>2006-09-01 00:00:00.0000000</td></tr><tr><td>546</td><td>250333 Southport Road, S.W.</td><td>NULL</td><td>Calgary</td><td>Alberta</td><td>Canada</td><td>T2P 2G8</td><td>11D29E3F-D9B2-4E24-AC01-EEBA72DA4DDF</td><td>2007-08-01 00:00:00.0000000</td></tr><tr><td>999</td><td>Receiving</td><td>NULL</td><td>Fullerton</td><td>California</td><td>United States</td><td>92831</td><td>93D3C32F-CC26-4F27-B91F-35A804554976</td><td>2006-09-01 00:00:00.0000000</td></tr><tr><td>489</td><td>9960 King Street E.</td><td>NULL</td><td>Toronto</td><td>Ontario</td><td>Canada</td><td>M4B 1V5</td><td>EB632E56-4299-4714-9E91-224319BDCB62</td><td>2007-08-01 00:00:00.0000000</td></tr><tr><td>464</td><td>99, Rue Saint-pierre</td><td>NULL</td><td>Pnot-Rouge</td><td>Quebec</td><td>Canada</td><td>J1E 2T7</td><td>C4A1EE36-8149-46B7-A313-A63010987A8E</td><td>2005-07-01 00:00:00.0000000</td></tr><tr><td>875</td><td>2540 Dell Range Blvd</td><td>NULL</td><td>Cheyenne</td><td>Wyoming</td><td>United States</td><td>82001</td><td>3AC8958A-76EE-41CA-8A88-2B783EA18ACC</td><td>2006-07-01 00:00:00.0000000</td></tr><tr><td>467</td><td>25900-700-9th Ave S.W.</td><td>NULL</td><td>Calgary</td><td>Alberta</td><td>Canada</td><td>T2P 2G8</td><td>13560188-CE4A-470D-9913-49903047D459</td><td>2005-11-01 00:00:00.0000000</td></tr><tr><td>551</td><td>32605 West 252 Mile Road, Suite 250</td><td>NULL</td><td>Aurora</td><td>Ontario</td><td>Canada</td><td>L4G 7N6</td><td>E7567A62-3ACF-4F0B-B202-E28B92DE689A</td><td>2006-09-01 00:00:00.0000000</td></tr><tr><td>1033</td><td>Lakewood Mall</td><td>NULL</td><td>Lakewood</td><td>California</td><td>United States</td><td>90712</td><td>D28C7FEF-9EA3-458F-A2B9-11964C3CC60B</td><td>2007-07-01 00:00:00.0000000</td></tr><tr><td>1009</td><td>2500 N Serene Blvd</td><td>19th Floor</td><td>El Segundo</td><td>California</td><td>United States</td><td>90245</td><td>7619E3BD-780B-45B1-A477-8FC3E0948352</td><td>2007-08-01 00:00:00.0000000</td></tr><tr><td>615</td><td>Fountains On The Lake</td><td>NULL</td><td>Stafford</td><td>Texas</td><td>United States</td><td>77477</td><td>BC2D6156-BCF7-47F7-A409-31122653F701</td><td>2005-07-01 00:00:00.0000000</td></tr><tr><td>540</td><td>254 Colonnade Road</td><td>NULL</td><td>Nepean</td><td>Ontario</td><td>Canada</td><td>K2J 2W5</td><td>1C97F465-F2AF-4D34-BE8C-7AFDAD119425</td><td>2005-08-01 00:00:00.0000000</td></tr><tr><td>1104</td><td>9927 N. Main St.</td><td>NULL</td><td>Tooele</td><td>Utah</td><td>United States</td><td>84074</td><td>CE0FA600-8761-402C-A6C0-84FB6244984B</td><td>2005-08-01 00:00:00.0000000</td></tr><tr><td>297</td><td>7943 Walnut Ave</td><td>NULL</td><td>Renton</td><td>Washington</td><td>United States</td><td>98055</td><td>52410DA4-2778-4B1D-A599-95746625CE6D</td><td>2006-08-01 00:00:00.0000000</td></tr><tr><td>539</td><td>6th Floor, 25st Canadian Place</td><td>NULL</td><td>Toronto</td><td>Ontario</td><td>Canada</td><td>M4B 1V5</td><td>D51784C0-CC77-48C2-8FA6-75405F3E35B9</td><td>2005-08-01 00:00:00.0000000</td></tr><tr><td>638</td><td>255 Irving Street</td><td>NULL</td><td>London</td><td>England</td><td>United Kingdom</td><td>C2H 7AU</td><td>D8A77424-94AE-43AB-A011-1A9EBB3852E7</td><td>2007-08-01 00:00:00.0000000</td></tr><tr><td>1000</td><td>22555 Paseo De Las Americas</td><td>NULL</td><td>San Diego</td><td>California</td><td>United States</td><td>92102</td><td>982BDCC2-6429-4725-A6DF-4FAF032EC908</td><td>2006-08-01 00:00:00.0000000</td></tr><tr><td>560</td><td>800 Interchange Blvd.</td><td>Suite 2501</td><td>Austin</td><td>Texas</td><td>United States</td><td>78701</td><td>5790365C-DA3C-43BC-93D3-99104C038B71</td><td>2006-07-01 00:00:00.0000000</td></tr><tr><td>488</td><td>45259 Canada Way</td><td>NULL</td><td>Burnaby</td><td>British Columbia</td><td>Canada</td><td>V5G 4S4</td><td>6D2D6846-3F17-474E-8D31-AD3A59C0CEB0</td><td>2007-08-01 00:00:00.0000000</td></tr><tr><td>878</td><td>4210 E Sprague Ave</td><td>NULL</td><td>Spokane</td><td>Washington</td><td>United States</td><td>99202</td><td>7C04CF1B-AD79-44D4-9611-381B2F094F96</td><td>2006-07-01 00:00:00.0000000</td></tr><tr><td>511</td><td>Bureau 9900 825, Avenue Querbes</td><td>NULL</td><td>Outremont</td><td>Quebec</td><td>Canada</td><td>H1Y 2G5</td><td>EF10CF20-A540-4D5C-BEFD-1B48B7D48402</td><td>2006-12-01 00:00:00.0000000</td></tr><tr><td>848</td><td>Bldg. 9n/99298</td><td>NULL</td><td>Redmond</td><td>Washington</td><td>United States</td><td>98052</td><td>F8EF420D-B3C8-48B1-A237-4A7D2DAD987E</td><td>2005-08-01 00:00:00.0000000</td></tr><tr><td>659</td><td>Warrington Ldc Unit 25/2</td><td>NULL</td><td>Woolston</td><td>England</td><td>United Kingdom</td><td>WA1 4SY</td><td>F44A7D0D-9BC5-427E-B3AE-F638DD5804B0</td><td>2007-09-01 00:00:00.0000000</td></tr><tr><td>507</td><td>975 Princess Street</td><td>NULL</td><td>Kingston</td><td>Ontario</td><td>Canada</td><td>7L</td><td>D7849F5F-C042-4FCE-8F6B-BA5CD8708E10</td><td>2007-09-01 00:00:00.0000000</td></tr><tr><td>462</td><td>630 University Avenue</td><td>NULL</td><td>Toronto</td><td>Ontario</td><td>Canada</td><td>M4B 1V7</td><td>27D5BDAD-647D-4A56-859A-BC6A82AF7DCD</td><td>2005-08-01 00:00:00.0000000</td></tr><tr><td>1069</td><td>6900 Sisk Road</td><td>NULL</td><td>Modesto</td><td>California</td><td>United States</td><td>95354</td><td>60110399-EDF3-4C06-AC87-1D9856E9D2E3</td><td>2005-07-01 00:00:00.0000000</td></tr><tr><td>584</td><td>250880 Baur Blvd</td><td>NULL</td><td>Saint Louis</td><td>Missouri</td><td>United States</td><td>63103</td><td>ED1EE7DA-5087-4E7A-B019-7782742BC451</td><td>2007-07-01 00:00:00.0000000</td></tr><tr><td>526</td><td>251420a 170th Street</td><td>NULL</td><td>Edmonton</td><td>Alberta</td><td>Canada</td><td>T5</td><td>476D80AE-69A0-480D-9DF3-8FD0C1095A21</td><td>2006-07-01 00:00:00.0000000</td></tr><tr><td>776</td><td>997000 Telegraph Rd.</td><td>NULL</td><td>Southfield</td><td>Michigan</td><td>United States</td><td>48034</td><td>F0159341-8CDB-4587-BC74-95FFB9E7D662</td><td>2005-11-01 00:00:00.0000000</td></tr><tr><td>582</td><td>5700 Legacy Dr</td><td>NULL</td><td>Plano</td><td>Texas</td><td>United States</td><td>75074</td><td>08EBF5A9-2171-433E-85B8-56FFF949D041</td><td>2007-09-01 00:00:00.0000000</td></tr><tr><td>564</td><td>509 Nafta Boulevard</td><td>NULL</td><td>Laredo</td><td>Texas</td><td>United States</td><td>78040</td><td>F9A8A87A-152F-4204-B5D2-DBCB8DA1C13B</td><td>2005-08-01 00:00:00.0000000</td></tr><tr><td>886</td><td>Lancaster Mall</td><td>NULL</td><td>Salem</td><td>Oregon</td><td>United States</td><td>97301</td><td>3513C4CD-96AF-4E5F-B3FF-32D268FB5F54</td><td>2006-08-01 00:00:00.0000000</td></tr><tr><td>668</td><td>2574 Milton Park</td><td>NULL</td><td>Oxford</td><td>England</td><td>United Kingdom</td><td>OX14 4SE</td><td>62D0C689-CF44-4AB3-9C3E-6142F4E0101C</td><td>2007-08-01 00:00:00.0000000</td></tr><tr><td>990</td><td>5420 West 22500 South</td><td>NULL</td><td>Salt Lake City</td><td>Utah</td><td>United States</td><td>84101</td><td>7612C47A-E24A-4BD8-9B8B-3AED15AF64F9</td><td>2006-07-01 00:00:00.0000000</td></tr><tr><td>850</td><td>558 S 6th St</td><td>NULL</td><td>Klamath Falls</td><td>Oregon</td><td>United States</td><td>97601</td><td>329894AB-0142-4D9B-9851-2DA2F6DC95E3</td><td>2007-09-01 00:00:00.0000000</td></tr><tr><td>632</td><td>Fiesta Trail Shopping Center</td><td>NULL</td><td>San Antonio</td><td>Texas</td><td>United States</td><td>78204</td><td>F79532D7-38E9-42EC-8EA4-C9D7E1C13C12</td><td>2005-07-01 00:00:00.0000000</td></tr><tr><td>996</td><td>2575 West 2700 South</td><td>NULL</td><td>Salt Lake City</td><td>Utah</td><td>United States</td><td>84101</td><td>708FC1DD-4994-4AA5-80A5-8C977C37AA15</td><td>2006-08-01 00:00:00.0000000</td></tr><tr><td>576</td><td>4255 East Lies Road</td><td>NULL</td><td>Carol Stream</td><td>Illinois</td><td>United States</td><td>60188</td><td>C1A9793E-50B5-431C-82DD-8B36ACC9AC4E</td><td>2005-11-01 00:00:00.0000000</td></tr><tr><td>988</td><td>482505 Warm Springs Blvd.</td><td>NULL</td><td>Fremont</td><td>California</td><td>United States</td><td>94536</td><td>CD6D22B0-D941-4928-B6F7-1508021E6539</td><td>2006-09-01 00:00:00.0000000</td></tr><tr><td>603</td><td>9500b E. Central Texas Expressway</td><td>NULL</td><td>Killeen</td><td>Texas</td><td>United States</td><td>76541</td><td>0E6E9E86-A637-4FD5-A945-AC342BFD715B</td><td>2007-08-01 00:00:00.0000000</td></tr><tr><td>1027</td><td>409 Santa Monica Blvd.</td><td>NULL</td><td>Santa Monica</td><td>California</td><td>United States</td><td>90401</td><td>58D58E3E-BF3E-4E0C-8F96-1717821E3516</td><td>2006-09-01 00:00:00.0000000</td></tr><tr><td>834</td><td>99300 223rd Southeast</td><td>NULL</td><td>Bothell</td><td>Washington</td><td>United States</td><td>98011</td><td>D505AEA8-B89A-41ED-90A9-44D4179EFF77</td><td>2007-04-01 00:00:00.0000000</td></tr><tr><td>1073</td><td>3065 Santa Margarita Parkway</td><td>NULL</td><td>Trabuco Canyon</td><td>California</td><td>United States</td><td>92679</td><td>C5C0801F-F124-4A5E-B8BA-0ACE3BF0F993</td><td>2005-07-01 00:00:00.0000000</td></tr><tr><td>1045</td><td>Nut Tree Factory</td><td>NULL</td><td>Vacaville</td><td>California</td><td>United States</td><td>95688</td><td>EB58EEBB-3F55-45D1-9702-EDDACCD687E2</td><td>2005-08-01 00:00:00.0000000</td></tr><tr><td>1056</td><td>Lake Elisnor Place</td><td>NULL</td><td>Lake Elsinore</td><td>California</td><td>United States</td><td>92530</td><td>596345C5-0BE2-444D-BA93-D109713BC0B6</td><td>2005-08-01 00:00:00.0000000</td></tr><tr><td>785</td><td>399700 John R. Rd.</td><td>NULL</td><td>Madison Heights</td><td>Michigan</td><td>United States</td><td>48071</td><td>7B234147-CD95-45E8-A1D5-711FE6A33DAC</td><td>2005-08-01 00:00:00.0000000</td></tr><tr><td>562</td><td>2505 Gateway Drive</td><td>NULL</td><td>North Sioux City</td><td>South Dakota</td><td>United States</td><td>57049</td><td>57A5E455-526C-402A-BC5D-EE613BF58372</td><td>2005-08-01 00:00:00.0000000</td></tr><tr><td>890</td><td>Holiday Village Mall</td><td>NULL</td><td>Great Falls</td><td>Montana</td><td>United States</td><td>59401</td><td>5FE7C888-BB21-421E-9B8B-38DA8DA10085</td><td>2005-11-01 00:00:00.0000000</td></tr><tr><td>501</td><td>965 De La Gauchetiere West</td><td>NULL</td><td>Montreal</td><td>Quebec</td><td>Canada</td><td>H1Y 2H8</td><td>ACB9C033-18C6-4F02-975E-9C5226B96B72</td><td>2005-08-01 00:00:00.0000000</td></tr><tr><td>586</td><td>6030 Robinson Road</td><td>NULL</td><td>Jefferson City</td><td>Missouri</td><td>United States</td><td>65101</td><td>35B2FB0C-60EA-48F2-814A-F6813242858E</td><td>2005-09-01 00:00:00.0000000</td></tr><tr><td>899</td><td>North 93270 Newport Highway</td><td>NULL</td><td>Spokane</td><td>Washington</td><td>United States</td><td>99202</td><td>8AE1C168-958E-41DA-92D8-7A3A0765F744</td><td>2007-08-01 00:00:00.0000000</td></tr><tr><td>618</td><td>Blue Ridge Mall</td><td>NULL</td><td>Kansas City</td><td>Missouri</td><td>United States</td><td>64106</td><td>8612FBAD-3CE1-435B-BE0B-5A48DDBD2B62</td><td>2006-12-01 00:00:00.0000000</td></tr><tr><td>595</td><td>660 Lindbergh</td><td>NULL</td><td>Saint Louis</td><td>Missouri</td><td>United States</td><td>63103</td><td>012D17BA-C426-40C2-A9FD-85093E2CEB8A</td><td>2006-09-01 00:00:00.0000000</td></tr><tr><td>635</td><td>93-2501, Blackfriars Road,</td><td>NULL</td><td>London</td><td>England</td><td>United Kingdom</td><td>SE1 8HL</td><td>00E75F99-488C-462D-A0BC-AC3C08A9DB77</td><td>2006-09-01 00:00:00.0000000</td></tr><tr><td>1024</td><td>9952 E. Lohman Ave.</td><td>NULL</td><td>Las Cruces</td><td>New Mexico</td><td>United States</td><td>88001</td><td>42AF4B56-ECE2-4595-929D-FB60DB1392D9</td><td>2005-07-01 00:00:00.0000000</td></tr><tr><td>503</td><td>P.O. Box 44000</td><td>NULL</td><td>Winnipeg</td><td>Manitoba</td><td>Canada</td><td>R3</td><td>C4F3E274-13E1-4A99-8FD3-2C7D3D1EE5A1</td><td>2005-08-01 00:00:00.0000000</td></tr><tr><td>849</td><td>4251 First Avenue</td><td>NULL</td><td>Seattle</td><td>Washington</td><td>United States</td><td>98104</td><td>A077368B-26BF-41B7-B35F-FC380092E6B9</td><td>2005-07-01 00:00:00.0000000</td></tr><tr><td>1021</td><td>440 West Huntington Dr.</td><td>NULL</td><td>Monrovia</td><td>California</td><td>United States</td><td>91016</td><td>2AE4D8C2-6D11-4945-A032-430DC8CE5B1B</td><td>2005-07-01 00:00:00.0000000</td></tr><tr><td>550</td><td>2520 Flanders Road</td><td>NULL</td><td>Toronto</td><td>Ontario</td><td>Canada</td><td>M4B 1V4</td><td>A1D478E6-76DA-445F-A924-0B5DEE3C7CBB</td><td>2006-08-01 00:00:00.0000000</td></tr><tr><td>646</td><td>Butterfield Hse, 7-251 Chapel St</td><td>NULL</td><td>Lancaster</td><td>England</td><td>United Kingdom</td><td>LA1 1LN</td><td>BCE1F4B3-A9C0-413E-AC8D-4C07A960E26C</td><td>2006-08-01 00:00:00.0000000</td></tr><tr><td>644</td><td>Bradford</td><td>Raven House, Kingsgate</td><td>W. York</td><td>England</td><td>United Kingdom</td><td>BD1 4SJ</td><td>65684E2E-D39C-4EF7-80D8-86C2F576C3C2</td><td>2007-08-01 00:00:00.0000000</td></tr><tr><td>471</td><td>770 Notre Datme Quest Bureau 800</td><td>NULL</td><td>Montreal</td><td>Quebec</td><td>Canada</td><td>H1Y 2H7</td><td>5EDA011D-31D1-4DFB-A78C-397B6335F85B</td><td>2005-09-01 00:00:00.0000000</td></tr><tr><td>1044</td><td>Ontario Mills</td><td>NULL</td><td>Ontario</td><td>California</td><td>United States</td><td>91764</td><td>C66B86D8-BDFC-4161-9CBF-9A46D5F57B91</td><td>2007-07-01 00:00:00.0000000</td></tr><tr><td>1035</td><td>Vista Marketplace</td><td>NULL</td><td>Alhambra</td><td>California</td><td>United States</td><td>91801</td><td>7795FCDF-76C3-4627-86B2-0291398868DE</td><td>2006-09-01 00:00:00.0000000</td></tr><tr><td>1029</td><td>Topanga Plaza</td><td>NULL</td><td>Canoga Park</td><td>California</td><td>United States</td><td>91303</td><td>0B945127-9C6F-47A1-80E4-2FB0E057FA55</td><td>2007-07-01 00:00:00.0000000</td></tr><tr><td>836</td><td>35525-9th Street Sw</td><td>NULL</td><td>Puyallup</td><td>Washington</td><td>United States</td><td>98371</td><td>77232D41-48BB-4C8D-8323-5581753E9531</td><td>2006-09-01 00:00:00.0000000</td></tr><tr><td>862</td><td>3307 Evergreen Blvd</td><td>Ste 1071</td><td>Washougal</td><td>Washington</td><td>United States</td><td>98671</td><td>0C81CBD2-96D3-40C1-97D4-056D776B7676</td><td>2005-11-01 00:00:00.0000000</td></tr><tr><td>569</td><td>Sapp Road West</td><td>NULL</td><td>Round Rock</td><td>Texas</td><td>United States</td><td>78664</td><td>B7EA2783-866E-4AD9-945C-914B674AD2CD</td><td>2005-09-01 00:00:00.0000000</td></tr><tr><td>1014</td><td>25136 Jefferson Blvd.</td><td>NULL</td><td>Culver City</td><td>California</td><td>United States</td><td>90232</td><td>05196D3F-F726-4AB9-A66B-AF87500846AD</td><td>2006-09-01 00:00:00.0000000</td></tr><tr><td>572</td><td>P.O. Box 6256916</td><td>NULL</td><td>Dallas</td><td>Texas</td><td>United States</td><td>75201</td><td>206E0FF7-E120-4845-ACB4-A4443EBF6429</td><td>2007-09-01 00:00:00.0000000</td></tr><tr><td>568</td><td>25269 N. Wood Dale Rd</td><td>NULL</td><td>Wood Dale</td><td>Illinois</td><td>United States</td><td>60191</td><td>E863927D-49FB-47AB-9CA6-A5F36D082B66</td><td>2005-09-01 00:00:00.0000000</td></tr><tr><td>851</td><td>994 Sw Cherry Park Rd</td><td>NULL</td><td>Troutdale</td><td>Oregon</td><td>United States</td><td>97060</td><td>FCDE15FF-85D3-4136-9FB6-EA493F39605E</td><td>2005-08-01 00:00:00.0000000</td></tr><tr><td>491</td><td>20225 Lansing Ave</td><td>NULL</td><td>Montreal</td><td>Quebec</td><td>Canada</td><td>H1Y 2H7</td><td>A9B5A261-2463-4489-9951-EACFA29A8231</td><td>2007-09-01 00:00:00.0000000</td></tr><tr><td>1052</td><td>San Diego Factory</td><td>NULL</td><td>San Ysidro</td><td>California</td><td>United States</td><td>92173</td><td>8C3CFF8C-3A5D-419A-8DD8-3349C29AA3FD</td><td>2005-08-01 00:00:00.0000000</td></tr><tr><td>521</td><td>55 Standish Court</td><td>NULL</td><td>Mississauga</td><td>Ontario</td><td>Canada</td><td>L5B 3V4</td><td>97C329E2-FA67-4478-AA7B-78A8DEECF7CA</td><td>2006-09-01 00:00:00.0000000</td></tr><tr><td>866</td><td>2528 Meridian E</td><td>NULL</td><td>Puyallup</td><td>Washington</td><td>United States</td><td>98371</td><td>5668E02C-16FA-4331-8603-29EE11417843</td><td>2007-08-01 00:00:00.0000000</td></tr><tr><td>524</td><td>9693 Louis H Lafontaine</td><td>NULL</td><td>Ville De'anjou</td><td>Quebec</td><td>Canada</td><td>J1G 2R3</td><td>ACC21BD9-FB1B-4764-941B-2FB98AA4EB27</td><td>2006-08-01 00:00:00.0000000</td></tr><tr><td>672</td><td>99 Dean Street, Soho</td><td>NULL</td><td>London</td><td>England</td><td>United Kingdom</td><td>W1V 5RN</td><td>ECEBD4B1-11C3-4681-A6DA-2F73148FB63E</td><td>2006-09-01 00:00:00.0000000</td></tr><tr><td>11382</td><td>99 Front Street</td><td>NULL</td><td>Minneapolis</td><td>Minnesota</td><td>United States</td><td>55402</td><td>878660A8-A9FE-4EF8-8D2D-53C614C6F042</td><td>2005-08-01 00:00:00.0000000</td></tr><tr><td>660</td><td>6 The Farm, Liberty Road</td><td>NULL</td><td>Maidenhead</td><td>England</td><td>United Kingdom</td><td>SL67RJ</td><td>E22D616B-EA06-48E9-A00F-B1C4BB02F595</td><td>2007-09-01 00:00:00.0000000</td></tr><tr><td>624</td><td>Factory Merchants</td><td>NULL</td><td>Branson</td><td>Missouri</td><td>United States</td><td>65616</td><td>DC707744-912B-4E7A-945A-1B959168DC94</td><td>2007-02-01 00:00:00.0000000</td></tr><tr><td>1057</td><td>Norwalk Square</td><td>NULL</td><td>Norwalk</td><td>California</td><td>United States</td><td>90650</td><td>CCCE93BE-AB0B-4211-8407-5BE45034534C</td><td>2005-09-01 00:00:00.0000000</td></tr><tr><td>665</td><td>46-44 Albemarle Street</td><td>NULL</td><td>London</td><td>England</td><td>United Kingdom</td><td>W1X3SE</td><td>1B01B172-96CE-4601-AD19-F545DCDFD62F</td><td>2007-08-01 00:00:00.0000000</td></tr><tr><td>591</td><td>48255 I-10 E. @ Eastpoint Blvd.</td><td>NULL</td><td>Baytown</td><td>Texas</td><td>United States</td><td>77520</td><td>8D604CA1-2F01-46C1-9041-39915144B446</td><td>2006-09-01 00:00:00.0000000</td></tr><tr><td>654</td><td>308-3250 Casting Road</td><td>NULL</td><td>York</td><td>England</td><td>United Kingdom</td><td>Y024 1GF</td><td>9D67C322-8698-440A-8F3E-5E1E30EDBD0D</td><td>2007-08-01 00:00:00.0000000</td></tr><tr><td>1019</td><td>4660 Rodeo Road</td><td>NULL</td><td>Santa Fe</td><td>New Mexico</td><td>United States</td><td>87501</td><td>4FE824C1-F1BC-48B6-A4FD-6B866D0D07C8</td><td>2007-09-01 00:00:00.0000000</td></tr><tr><td>838</td><td>25300 Biddle Road</td><td>NULL</td><td>Medford</td><td>Oregon</td><td>United States</td><td>97504</td><td>349CBAB0-E4E3-40B2-AC50-3EA087110F8B</td><td>2007-09-01 00:00:00.0000000</td></tr><tr><td>620</td><td>Horizon Outlet</td><td>NULL</td><td>Woodbury</td><td>Minnesota</td><td>United States</td><td>55125</td><td>70080B27-59BD-4BA1-84D2-68204B304D70</td><td>2005-09-01 00:00:00.0000000</td></tr><tr><td>1008</td><td>910 Main Street.</td><td>NULL</td><td>Sparks</td><td>Nevada</td><td>United States</td><td>89431</td><td>F12C6F58-6095-47D4-9FA0-21A639B90DB9</td><td>2006-08-01 00:00:00.0000000</td></tr><tr><td>543</td><td>6030 Conroy Road</td><td>NULL</td><td>Ottawa</td><td>Ontario</td><td>Canada</td><td>K4B 1S3</td><td>AA8F3ECB-C454-448B-B774-FF9CDF01E629</td><td>2006-09-01 00:00:00.0000000</td></tr><tr><td>1061</td><td>Eastern Beltway Center</td><td>NULL</td><td>Las Vegas</td><td>Nevada</td><td>United States</td><td>89106</td><td>84603598-F6D4-4E26-9B9E-6A468365D4D8</td><td>2005-12-01 00:00:00.0000000</td></tr><tr><td>857</td><td>7990 Ocean Beach Hwy.</td><td>NULL</td><td>Longview</td><td>Washington</td><td>United States</td><td>98632</td><td>873D03B3-E2EF-4B8B-ADD8-F237FDC7FE31</td><td>2005-08-01 00:00:00.0000000</td></tr><tr><td>1018</td><td>630 N. Capitol Ave.</td><td>NULL</td><td>San Jose</td><td>California</td><td>United States</td><td>95112</td><td>ACEB7A03-C8E6-43F6-94F2-266E571BD413</td><td>2007-07-01 00:00:00.0000000</td></tr><tr><td>531</td><td>5th Floor, 79 Place D'armes</td><td>NULL</td><td>Kingston</td><td>Ontario</td><td>Canada</td><td>7L</td><td>F6FB5F79-C5FA-4A7C-8D75-6E9243360308</td><td>2006-11-01 00:00:00.0000000</td></tr><tr><td>185</td><td>2681 Eagle Peak</td><td>NULL</td><td>Bellevue</td><td>Washington</td><td>United States</td><td>98004</td><td>7BCCF442-2268-46CC-8472-14C44C14E98C</td><td>2006-09-01 00:00:00.0000000</td></tr><tr><td>863</td><td>2507 Pacific Ave S</td><td>NULL</td><td>Tacoma</td><td>Washington</td><td>United States</td><td>98403</td><td>FBAC273F-934E-474F-9CCB-F96CA9AE889D</td><td>2005-09-01 00:00:00.0000000</td></tr><tr><td>835</td><td>259826 Russell Rd. South</td><td>NULL</td><td>Kent</td><td>Washington</td><td>United States</td><td>98031</td><td>5D3832B3-72DD-4A9B-A596-8293D4037C18</td><td>2005-09-01 00:00:00.0000000</td></tr><tr><td>810</td><td>Redford Plaza</td><td>NULL</td><td>Redford</td><td>Michigan</td><td>United States</td><td>48239</td><td>43E988F4-B82D-4424-A59F-43DD81F9016B</td><td>2005-07-01 00:00:00.0000000</td></tr><tr><td>515</td><td>9900 Ronson Drive</td><td>NULL</td><td>Etobicoke</td><td>Ontario</td><td>Canada</td><td>M9W 3P3</td><td>42242712-6DD2-423F-9B89-C953454E3B09</td><td>2006-07-01 00:00:00.0000000</td></tr><tr><td>472</td><td>250551 Shellbridge Way</td><td>NULL</td><td>Richmond</td><td>British Columbia</td><td>Canada</td><td>V6B 3P7</td><td>1A6A1A7B-E208-473D-A8F4-14A89D06FAD2</td><td>2005-09-01 00:00:00.0000000</td></tr><tr><td>612</td><td>Ring Plaza</td><td>NULL</td><td>Norridge</td><td>Illinois</td><td>United States</td><td>60706</td><td>60AB96A4-26F6-439C-9F32-238BD16B293F</td><td>2006-09-01 00:00:00.0000000</td></tr><tr><td>885</td><td>755 Columbia Ctr Blvd</td><td>NULL</td><td>Kennewick</td><td>Washington</td><td>United States</td><td>99337</td><td>F3B58620-4857-44A0-9C48-51F21C1CA0C8</td><td>2007-09-01 00:00:00.0000000</td></tr><tr><td>602</td><td>6425 Nw Loop 410</td><td>NULL</td><td>San Antonio</td><td>Texas</td><td>United States</td><td>78204</td><td>6241806C-C9CC-46AA-A91F-B663C7E0C8BB</td><td>2006-09-01 00:00:00.0000000</td></tr><tr><td>1025</td><td>2530 South Colorado Blvd.</td><td>NULL</td><td>Denver</td><td>Colorado</td><td>United States</td><td>80203</td><td>012EF479-5DAD-4009-B456-24E47CA1F472</td><td>2005-09-01 00:00:00.0000000</td></tr><tr><td>902</td><td>950 Gateway Street</td><td>NULL</td><td>Springfield</td><td>Oregon</td><td>United States</td><td>97477</td><td>E8BEECAF-8668-4D53-97E8-405BC6978DEF</td><td>2006-09-01 00:00:00.0000000</td></tr><tr><td>1075</td><td>5525 South Hover Road</td><td>NULL</td><td>Longmont</td><td>Colorado</td><td>United States</td><td>80501</td><td>E5FA71B3-685A-4D11-BC0C-E4AA69CD4DED</td><td>2006-07-01 00:00:00.0000000</td></tr><tr><td>1036</td><td>Sports Store At Park City</td><td>NULL</td><td>Park City</td><td>Utah</td><td>United States</td><td>84098</td><td>A04EC332-1120-4AC3-837E-97EFC40636B2</td><td>2005-09-01 00:00:00.0000000</td></tr><tr><td>466</td><td>655-4th Ave S.W.</td><td>NULL</td><td>Calgary</td><td>Alberta</td><td>Canada</td><td>T2P 2G8</td><td>09C5F0BA-7128-4455-832D-0DF587248A5A</td><td>2005-08-01 00:00:00.0000000</td></tr><tr><td>601</td><td>6996 South Lindbergh</td><td>NULL</td><td>Saint Louis</td><td>Missouri</td><td>United States</td><td>63103</td><td>A8F4D544-A137-4775-B6C9-7C85A12A4DDC</td><td>2006-08-01 00:00:00.0000000</td></tr><tr><td>613</td><td>Lakeline Mall</td><td>NULL</td><td>Cedar Park</td><td>Texas</td><td>United States</td><td>78613</td><td>D26F02D6-326A-4088-B9EE-D441DFDFA1DF</td><td>2006-09-01 00:00:00.0000000</td></tr><tr><td>535</td><td>250 Kingsbridge Garden Circle</td><td>NULL</td><td>Mississauga</td><td>Ontario</td><td>Canada</td><td>L5B 3V4</td><td>9771494E-9053-40F2-84A5-E0D108DEEFED</td><td>2005-11-01 00:00:00.0000000</td></tr><tr><td>880</td><td>S Sound Ctr Suite 25300</td><td>NULL</td><td>Lacey</td><td>Washington</td><td>United States</td><td>98503</td><td>3A400497-1000-4D9F-BB8D-D9CBF00C2822</td><td>2005-08-01 00:00:00.0000000</td></tr><tr><td>991</td><td>60025 Bollinger Canyon Road</td><td>NULL</td><td>San Ramon</td><td>California</td><td>United States</td><td>94583</td><td>962A4D00-C5AA-41CC-B7BC-2AFBE2FA65B8</td><td>2006-09-01 00:00:00.0000000</td></tr><tr><td>453</td><td>6333 Cote Vertu</td><td>NULL</td><td>Montreal</td><td>Quebec</td><td>Canada</td><td>H1Y 2H7</td><td>355681F2-4D9D-4522-BFA0-105BE64394D8</td><td>2007-09-01 00:00:00.0000000</td></tr><tr><td>1079</td><td>25150 El Camino Real</td><td>NULL</td><td>San Bruno</td><td>California</td><td>United States</td><td>94066</td><td>9F1BC24E-66F2-41E2-94A2-D1001C050BB4</td><td>2005-09-01 00:00:00.0000000</td></tr><tr><td>605</td><td>7760 N. Pan Am Expwy</td><td>NULL</td><td>San Antonio</td><td>Texas</td><td>United States</td><td>78204</td><td>6C3DA38C-887D-410C-B022-8F2BF2DB3339</td><td>2005-09-01 00:00:00.0000000</td></tr><tr><td>553</td><td>253131 Lake Frasier Drive, Office No. 2</td><td>NULL</td><td>Calgary</td><td>Alberta</td><td>Canada</td><td>T2P 2G8</td><td>EF7B5BD3-3A04-4A09-A0D2-02B98E3333DC</td><td>2005-08-01 00:00:00.0000000</td></tr><tr><td>645</td><td>Garamonde Drive, Wymbush</td><td>P.O. Box 803</td><td>Milton Keynes</td><td>England</td><td>United Kingdom</td><td>MK8 8ZD</td><td>6EF999E7-5510-4B02-B89E-DDCF51AE3864</td><td>2007-07-01 00:00:00.0000000</td></tr><tr><td>891</td><td>2526a Tri-Lake Blvd Ne</td><td>NULL</td><td>Kirkland</td><td>Washington</td><td>United States</td><td>98033</td><td>EC34E865-D130-403F-A437-D92D7EF02F05</td><td>2005-12-01 00:00:00.0000000</td></tr><tr><td>585</td><td>Noah Lane</td><td>NULL</td><td>Chicago</td><td>Illinois</td><td>United States</td><td>60610</td><td>E9408FBB-1C28-4923-9D85-2DFADB3B4B6B</td><td>2006-08-01 00:00:00.0000000</td></tr><tr><td>9</td><td>8713 Yosemite Ct.</td><td>NULL</td><td>Bothell</td><td>Washington</td><td>United States</td><td>98011</td><td>268AF621-76D7-4C78-9441-144FD139821A</td><td>2006-07-01 00:00:00.0000000</td></tr><tr><td>1093</td><td>7750 E Marching Rd</td><td>NULL</td><td>Scottsdale</td><td>Arizona</td><td>United States</td><td>85257</td><td>F181458A-B5A3-4944-B7B1-73DCAD67C14E</td><td>2007-08-01 00:00:00.0000000</td></tr><tr><td>473</td><td>595 Burning Street</td><td>NULL</td><td>Vancouver</td><td>British Columbia</td><td>Canada</td><td>V7L 4J4</td><td>0EC83A85-137E-4CF3-B13D-3926277698B2</td><td>2005-09-01 00:00:00.0000000</td></tr><tr><td>1043</td><td>Hanford Mall</td><td>NULL</td><td>Hanford</td><td>California</td><td>United States</td><td>93230</td><td>F4F57D92-1839-49F4-A491-63F43215AAF1</td><td>2005-12-01 00:00:00.0000000</td></tr><tr><td>622</td><td>Management Mall</td><td>NULL</td><td>San Antonio</td><td>Texas</td><td>United States</td><td>78204</td><td>E82D1276-E19A-4FAD-90F5-7E19AF94EA64</td><td>2006-03-01 00:00:00.0000000</td></tr><tr><td>1038</td><td>123 Camelia Avenue</td><td>NULL</td><td>Oxnard</td><td>California</td><td>United States</td><td>93030</td><td>A86C8140-AD7D-4CAA-9B40-4006BD9998E2</td><td>2007-09-01 00:00:00.0000000</td></tr><tr><td>527</td><td>252851 Rowan Place</td><td>NULL</td><td>Richmond</td><td>British Columbia</td><td>Canada</td><td>V6B 3P7</td><td>11EAEE50-8A14-4B81-951E-86701B6F60C0</td><td>2006-09-01 00:00:00.0000000</td></tr><tr><td>538</td><td>25 Danger Street West</td><td>Floor 7</td><td>Toronto</td><td>Ontario</td><td>Canada</td><td>M4B 1V5</td><td>10B2404C-F0AF-409C-AF5D-0218BEB03D0D</td><td>2007-08-01 00:00:00.0000000</td></tr><tr><td>1039</td><td>Mountain Square</td><td>NULL</td><td>Upland</td><td>California</td><td>United States</td><td>91786</td><td>8F1BDC33-0BFB-41D0-BB85-71AAFE6126E7</td><td>2006-09-01 00:00:00.0000000</td></tr><tr><td>625</td><td>Cedar Creek Stores</td><td>NULL</td><td>Mosinee</td><td>Wisconsin</td><td>United States</td><td>54455</td><td>2E6E124E-BB43-4D40-8515-82DDA7994BD4</td><td>2007-08-01 00:00:00.0000000</td></tr><tr><td>852</td><td>25718 Se Sunnyside Rd</td><td>NULL</td><td>Clackamas</td><td>Oregon</td><td>United States</td><td>97015-6403</td><td>E85AC59F-59B6-4ED2-9436-FCDB78959B80</td><td>2007-08-01 00:00:00.0000000</td></tr><tr><td>989</td><td>39933 Mission Oaks Blvd</td><td>NULL</td><td>Camarillo</td><td>California</td><td>United States</td><td>93010</td><td>8B1241CA-1DB6-4F9D-861E-1D6CC3796443</td><td>2007-09-01 00:00:00.0000000</td></tr><tr><td>882</td><td>Medford</td><td>NULL</td><td>Medford</td><td>Oregon</td><td>United States</td><td>97504</td><td>DBC16BDD-C86D-4D5F-91F5-79FA000716FB</td><td>2007-07-01 00:00:00.0000000</td></tr><tr><td>649</td><td>Knaves Beech Ind.</td><td>NULL</td><td>High Wycombe</td><td>England</td><td>United Kingdom</td><td>HP10 9QY</td><td>11FCFF74-5C80-4B37-A842-45C765D96029</td><td>2007-09-01 00:00:00.0000000</td></tr><tr><td>873</td><td>44606 N Division St</td><td>NULL</td><td>Spokane</td><td>Washington</td><td>United States</td><td>99202</td><td>3438AFB3-390C-48D5-8CCF-5438278D981D</td><td>2007-08-01 00:00:00.0000000</td></tr><tr><td>614</td><td>Town East Center</td><td>NULL</td><td>Mesquite</td><td>Texas</td><td>United States</td><td>75149</td><td>7BA1AF96-5A8E-4259-835C-DA67DB296A5E</td><td>2006-09-01 00:00:00.0000000</td></tr><tr><td>673</td><td>Park House-4th Floor, 2516 Park St.</td><td>NULL</td><td>London</td><td>England</td><td>United Kingdom</td><td>W1Y 3RA</td><td>2506679E-041B-4D52-B9A9-07A0D5E88EEA</td><td>2006-08-01 00:00:00.0000000</td></tr><tr><td>1046</td><td>Rocky Mountain Pines Outlet</td><td>NULL</td><td>Loveland</td><td>Colorado</td><td>United States</td><td>80537</td><td>518E7219-193F-4D72-90C9-E82F201AFBE4</td><td>2005-08-01 00:00:00.0000000</td></tr><tr><td>1013</td><td>54254 Pacific Ave.</td><td>NULL</td><td>Stockton</td><td>California</td><td>United States</td><td>95202</td><td>7B82A39F-D175-4543-8F6F-AE6FE9C34A99</td><td>2006-08-01 00:00:00.0000000</td></tr><tr><td>514</td><td>63 West Beaver Creek</td><td>NULL</td><td>Richmond Hill</td><td>Ontario</td><td>Canada</td><td>L4E 3M5</td><td>AD60DBA9-3B01-47E9-BB5E-DF94D0579F14</td><td>2006-09-01 00:00:00.0000000</td></tr><tr><td>1090</td><td>25130 South State Street</td><td>NULL</td><td>Sandy</td><td>Utah</td><td>United States</td><td>84070</td><td>CF3AE92A-3E66-4AF0-B683-731826E89CD1</td><td>2007-09-01 00:00:00.0000000</td></tr><tr><td>475</td><td>2512-410th Avenue S.W.</td><td>NULL</td><td>Calgary</td><td>Alberta</td><td>Canada</td><td>T2P 2G8</td><td>EC6C99B9-61E2-4400-8180-208F5A6C7EFF</td><td>2007-09-01 00:00:00.0000000</td></tr><tr><td>1101</td><td>825 W 500 S</td><td>NULL</td><td>Bountiful</td><td>Utah</td><td>United States</td><td>84010</td><td>2E6D7491-E0A8-4C79-98CE-BAC61A07FB25</td><td>2006-10-01 00:00:00.0000000</td></tr><tr><td>448</td><td>2575 Bloor Street East</td><td>NULL</td><td>Toronto</td><td>Ontario</td><td>Canada</td><td>M4B 1V6</td><td>2DF6D0AD-0926-4F34-A450-9B1083150CBF</td><td>2007-08-01 00:00:00.0000000</td></tr><tr><td>512</td><td>700 Bureau Road</td><td>NULL</td><td>Montreal</td><td>Quebec</td><td>Canada</td><td>H1Y 2H7</td><td>963F514B-7752-46E8-9742-1FD40A68EA33</td><td>2007-09-01 00:00:00.0000000</td></tr><tr><td>465</td><td>25245 Rue Sherbrooke Ouest</td><td>NULL</td><td>Montreal</td><td>Quebec</td><td>Canada</td><td>H1Y 2H5</td><td>10EE8C14-2792-4F02-B83D-92511D20470F</td><td>2007-07-01 00:00:00.0000000</td></tr><tr><td>574</td><td>Po Box 8259024</td><td>NULL</td><td>Dallas</td><td>Texas</td><td>United States</td><td>75201</td><td>9794B438-2E91-4699-85DF-5FCF98210AC1</td><td>2006-09-01 00:00:00.0000000</td></tr><tr><td>589</td><td>One Dancing, Rr No. 25</td><td>Box 8033</td><td>Round Rock</td><td>Texas</td><td>United States</td><td>78664</td><td>A514F151-6B2D-452C-A983-D68AED9E112E</td><td>2005-09-01 00:00:00.0000000</td></tr><tr><td>1001</td><td>Incom Sports Center</td><td>NULL</td><td>Ontario</td><td>California</td><td>United States</td><td>91764</td><td>079E5DE8-169F-4EB6-BE75-813B40A0143E</td><td>2005-08-01 00:00:00.0000000</td></tr><tr><td>556</td><td>990th Floor 700 De La GauchetiSre Ou</td><td>NULL</td><td>Montreal</td><td>Quebec</td><td>Canada</td><td>H1Y 2H3</td><td>87846D7C-AB01-41C6-A4CC-FAD06D74D11B</td><td>2005-07-01 00:00:00.0000000</td></tr><tr><td>1004</td><td>25600 E St Andrews Pl</td><td>NULL</td><td>Santa Ana</td><td>California</td><td>United States</td><td>92701</td><td>489390E0-48C0-4BB4-A5DC-38C4B39EA833</td><td>2005-09-01 00:00:00.0000000</td></tr><tr><td>476</td><td>258 King Street East</td><td>NULL</td><td>Toronto</td><td>Ontario</td><td>Canada</td><td>M4B 1V7</td><td>90C770A5-A474-43D1-9A67-0F5DE336F9DC</td><td>2005-08-01 00:00:00.0000000</td></tr><tr><td>1105</td><td>566 S. Main</td><td>NULL</td><td>Cedar City</td><td>Utah</td><td>United States</td><td>84720</td><td>C16F92AB-817F-42D1-A560-BC0F86FE2783</td><td>2006-07-01 00:00:00.0000000</td></tr><tr><td>842</td><td>258101 Nw Evergreen Parkway</td><td>NULL</td><td>Beaverton</td><td>Oregon</td><td>United States</td><td>97005</td><td>EB5A214A-15A1-4E25-B405-DC0EF9907874</td><td>2005-09-01 00:00:00.0000000</td></tr><tr><td>900</td><td>25708 Dell Range Blvd.</td><td>NULL</td><td>Cheyenne</td><td>Wyoming</td><td>United States</td><td>82001</td><td>9B10FE3A-A1FB-497E-8BC2-E84E8C2A77DA</td><td>2005-07-01 00:00:00.0000000</td></tr><tr><td>505</td><td>6400, 888 - 3rd Avenue</td><td>NULL</td><td>Calgary</td><td>Alberta</td><td>Canada</td><td>T2P 2G8</td><td>A6EFF2B6-3B11-47EF-AB7E-701E5041C71C</td><td>2005-08-01 00:00:00.0000000</td></tr><tr><td>1077</td><td>7505 Laguna Boulevard</td><td>NULL</td><td>Elk Grove</td><td>California</td><td>United States</td><td>95624</td><td>B6213E39-9DA3-4423-8756-0B195ED95FB4</td><td>2005-11-01 00:00:00.0000000</td></tr><tr><td>592</td><td>9903 Highway 6 South</td><td>NULL</td><td>Houston</td><td>Texas</td><td>United States</td><td>77003</td><td>CE585616-C47C-4BD4-8D71-1755B6417770</td><td>2005-07-01 00:00:00.0000000</td></tr><tr><td>579</td><td>25 N State St</td><td>NULL</td><td>Chicago</td><td>Illinois</td><td>United States</td><td>60610</td><td>02D95901-41C1-4479-A04F-9FFB5A2675E3</td><td>2006-07-01 00:00:00.0000000</td></tr><tr><td>481</td><td>65 Gamelin Street</td><td>NULL</td><td>Hull</td><td>Quebec</td><td>Canada</td><td>8Y</td><td>F35E73BA-678F-4A0F-80BC-6385A7A6CB24</td><td>2006-08-01 00:00:00.0000000</td></tr><tr><td>1097</td><td>Corp Ofc Accts Payable</td><td>NULL</td><td>El Segundo</td><td>California</td><td>United States</td><td>90245</td><td>5F6D242F-DDA3-462C-BEC1-097C63913176</td><td>2005-09-01 00:00:00.0000000</td></tr><tr><td>775</td><td>46460 West Oaks Drive</td><td>NULL</td><td>Novi</td><td>Michigan</td><td>United States</td><td>48375</td><td>D0614A62-08E0-4F83-AC72-51F58170B653</td><td>2006-09-01 00:00:00.0000000</td></tr><tr><td>1058</td><td>Riverside</td><td>NULL</td><td>Sherman Oaks</td><td>California</td><td>United States</td><td>91403</td><td>A26100F0-511F-45A2-879A-FF365794FCF5</td><td>2007-09-01 00:00:00.0000000</td></tr><tr><td>1102</td><td>603 Gellert Blvd</td><td>NULL</td><td>Daly City</td><td>California</td><td>United States</td><td>94015</td><td>A8DCAD62-8678-458C-87EB-E2C2E550FF80</td><td>2005-12-01 00:00:00.0000000</td></tr><tr><td>897</td><td>705 SE Mall Parkway</td><td>NULL</td><td>Everett</td><td>Washington</td><td>United States</td><td>98201</td><td>77A34652-5D9B-40B6-A15A-56D7EE4056F4</td><td>2006-08-01 00:00:00.0000000</td></tr><tr><td>445</td><td>6388 Lake City Way</td><td>NULL</td><td>Burnaby</td><td>British Columbia</td><td>Canada</td><td>V5A 3A6</td><td>53572F25-9133-4A8B-A065-102FF35416EE</td><td>2006-09-01 00:00:00.0000000</td></tr><tr><td>520</td><td>6700 Boul Taschereau</td><td>NULL</td><td>Brossard</td><td>Quebec</td><td>Canada</td><td>J4Z 1C5</td><td>B730EAFF-5828-4C8C-86C1-9137F50FCA48</td><td>2005-09-01 00:00:00.0000000</td></tr><tr><td>499</td><td>Suite 2502 410 Albert Street</td><td>NULL</td><td>Waterloo</td><td>Ontario</td><td>Canada</td><td>N2V</td><td>44099B0E-03F3-447C-83BF-BE4BAA010A83</td><td>2006-08-01 00:00:00.0000000</td></tr><tr><td>858</td><td>2345 West Spencer Road</td><td>NULL</td><td>Lynnwood</td><td>Washington</td><td>United States</td><td>98036</td><td>68AEB59D-0F79-4A0D-92EF-4D0C2BEB5821</td><td>2006-09-01 00:00:00.0000000</td></tr><tr><td>901</td><td>No. 60 Bellis Fair Parkway</td><td>NULL</td><td>Bellingham</td><td>Washington</td><td>United States</td><td>98225</td><td>8135B5DC-F7E9-401C-992C-93A058ADA079</td><td>2007-09-01 00:00:00.0000000</td></tr><tr><td>1012</td><td>789 West Alameda</td><td>NULL</td><td>Westminster</td><td>Colorado</td><td>United States</td><td>80030</td><td>73BF97F3-E4E3-402D-8609-7839AEBAA947</td><td>2006-09-01 00:00:00.0000000</td></tr><tr><td>876</td><td>765 Delridge Way Sw</td><td>NULL</td><td>Seattle</td><td>Washington</td><td>United States</td><td>98104</td><td>CB1392F5-FCB9-4CF5-B4C9-33FAFB876C3D</td><td>2005-07-01 00:00:00.0000000</td></tr><tr><td>840</td><td>Great Northwestern</td><td>NULL</td><td>North Bend</td><td>Washington</td><td>United States</td><td>98045</td><td>1EF6E60F-3582-4298-A7AD-195BE59BA7B7</td><td>2005-08-01 00:00:00.0000000</td></tr><tr><td>517</td><td>2573 Dufferin Street</td><td>NULL</td><td>Toronto</td><td>Ontario</td><td>Canada</td><td>M4B 1V5</td><td>97605C5C-8309-44F2-9A98-C5A5709497FF</td><td>2005-07-01 00:00:00.0000000</td></tr><tr><td>468</td><td>Po Box 83270</td><td>NULL</td><td>Vancouver</td><td>British Columbia</td><td>Canada</td><td>V7L 4J4</td><td>C00A5DFF-B134-4900-9561-E67EEB425F9F</td><td>2007-08-01 00:00:00.0000000</td></tr><tr><td>801</td><td>Horizon Outlet Center</td><td>NULL</td><td>Holland</td><td>Michigan</td><td>United States</td><td>49423</td><td>DC15BA52-B66C-4C5F-BDAF-1713E8C54B46</td><td>2005-07-01 00:00:00.0000000</td></tr><tr><td>1026</td><td>955 E. County Line Rd.</td><td>NULL</td><td>Englewood</td><td>Colorado</td><td>United States</td><td>80110</td><td>17A96F13-8658-4F02-A557-2BC4463ADE21</td><td>2007-09-01 00:00:00.0000000</td></tr><tr><td>856</td><td>3025 E Waterway Blvd</td><td>NULL</td><td>Shelton</td><td>Washington</td><td>United States</td><td>98584</td><td>779D4F7D-C90C-4A8A-BF29-41613E8907EF</td><td>2006-11-01 00:00:00.0000000</td></tr><tr><td>774</td><td>9920 North Telegraph Rd.</td><td>NULL</td><td>Pontiac</td><td>Michigan</td><td>United States</td><td>48342</td><td>7BC77B2E-ED84-443A-BD50-F67718DEA95D</td><td>2005-09-01 00:00:00.0000000</td></tr><tr><td>756</td><td>855 East Main Avenue</td><td>NULL</td><td>Zeeland</td><td>Michigan</td><td>United States</td><td>49464</td><td>7CC420B7-B43C-4E40-98ED-6C10CEC91C54</td><td>2005-08-01 00:00:00.0000000</td></tr><tr><td>447</td><td>22580 Free Street</td><td>NULL</td><td>Toronto</td><td>Ontario</td><td>Canada</td><td>M4B 1V7</td><td>88CEE379-DBB8-433B-B84E-A35E09435500</td><td>2006-08-01 00:00:00.0000000</td></tr><tr><td>1099</td><td>62500 Neil Road</td><td>NULL</td><td>Reno</td><td>Nevada</td><td>United States</td><td>89502</td><td>BE51F10F-1A66-46E6-8154-9FE01597769C</td><td>2005-08-01 00:00:00.0000000</td></tr><tr><td>786</td><td>6789 Warren Road</td><td>NULL</td><td>Westland</td><td>Michigan</td><td>United States</td><td>48185</td><td>90B0CF86-70E1-45D8-B6FD-0E1804A734C2</td><td>2006-12-01 00:00:00.0000000</td></tr><tr><td>518</td><td>995 Crescent</td><td>NULL</td><td>Richmond Hill</td><td>Ontario</td><td>Canada</td><td>L4E 3M5</td><td>0B49022D-8B49-4CF6-B0A3-46231CD48441</td><td>2007-09-01 00:00:00.0000000</td></tr><tr><td>600</td><td>25095 W. Florissant</td><td>NULL</td><td>Ferguson</td><td>Missouri</td><td>United States</td><td>63135</td><td>1A51283C-12BB-462E-A1B8-A0039C18E6D8</td><td>2005-08-01 00:00:00.0000000</td></tr><tr><td>1005</td><td>6756 Mowry</td><td>NULL</td><td>Newark</td><td>California</td><td>United States</td><td>94560</td><td>CFB5ED2A-43FE-4102-8413-73C74DACC79E</td><td>2006-08-01 00:00:00.0000000</td></tr><tr><td>575</td><td>42500 W 76th St</td><td>NULL</td><td>Chicago</td><td>Illinois</td><td>United States</td><td>60610</td><td>CD335652-0913-40EA-9AE0-323066FC04F0</td><td>2006-09-01 00:00:00.0000000</td></tr><tr><td>536</td><td>No. 2000-25080 Beaver Hall Hill</td><td>NULL</td><td>Quebec</td><td>Quebec</td><td>Canada</td><td>G1R</td><td>0C38C439-4562-4E37-8F23-AFF2C9005C38</td><td>2006-09-01 00:00:00.0000000</td></tr><tr><td>533</td><td>4400 March Road</td><td>NULL</td><td>Kanata</td><td>Ontario</td><td>Canada</td><td>K2L 1H5</td><td>43484CD9-AD5B-41F4-A9CC-DDFBAC4B5AA5</td><td>2005-11-01 00:00:00.0000000</td></tr><tr><td>1065</td><td>Factory Stores Of America</td><td>NULL</td><td>Mesa</td><td>Arizona</td><td>United States</td><td>85201</td><td>1B96D3A3-ED06-482F-A813-7136E5AAA57D</td><td>2006-09-01 00:00:00.0000000</td></tr><tr><td>853</td><td>567 Sw Mcloughlin Blvd</td><td>NULL</td><td>Milwaukie</td><td>Oregon</td><td>United States</td><td>97222</td><td>055B060A-7DA2-455C-BCB3-A8DCEA4C5156</td><td>2007-09-01 00:00:00.0000000</td></tr><tr><td>450</td><td>575 Rue St Amable</td><td>NULL</td><td>Quebec</td><td>Quebec</td><td>Canada</td><td>G1R</td><td>5F3C345A-6475-41D5-B17B-DB8D27733BB1</td><td>2006-09-01 00:00:00.0000000</td></tr><tr><td>1063</td><td>Viejas Outlet Center</td><td>NULL</td><td>Alpine</td><td>California</td><td>United States</td><td>91901</td><td>4F8EC2C2-71D6-4B7F-BCC7-808E17696373</td><td>2007-09-01 00:00:00.0000000</td></tr><tr><td>1070</td><td>3250 Baldwin Park Blvd</td><td>NULL</td><td>Baldwin Park</td><td>California</td><td>United States</td><td>91706</td><td>957EC59C-7A7D-438E-9014-20FBEB807E99</td><td>2005-08-01 00:00:00.0000000</td></tr><tr><td>1092</td><td>99700 Bell Road</td><td>NULL</td><td>Auburn</td><td>California</td><td>United States</td><td>95603</td><td>79CDD89C-3C91-48DB-8277-46D04AAD7251</td><td>2006-09-01 00:00:00.0000000</td></tr><tr><td>657</td><td>Unit 99a Battery Retail Pk</td><td>NULL</td><td>Birmingham</td><td>England</td><td>United Kingdom</td><td>B29 6SL</td><td>371A70E0-5802-4DF9-BB28-5B6BDF202283</td><td>2006-08-01 00:00:00.0000000</td></tr><tr><td>879</td><td>Valley Mall</td><td>NULL</td><td>Union Gap</td><td>Washington</td><td>United States</td><td>98903</td><td>860CB49B-5774-441F-B8C5-753CA50FA5E1</td><td>2006-07-01 00:00:00.0000000</td></tr><tr><td>1060</td><td>Arcadia Crossing</td><td>NULL</td><td>Phoenix</td><td>Arizona</td><td>United States</td><td>85004</td><td>CC91297C-567B-4186-96C8-2BA6F0875E73</td><td>2006-07-01 00:00:00.0000000</td></tr><tr><td>487</td><td>9259 - 1110th Avenue Sw</td><td>NULL</td><td>Calgary</td><td>Alberta</td><td>Canada</td><td>T2P 2G8</td><td>275AC976-0D23-4D97-9F58-BB186D1CC089</td><td>2006-09-01 00:00:00.0000000</td></tr><tr><td>865</td><td>750 Lakeway Dr</td><td>NULL</td><td>Bellingham</td><td>Washington</td><td>United States</td><td>98225</td><td>243020EC-84C3-417A-B34D-F7760FF130D1</td><td>2006-07-01 00:00:00.0000000</td></tr><tr><td>674</td><td>67 Vincent Square, Victoria</td><td>NULL</td><td>London</td><td>England</td><td>United Kingdom</td><td>SW1P 2NU</td><td>1A398C1B-2085-4F6D-A6EB-56493855C5D1</td><td>2007-09-01 00:00:00.0000000</td></tr><tr><td>25</td><td>9178 Jumping St.</td><td>NULL</td><td>Dallas</td><td>Texas</td><td>United States</td><td>75201</td><td>C8DF3BD9-48F0-4654-A8DD-14A67A84D3C6</td><td>2006-09-01 00:00:00.0000000</td></tr><tr><td>1068</td><td>7709 West Virginia Avenue</td><td>NULL</td><td>Phoenix</td><td>Arizona</td><td>United States</td><td>85004</td><td>B8184C93-A8DE-4321-B381-1BABC7088D60</td><td>2006-07-01 00:00:00.0000000</td></tr><tr><td>797</td><td>678 Eastman Ave.</td><td>NULL</td><td>Midland</td><td>Michigan</td><td>United States</td><td>48640</td><td>986DE66F-74E6-4830-A2AD-9212EFB77B76</td><td>2006-09-01 00:00:00.0000000</td></tr><tr><td>1089</td><td>25620 Firestone Boulevard</td><td>NULL</td><td>Norwalk</td><td>California</td><td>United States</td><td>90650</td><td>31A07731-18FF-4100-8319-B4704F414497</td><td>2007-07-01 00:00:00.0000000</td></tr><tr><td>630</td><td>Lincoln Square</td><td>NULL</td><td>Arlington</td><td>Texas</td><td>United States</td><td>76010</td><td>734DE48F-7F95-4386-986E-F8AB86C194A0</td><td>2005-09-01 00:00:00.0000000</td></tr><tr><td>1103</td><td>2564 S. Redwood Rd.</td><td>NULL</td><td>Riverton</td><td>Utah</td><td>United States</td><td>84065</td><td>E299E96D-63CB-4ACC-9BFD-5F0C23AE5820</td><td>2005-11-01 00:00:00.0000000</td></tr><tr><td>619</td><td>First Colony Mall</td><td>NULL</td><td>Sugar Land</td><td>Texas</td><td>United States</td><td>77478</td><td>DA205E92-2867-48A9-BF18-4558A31272AE</td><td>2005-12-01 00:00:00.0000000</td></tr><tr><td>1086</td><td>57251 Serene Blvd</td><td>NULL</td><td>Van Nuys</td><td>California</td><td>United States</td><td>91411</td><td>7DF3A412-F2B3-4ABB-88E1-21D4677F1311</td><td>2007-09-01 00:00:00.0000000</td></tr><tr><td>490</td><td>9979 Bayview Drive</td><td>NULL</td><td>Barrie</td><td>Ontario</td><td>Canada</td><td>L4N</td><td>85D72A98-F631-457C-8FFF-04FAEC508F5D</td><td>2006-08-01 00:00:00.0000000</td></tr><tr><td>1064</td><td>West Park Plaza</td><td>NULL</td><td>Irvine</td><td>California</td><td>United States</td><td>92614</td><td>365914CE-CBB2-429B-A2D8-24638FCF17FC</td><td>2006-01-01 00:00:00.0000000</td></tr><tr><td>837</td><td>640 South 994th St. W.</td><td>NULL</td><td>Billings</td><td>Montana</td><td>United States</td><td>59101</td><td>4E75AD15-557E-4C4D-9AEB-68A9718B412A</td><td>2007-09-01 00:00:00.0000000</td></tr><tr><td>513</td><td>253711 Mayfield Place, Unit 150</td><td>NULL</td><td>Richmond</td><td>British Columbia</td><td>Canada</td><td>V6B 3P7</td><td>C418C2F4-6B32-4404-AAB1-E0BEC3958C11</td><td>2007-09-01 00:00:00.0000000</td></tr><tr><td>993</td><td>Corporate Office</td><td>NULL</td><td>El Segundo</td><td>California</td><td>United States</td><td>90245</td><td>6CCCC74F-6389-4D08-8ED1-9079B42CF7AE</td><td>2006-09-01 00:00:00.0000000</td></tr><tr><td>861</td><td>25915 140th Ave Ne</td><td>NULL</td><td>Bellevue</td><td>Washington</td><td>United States</td><td>98004</td><td>0D46F203-CDB6-4495-83F5-A97FF0CEC174</td><td>2006-09-01 00:00:00.0000000</td></tr><tr><td>480</td><td>25 First Canadian Place</td><td>NULL</td><td>Toronto</td><td>Ontario</td><td>Canada</td><td>M4B 1V5</td><td>07A009B2-1421-4597-AB85-22BCE3C82B2C</td><td>2005-08-01 00:00:00.0000000</td></tr><tr><td>449</td><td>Station E</td><td>NULL</td><td>Chalk Riber</td><td>Ontario</td><td>Canada</td><td>K0J 1J0</td><td>8B5A7729-CB75-4303-A607-7F9793B4D94F</td><td>2005-08-01 00:00:00.0000000</td></tr><tr><td>1082</td><td>2551 East Warner Road</td><td>NULL</td><td>Gilbert</td><td>Arizona</td><td>United States</td><td>85233</td><td>D88AFBDA-B59B-496E-BA6D-B3B2356574FF</td><td>2007-08-01 00:00:00.0000000</td></tr><tr><td>11380</td><td>165 North Main</td><td>NULL</td><td>Austin</td><td>Texas</td><td>United States</td><td>78701</td><td>412E3088-1FB8-4A1F-B3A8-ABB23A4F01C1</td><td>2006-07-01 00:00:00.0000000</td></tr><tr><td>621</td><td>Tanger Factory</td><td>NULL</td><td>Branch</td><td>Minnesota</td><td>United States</td><td>55056</td><td>75D18DB1-C9EF-4DAD-BBD2-697FF73FAF6C</td><td>2005-09-01 00:00:00.0000000</td></tr><tr><td>460</td><td>2521 McPherson Street</td><td>NULL</td><td>Markham</td><td>Ontario</td><td>Canada</td><td>L3S 3K2</td><td>7D6F03AC-5D55-422E-850E-B8743FAC81B2</td><td>2007-08-01 00:00:00.0000000</td></tr><tr><td>859</td><td>1050 Oak Street</td><td>NULL</td><td>Seattle</td><td>Washington</td><td>United States</td><td>98104</td><td>8CAAF6BE-9C88-466D-862C-AE7673E3D0F0</td><td>2006-08-01 00:00:00.0000000</td></tr><tr><td>883</td><td>Heritage Mall</td><td>NULL</td><td>Albany</td><td>Oregon</td><td>United States</td><td>97321</td><td>CF9C1921-D741-4576-9D32-849E62D57698</td><td>2007-07-01 00:00:00.0000000</td></tr><tr><td>1048</td><td>Factory Merchants</td><td>NULL</td><td>Barstow</td><td>California</td><td>United States</td><td>92311</td><td>470574F9-6A06-43DC-A4B9-DE3C8D88B0E6</td><td>2005-09-01 00:00:00.0000000</td></tr><tr><td>845</td><td>22571 South 2500 East</td><td>NULL</td><td>Idaho Falls</td><td>Idaho</td><td>United States</td><td>83402</td><td>1E5743C8-B8F7-4A65-B812-0302FFCB9D0E</td><td>2007-07-01 00:00:00.0000000</td></tr><tr><td>577</td><td>2500 North Stemmons Freeway</td><td>NULL</td><td>Dallas</td><td>Texas</td><td>United States</td><td>75201</td><td>C91ED16C-4407-4EED-A241-C8327E5E50C2</td><td>2006-09-01 00:00:00.0000000</td></tr><tr><td>655</td><td>Wharfdale Road</td><td>NULL</td><td>Berkshire</td><td>England</td><td>United Kingdom</td><td>RG11 5TP</td><td>D0E03FCB-116E-4AD2-8B17-5C2F9FD3E8B0</td><td>2006-08-01 00:00:00.0000000</td></tr><tr><td>609</td><td>3900 S. 997th St.</td><td>NULL</td><td>Milwaukee</td><td>Wisconsin</td><td>United States</td><td>53202</td><td>7394624A-5CA8-4ADC-923C-235D971514B8</td><td>2005-09-01 00:00:00.0000000</td></tr><tr><td>1049</td><td>The Citadel Commerce Plaza</td><td>NULL</td><td>City Of Commerce</td><td>California</td><td>United States</td><td>90040</td><td>42CD575B-22A1-42E0-93BB-D8EE998E4FB7</td><td>2005-09-01 00:00:00.0000000</td></tr><tr><td>847</td><td>25102 Springwater</td><td>NULL</td><td>Wenatchee</td><td>Washington</td><td>United States</td><td>98801</td><td>F84F402F-9BD5-432E-A1D6-F284A6DFFA29</td><td>2006-06-01 00:00:00.0000000</td></tr><tr><td>606</td><td>99433 S. Greenbay Rd.</td><td>NULL</td><td>Racine</td><td>Wisconsin</td><td>United States</td><td>53182</td><td>48F98B9B-CF62-4A87-95E8-44DA6AAC6F97</td><td>2005-09-01 00:00:00.0000000</td></tr><tr><td>508</td><td>2900 - 25055 Dunning Street</td><td>NULL</td><td>Vancouver</td><td>British Columbia</td><td>Canada</td><td>V7L 4J4</td><td>4EE0334F-027C-4036-880F-6E9104E21533</td><td>2006-12-01 00:00:00.0000000</td></tr><tr><td>1041</td><td>Parkway Plaza</td><td>NULL</td><td>El Cajon</td><td>California</td><td>United States</td><td>92020</td><td>C0FDC154-D2B5-480D-A5DA-4E0D6B5D750C</td><td>2005-11-01 00:00:00.0000000</td></tr><tr><td>1003</td><td>5967 W Las Positas Blvd</td><td>NULL</td><td>Pleasanton</td><td>California</td><td>United States</td><td>94566</td><td>6B26292F-1EBE-41CE-9A3E-FF42D3C10A44</td><td>2007-07-01 00:00:00.0000000</td></tr><tr><td>478</td><td>2545 King Street West</td><td>NULL</td><td>Toronto</td><td>Ontario</td><td>Canada</td><td>M4B 1V7</td><td>2817A0B7-8985-4527-BB7B-B75F55F4D8DE</td><td>2005-08-01 00:00:00.0000000</td></tr><tr><td>642</td><td>Galashiels</td><td>NULL</td><td>Liverpool</td><td>England</td><td>United Kingdom</td><td>L4 4HB</td><td>3593CDF3-38EC-4847-AD42-157220E68F32</td><td>2007-09-01 00:00:00.0000000</td></tr><tr><td>1067</td><td>Bayshore Mall</td><td>NULL</td><td>Eureka</td><td>California</td><td>United States</td><td>95501</td><td>001D1A67-585C-44B2-AAC6-1199AFD7425F</td><td>2006-09-01 00:00:00.0000000</td></tr><tr><td>881</td><td>Southgate Mall</td><td>NULL</td><td>Missoula</td><td>Montana</td><td>United States</td><td>59801</td><td>3DED7F59-79A9-4034-98F9-F2A0B045D7AE</td><td>2006-10-01 00:00:00.0000000</td></tr><tr><td>563</td><td>74400 France Avenue South</td><td>NULL</td><td>Edina</td><td>Minnesota</td><td>United States</td><td>55436</td><td>A1841D05-CABD-4453-96E4-9B1E95CA2BC2</td><td>2006-09-01 00:00:00.0000000</td></tr><tr><td>1047</td><td>Stevens Creek Shopping Center</td><td>NULL</td><td>San Jose</td><td>California</td><td>United States</td><td>95112</td><td>0E6F74F0-9128-4688-9007-6395D6C6F4C4</td><td>2006-09-01 00:00:00.0000000</td></tr><tr><td>631</td><td>Kansas City Factory Outlet</td><td>NULL</td><td>Odessa</td><td>Missouri</td><td>United States</td><td>64076</td><td>BCD46B97-395D-4EEF-A712-245BA629621F</td><td>2005-07-01 00:00:00.0000000</td></tr><tr><td>541</td><td>25981 College Street</td><td>NULL</td><td>Montreal</td><td>Quebec</td><td>Canada</td><td>H1Y 2H5</td><td>AF56D631-EB1C-4716-A89B-88BC4AE04B93</td><td>2006-08-01 00:00:00.0000000</td></tr><tr><td>1088</td><td>99040 California Avenue</td><td>NULL</td><td>Sand City</td><td>California</td><td>United States</td><td>93955</td><td>A18799A1-342A-4B6C-A63C-8E4E2C07F734</td><td>2007-07-01 00:00:00.0000000</td></tr><tr><td>522</td><td>43251 Viking Way, Unit 130</td><td>NULL</td><td>Richmond</td><td>British Columbia</td><td>Canada</td><td>V6B 3P7</td><td>842BCBE5-9DA5-42D5-A4BB-4197DB5B69C7</td><td>2007-02-01 00:00:00.0000000</td></tr><tr><td>548</td><td>63 Free St.</td><td>NULL</td><td>Toronto</td><td>Ontario</td><td>Canada</td><td>M4B 1V4</td><td>5649C5D8-1798-4622-95BF-DC7E581284A0</td><td>2005-09-01 00:00:00.0000000</td></tr><tr><td>545</td><td>999 West Georgia St.</td><td>NULL</td><td>Vancouver</td><td>Ontario</td><td>Canada</td><td>V5T 1Y9</td><td>9D35F3C2-966E-4B3B-8D29-0E6AB8DEF01B</td><td>2006-09-01 00:00:00.0000000</td></tr><tr><td>456</td><td>6777 Kingsway</td><td>NULL</td><td>Burnaby</td><td>British Columbia</td><td>Canada</td><td>V5H 3Z7</td><td>2F3B383E-08A5-407D-AB1B-A1390E87A888</td><td>2006-08-01 00:00:00.0000000</td></tr><tr><td>997</td><td>70259 West Sunnyview Ave</td><td>NULL</td><td>Visalia</td><td>California</td><td>United States</td><td>93291</td><td>7C2E0511-DE61-4761-80EA-6A7B2F39E524</td><td>2007-09-01 00:00:00.0000000</td></tr><tr><td>1072</td><td>6500 East Grant Road</td><td>NULL</td><td>Tucson</td><td>Arizona</td><td>United States</td><td>85701</td><td>B9265D45-3FED-4B7D-AEEA-00D0E54B3CC7</td><td>2007-09-01 00:00:00.0000000</td></tr><tr><td>634</td><td>Ward Parkway Center</td><td>NULL</td><td>Kansas City</td><td>Missouri</td><td>United States</td><td>64106</td><td>3F2AA425-7D02-461A-A9C4-222AE41E3FE5</td><td>2006-09-01 00:00:00.0000000</td></tr><tr><td>617</td><td>Johnson Creek</td><td>NULL</td><td>Johnson Creek</td><td>Wisconsin</td><td>United States</td><td>53038</td><td>ACA53503-0920-446D-9C54-B83D7949D019</td><td>2007-06-01 00:00:00.0000000</td></tr><tr><td>1054</td><td>Belz Factory Outlet</td><td>NULL</td><td>Las Vegas</td><td>Nevada</td><td>United States</td><td>89106</td><td>0E75E01F-76D4-4420-BEB7-0033F16DEA62</td><td>2005-08-01 00:00:00.0000000</td></tr><tr><td>581</td><td>Po Box 8035996</td><td>NULL</td><td>Dallas</td><td>Texas</td><td>United States</td><td>75201</td><td>CC8321BA-C938-4765-8175-9126D432957F</td><td>2007-09-01 00:00:00.0000000</td></tr><tr><td>1076</td><td>8525 South Parker Road</td><td>NULL</td><td>Parker</td><td>Colorado</td><td>United States</td><td>80138</td><td>D4F4AB28-5F27-4F89-A0D6-5FCEA394BB47</td><td>2005-08-01 00:00:00.0000000</td></tr><tr><td>846</td><td>257700 Ne 76th Street</td><td>NULL</td><td>Redmond</td><td>Washington</td><td>United States</td><td>98052</td><td>E606AD23-F6D4-4AA5-B177-7D03D62B0187</td><td>2006-08-01 00:00:00.0000000</td></tr><tr><td>506</td><td>255117 - 101 Avenue</td><td>NULL</td><td>Surrey</td><td>British Columbia</td><td>Canada</td><td>V3T 4W3</td><td>22895B47-6086-4550-B437-A75DBEDFE1D9</td><td>2005-08-01 00:00:00.0000000</td></tr><tr><td>648</td><td>586 Fulham Road,</td><td>NULL</td><td>London</td><td>England</td><td>United Kingdom</td><td>SW6 SBY</td><td>0DA65673-2A35-4E6A-A607-A6CC2D134EA8</td><td>2007-08-01 00:00:00.0000000</td></tr><tr><td>544</td><td>30025 Wayburne Drive, Suite 275</td><td>NULL</td><td>Burnaby</td><td>British Columbia</td><td>Canada</td><td>V5G 4W1</td><td>4C65A591-C6B0-43D8-8FAF-F4B1CB9953E1</td><td>2005-09-01 00:00:00.0000000</td></tr><tr><td>994</td><td>25001 Montague Expressway</td><td>NULL</td><td>Milpitas</td><td>California</td><td>United States</td><td>95035</td><td>89901B2A-FDA8-4926-B22C-DD5D583681A6</td><td>2006-07-01 00:00:00.0000000</td></tr><tr><td>643</td><td>Banbury</td><td>NULL</td><td>Oxon</td><td>England</td><td>United Kingdom</td><td>OX16 8RS</td><td>99FF4C64-B405-4AC1-85ED-49E4E60EF87F</td><td>2006-09-01 00:00:00.0000000</td></tr><tr><td>992</td><td>9992 Whipple Rd</td><td>NULL</td><td>Union City</td><td>California</td><td>United States</td><td>94587</td><td>88258A1B-B50F-440F-93B9-5D7AF831D5FC</td><td>2006-09-01 00:00:00.0000000</td></tr><tr><td>855</td><td>15 East Main</td><td>NULL</td><td>Port Orchard</td><td>Washington</td><td>United States</td><td>98366</td><td>09926325-7F83-427B-83D6-817DF7D70CE9</td><td>2005-07-01 00:00:00.0000000</td></tr><tr><td>1059</td><td>The Quad @ WestView</td><td>NULL</td><td>Whittier</td><td>California</td><td>United States</td><td>90605</td><td>2215F750-1863-4AFF-926D-DE309C298DE9</td><td>2007-07-01 00:00:00.0000000</td></tr><tr><td>1062</td><td>Factory Stores/tucson</td><td>NULL</td><td>Tucson</td><td>Arizona</td><td>United States</td><td>85701</td><td>C15ECA9A-6054-40E4-8D09-D4341AABCE2D</td><td>2005-09-01 00:00:00.0000000</td></tr><tr><td>854</td><td>490 Ne 4th St</td><td>NULL</td><td>Renton</td><td>Washington</td><td>United States</td><td>98055</td><td>471190D7-86C1-48CD-985A-7046B1B89C3C</td><td>2007-08-01 00:00:00.0000000</td></tr><tr><td>843</td><td>253950 N.E. 178th Place</td><td>NULL</td><td>Woodinville</td><td>Washington</td><td>United States</td><td>98072</td><td>E75A2222-D636-4494-A314-2125EE2336F8</td><td>2005-09-01 00:00:00.0000000</td></tr><tr><td>570</td><td>52500 Liberty Way</td><td>NULL</td><td>Fort Worth</td><td>Texas</td><td>United States</td><td>76102</td><td>F5A1147F-761F-4577-BB48-BBEF73B4A27F</td><td>2006-07-01 00:00:00.0000000</td></tr><tr><td>653</td><td>Burgess Hill</td><td>Edward Way</td><td>West Sussex</td><td>England</td><td>United Kingdom</td><td>RH15 9UD</td><td>38CC8647-B4BB-4669-B21D-C7497E76478D</td><td>2006-09-01 00:00:00.0000000</td></tr><tr><td>868</td><td>25111 228th St Sw</td><td>NULL</td><td>Bothell</td><td>Washington</td><td>United States</td><td>98011</td><td>40100C97-5097-43BE-9F44-ABD881220E8F</td><td>2006-07-01 00:00:00.0000000</td></tr><tr><td>1074</td><td>9920 Bridgepointe Parkway</td><td>NULL</td><td>San Mateo</td><td>California</td><td>United States</td><td>94404</td><td>C346981B-2093-474A-9BC0-54CE2E0E4A94</td><td>2005-07-01 00:00:00.0000000</td></tr><tr><td>995</td><td>4460 Newport Center Drive</td><td>NULL</td><td>Newport Beach</td><td>California</td><td>United States</td><td>92625</td><td>D6B9E9E9-F288-4590-BE12-8DDBB5E53BC2</td><td>2006-07-01 00:00:00.0000000</td></tr><tr><td>502</td><td>No. 25400 10665 Jasper Avenue</td><td>NULL</td><td>Edmonton</td><td>Alberta</td><td>Canada</td><td>T5</td><td>51180CA2-6614-46A5-B89C-EF7B0421C847</td><td>2006-08-01 00:00:00.0000000</td></tr><tr><td>516</td><td>251 Indell Lane</td><td>NULL</td><td>Brampton</td><td>Ontario</td><td>Canada</td><td>L6W 2T7</td><td>A1F36994-B5B3-4646-87EA-692A513395EA</td><td>2006-08-01 00:00:00.0000000</td></tr><tr><td>874</td><td>2550 Ne Sandy Blvd</td><td>NULL</td><td>Portland</td><td>Oregon</td><td>United States</td><td>97205</td><td>14D5DDE7-C771-4819-9FF1-A4FAA66F0E7A</td><td>2006-09-01 00:00:00.0000000</td></tr><tr><td>877</td><td>4781 Highway 95</td><td>NULL</td><td>Sandpoint</td><td>Idaho</td><td>United States</td><td>83864</td><td>49F0B458-40CD-4852-A936-8576070FCB96</td><td>2006-07-01 00:00:00.0000000</td></tr><tr><td>469</td><td>400-25155 West Pender St</td><td>NULL</td><td>Vancouver</td><td>British Columbia</td><td>Canada</td><td>V7L 4J4</td><td>B81768F9-3B05-43DC-8DDE-85FFCA00D4DE</td><td>2007-09-01 00:00:00.0000000</td></tr><tr><td>599</td><td>70 N.W. Plaza</td><td>NULL</td><td>Saint Ann</td><td>Missouri</td><td>United States</td><td>63074</td><td>4735A716-33C4-4366-BCC0-410BCEEF3E2C</td><td>2007-08-01 00:00:00.0000000</td></tr><tr><td>470</td><td>2511 Baker Road</td><td>NULL</td><td>Toronto</td><td>Ontario</td><td>Canada</td><td>M4B 1V7</td><td>6E934D97-69B9-4FCF-9E4E-56BF94E52986</td><td>2005-09-01 00:00:00.0000000</td></tr><tr><td>1007</td><td>77 Beale Street</td><td>Room 99767c</td><td>San Francisco</td><td>California</td><td>United States</td><td>94109</td><td>5122F535-C03E-4244-90C8-5D360C0C4CC4</td><td>2005-09-01 00:00:00.0000000</td></tr><tr><td>844</td><td>755 Nw Grandstand</td><td>NULL</td><td>Issaquah</td><td>Washington</td><td>United States</td><td>98027</td><td>0E8578F8-21F7-482D-8DD8-8AA52F68F70A</td><td>2007-09-01 00:00:00.0000000</td></tr><tr><td>1051</td><td>Pavillion @ Redlands</td><td>NULL</td><td>Redlands</td><td>California</td><td>United States</td><td>92373</td><td>B2F0F099-DDD2-4AB6-90AF-972D72186937</td><td>2005-10-01 00:00:00.0000000</td></tr><tr><td>528</td><td>5990 Avebury Road</td><td>NULL</td><td>Mississauga</td><td>Ontario</td><td>Canada</td><td>L5B 3V4</td><td>D9928CCC-FC35-435A-8A0F-6887813E0E06</td><td>2005-09-01 00:00:00.0000000</td></tr><tr><td>1023</td><td>870 N. 54th Ave.</td><td>NULL</td><td>Chandler</td><td>Arizona</td><td>United States</td><td>85225</td><td>26D3A3EC-3D51-493E-A541-A0CC80B54F35</td><td>2007-07-01 00:00:00.0000000</td></tr><tr><td>839</td><td>Gateway</td><td>NULL</td><td>Portland</td><td>Oregon</td><td>United States</td><td>97205</td><td>3A56B180-70CD-42FE-A19C-F62B5037AA3A</td><td>2006-08-01 00:00:00.0000000</td></tr><tr><td>1028</td><td>Mall Of Orange</td><td>NULL</td><td>Orange</td><td>California</td><td>United States</td><td>92867</td><td>8D9B75CC-90C4-4E15-B69C-891126386BA6</td><td>2005-08-01 00:00:00.0000000</td></tr><tr><td>1042</td><td>Stonewood Mall</td><td>NULL</td><td>Downey</td><td>California</td><td>United States</td><td>90241</td><td>D1D79211-AEC3-424D-A279-AF1D01DA3EC2</td><td>2005-08-01 00:00:00.0000000</td></tr><tr><td>1002</td><td>C/O Starpak, Inc.</td><td>NULL</td><td>Greeley</td><td>Colorado</td><td>United States</td><td>80631</td><td>512BD07C-7ED7-421B-923F-D41999BD5BD7</td><td>2006-08-01 00:00:00.0000000</td></tr><tr><td>446</td><td>52560 Free Street</td><td>NULL</td><td>Toronto</td><td>Ontario</td><td>Canada</td><td>M4B 1V7</td><td>801A1DFC-5125-486B-AA84-CCBD2EC57CA4</td><td>2005-08-01 00:00:00.0000000</td></tr><tr><td>871</td><td>2502 Evergreen Ste E</td><td>NULL</td><td>Everett</td><td>Washington</td><td>United States</td><td>98201</td><td>3AE9003F-F806-41AD-98A5-3C4A86514BC3</td><td>2005-07-01 00:00:00.0000000</td></tr><tr><td>1084</td><td>25751 University Drive</td><td>NULL</td><td>Vista</td><td>California</td><td>United States</td><td>92084</td><td>BD3035F6-4018-4E4C-8D70-6DD3F4FE8EB4</td><td>2007-05-01 00:00:00.0000000</td></tr><tr><td>561</td><td>90025 Sterling St</td><td>NULL</td><td>Irving</td><td>Texas</td><td>United States</td><td>75061</td><td>C1CA3287-F642-44DA-BBA1-8AB47E1907DD</td><td>2006-09-01 00:00:00.0000000</td></tr><tr><td>525</td><td>69251 Creditview Road</td><td>NULL</td><td>Mississauga</td><td>Ontario</td><td>Canada</td><td>L5B 3V4</td><td>2CA11975-213A-46FB-A0BE-2529003074CC</td><td>2005-07-01 00:00:00.0000000</td></tr><tr><td>1020</td><td>251340 E. South St.</td><td>NULL</td><td>Cerritos</td><td>California</td><td>United States</td><td>90703</td><td>BA72737A-0827-46A8-AF5B-971FD8464A87</td><td>2005-09-01 00:00:00.0000000</td></tr><tr><td>1081</td><td>25871 North Main Street</td><td>NULL</td><td>Walnut Creek</td><td>California</td><td>United States</td><td>94596</td><td>A00218D5-482D-44C2-8CD0-6F65AF8642D3</td><td>2006-08-01 00:00:00.0000000</td></tr><tr><td>639</td><td>Garamonde Drive, Wymbush</td><td>PO Box 4023</td><td>Milton Keynes</td><td>England</td><td>United Kingdom</td><td>MK8 8ZD</td><td>8F34CEDD-FB6E-4814-B509-9965A31BC2E5</td><td>2007-09-01 00:00:00.0000000</td></tr><tr><td>608</td><td>25306 Harvey Rd.</td><td>NULL</td><td>College Station</td><td>Texas</td><td>United States</td><td>77840</td><td>49D7554E-852F-4D68-81B5-44C7A615F117</td><td>2006-08-01 00:00:00.0000000</td></tr><tr><td>825</td><td>Port Huron</td><td>NULL</td><td>Port Huron</td><td>Michigan</td><td>United States</td><td>48060</td><td>A1CADF47-C018-40CC-8381-6CC940DE46C8</td><td>2005-10-01 00:00:00.0000000</td></tr><tr><td>637</td><td>Phoenix Way, Cirencester</td><td>NULL</td><td>Gloucestershire</td><td>England</td><td>United Kingdom</td><td>GL7 1RY</td><td>10A3D496-881E-4042-BBD0-5802CF73A872</td><td>2007-09-01 00:00:00.0000000</td></tr><tr><td>1085</td><td>49925 Crestview Drive N.E.</td><td>NULL</td><td>Rio Rancho</td><td>New Mexico</td><td>United States</td><td>87124</td><td>3A1F16CF-6889-40B2-B067-7D044A8C7D42</td><td>2005-09-01 00:00:00.0000000</td></tr><tr><td>864</td><td>67 Rainer Ave S</td><td>NULL</td><td>Renton</td><td>Washington</td><td>United States</td><td>98055</td><td>A2FC2F01-C6BE-4AF4-B718-2A86EB782E5F</td><td>2005-08-01 00:00:00.0000000</td></tr><tr><td>887</td><td>Lewiston Mall</td><td>NULL</td><td>Lewiston</td><td>Idaho</td><td>United States</td><td>83501</td><td>4DDBACC9-7898-403E-856A-128E34245424</td><td>2006-09-01 00:00:00.0000000</td></tr><tr><td>559</td><td>12345 Sterling Avenue</td><td>NULL</td><td>Irving</td><td>Texas</td><td>United States</td><td>75061</td><td>0D39391C-A319-486B-AC9E-5863795D6675</td><td>2005-09-01 00:00:00.0000000</td></tr><tr><td>486</td><td>600 Boul. Rene-levesque Ouest</td><td>NULL</td><td>Montreal</td><td>Quebec</td><td>Canada</td><td>H1Y 2H7</td><td>112049E4-64D5-4305-9545-933E89B74F6E</td><td>2006-07-01 00:00:00.0000000</td></tr><tr><td>534</td><td>Depot 80</td><td>NULL</td><td>Sillery</td><td>Quebec</td><td>Canada</td><td>G1T</td><td>3178440D-5C3A-48F2-AF6B-0A607774E265</td><td>2005-08-01 00:00:00.0000000</td></tr><tr><td>1006</td><td>25472 Marlay Ave</td><td>NULL</td><td>Fontana</td><td>California</td><td>United States</td><td>92335</td><td>90C5F983-B302-4F6C-9D8A-BFB9E1BFF406</td><td>2007-09-01 00:00:00.0000000</td></tr><tr><td>590</td><td>9995 West Central Entrance</td><td>NULL</td><td>Duluth</td><td>Minnesota</td><td>United States</td><td>55802</td><td>86553E06-3BF8-4C21-8E40-AE95309C4B3E</td><td>2006-07-01 00:00:00.0000000</td></tr><tr><td>1066</td><td>Prime Outlets</td><td>NULL</td><td>Phoenix</td><td>Arizona</td><td>United States</td><td>85004</td><td>BD687691-297F-4B72-9465-C8DBD0F8E2EE</td><td>2005-09-01 00:00:00.0000000</td></tr><tr><td>860</td><td>4927 S Meridian Ave Ste D</td><td>NULL</td><td>Puyallup</td><td>Washington</td><td>United States</td><td>98371</td><td>FF2BE5E9-7D22-4C1C-ACF8-199148E957AB</td><td>2006-07-01 00:00:00.0000000</td></tr><tr><td>495</td><td>Suite 800 2530 Slater Street</td><td>NULL</td><td>Ottawa</td><td>Ontario</td><td>Canada</td><td>K4B 1T7</td><td>C6633AD5-006D-4967-B97E-7919DD48A700</td><td>2006-09-01 00:00:00.0000000</td></tr><tr><td>895</td><td>3250 South Meridian</td><td>NULL</td><td>Puyallup</td><td>Washington</td><td>United States</td><td>98371</td><td>3B2E6107-040B-4F60-8901-A950BF0562D4</td><td>2005-07-01 00:00:00.0000000</td></tr><tr><td>1034</td><td>Oxnard Outlet</td><td>NULL</td><td>Oxnard</td><td>California</td><td>United States</td><td>93030</td><td>300D2A6E-67B4-417B-83A9-2026818A21C6</td><td>2007-09-01 00:00:00.0000000</td></tr><tr><td>11381</td><td>2000 300th Street</td><td>NULL</td><td>Denver</td><td>Colorado</td><td>United States</td><td>80203</td><td>A9DBB460-A624-4E6A-AA22-311EE18F6746</td><td>2005-09-01 00:00:00.0000000</td></tr><tr><td>492</td><td>99954 Boul. Laurier, Local 060, Place</td><td>NULL</td><td>Sainte-Foy</td><td>Quebec</td><td>Canada</td><td>G1W</td><td>541CDE7C-3F3A-435F-A7B5-F30055DFBC68</td><td>2007-09-01 00:00:00.0000000</td></tr><tr><td>893</td><td>White Mountain Mall</td><td>NULL</td><td>Rock Springs</td><td>Wyoming</td><td>United States</td><td>82901</td><td>9308A21D-AAE2-42E2-889D-2CD802072D36</td><td>2007-07-01 00:00:00.0000000</td></tr><tr><td>664</td><td>99-3 Forest Works</td><td>NULL</td><td>London</td><td>England</td><td>United Kingdom</td><td>E17 6JF</td><td>EB46AF5A-EC2B-41FF-914E-DDAE8EC1F476</td><td>2006-07-01 00:00:00.0000000</td></tr><tr><td>463</td><td>992 St Clair Ave East</td><td>NULL</td><td>Toronto</td><td>Ontario</td><td>Canada</td><td>M4B 1V7</td><td>D6ED51FA-6DD1-460C-99E0-64BA90F035AE</td><td>2005-09-01 00:00:00.0000000</td></tr><tr><td>578</td><td>220 Mercy Drive</td><td>NULL</td><td>Garland</td><td>Texas</td><td>United States</td><td>75040</td><td>791E9C8D-6C3A-4CFD-9F0A-C4A99424C268</td><td>2005-07-01 00:00:00.0000000</td></tr><tr><td>1016</td><td>72502 Eastern Ave.</td><td>NULL</td><td>Bell Gardens</td><td>California</td><td>United States</td><td>90201</td><td>06431D74-4CAF-442C-870E-EFC20F9D45B8</td><td>2006-09-01 00:00:00.0000000</td></tr><tr><td>896</td><td>2255 254th Avenue Se</td><td>NULL</td><td>Albany</td><td>Oregon</td><td>United States</td><td>97321</td><td>77D18072-B99B-4B1E-A9B9-948FA927EFBB</td><td>2007-09-01 00:00:00.0000000</td></tr><tr><td>459</td><td>25575 The Queensway</td><td>NULL</td><td>Etobicoke</td><td>Ontario</td><td>Canada</td><td>M9W 3P3</td><td>616235EA-DC36-4C39-BF91-FFE12BB676E0</td><td>2005-08-01 00:00:00.0000000</td></tr><tr><td>884</td><td>Lewis County Mall</td><td>NULL</td><td>Chehalis</td><td>Washington</td><td>United States</td><td>98532</td><td>2F91410B-2988-4E8F-BF01-8009C2F9ABBA</td><td>2005-08-01 00:00:00.0000000</td></tr><tr><td>628</td><td>City Center</td><td>NULL</td><td>Minneapolis</td><td>Minnesota</td><td>United States</td><td>55402</td><td>B80975D1-AB6E-42F1-B328-5DB1D445E2C9</td><td>2005-08-01 00:00:00.0000000</td></tr><tr><td>1071</td><td>5867 Sunrise Boulevard</td><td>NULL</td><td>Citrus Heights</td><td>California</td><td>United States</td><td>95610</td><td>A64FC10B-61F7-4102-B076-E9CB77E9EC8F</td><td>2006-11-01 00:00:00.0000000</td></tr><tr><td>650</td><td>Elmhurst Road, Goring</td><td>NULL</td><td>Reading</td><td>England</td><td>United Kingdom</td><td>RG7 5H7</td><td>E4C0C239-182F-45B7-A6BB-B7E142FF0657</td><td>2006-07-01 00:00:00.0000000</td></tr><tr><td>611</td><td>23025 S.W. Military Rd.</td><td>NULL</td><td>San Antonio</td><td>Texas</td><td>United States</td><td>78204</td><td>76ED2669-D8A8-4468-943D-7319A9B18FE3</td><td>2005-08-01 00:00:00.0000000</td></tr><tr><td>670</td><td>7 Garden House Cloisters, 8 Batters</td><td>NULL</td><td>London</td><td>England</td><td>United Kingdom</td><td>SW8 4BG</td><td>333DAFF8-F22F-488C-928C-E6ECCF65452B</td><td>2006-07-01 00:00:00.0000000</td></tr><tr><td>666</td><td>399 Clearing Green</td><td>NULL</td><td>London</td><td>England</td><td>United Kingdom</td><td>EC1R 0DU</td><td>BAB4B0A1-055A-4581-A93F-E00C65C54FB6</td><td>2006-08-01 00:00:00.0000000</td></tr><tr><td>11</td><td>1318 Lasalle Street</td><td>NULL</td><td>Bothell</td><td>Washington</td><td>United States</td><td>98011</td><td>981B3303-ACA2-49C7-9A96-FB670785B269</td><td>2007-04-01 00:00:00.0000000</td></tr><tr><td>794</td><td>998 Forest Road</td><td>NULL</td><td>Saginaw</td><td>Michigan</td><td>United States</td><td>48601</td><td>01094C1B-2D79-402D-8106-9E80FBD57DC8</td><td>2007-08-01 00:00:00.0000000</td></tr><tr><td>806</td><td>Horizon Outlet Center</td><td>NULL</td><td>Monroe</td><td>Michigan</td><td>United States</td><td>98272</td><td>A986C31B-4B63-4925-AAFD-B95260D5D586</td><td>2006-08-01 00:00:00.0000000</td></tr><tr><td>1053</td><td>Pacific West Outlet</td><td>NULL</td><td>Gilroy</td><td>California</td><td>United States</td><td>95020</td><td>DE6463D5-42D9-4D34-AC99-4AAA19FAB3CA</td><td>2005-08-01 00:00:00.0000000</td></tr><tr><td>523</td><td>46990 Viking Way</td><td>NULL</td><td>Richmond</td><td>British Columbia</td><td>Canada</td><td>V6B 3P7</td><td>85C88CD6-682C-4358-9F8C-5A24F4CCFD98</td><td>2005-08-01 00:00:00.0000000</td></tr><tr><td>1030</td><td>Escondido</td><td>NULL</td><td>Escondido</td><td>California</td><td>United States</td><td>92025</td><td>E5B6618D-A92B-4DA1-BA99-316BABFFF7DB</td><td>2006-08-01 00:00:00.0000000</td></tr><tr><td>1037</td><td>North County Square</td><td>NULL</td><td>Vista</td><td>California</td><td>United States</td><td>92084</td><td>5A794553-877E-4977-8E76-DE38AA064EBD</td><td>2005-09-01 00:00:00.0000000</td></tr><tr><td>474</td><td>252345 8810th Avenue</td><td>NULL</td><td>Surrey</td><td>British Columbia</td><td>Canada</td><td>V3T 4W3</td><td>447CA097-077D-4980-A431-8FAFAD156CED</td><td>2005-09-01 00:00:00.0000000</td></tr><tr><td>566</td><td>63 W Monroe</td><td>NULL</td><td>Chicago</td><td>Illinois</td><td>United States</td><td>60610</td><td>61113716-53E4-4FAA-A5A2-247B03F0F9C6</td><td>2005-11-01 00:00:00.0000000</td></tr><tr><td>484</td><td>2510 Crew Court</td><td>NULL</td><td>Montreal</td><td>Quebec</td><td>Canada</td><td>H1Y 2H8</td><td>1F41EDC1-7144-4D6B-9CBD-4318C2358FA1</td><td>2008-06-01 00:00:00.0000000</td></tr><tr><td>888</td><td>Three Rivers Mall</td><td>NULL</td><td>Kelso</td><td>Washington</td><td>United States</td><td>98626</td><td>834AE73A-01A9-4850-9F8C-6DB5D1344AAD</td><td>2007-07-01 00:00:00.0000000</td></tr><tr><td>1015</td><td>99000 S. Avalon Blvd. Suite 750</td><td>NULL</td><td>Carson</td><td>California</td><td>United States</td><td>90746</td><td>206163D9-0324-476D-909E-607FE07B2A2A</td><td>2005-08-01 00:00:00.0000000</td></tr><tr><td>1094</td><td>25250 N 90th St</td><td>NULL</td><td>Scottsdale</td><td>Arizona</td><td>United States</td><td>85257</td><td>3E024D96-B7D3-4622-AB9B-0724B91B7832</td><td>2005-09-01 00:00:00.0000000</td></tr><tr><td>629</td><td>St. Louis Marketplace</td><td>NULL</td><td>Saint Louis</td><td>Missouri</td><td>United States</td><td>63103</td><td>163FDE0A-2148-44BC-9FC1-A7390650127C</td><td>2005-07-01 00:00:00.0000000</td></tr><tr><td>452</td><td>55 Lakeshore Blvd East</td><td>NULL</td><td>Toronto</td><td>Ontario</td><td>Canada</td><td>M4B 1V6</td><td>A358652F-0E00-49E6-B6B0-DE1099C43506</td><td>2005-09-01 00:00:00.0000000</td></tr><tr><td>623</td><td>Ohms Road</td><td>NULL</td><td>Houston</td><td>Texas</td><td>United States</td><td>77003</td><td>D4688E5C-2D2D-4925-B58A-356C117728D8</td><td>2007-07-01 00:00:00.0000000</td></tr><tr><td>892</td><td>Frontier Mall</td><td>NULL</td><td>Cheyenne</td><td>Wyoming</td><td>United States</td><td>82001</td><td>CB0A8223-FD82-4D26-B7C7-0C120E4EAFC5</td><td>2005-08-01 00:00:00.0000000</td></tr><tr><td>494</td><td>Box 99354 300 Union Street</td><td>NULL</td><td>Saint John</td><td>Brunswick</td><td>Canada</td><td>E2P 1E3</td><td>21FF77A8-39DC-44D8-917C-FDD645DBF9EB</td><td>2006-07-01 00:00:00.0000000</td></tr><tr><td>894</td><td>3390 South 23rd St.</td><td>NULL</td><td>Tacoma</td><td>Washington</td><td>United States</td><td>98403</td><td>E7979FA4-253C-41FD-B74F-2FEEC966A6B5</td><td>2006-01-01 00:00:00.0000000</td></tr><tr><td>537</td><td>No. 25800-130 King Street West</td><td>NULL</td><td>Toronto</td><td>Ontario</td><td>Canada</td><td>M4B 1V5</td><td>C2BCDAEC-366C-489C-BF43-8CC2881179F3</td><td>2005-09-01 00:00:00.0000000</td></tr><tr><td>483</td><td>955 Green Valley Crescent</td><td>NULL</td><td>Ottawa</td><td>Ontario</td><td>Canada</td><td>K4B 1S1</td><td>C6B743C3-F830-43E4-BA58-DD36FC451D14</td><td>2007-09-01 00:00:00.0000000</td></tr><tr><td>663</td><td>2524 Barlby Road</td><td>NULL</td><td>London</td><td>England</td><td>United Kingdom</td><td>W10 6BL</td><td>D8E96EBA-258C-4F6C-83BB-4CCB2235BBF7</td><td>2007-08-01 00:00:00.0000000</td></tr><tr><td>461</td><td>2560 Bay Street</td><td>NULL</td><td>Toronto</td><td>Ontario</td><td>Canada</td><td>M4B 1V7</td><td>726819A8-1B02-4EFD-AEB9-3FD801D9F153</td><td>2006-08-01 00:00:00.0000000</td></tr><tr><td>616</td><td>Southwest Outlet</td><td>NULL</td><td>Hillsboro</td><td>Texas</td><td>United States</td><td>76645</td><td>47F987F7-44FF-4372-AAF5-4CC7B7F64216</td><td>2005-07-01 00:00:00.0000000</td></tr><tr><td>788</td><td>2533 Eureka Rd.</td><td>NULL</td><td>Southgate</td><td>Michigan</td><td>United States</td><td>48195</td><td>7EF698FA-908E-42BB-8A2D-C62F5106323A</td><td>2006-09-01 00:00:00.0000000</td></tr><tr><td>496</td><td>Suite 500 995 W. 11th Avenue</td><td>NULL</td><td>Mississauga</td><td>Ontario</td><td>Canada</td><td>L5A 1H6</td><td>496C1AD3-2925-4322-8811-890AB6107F67</td><td>2007-08-01 00:00:00.0000000</td></tr><tr><td>872</td><td>755 W Washington Ave Ste D</td><td>NULL</td><td>Sequim</td><td>Washington</td><td>United States</td><td>98382</td><td>932514A1-04E4-4E95-B97C-0AD4C06B890E</td><td>2007-08-01 00:00:00.0000000</td></tr><tr><td>1055</td><td>Camarillo Athletic Stores</td><td>NULL</td><td>Camarillo</td><td>California</td><td>United States</td><td>93010</td><td>30E691F7-1D06-4DF7-AEDF-627AD911A770</td><td>2005-08-01 00:00:00.0000000</td></tr><tr><td>567</td><td>Corporate Office</td><td>NULL</td><td>Garland</td><td>Texas</td><td>United States</td><td>75040</td><td>10CC0938-B0AF-42E0-9176-564321C68787</td><td>2005-09-01 00:00:00.0000000</td></tr><tr><td>1050</td><td>University Town Center</td><td>NULL</td><td>San Diego</td><td>California</td><td>United States</td><td>92102</td><td>6D9EBB03-5C5A-4A20-8910-12D894591727</td><td>2005-09-01 00:00:00.0000000</td></tr><tr><td>583</td><td>625 W Jackson Blvd. Unit 2502</td><td>NULL</td><td>Chicago</td><td>Illinois</td><td>United States</td><td>60610</td><td>A35C7AC7-5AE8-43D9-92E7-180D78A9A7B8</td><td>2007-03-01 00:00:00.0000000</td></tr><tr><td>1032</td><td>Simi @ The Plaza</td><td>NULL</td><td>Simi Valley</td><td>California</td><td>United States</td><td>93065</td><td>8E4A379F-F6D6-4995-AA19-6DB50325D0FE</td><td>2005-08-01 00:00:00.0000000</td></tr><tr><td>627</td><td>Sports Stores @ Tuscola</td><td>NULL</td><td>Tuscola</td><td>Illinois</td><td>United States</td><td>61953</td><td>808EFDC0-EA1B-437D-88C0-A3B6A8864B7F</td><td>2006-07-01 00:00:00.0000000</td></tr><tr><td>555</td><td>9950 Ferrand Drive, 9th Floor</td><td>NULL</td><td>Toronto</td><td>Ontario</td><td>Canada</td><td>M4B 1V4</td><td>32890831-931E-44AD-801B-41B1AD862ECA</td><td>2005-09-01 00:00:00.0000000</td></tr><tr><td>907</td><td>99295 S.e. Tualatin Valley_hwy.</td><td>NULL</td><td>Hillsboro</td><td>Oregon</td><td>United States</td><td>97123</td><td>A0E88130-6262-4484-815E-E5C485BF3EAC</td><td>2007-08-01 00:00:00.0000000</td></tr><tr><td>598</td><td>455 256th St.</td><td>NULL</td><td>Moline</td><td>Illinois</td><td>United States</td><td>61265</td><td>FBEDD917-C269-4E36-A791-58B35F34B107</td><td>2005-08-01 00:00:00.0000000</td></tr><tr><td>571</td><td>25550 Executive Dr</td><td>NULL</td><td>Elgin</td><td>Illinois</td><td>United States</td><td>60120</td><td>8CAF52B2-D3E2-4A5F-A704-874768007F38</td><td>2005-12-01 00:00:00.0000000</td></tr><tr><td>789</td><td>250000 Eight Mile Road</td><td>NULL</td><td>Detroit</td><td>Michigan</td><td>United States</td><td>48226</td><td>66255753-B1B9-49C0-AB1D-1DE8217D5142</td><td>2006-08-01 00:00:00.0000000</td></tr><tr><td>1096</td><td>6753 Howard Hughes Parkway</td><td>NULL</td><td>Las Vegas</td><td>Nevada</td><td>United States</td><td>89106</td><td>30C83112-A09F-4E26-9AD7-4FD6C10FEC4E</td><td>2006-10-01 00:00:00.0000000</td></tr><tr><td>641</td><td>Bradford</td><td>NULL</td><td>W. York</td><td>England</td><td>United Kingdom</td><td>BD1 4SJ</td><td>F7B99541-1CE1-4AB6-AE0D-548E8FF4ABCD</td><td>2006-08-01 00:00:00.0000000</td></tr><tr><td>549</td><td>609 Evans Avenue</td><td>NULL</td><td>Toronto</td><td>Ontario</td><td>Canada</td><td>M4B 1V4</td><td>DCF9C9B5-A7B6-4383-9480-1F84130B5F8B</td><td>2006-09-01 00:00:00.0000000</td></tr><tr><td>558</td><td>67255 - 8th Street N.E., Suite 350</td><td>NULL</td><td>Calgary</td><td>Alberta</td><td>Canada</td><td>T2P 2G8</td><td>DA596ABB-B3AF-48EC-A082-9E94CD870A5F</td><td>2006-12-01 00:00:00.0000000</td></tr><tr><td>1100</td><td>4635 S. Harrison Blvd.</td><td>NULL</td><td>Ogden</td><td>Utah</td><td>United States</td><td>84401</td><td>BE4DFEEF-CB1C-4AF8-B517-3214C7C1F311</td><td>2007-09-01 00:00:00.0000000</td></tr><tr><td>651</td><td>New Millhouse, 2583 Milton Park</td><td>NULL</td><td>Abingdon</td><td>England</td><td>United Kingdom</td><td>OX14 4SE</td><td>E844B847-B0B3-491D-A4F1-0B78F56E4424</td><td>2007-09-01 00:00:00.0000000</td></tr><tr><td>662</td><td>Paramount House</td><td>NULL</td><td>London</td><td>England</td><td>United Kingdom</td><td>W1N 9FA</td><td>E50D1077-D135-41CC-A0B1-C53395F94541</td><td>2006-09-01 00:00:00.0000000</td></tr><tr><td>1010</td><td>5650 West 88th Ave.</td><td>NULL</td><td>Westminster</td><td>Colorado</td><td>United States</td><td>80030</td><td>BD7FA7A0-4CBE-442A-A5E5-E5E2B79214EC</td><td>2007-08-01 00:00:00.0000000</td></tr><tr><td>529</td><td>254480 River Rd</td><td>NULL</td><td>Richmond</td><td>British Columbia</td><td>Canada</td><td>V6B 3P7</td><td>034076FD-CD0E-4EAD-864E-8CE7F47D6612</td><td>2005-07-01 00:00:00.0000000</td></tr><tr><td>1078</td><td>9909 W. Ventura Boulevard</td><td>NULL</td><td>Camarillo</td><td>California</td><td>United States</td><td>93010</td><td>0A911F46-295E-4485-A9D8-90DFCC0C9223</td><td>2006-08-01 00:00:00.0000000</td></tr><tr><td>547</td><td>7000 Victoria Park Avenue</td><td>NULL</td><td>Toronto</td><td>Ontario</td><td>Canada</td><td>M4B 1V4</td><td>28125EC3-FDC2-45D8-93B3-CD7DB2113424</td><td>2007-09-01 00:00:00.0000000</td></tr><tr><td>669</td><td>Internet House, 3399 Science Park</td><td>NULL</td><td>Cambridge</td><td>England</td><td>United Kingdom</td><td>CB4 4BZ</td><td>56BAEC2A-5CC5-4A90-BEF9-EE57E82F2E69</td><td>2006-12-01 00:00:00.0000000</td></tr><tr><td>1091</td><td>5500 Grossmont Center Drive</td><td>NULL</td><td>La Mesa</td><td>California</td><td>United States</td><td>91941</td><td>24F1DBC4-7FDC-4EDB-B3CB-640F9FB72534</td><td>2005-09-01 00:00:00.0000000</td></tr><tr><td>554</td><td>9984 Wellington Street</td><td>NULL</td><td>Ottawa</td><td>Ontario</td><td>Canada</td><td>K4B 1S2</td><td>6E0797C9-FD43-418F-A5FE-8683292B95FE</td><td>2006-08-01 00:00:00.0000000</td></tr><tr><td>904</td><td>9905 Three Rivers Drive</td><td>NULL</td><td>Kelso</td><td>Washington</td><td>United States</td><td>98626</td><td>01A85112-6EE1-4F2C-9212-1C2ABC612E67</td><td>2006-07-01 00:00:00.0000000</td></tr><tr><td>647</td><td>Wade Road</td><td>NULL</td><td>Basingstoke Hants</td><td>England</td><td>United Kingdom</td><td>RG24 8PL</td><td>578C2529-F11C-4BF3-8084-6B505461E1CC</td><td>2007-07-01 00:00:00.0000000</td></tr><tr><td>867</td><td>48995 Evergreen Wy.</td><td>NULL</td><td>Everett</td><td>Washington</td><td>United States</td><td>98201</td><td>6CD4E374-0EF8-4CEE-AC60-9DBF1F4E0007</td><td>2007-09-01 00:00:00.0000000</td></tr><tr><td>905</td><td>225 South 314th Street</td><td>NULL</td><td>Federal Way</td><td>Washington</td><td>United States</td><td>98003</td><td>D305D73C-D595-4961-B870-0DCECB7C6EA9</td><td>2006-11-01 00:00:00.0000000</td></tr><tr><td>636</td><td>Science Park South, Birchwood</td><td>Stanford House</td><td>Warrington</td><td>England</td><td>United Kingdom</td><td>WA3 7BH</td><td>C0FC2D5B-88E7-4B60-8447-BB3522BD79E5</td><td>2007-07-01 00:00:00.0000000</td></tr><tr><td>1087</td><td>253731 West Bell Road</td><td>NULL</td><td>Surprise</td><td>Arizona</td><td>United States</td><td>85374</td><td>4BA77E6A-4A47-4BFE-8AEB-DBFEA179795D</td><td>2006-08-01 00:00:00.0000000</td></tr><tr><td>580</td><td>2509 W. Frankford</td><td>NULL</td><td>Carrollton</td><td>Texas</td><td>United States</td><td>75006</td><td>A0DBC338-CF0E-4962-9FBF-63220AECA66E</td><td>2006-07-01 00:00:00.0000000</td></tr><tr><td>1022</td><td>99235 Hawthorne Blvd.</td><td>NULL</td><td>Torrance</td><td>California</td><td>United States</td><td>90505</td><td>52724CD9-1DC9-4D28-9B89-C404692C0B73</td><td>2005-07-01 00:00:00.0000000</td></tr><tr><td>557</td><td>660 Saint-Jacques, Bureau 400</td><td>NULL</td><td>Montreal</td><td>Quebec</td><td>Canada</td><td>H1Y 2H8</td><td>DCE88C1F-8BFE-4306-BA02-50446466C5E5</td><td>2006-09-01 00:00:00.0000000</td></tr><tr><td>587</td><td>25500 Old Spanish Trail</td><td>NULL</td><td>Houston</td><td>Texas</td><td>United States</td><td>77003</td><td>9A71E3C4-CAEA-4C5C-A146-5B85A513D82F</td><td>2005-08-01 00:00:00.0000000</td></tr><tr><td>1040</td><td>Fox Hills</td><td>NULL</td><td>Culver City</td><td>California</td><td>United States</td><td>90232</td><td>5042B0A9-D10A-4F99-9F6F-50F96DEFA226</td><td>2005-08-01 00:00:00.0000000</td></tr><tr><td>451</td><td>2512-4th Ave Sw</td><td>NULL</td><td>Calgary</td><td>Alberta</td><td>Canada</td><td>T2P 2G8</td><td>49644F1E-6F90-46D9-8DBB-9DB15F0EF7EC</td><td>2006-12-01 00:00:00.0000000</td></tr><tr><td>1017</td><td>2560 E. Newlands Dr</td><td>NULL</td><td>Fernley</td><td>Nevada</td><td>United States</td><td>89408</td><td>5D07C55B-9E6A-49DE-8F49-04F28AD2F36A</td><td>2005-09-01 00:00:00.0000000</td></tr><tr><td>1011</td><td>9700 Sisk Road</td><td>NULL</td><td>Modesto</td><td>California</td><td>United States</td><td>95354</td><td>FB563347-C157-43B3-A7E4-A851495DF874</td><td>2006-09-01 00:00:00.0000000</td></tr><tr><td>1083</td><td>22589 West Craig Road</td><td>NULL</td><td>North Las Vegas</td><td>Nevada</td><td>United States</td><td>89030</td><td>A4C2EFE6-17E5-4DD5-9BED-6743405627E7</td><td>2007-05-01 00:00:00.0000000</td></tr><tr><td>656</td><td>7 Pioneer Business Park</td><td>NULL</td><td>York</td><td>England</td><td>United Kingdom</td><td>Y03 4TN</td><td>48865E15-033A-40FF-8327-18723D4A8846</td><td>2007-08-01 00:00:00.0000000</td></tr><tr><td>477</td><td>6th Floor Ferguson Block</td><td>NULL</td><td>Toronto</td><td>Ontario</td><td>Canada</td><td>M4B 1V7</td><td>39F3B067-2263-4591-ABF9-D5210DA4F783</td><td>2005-08-01 00:00:00.0000000</td></tr><tr><td>458</td><td>600 Slater Street</td><td>NULL</td><td>Ottawa</td><td>Ontario</td><td>Canada</td><td>K4B 1S2</td><td>49F4EE42-E20B-4E66-B43C-A28E9FC63CA0</td><td>2005-07-01 00:00:00.0000000</td></tr><tr><td>833</td><td>3207 S Grady Way</td><td>NULL</td><td>Renton</td><td>Washington</td><td>United States</td><td>98055</td><td>4E670A74-8ACE-44C8-91ED-76CBA7190BC2</td><td>2006-08-01 00:00:00.0000000</td></tr><tr><td>1080</td><td>2575 Rocky Mountain Ave.</td><td>NULL</td><td>Loveland</td><td>Colorado</td><td>United States</td><td>80537</td><td>BCC0867E-CB4E-4852-994E-03ABED8C95AB</td><td>2006-08-01 00:00:00.0000000</td></tr><tr><td>498</td><td>25537 Hillside Avenue</td><td>NULL</td><td>Victoria</td><td>British Columbia</td><td>Canada</td><td>V8V</td><td>385C24E0-E20C-40C9-BAC9-95D70D5B6900</td><td>2005-08-01 00:00:00.0000000</td></tr><tr><td>594</td><td>123 W. Lake Ave.</td><td>NULL</td><td>Peoria</td><td>Illinois</td><td>United States</td><td>61606</td><td>C9F2B21E-3EDB-4315-AA03-8ADDE7D8A598</td><td>2006-08-01 00:00:00.0000000</td></tr><tr><td>870</td><td>409 S. Main Ste. 25</td><td>NULL</td><td>Ellensburg</td><td>Washington</td><td>United States</td><td>98926</td><td>955E88EA-083D-446E-A856-42CB0692826A</td><td>2006-08-01 00:00:00.0000000</td></tr><tr><td>795</td><td>99800 Tittabawasee Rd.</td><td>NULL</td><td>Saginaw</td><td>Michigan</td><td>United States</td><td>48601</td><td>34D6D2D5-FEEC-40B8-97B5-CCEB89164305</td><td>2006-08-01 00:00:00.0000000</td></tr><tr><td>565</td><td>25149 Howard Dr</td><td>NULL</td><td>West Chicago</td><td>Illinois</td><td>United States</td><td>60185</td><td>F4915606-499D-477D-8309-E8F92E9D8FE3</td><td>2005-09-01 00:00:00.0000000</td></tr><tr><td>898</td><td>700 Se Sunnyside Road</td><td>NULL</td><td>Clackamas</td><td>Oregon</td><td>United States</td><td>97015</td><td>D88449DB-7116-427B-BFAF-CAE7C08DE084</td><td>2007-09-01 00:00:00.0000000</td></tr><tr><td>889</td><td>Eastridge Mall</td><td>NULL</td><td>Casper</td><td>Wyoming</td><td>United States</td><td>82601</td><td>6D5C5880-2C83-4DF1-B8CE-46CFE9A9FFAC</td><td>2005-07-01 00:00:00.0000000</td></tr><tr><td>998</td><td>60750 San Clemente</td><td>NULL</td><td>Hayward</td><td>California</td><td>United States</td><td>94541</td><td>822DC2BE-AAC2-4283-93A6-5027CFB6A7DF</td><td>2007-09-01 00:00:00.0000000</td></tr><tr><td>903</td><td>250775 SW Hillsdale Hwy</td><td>NULL</td><td>Beaverton</td><td>Oregon</td><td>United States</td><td>97005</td><td>AC8F33F8-4DC4-467D-B459-788D84749C5D</td><td>2006-08-01 00:00:00.0000000</td></tr></table>"
                    },
                    "metadata": {}
                }
            ],
            "execution_count": 20
        },
        {
            "cell_type": "code",
            "source": [
                "GRANT SELECT ON Security.fn_securitypredicate TO [Jack.Bender@microsoft.com];"
            ],
            "metadata": {
                "language": "sql",
                "azdata_cell_guid": "e2a57b14-9744-435a-a939-054dfa5e2581"
            },
            "outputs": [
                {
                    "output_type": "error",
                    "ename": "",
                    "evalue": "Msg 15151, Level 16, State 1, Line 1\r\nCannot find the user 'Jack.Bender@microsoft.com', because it does not exist or you do not have permission.",
                    "traceback": []
                },
                {
                    "output_type": "display_data",
                    "data": {
                        "text/html": "Total execution time: 00:00:00.053"
                    },
                    "metadata": {}
                }
            ],
            "execution_count": 21
        }
    ]
}