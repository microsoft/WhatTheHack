{
  "cells": [
    {
      "cell_type": "markdown",
      "metadata": {
        "nteract": {
          "transient": {
            "deleting": false
          }
        }
      },
      "source": [
        "# Challenge 02 - OpenAI Models & Capabilities"
      ]
    },
    {
      "cell_type": "markdown",
      "metadata": {
        "nteract": {
          "transient": {
            "deleting": false
          }
        }
      },
      "source": [
        "**NOTE:** This challenge is OPTIONAL due to the retirement of several Azure OpenAI models. You can read more about this decision on the Microsoft blog [here](https://techcommunity.microsoft.com/t5/azure-ai-services-blog/announcing-updates-to-azure-openai-service-models/ba-p/3866757). However, in a world where the availability and development of models are always changing, we encourage you to understand the general concepts and material in this Challenge because the comparison techniques utilized can be applicable to scenarios where you are comparing Large Language Models.\n",
        "\n",
        "In this challenge, you will learn about the different capabilities of OpenAI models and learn how to choose the best model for your use case.\n",
        "\n",
        "If you have deployed some of the depreciated models from before, you will still be able to use them until July 5, 2024. However if you had not deployed those models, but have gpt-4 access, you can compare gpt3.5 to gpt4 in this challenge. If you do not have gpt-4 access, you can still go through this challenge conceptually to understand how to best pick a model from the ones you have deployed as well as the ones in the model catalog.\n",
        "\n",
        "Questions you will be able to answer by the end of this challenge:\n",
        "\n",
        "* How do responses differ for each model?\n",
        "* What are ways to benchmark the performance of models? "
      ]
    },
    {
      "cell_type": "markdown",
      "metadata": {
        "nteract": {
          "transient": {
            "deleting": false
          }
        }
      },
      "source": [
        "## 1. Overview on finding the right model for you\n",
        "\n"
      ]
    },
    {
      "cell_type": "markdown",
      "metadata": {
        "nteract": {
          "transient": {
            "deleting": false
          }
        }
      },
      "source": [
        "### 1.1 Model Families\n",
        "\n",
        "Azure OpenAI provides access to many different models, grouped by family and capability. A model family typically associates models by their intended task. \n",
        "\n",
        "Model families currently available as of _Aug 4, 2023_ in Azure OpenAI includes GPT-3, Codex and Embeddings, GPT-4 is available for application. Please reference this link for more information: [Azure OpenAI Service models](https://learn.microsoft.com/en-us/azure/ai-services/openai/concepts/models)\n",
        "\n",
        "\n",
        "*Some models are not available for new deployments beginning **July 6, 2023**. Deployments created prior to July 6, 2023 remain available to customers until **July 5, 2024**. You may revise the environment file and the model you deploy accordingly. Please refer to the following link for more details: [Azure OpenAI Service legacy models](https://learn.microsoft.com/en-us/azure/ai-services/openai/concepts/legacy-models)"
      ]
    },
    {
      "cell_type": "markdown",
      "metadata": {
        "nteract": {
          "transient": {
            "deleting": false
          }
        }
      },
      "source": [
        "### 1.2 Model Capacities\n",
        "The GPT-3 models can understand and generate natural language. The service offers four model capabilities, each with different levels of power and speed suitable for different tasks. Davinci is the most capable model, while Ada is the fastest. The following list represents the latest versions of GPT-3 models, ordered by increasing capability.\n",
        "\n",
        "- text-ada-001\n",
        "- text-babbage-001\n",
        "- text-curie-001\n",
        "- text-davinci-003"
      ]
    },
    {
      "cell_type": "markdown",
      "metadata": {
        "nteract": {
          "transient": {
            "deleting": false
          }
        }
      },
      "source": [
        "\n",
        "[Azure OpenAI models](https://learn.microsoft.com/en-us/azure/cognitive-services/openai/concepts/models)  \n",
        "\n",
        "\n",
        "| | Similarity embedding | Text search embedding | Code Search Embedding |\n",
        "| --- | --- | --- | --- |\n",
        "| |These models are good at capturing **semantic similarity** between two or more pieces of text. | These models help measure whether long documents are relevant to a short search query. There are two input types supported by this family: **doc**, for embedding the documents to be retrieved, and **query**, for embedding the search query. |Similar to text search embedding models, there are two input types supported by this family: **code**, for embedding code snippets to be retrieved, and text, for embedding natural language search queries. | \n",
        "|**Use cases** | Clustering, regression, anomaly detection, visualization | Search, context relevance, information retrieval | Code search and relevance |\n",
        "|**Models** |text-similarity-ada-001 <br> text-similarity-babbage-001 <br> text-similarity-curie-001 <br> text-similarity-davinci-001 | text-search-ada-doc-001  <br> text-search-ada-query-001  <br> text-search-babbage-doc-001  <br> text-search-babbage-query-001  <br> text-search-curie-doc-001  <br>text-search-curie-query-001  <br> text-search-davinci-doc-001  <br> text-search-davinci-query-001 | code-search-ada-code-001 <br> code-search-ada-text-001 <br> code-search-babbage-code-001 <br> code-search-babbage-text-001 | \n"
      ]
    },
    {
      "cell_type": "markdown",
      "metadata": {
        "nteract": {
          "transient": {
            "deleting": false
          }
        }
      },
      "source": [
        "### 1.3 Model Taxonomy  \n",
        "Let's choose a general text GPT-3 model, using the second most powerful model (Curie)\n",
        "\n",
        "**Model taxonomy**: {capability} - {family} - {input-type} - {identifier}  \n",
        "\n",
        "{family}     --> text   (general text GPT-3 model)  \n",
        "{capacity} --> curie  (curie is second most powerful in ada-babbage-curie-davinci family)  \n",
        "{input-type} --> n/a    (only specified for search models)  \n",
        "{identifier} --> 001    (version 001)  \n",
        "\n",
        "model = \"text-curie-001\""
      ]
    },
    {
      "cell_type": "markdown",
      "metadata": {
        "nteract": {
          "transient": {
            "deleting": false
          }
        }
      },
      "source": [
        "| Element | Description |\n",
        "| --- | --- |\n",
        "|**{family}** | The model family of the model. For example, GPT-3 models uses text, while Codex models use code.|\n",
        "|**{capacity}** | The relative capacity of the model. For example, GPT-3 models include ada, babbage, curie, and davinci, with increasing capacity. |\n",
        "|**{input-type}** | (Embeddings models only) The input type of the embedding supported by the model. For example, text search embedding models support doc and query. | \n",
        "|**{identifier}** |The version identifier of the model.| \t\n",
        "\n",
        "\t\n",
        "\n",
        "\n",
        "\t\n",
        "\t"
      ]
    },
    {
      "cell_type": "markdown",
      "metadata": {
        "nteract": {
          "transient": {
            "deleting": false
          }
        }
      },
      "source": [
        "While Davinci is the most capable, the other models provide significant speed advantages. Our recommendation is for users to start with Davinci while experimenting, because it produces the best results and validate the value that Azure OpenAI can provide. Once you have a prototype working, you can then optimize your model choice with the best latency/performance balance for your application."
      ]
    },
    {
      "cell_type": "markdown",
      "metadata": {
        "nteract": {
          "transient": {
            "deleting": false
          }
        }
      },
      "source": [
        "### 1.4 Pricing Details\n",
        "\n",
        "For the most up-to-date information, check out the Azure OpenAI [pricing page](https://azure.microsoft.com/en-us/pricing/details/cognitive-services/openai-service/).\n",
        "\n"
      ]
    },
    {
      "cell_type": "markdown",
      "metadata": {
        "nteract": {
          "transient": {
            "deleting": false
          }
        }
      },
      "source": [
        "### 1.5 Quotas and Limits\n",
        "\n",
        "**NOTE:** The below limits are subject to change. As you move towards production and your solution scales, you might need higher limits. If a quota increase is required, please fill out the form found here: [Azure OpenAI Service: Request for Quota Increase](https://aka.ms/oai/quotaincrease)\n",
        "\n",
        "|Limit Name\t|Limit Value|\n",
        "|---|---|\n",
        "|OpenAI resources per region per Azure subscription|\t3|\n",
        "| Requests per minute per model* | Davinci-models (002 and later): 120<br>ChatGPT model: 300<br>GPT-4 models: 18<br>All other models: 300                                             |\n",
        "| Tokens per minute per model*   | Davinci-models (002 and later): 40,000<br>ChatGPT model: 120,000<br>GPT-4 8k model: 10,000<br>GPT-4 32k model: 32,000<br>All other models: 120,000 |\n",
        "|Max fine-tuned model deployments*\t|2|\n",
        "|Ability to deploy same model to multiple deployments\t|Not allowed|\n",
        "|Total number of training jobs per resource|\t100|\n",
        "|Max simultaneous running training jobs per resource|\t1|\n",
        "|Max training jobs queued\t|20|\n",
        "|Max Files per resource\t|50|\n",
        "|Total size of all files per resource\t|1 GB|\n",
        "|Max training job time (job will fail if exceeded)\t|720 hours|\n",
        "|Max training job size (tokens in training file) x (# of epochs)\t|2 Billion|"
      ]
    },
    {
      "cell_type": "markdown",
      "metadata": {
        "nteract": {
          "transient": {
            "deleting": false
          }
        }
      },
      "source": [
        "### 1.6 Model Best Use Cases\n",
        "\n",
        "Here is some general guidance on well-suited applications that tend to differentiate models. Note that these are not hard and fast rules, and oftentimes experimentation and benchmarking are important to making the best decision for your solution.\n",
        "\n",
        "|Model|Use Cases|\n",
        "|---|---|\n",
        "|Davinci| Complex intent, cause and effect, summarization for audience|\n",
        "|Curie|Language translation, complex classification, text sentiment, summarization|\n",
        "|Babbage|Moderate classification, semantic search classification|\n",
        "|Ada|Parsing text, simple classification, address correction, keywords|"
      ]
    },
    {
      "cell_type": "markdown",
      "metadata": {
        "nteract": {
          "transient": {
            "deleting": false
          }
        }
      },
      "source": [
        "### 1.7 Model Selection Best Practices\n",
        "While Davinci is the most capable, the other models can provide significant advantages such as speed (low latency). Our recommendation is for users to start with Davinci while experimenting, because it produces the best results and validate the value that Azure OpenAI can provide. \n",
        "\n",
        "Once you have a prototype working, you can then optimize your model choice with the best latency/performance balance for your application."
      ]
    },
    {
      "cell_type": "markdown",
      "metadata": {
        "nteract": {
          "transient": {
            "deleting": false
          }
        }
      },
      "source": [
        "## 2. Let's Start Implementation"
      ]
    },
    {
      "cell_type": "markdown",
      "metadata": {
        "nteract": {
          "transient": {
            "deleting": false
          }
        }
      },
      "source": [
        "If you don't already have the OpenAI, Python-dotenv, plotly, or scikit-learn packages installed on your compute, the following cells will install them."
      ]
    },
    {
      "cell_type": "code",
      "execution_count": null,
      "metadata": {
        "gather": {
          "logged": 1685909662455
        },
        "jupyter": {
          "outputs_hidden": false,
          "source_hidden": false
        },
        "nteract": {
          "transient": {
            "deleting": false
          }
        }
      },
      "outputs": [],
      "source": [
        "%pip install --upgrade pandas\n",
        "%pip install --upgrade openai\n",
        "%pip install --upgrade python-dotenv\n",
        "%pip install --upgrade plotly scikit-learn"
      ]
    },
    {
      "cell_type": "code",
      "execution_count": null,
      "metadata": {
        "gather": {
          "logged": 1686331269276
        },
        "jupyter": {
          "outputs_hidden": false,
          "source_hidden": false
        },
        "nteract": {
          "transient": {
            "deleting": false
          }
        }
      },
      "outputs": [],
      "source": [
        "import openai\n",
        "import os\n",
        "import json\n",
        "from dotenv import load_dotenv, find_dotenv\n",
        "load_dotenv(find_dotenv())\n"
      ]
    },
    {
      "cell_type": "markdown",
      "metadata": {
        "nteract": {
          "transient": {
            "deleting": false
          }
        }
      },
      "source": [
        "Set up your environment to access your OpenAI keys. Refer to your OpenAI resource in the Azure Portal to retrieve information regarding your OpenAI endpoint and keys.\n",
        "\n",
        "For security purposes, store your sensitive information in a .env file."
      ]
    },
    {
      "cell_type": "code",
      "execution_count": null,
      "metadata": {
        "gather": {
          "logged": 1686331271142
        },
        "jupyter": {
          "outputs_hidden": false,
          "source_hidden": false
        },
        "nteract": {
          "transient": {
            "deleting": false
          }
        }
      },
      "outputs": [],
      "source": [
        "API_KEY = os.getenv(\"OPENAI_API_KEY\")\n",
        "assert API_KEY, \"ERROR: Azure OpenAI Key is missing\"\n",
        "openai.api_key = API_KEY\n",
        "\n",
        "RESOURCE_ENDPOINT = os.getenv(\"OPENAI_API_BASE\",\"\").strip()\n",
        "assert RESOURCE_ENDPOINT, \"ERROR: Azure OpenAI Endpoint is missing\"\n",
        "assert \"openai.azure.com\" in RESOURCE_ENDPOINT.lower(), \"ERROR: Azure OpenAI Endpoint should be in the form: \\n\\n\\t<your unique endpoint identifier>.openai.azure.com\"\n",
        "\n",
        "openai.api_base = RESOURCE_ENDPOINT\n",
        "openai.api_type = os.getenv(\"OPENAI_API_TYPE\")\n",
        "openai.api_version = os.getenv(\"OPENAI_API_VERSION\")\n",
        "\n",
        "chat_model=os.getenv(\"CHAT_MODEL_NAME\")\n",
        "davinci_model=os.getenv(\"TEXT_DAVINCI_MODEL_NAME\")\n",
        "curie_model=os.getenv(\"TEXT_CURIE_MODEL_NAME\")\n",
        "babbage_model=os.getenv(\"TEXT_BABBAGE_MODEL_NAME\")\n",
        "ada_model=os.getenv(\"TEXT_ADA_MODEL_NAME\")"
      ]
    },
    {
      "cell_type": "markdown",
      "metadata": {
        "nteract": {
          "transient": {
            "deleting": false
          }
        }
      },
      "source": [
        "### 2.0 Helper Functions\n",
        "Throughout this course, we will use OpenAI's `gpt-3.5-turbo` model and the [chat completions endpoint](https://platform.openai.com/docs/guides/chat). \n",
        "\n",
        "This helper function will make it easier to use prompts and look at the generated outputs."
      ]
    },
    {
      "cell_type": "markdown",
      "metadata": {
        "nteract": {
          "transient": {
            "deleting": false
          }
        }
      },
      "source": [
        "**timer wrapper** helps us monitor and compare the latency of each model.\n",
        "\n",
        "**get_completion** helps create the OpenAI response using the text completion model of your choice.\n",
        "\n",
        "**get_chat_completion** helps create the OpenAI response using the chat model of your choice.\n",
        "\n",
        "**get_completion_from_messages** helps create the OpenAI response using the chat model of your choice, enabling chat history.\n"
      ]
    },
    {
      "cell_type": "code",
      "execution_count": null,
      "metadata": {
        "gather": {
          "logged": 1686334202300
        },
        "jupyter": {
          "outputs_hidden": false,
          "source_hidden": false
        },
        "nteract": {
          "transient": {
            "deleting": false
          }
        }
      },
      "outputs": [],
      "source": [
        "import functools\n",
        "import time\n",
        "\n",
        "def timer(func):\n",
        "    @functools.wraps(func)\n",
        "    def wrapper(*args, **kwargs):\n",
        "        start_time = time.perf_counter()\n",
        "        value = func(*args, **kwargs)\n",
        "        end_time = time.perf_counter()\n",
        "        run_time = end_time - start_time\n",
        "        print(\"Finished {} in {} secs\".format(repr(func.__name__), round(run_time, 3)))\n",
        "        return value[0], value[1], round(run_time, 3)\n",
        "\n",
        "    return wrapper"
      ]
    },
    {
      "cell_type": "code",
      "execution_count": null,
      "metadata": {
        "gather": {
          "logged": 1686334262004
        },
        "jupyter": {
          "outputs_hidden": false,
          "source_hidden": false
        },
        "nteract": {
          "transient": {
            "deleting": false
          }
        }
      },
      "outputs": [],
      "source": [
        "@timer\n",
        "def get_completion(prompt, model=davinci_model):\n",
        "    response = openai.Completion.create(\n",
        "        engine=model,\n",
        "        prompt=prompt,\n",
        "        temperature=0, # this is the degree of randomness of the model's output\n",
        "        max_tokens = 500,\n",
        "        top_p = 1.0,\n",
        "    )\n",
        "    return response.choices[0].text, response['usage']['total_tokens']"
      ]
    },
    {
      "cell_type": "code",
      "execution_count": null,
      "metadata": {
        "gather": {
          "logged": 1686334263077
        },
        "jupyter": {
          "outputs_hidden": false,
          "source_hidden": false
        },
        "nteract": {
          "transient": {
            "deleting": false
          }
        }
      },
      "outputs": [],
      "source": [
        "@timer\n",
        "def get_chat_completion(prompt, model=chat_model):\n",
        "    messages = [{\"role\": \"user\", \"content\": prompt}]\n",
        "    response = openai.ChatCompletion.create(\n",
        "        model=model,\n",
        "        messages=messages,\n",
        "        temperature=0, # this is the degree of randomness of the model's output\n",
        "        max_tokens = 200,\n",
        "        top_p = 1.0,\n",
        "    )\n",
        "    return response.choices[0].message[\"content\"]"
      ]
    },
    {
      "cell_type": "code",
      "execution_count": null,
      "metadata": {
        "gather": {
          "logged": 1686334263773
        },
        "jupyter": {
          "outputs_hidden": false,
          "source_hidden": false
        },
        "nteract": {
          "transient": {
            "deleting": false
          }
        }
      },
      "outputs": [],
      "source": [
        "@timer\n",
        "def get_completion_from_messages(messages, model=chat_model, temperature=0):\n",
        "    response = openai.ChatCompletion.create(\n",
        "        engine=model,\n",
        "        messages=messages,\n",
        "        temperature=temperature, # this is the degree of randomness of the model's output\n",
        "    )\n",
        "    #print(str(response.choices[0].message))\n",
        "    return response.choices[0].message[\"content\"]\n"
      ]
    },
    {
      "cell_type": "markdown",
      "metadata": {
        "nteract": {
          "transient": {
            "deleting": false
          }
        }
      },
      "source": [
        "### 2.1 Summarize Text"
      ]
    },
    {
      "cell_type": "code",
      "execution_count": null,
      "metadata": {
        "gather": {
          "logged": 1686334268062
        },
        "jupyter": {
          "outputs_hidden": false,
          "source_hidden": false
        },
        "nteract": {
          "transient": {
            "deleting": false
          }
        }
      },
      "outputs": [],
      "source": [
        "import pandas as pd\n",
        "\n",
        "model_pricing = pd.DataFrame(columns=['model', 'price', 'time'])"
      ]
    },
    {
      "cell_type": "code",
      "execution_count": null,
      "metadata": {
        "gather": {
          "logged": 1686334278657
        }
      },
      "outputs": [],
      "source": [
        "text = f\"\"\"\n",
        "The Olympic Games Tokyo 2020 reached a global broadcast audience of 3.05 billion people, according to independent research conducted on behalf of the International Olympic Committee (IOC). Official coverage on Olympic broadcast partners\\' digital platforms alone generated 28 billion video views in total – representing a 139 per cent increase compared with the Olympic Games Rio 2016 and underlining the changing media landscape and Tokyo 2020\\'s designation as the first streaming Games and the most watched Olympic Games ever on digital platforms.Sony and Panasonic partnered with NHK to develop broadcasting standards for 8K resolution television, with a goal to release 8K television sets in time for the 2020 Summer Olympics. In early 2019, Italian broadcaster RAI announced its intention to deploy 8K broadcasting for the Games. NHK broadcast the opening and closing ceremonies, and coverage of selected events in 8K. Telecom company NTT Docomo signed a deal with Finland\\'s Nokia to provide 5G-ready baseband networks in Japan in time for the Games.The Tokyo Olympics were broadcast in the United States by NBCUniversal networks, as part of a US$4.38 billion agreement that began at the 2014 Winter Olympics in Sochi. The United States Olympic & Paralympic Committee asserted that a \"right of abatement\" clause in the contract was triggered by the delay of the Games to 2021, requiring the IOC to \"negotiate in good faith an equitable reduction in the applicable broadcast rights payments\" by NBC, which remains one of IOC\\'s biggest revenue streams. According to NBCUniversal CEO Jeff Shell, the Tokyo games could be the most profitable Olympics in NBC\\'s history. The Tokyo games were NBC\\'s first Olympics broadcast under current president Susan Rosner Rovner.In Europe, this was the first Summer Olympics under the IOC\\'s exclusive pan-European rights deal with Eurosport, which began at the 2018 Winter Olympics and is contracted to run through 2024. The rights for the 2020 Summer Olympics covered almost all of Europe; a pre-existing deal with a marketer excludes Russia. Eurosport planned to sub-license coverage to free-to-air networks in each territory, and other channels owned by Discovery, Inc. subsidiaries. In the United Kingdom, these were set to be the last Games with rights owned primarily by the BBC, although as a condition of a sub-licensing agreement due to carry into the 2022 and 2024 Games, Eurosport holds exclusive pay television rights. In France, these were the last Games whose rights are primarily owned by France Télévisions. Eurosport debuted as pay television rightsholder, after Canal+ elected to sell its pay television rights as a cost-saving measure.In Canada, the 2020 Games were shown on CBC/Radio-Canada platforms, Sportsnet, TSN and TLN. In Australia, they were aired by Seven Network. In the Indian subcontinent, they were aired by Sony Pictures Networks India (SPN).\n",
        "\"\"\"\n",
        "prompt = f\"\"\"\n",
        "Summarize the text delimited by triple backticks into a single sentence.\n",
        "```{text}```\n",
        "\"\"\"\n",
        "\n",
        "davinci_response, davinci_price, davinci_time = get_completion(prompt, model=davinci_model)\n",
        "curie_response, curie_price, curie_time = get_completion(prompt, model=curie_model)\n",
        "babbage_response, babbage_price, babbage_time = get_completion(prompt, model=babbage_model)\n",
        "ada_response, ada_price, ada_time = get_completion(prompt, model=ada_model)\n",
        "print(f\"Davinci Response: {davinci_response}\\n\")\n",
        "print(f\"Curie Response: {curie_response}\\n\")\n",
        "print(f\"Babbage Response: {babbage_response}\\n\")\n",
        "print(f\"Ada Response: {ada_response}\\n\")\n",
        "\n",
        "new_rows = pd.DataFrame([{'model': 'davinci', 'price': davinci_price, 'time': davinci_time},\n",
        "                                       {'model': 'curie', 'price': curie_price, 'time': curie_time},\n",
        "                                       {'model': 'babbage', 'price': babbage_price, 'time': babbage_time},\n",
        "                                       {'model': 'ada', 'price': ada_price, 'time': ada_time}])\n",
        "model_pricing = pd.concat([model_pricing, new_rows], ignore_index=True)"
      ]
    },
    {
      "cell_type": "markdown",
      "metadata": {
        "nteract": {
          "transient": {
            "deleting": false
          }
        }
      },
      "source": [
        "_**Takeaway: Davinci and Curie models are more suitable for tasks like summarization. The answer is more concise and takes less time.**_"
      ]
    },
    {
      "cell_type": "markdown",
      "metadata": {
        "nteract": {
          "transient": {
            "deleting": false
          }
        }
      },
      "source": [
        "#### Student Task #1:\n",
        "With tactics learned in CH1, edit the prompt to get more concise answer from the assistant. Do you find any difference in the result?"
      ]
    },
    {
      "cell_type": "code",
      "execution_count": null,
      "metadata": {
        "jupyter": {
          "outputs_hidden": false,
          "source_hidden": false
        },
        "nteract": {
          "transient": {
            "deleting": false
          }
        }
      },
      "outputs": [],
      "source": [
        "# edit the prompt to get more concise answer from assistant"
      ]
    },
    {
      "cell_type": "markdown",
      "metadata": {
        "nteract": {
          "transient": {
            "deleting": false
          }
        }
      },
      "source": [
        "### 2.2 Summarization for a targeted audience"
      ]
    },
    {
      "cell_type": "code",
      "execution_count": null,
      "metadata": {
        "gather": {
          "logged": 1686332538379
        },
        "jupyter": {
          "outputs_hidden": false,
          "source_hidden": false
        },
        "nteract": {
          "transient": {
            "deleting": false
          }
        }
      },
      "outputs": [],
      "source": [
        "prompt = f\"\"\"\n",
        "Summarize the text delimited by triple backticks into a single sentence for 7-year-old to understand.\n",
        "```{text}```\n",
        "\"\"\"\n",
        "\n",
        "davinci_response, davinci_price, davinci_time = get_completion(prompt, model=davinci_model)\n",
        "curie_response, curie_price, curie_time = get_completion(prompt, model=curie_model)\n",
        "babbage_response, babbage_price, babbage_time = get_completion(prompt, model=babbage_model)\n",
        "ada_response, ada_price, ada_time = get_completion(prompt, model=ada_model)\n",
        "print(f\"Davinci Response: {davinci_response}\\n\")\n",
        "print(f\"Curie Response: {curie_response}\\n\")\n",
        "print(f\"Babbage Response: {babbage_response}\\n\")\n",
        "print(f\"Ada Response: {ada_response}\\n\")\n",
        "\n",
        "new_rows = pd.DataFrame([{'model': 'davinci', 'price': davinci_price, 'time': davinci_time},\n",
        "                                       {'model': 'curie', 'price': curie_price, 'time': curie_time},\n",
        "                                       {'model': 'babbage', 'price': babbage_price, 'time': babbage_time},\n",
        "                                       {'model': 'ada', 'price': ada_price, 'time': ada_time}])\n",
        "model_pricing = pd.concat([model_pricing, new_rows], ignore_index=True)"
      ]
    },
    {
      "cell_type": "markdown",
      "metadata": {
        "nteract": {
          "transient": {
            "deleting": false
          }
        }
      },
      "source": [
        "#### Student Task #2:\n",
        "Edit the prompt to summarize the text for eye-catching newspaper title. Compare different results."
      ]
    },
    {
      "cell_type": "code",
      "execution_count": null,
      "metadata": {
        "jupyter": {
          "outputs_hidden": false,
          "source_hidden": false
        },
        "nteract": {
          "transient": {
            "deleting": false
          }
        }
      },
      "outputs": [],
      "source": [
        "# Edit the prompt to summarize the text for eye-catching newspaper title"
      ]
    },
    {
      "cell_type": "markdown",
      "metadata": {
        "nteract": {
          "transient": {
            "deleting": false
          }
        }
      },
      "source": [
        "### 2.3 Summarize Cause & Effect"
      ]
    },
    {
      "cell_type": "code",
      "execution_count": null,
      "metadata": {
        "gather": {
          "logged": 1686332587257
        },
        "jupyter": {
          "outputs_hidden": false,
          "source_hidden": false
        },
        "nteract": {
          "transient": {
            "deleting": false
          }
        }
      },
      "outputs": [],
      "source": [
        "prompt = f\"\"\"\n",
        "Summarize the major event's cause and effect for the text delimited by triple backticks into a single sentence less than 50 words.\n",
        "```{text}```\n",
        "\"\"\"\n",
        "\n",
        "davinci_response, davinci_price, davinci_time = get_completion(prompt, model=davinci_model)\n",
        "curie_response, curie_price, curie_time = get_completion(prompt, model=curie_model)\n",
        "babbage_response, babbage_price, babbage_time = get_completion(prompt, model=babbage_model)\n",
        "ada_response, ada_price, ada_time = get_completion(prompt, model=ada_model)\n",
        "print(f\"Davinci Response: {davinci_response}\\n\")\n",
        "print(f\"Curie Response: {curie_response}\\n\")\n",
        "print(f\"Babbage Response: {babbage_response}\\n\")\n",
        "print(f\"Ada Response: {ada_response}\\n\")\n",
        "\n",
        "new_rows = pd.DataFrame([{'model': 'davinci', 'price': davinci_price, 'time': davinci_time},\n",
        "                                       {'model': 'curie', 'price': curie_price, 'time': curie_time},\n",
        "                                       {'model': 'babbage', 'price': babbage_price, 'time': babbage_time},\n",
        "                                       {'model': 'ada', 'price': ada_price, 'time': ada_time}])\n",
        "model_pricing = pd.concat([model_pricing, new_rows], ignore_index=True)"
      ]
    },
    {
      "cell_type": "markdown",
      "metadata": {
        "nteract": {
          "transient": {
            "deleting": false
          }
        }
      },
      "source": [
        "#### Student Task #3: Model Comparison\n",
        "Use the model comparison chart to briefly summarize your findings after comparing different model output & time taken. eg. Davinci: Performance (+++), time (+). You may also leverage other python packages to visualize your findings.\n",
        "\n",
        "|Model| Performance  |Time|\n",
        "|---|---|---|\n",
        "|Davinci|||\n",
        "|Curie|||\n",
        "|Babbage|||\n",
        "|Ada|||\n"
      ]
    },
    {
      "cell_type": "markdown",
      "metadata": {
        "nteract": {
          "transient": {
            "deleting": false
          }
        }
      },
      "source": [
        " #### Student Task #4: Text Classification\n",
        " Edit the prompt to make the models generate key topic categories for the text. Compare different model performance."
      ]
    },
    {
      "cell_type": "code",
      "execution_count": null,
      "metadata": {
        "jupyter": {
          "outputs_hidden": false,
          "source_hidden": false
        },
        "nteract": {
          "transient": {
            "deleting": false
          }
        }
      },
      "outputs": [],
      "source": [
        "# Edit the prompt to make the models generate key topic categories for the text"
      ]
    },
    {
      "cell_type": "markdown",
      "metadata": {
        "nteract": {
          "transient": {
            "deleting": false
          }
        }
      },
      "source": [
        "#### Student Task #5:\n",
        "Edit the prompt to make the models generate more precise results. Compare different model performance."
      ]
    },
    {
      "cell_type": "code",
      "execution_count": null,
      "metadata": {
        "jupyter": {
          "outputs_hidden": false,
          "source_hidden": false
        },
        "nteract": {
          "transient": {
            "deleting": false
          }
        }
      },
      "outputs": [],
      "source": [
        "# Edit the prompt to make the models generate more precise results. "
      ]
    },
    {
      "cell_type": "markdown",
      "metadata": {
        "nteract": {
          "transient": {
            "deleting": false
          }
        }
      },
      "source": [
        "#### Student Task #6: Model Comparison\n",
        "\n",
        "Write code to create two bar charts comparing the **price** and **time for completion** between the models. We recommend using the `matplotlib.pyplot` library for making visualizations.\n",
        "\n",
        "Instructions for completion:\n",
        "\n",
        "* Utilize the `model_comparison` dataframe to calculate the averages of price and time for each model\n",
        "* Produce the bar chart in a currency amount. Note that the `price` column in the `model_comparison` dataframe is in the unit of tokens. Refer to the Azure [OpenAI pricing page](https://azure.microsoft.com/en-us/pricing/details/cognitive-services/openai-service/) to convert the units."
      ]
    },
    {
      "cell_type": "code",
      "execution_count": null,
      "metadata": {
        "jupyter": {
          "outputs_hidden": false,
          "source_hidden": false
        },
        "nteract": {
          "transient": {
            "deleting": false
          }
        }
      },
      "outputs": [],
      "source": [
        "\"\"\" STUDENT CHALLENGE \"\"\"\n",
        "\n",
        "import matplotlib.pyplot as plt\n",
        "\n",
        "### 1. Bar chart to compare pricing\n",
        "\n",
        "\n",
        "### 2. Bar chart to compare time for completion"
      ]
    },
    {
      "cell_type": "markdown",
      "metadata": {
        "nteract": {
          "transient": {
            "deleting": false
          }
        }
      },
      "source": [
        "### 2.4 Generate Nick Names"
      ]
    },
    {
      "cell_type": "markdown",
      "metadata": {
        "nteract": {
          "transient": {
            "deleting": false
          }
        }
      },
      "source": [
        "#### Student Task #7:\n",
        "Use different models to create nick names for players from examples words. Compare different model performance. (You can set the temperature value high to increase randomness and more innovative responses.)\n",
        "\n",
        "Player description: The champion of Men's 100 metre freestyle swimming. Seed words: fast, strong, talented.Nick names: Swimming Genius, Dark Horse, 100-Metre-Freestyle Killer\n",
        "\n",
        "Player description: The champion of Women Figure Skating. Seed words: elegant, talented, soft."
      ]
    },
    {
      "cell_type": "code",
      "execution_count": null,
      "metadata": {
        "gather": {
          "logged": 1685916265011
        },
        "jupyter": {
          "outputs_hidden": false,
          "source_hidden": false
        },
        "nteract": {
          "transient": {
            "deleting": false
          }
        }
      },
      "outputs": [],
      "source": [
        "# your code:"
      ]
    },
    {
      "cell_type": "markdown",
      "metadata": {
        "nteract": {
          "transient": {
            "deleting": false
          }
        }
      },
      "source": [
        "#### Model Comparison\n",
        "|Model| Performance  |Time|Tokens|Pricing |\n",
        "|---|---|---|\n",
        "|Davinci|||||\n",
        "|Curie|||||\n",
        "|Babbage|||||\n",
        "|Ada|||||"
      ]
    },
    {
      "cell_type": "markdown",
      "metadata": {
        "nteract": {
          "transient": {
            "deleting": false
          }
        }
      },
      "source": [
        "### 2.5 Embeddings\n",
        "This section focuses on how to retrieve embeddings using different embedding models, and find similarity between documents. "
      ]
    },
    {
      "cell_type": "markdown",
      "metadata": {
        "nteract": {
          "transient": {
            "deleting": false
          }
        }
      },
      "source": [
        "#### Student Task #8:\n",
        "Compare the summaries of two swimming games at the 2020 Summer Olympics using the data provided below.\n",
        "\n",
        "See whether there are differences using different embedding models to compare."
      ]
    },
    {
      "cell_type": "code",
      "execution_count": null,
      "metadata": {
        "gather": {
          "logged": 1686117865502
        },
        "jupyter": {
          "outputs_hidden": false,
          "source_hidden": false
        },
        "nteract": {
          "transient": {
            "deleting": false
          }
        }
      },
      "outputs": [],
      "source": [
        "from openai.embeddings_utils import get_embedding, cosine_similarity"
      ]
    },
    {
      "cell_type": "code",
      "execution_count": null,
      "metadata": {
        "gather": {
          "logged": 1686117698204
        },
        "jupyter": {
          "outputs_hidden": false,
          "source_hidden": false
        },
        "nteract": {
          "transient": {
            "deleting": false
          }
        }
      },
      "outputs": [],
      "source": [
        "import pandas as pd\n",
        "game_summary = [\n",
        "    \"The mixed 100 metre medley relay event at the 2020 Summer Olympics was held in 2021 at the Tokyo Aquatics Centre. These Games marked the first time to feature a mixed-gender swimming event in the program. Each 4-person team features two male and two female swimmers in no particular order. The medals for the competition were presented by Kirsty Coventry IOC Executive Board Member, Zimbabwe; Olympian, 2 Gold Medals, 4 Silver Medals, 1 Bronze Medal, and the medalists bouquets were presented by Errol Clarke, FINA Bureau Member; Barbados.\",\n",
        "    \"The men's 200 metre breaststroke event at the 2020 Summer Olympics was held from 27 to 29 July 2021 at the Tokyo Aquatics Centre. It was the event's twenty-sixth consecutive appearance, having been held at every edition since 1908.\"\n",
        "]\n",
        "\n",
        "game_highlight = [\n",
        "    'The 2020 Summer Olympics featured the first ever mixed-gender swimming event, the 100 metre medley relay. Medals were presented by Kirsty Coventry and bouquets by Errol Clarke.',\n",
        "    \"The men's 200 metre breaststroke event was held at the 2020 Summer Olympics in Tokyo, making it the event's 26th consecutive appearance since 1908.\"\n",
        "]\n",
        "\n",
        "olympics_game_df = pd.DataFrame({\"summary\":game_summary, \"qualification\":game_highlight})\n",
        "\n",
        "olympics_game_df.head()   "
      ]
    },
    {
      "cell_type": "code",
      "execution_count": null,
      "metadata": {
        "gather": {
          "logged": 1686117707487
        },
        "jupyter": {
          "outputs_hidden": false,
          "source_hidden": false
        },
        "nteract": {
          "transient": {
            "deleting": false
          }
        }
      },
      "outputs": [],
      "source": [
        "@timer\n",
        "def get_embedding(text, model=\"text-embedding-ada\"):\n",
        "    response = openai.Embedding.create(\n",
        "        input=text,\n",
        "        engine=model\n",
        "    )\n",
        "    return response[\"data\"][0][\"embedding\"]"
      ]
    },
    {
      "cell_type": "code",
      "execution_count": null,
      "metadata": {
        "gather": {
          "logged": 1686117710151
        },
        "jupyter": {
          "outputs_hidden": false,
          "source_hidden": false
        },
        "nteract": {
          "transient": {
            "deleting": false
          }
        }
      },
      "outputs": [],
      "source": [
        "model = \"text-embedding-ada\"\n"
      ]
    },
    {
      "cell_type": "code",
      "execution_count": null,
      "metadata": {
        "gather": {
          "logged": 1686117715107
        },
        "jupyter": {
          "outputs_hidden": false,
          "source_hidden": false
        },
        "nteract": {
          "transient": {
            "deleting": false
          }
        }
      },
      "outputs": [],
      "source": [
        "model = \"text-similarity-ada\"\n"
      ]
    },
    {
      "cell_type": "code",
      "execution_count": null,
      "metadata": {
        "gather": {
          "logged": 1686117718971
        },
        "jupyter": {
          "outputs_hidden": false,
          "source_hidden": false
        },
        "nteract": {
          "transient": {
            "deleting": false
          }
        }
      },
      "outputs": [],
      "source": [
        "model = \"text-similarity-curie\"\n"
      ]
    },
    {
      "cell_type": "markdown",
      "metadata": {
        "nteract": {
          "transient": {
            "deleting": false
          }
        }
      },
      "source": [
        "#### Model Comparison\n",
        "|Model| Performance  |Time|\n",
        "|---|---|---|\n",
        "|text-embedding-ada-002|||\n",
        "|text-similarity-ada-001|||\n",
        "|text-similarity-curie-001|||"
      ]
    },
    {
      "cell_type": "code",
      "execution_count": null,
      "metadata": {
        "jupyter": {
          "outputs_hidden": false,
          "source_hidden": false
        },
        "nteract": {
          "transient": {
            "deleting": false
          }
        }
      },
      "outputs": [],
      "source": []
    }
  ],
  "metadata": {
    "kernel_info": {
      "name": "python310-sdkv2"
    },
    "kernelspec": {
      "display_name": "Python 3.10 - SDK v2",
      "language": "python",
      "name": "python310-sdkv2"
    },
    "language_info": {
      "codemirror_mode": {
        "name": "ipython",
        "version": 3
      },
      "file_extension": ".py",
      "mimetype": "text/x-python",
      "name": "python",
      "nbconvert_exporter": "python",
      "pygments_lexer": "ipython3",
      "version": "3.10.10"
    },
    "microsoft": {
      "host": {
        "AzureML": {
          "notebookHasBeenCompleted": true
        }
      },
      "ms_spell_check": {
        "ms_spell_check_language": "en"
      }
    },
    "nteract": {
      "version": "nteract-front-end@1.0.0"
    }
  },
  "nbformat": 4,
  "nbformat_minor": 2
}
