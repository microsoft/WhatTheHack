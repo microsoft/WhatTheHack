{
  "cells": [
    {
      "cell_type": "markdown",
      "metadata": {
        "nteract": {
          "transient": {
            "deleting": false
          }
        }
      },
      "source": [
        "# Challenge 02 - OpenAI Models & Capabilities"
      ]
    },
    {
      "cell_type": "markdown",
      "metadata": {
        "nteract": {
          "transient": {
            "deleting": false
          }
        }
      },
      "source": [
        "This challenge is OPTIONAL.\n",
        "\n",
        "In this challenge, you will learn about the different capabilities of OpenAI models and learn how to choose the best model for your use case.\n",
        "\n",
        "If you have deployed some of the depreciated models from before, you will still be able to use them until July 5, 2024. However if you had not deployed those models, but have gpt-4 access, you can compare gpt3.5 to gpt4 in this challenge. If you do not have gpt-4 access, you can still go through this challenge conceptually to understand how to best pick a model from the ones you have deployed as well as the ones in the model catalog.\n",
        "\n",
        "Questions you will be able to answer by the end of this challenge:\n",
        "\n",
        "* How do responses differ for each model?\n",
        "* What are ways to benchmark the performance of models? "
      ]
    },
    {
      "cell_type": "markdown",
      "metadata": {
        "nteract": {
          "transient": {
            "deleting": false
          }
        }
      },
      "source": [
        "## 1. Overview on finding the right model for you\n",
        "\n"
      ]
    },
    {
      "cell_type": "markdown",
      "metadata": {
        "nteract": {
          "transient": {
            "deleting": false
          }
        }
      },
      "source": [
        "### 1.1 Model Families\n",
        "\n",
        "Azure OpenAI provides access to many different models, grouped by family and capability. A model family typically associates models by their intended task. \n",
        "\n",
        "The following table describes model families currently available in Azure OpenAI. "
      ]
    },
    {
      "cell_type": "markdown",
      "metadata": {
        "nteract": {
          "transient": {
            "deleting": false
          }
        }
      },
      "source": [
        "| Model family | Description |\n",
        "| --- | --- |\n",
        "|**GPT-4** | A set of models that improve on GPT-3.5 and can understand as well as generate natural language and code.|\n",
        "|**GPT-3** | A series of models that can understand and generate natural language. This includes the new ChatGPT model. |\n",
        "|**Codex** | A series of models that can understand and generate code, including translating natural language to code. | \n",
        "|**Embeddings** |A set of models that can understand and use embeddings. An embedding is a special format of data representation that can be easily utilized by machine learning models and algorithms. The embedding is an information dense representation of the semantic meaning of a piece of text. Currently, we offer three families of Embeddings models for different functionalities: similarity, text search, and code search.| \t\n",
        "\t\n",
        "\t\n",
        "\t\n",
        "\t"
      ]
    },
    {
      "cell_type": "markdown",
      "metadata": {
        "nteract": {
          "transient": {
            "deleting": false
          }
        }
      },
      "source": [
        "### 1.2 Model Capacities\n",
        "The GPT-3 models can understand and generate natural language. The service offers four model capabilities, each with different levels of power and speed suitable for different tasks. Davinci is the most capable model, while Ada is the fastest. The following list represents the latest versions of GPT-3 models, ordered by increasing capability.\n",
        "\n",
        "- text-ada-001\n",
        "- text-babbage-001\n",
        "- text-curie-001\n",
        "- text-davinci-003"
      ]
    },
    {
      "cell_type": "markdown",
      "metadata": {
        "nteract": {
          "transient": {
            "deleting": false
          }
        }
      },
      "source": [
        "\n",
        "[Azure OpenAI models](https://learn.microsoft.com/en-us/azure/cognitive-services/openai/concepts/models)  \n",
        "\n",
        "\n",
        "| | Similarity embedding | Text search embedding | Code Search Embedding |\n",
        "| --- | --- | --- |\n",
        "| |These models are good at capturing **semantic similarity** between two or more pieces of text. | These models help measure whether long documents are relevant to a short search query. There are two input types supported by this family: **doc**, for embedding the documents to be retrieved, and **query**, for embedding the search query. |Similar to text search embedding models, there are two input types supported by this family: **code**, for embedding code snippets to be retrieved, and text, for embedding natural language search queries. | \n",
        "|**Use cases** | Clustering, regression, anomaly detection, visualization | Search, context relevance, information retrieval | Code search and relevance |\n",
        "|**Models** |text-similarity-ada-001 <br> text-similarity-babbage-001 <br> text-similarity-curie-001 <br> text-similarity-davinci-001 | text-search-ada-doc-001  <br> text-search-ada-query-001  <br> text-search-babbage-doc-001  <br> text-search-babbage-query-001  <br> text-search-curie-doc-001  <br>text-search-curie-query-001  <br> text-search-davinci-doc-001  <br> text-search-davinci-query-001 | code-search-ada-code-001 <br> code-search-ada-text-001 <br> code-search-babbage-code-001 <br> code-search-babbage-text-001 | \n"
      ]
    },
    {
      "cell_type": "markdown",
      "metadata": {
        "nteract": {
          "transient": {
            "deleting": false
          }
        }
      },
      "source": [
        "### 1.3 Model Taxonomy  \n",
        "Let's choose a general text GPT-3 model, using the second most powerful model (Curie)\n",
        "\n",
        "**Model taxonomy**: {capability} - {family} - {input-type} - {identifier}  \n",
        "\n",
        "{family}     --> text   (general text GPT-3 model)  \n",
        "{capacity} --> curie  (curie is second most powerful in ada-babbage-curie-davinci family)  \n",
        "{input-type} --> n/a    (only specified for search models)  \n",
        "{identifier} --> 001    (version 001)  \n",
        "\n",
        "model = \"text-curie-001\""
      ]
    },
    {
      "cell_type": "markdown",
      "metadata": {
        "nteract": {
          "transient": {
            "deleting": false
          }
        }
      },
      "source": [
        "| Element | Description |\n",
        "| --- | --- |\n",
        "|**{family}** | The model family of the model. For example, GPT-3 models uses text, while Codex models use code.|\n",
        "|**{capacity}** | The relative capacity of the model. For example, GPT-3 models include ada, babbage, curie, and davinci, with increasing capacity. |\n",
        "|**{input-type}** | (Embeddings models only) The input type of the embedding supported by the model. For example, text search embedding models support doc and query. | \n",
        "|**{identifier}** |The version identifier of the model.| \t\n",
        "\n",
        "\t\n",
        "\n",
        "\n",
        "\t\n",
        "\t"
      ]
    },
    {
      "cell_type": "markdown",
      "metadata": {
        "nteract": {
          "transient": {
            "deleting": false
          }
        }
      },
      "source": [
        "While Davinci is the most capable, the other models provide significant speed advantages. Our recommendation is for users to start with Davinci while experimenting, because it produces the best results and validate the value that Azure OpenAI can provide. Once you have a prototype working, you can then optimize your model choice with the best latency/performance balance for your application."
      ]
    },
    {
      "cell_type": "markdown",
      "metadata": {
        "nteract": {
          "transient": {
            "deleting": false
          }
        }
      },
      "source": [
        "### 1.4 Pricing Details\n",
        "\n",
        "For the most up-to-date information, check out the Azure OpenAI [pricing page](https://azure.microsoft.com/en-us/pricing/details/cognitive-services/openai-service/).\n",
        "\n",
        "|Models|Per 1,000 tokens (Standard)|\n",
        "| --- | --- |\n",
        "|Text-Ada|\t$0.0004|\n",
        "|Text-Babbage|\t$0.0005|\n",
        "|Text-Curie\t|$0.002|\n",
        "|Text-Davinci\t|$0.02|\n",
        "|Code-Cushman\t|$0.024|\n",
        "|Code-Davinci\t|$0.10|\n",
        "|ChatGPT (gpt-3.5-turbo)\t|$0.002|"
      ]
    },
    {
      "cell_type": "markdown",
      "metadata": {
        "nteract": {
          "transient": {
            "deleting": false
          }
        }
      },
      "source": [
        "### 1.5 Quotas and Limits\n",
        "\n",
        "*The below limits are subject to change. We anticipate that you will need higher limits as you move toward production and your solution scales. When you know your solution requirements, please reach out to us by applying for a quota increase here: https://aka.ms/oai/quotaincrease\n",
        "\n",
        "|Limit Name\t|Limit Value|\n",
        "|---|---|\n",
        "|OpenAI resources per region per Azure subscription|\t3|\n",
        "| Requests per minute per model* | Davinci-models (002 and later): 120<br>ChatGPT model: 300<br>GPT-4 models: 18<br>All other models: 300                                             |\n",
        "| Tokens per minute per model*   | Davinci-models (002 and later): 40,000<br>ChatGPT model: 120,000<br>GPT-4 8k model: 10,000<br>GPT-4 32k model: 32,000<br>All other models: 120,000 |\n",
        "|Max fine-tuned model deployments*\t|2|\n",
        "|Ability to deploy same model to multiple deployments\t|Not allowed|\n",
        "|Total number of training jobs per resource|\t100|\n",
        "|Max simultaneous running training jobs per resource|\t1|\n",
        "|Max training jobs queued\t|20|\n",
        "|Max Files per resource\t|50|\n",
        "|Total size of all files per resource\t|1 GB|\n",
        "|Max training job time (job will fail if exceeded)\t|720 hours|\n",
        "|Max training job size (tokens in training file) x (# of epochs)\t|2 Billion|"
      ]
    },
    {
      "cell_type": "markdown",
      "metadata": {
        "nteract": {
          "transient": {
            "deleting": false
          }
        }
      },
      "source": [
        "### 1.6 Model Best Use Cases\n",
        "\n",
        "Here is some general guidance on well-suited applications that tend to differentiate models. Note that these are not hard and fast rules, and oftentimes experimentation and benchmarking are important to making the best decision for your solution.\n",
        "\n",
        "|Model|Use Cases|\n",
        "|---|---|\n",
        "|Davinci| Complex intent, cause and effect, summarization for audience|\n",
        "|Curie|Language translation, complex classification, text sentiment, summarization|\n",
        "|Babbage|Moderate classification, semantic search classification|\n",
        "|Ada|Parsing text, simple classification, address correction, keywords|"
      ]
    },
    {
      "cell_type": "markdown",
      "metadata": {
        "nteract": {
          "transient": {
            "deleting": false
          }
        }
      },
      "source": [
        "### 1.7 Model Selection Best Practices\n",
        "While Davinci is the most capable, the other models can provide significant advantages such as speed (low latency). Our recommendation is for users to start with Davinci while experimenting, because it produces the best results and validate the value that Azure OpenAI can provide. \n",
        "\n",
        "Once you have a prototype working, you can then optimize your model choice with the best latency/performance balance for your application."
      ]
    },
    {
      "cell_type": "markdown",
      "metadata": {
        "nteract": {
          "transient": {
            "deleting": false
          }
        }
      },
      "source": [
        "## 2. Let's Start Implementation"
      ]
    },
    {
      "cell_type": "markdown",
      "metadata": {
        "nteract": {
          "transient": {
            "deleting": false
          }
        }
      },
      "source": [
        "If you don't already have the OpenAI, Python-dotenv, plotly, or scikit-learn packages installed on your compute, the following cells will install them."
      ]
    },
    {
      "cell_type": "code",
      "execution_count": 2,
      "metadata": {
        "gather": {
          "logged": 1685909662455
        },
        "jupyter": {
          "outputs_hidden": false,
          "source_hidden": false
        },
        "nteract": {
          "transient": {
            "deleting": false
          }
        }
      },
      "outputs": [
        {
          "name": "stdout",
          "output_type": "stream",
          "text": [
            "Collecting openai\n",
            "  Using cached openai-0.27.7-py3-none-any.whl (71 kB)\n",
            "Requirement already satisfied: tqdm in /anaconda/envs/azureml_py310_sdkv2/lib/python3.10/site-packages (from openai) (4.65.0)\n",
            "Collecting aiohttp\n",
            "  Downloading aiohttp-3.8.4-cp310-cp310-manylinux_2_17_x86_64.manylinux2014_x86_64.whl (1.0 MB)\n",
            "\u001b[2K     \u001b[90m━━━━━━━━━━━━━━━━━━━━━━━━━━━━━━━━━━━━━━━━\u001b[0m \u001b[32m1.0/1.0 MB\u001b[0m \u001b[31m23.2 MB/s\u001b[0m eta \u001b[36m0:00:00\u001b[0m00:01\u001b[0m\n",
            "\u001b[?25hRequirement already satisfied: requests>=2.20 in /anaconda/envs/azureml_py310_sdkv2/lib/python3.10/site-packages (from openai) (2.28.2)\n",
            "Requirement already satisfied: idna<4,>=2.5 in /anaconda/envs/azureml_py310_sdkv2/lib/python3.10/site-packages (from requests>=2.20->openai) (3.4)\n",
            "Requirement already satisfied: certifi>=2017.4.17 in /anaconda/envs/azureml_py310_sdkv2/lib/python3.10/site-packages (from requests>=2.20->openai) (2022.12.7)\n",
            "Requirement already satisfied: urllib3<1.27,>=1.21.1 in /anaconda/envs/azureml_py310_sdkv2/lib/python3.10/site-packages (from requests>=2.20->openai) (1.26.15)\n",
            "Requirement already satisfied: charset-normalizer<4,>=2 in /anaconda/envs/azureml_py310_sdkv2/lib/python3.10/site-packages (from requests>=2.20->openai) (3.1.0)\n",
            "Requirement already satisfied: frozenlist>=1.1.1 in /anaconda/envs/azureml_py310_sdkv2/lib/python3.10/site-packages (from aiohttp->openai) (1.3.3)\n",
            "Collecting async-timeout<5.0,>=4.0.0a3\n",
            "  Downloading async_timeout-4.0.2-py3-none-any.whl (5.8 kB)\n",
            "Requirement already satisfied: aiosignal>=1.1.2 in /anaconda/envs/azureml_py310_sdkv2/lib/python3.10/site-packages (from aiohttp->openai) (1.3.1)\n",
            "Collecting multidict<7.0,>=4.5\n",
            "  Downloading multidict-6.0.4-cp310-cp310-manylinux_2_17_x86_64.manylinux2014_x86_64.whl (114 kB)\n",
            "\u001b[2K     \u001b[90m━━━━━━━━━━━━━━━━━━━━━━━━━━━━━━━━━━━━━━\u001b[0m \u001b[32m114.5/114.5 kB\u001b[0m \u001b[31m11.4 MB/s\u001b[0m eta \u001b[36m0:00:00\u001b[0m\n",
            "\u001b[?25hRequirement already satisfied: attrs>=17.3.0 in /anaconda/envs/azureml_py310_sdkv2/lib/python3.10/site-packages (from aiohttp->openai) (22.2.0)\n",
            "Collecting yarl<2.0,>=1.0\n",
            "  Downloading yarl-1.9.2-cp310-cp310-manylinux_2_17_x86_64.manylinux2014_x86_64.whl (268 kB)\n",
            "\u001b[2K     \u001b[90m━━━━━━━━━━━━━━━━━━━━━━━━━━━━━━━━━━━━━━\u001b[0m \u001b[32m268.8/268.8 kB\u001b[0m \u001b[31m25.4 MB/s\u001b[0m eta \u001b[36m0:00:00\u001b[0m\n",
            "\u001b[?25hInstalling collected packages: multidict, async-timeout, yarl, aiohttp, openai\n",
            "Successfully installed aiohttp-3.8.4 async-timeout-4.0.2 multidict-6.0.4 openai-0.27.7 yarl-1.9.2\n",
            "Note: you may need to restart the kernel to use updated packages.\n"
          ]
        }
      ],
      "source": [
        "pip install openai\n",
        "pip install python-dotenv\n",
        "pip install plotly scikit-learn"
      ]
    },
    {
      "cell_type": "code",
      "execution_count": 1,
      "metadata": {
        "gather": {
          "logged": 1686331269276
        },
        "jupyter": {
          "outputs_hidden": false,
          "source_hidden": false
        },
        "nteract": {
          "transient": {
            "deleting": false
          }
        }
      },
      "outputs": [
        {
          "data": {
            "text/plain": [
              "True"
            ]
          },
          "execution_count": 1,
          "metadata": {},
          "output_type": "execute_result"
        }
      ],
      "source": [
        "import openai\n",
        "import os\n",
        "import json\n",
        "from dotenv import load_dotenv, find_dotenv\n",
        "load_dotenv(find_dotenv())\n"
      ]
    },
    {
      "cell_type": "markdown",
      "metadata": {
        "nteract": {
          "transient": {
            "deleting": false
          }
        }
      },
      "source": [
        "Set up your environment to access your OpenAI keys. Refer to your OpenAI resource in the Azure Portal to retrieve information regarding your OpenAI endpoint and keys.\n",
        "\n",
        "For security purposes, store your sensitive information in a .env file."
      ]
    },
    {
      "cell_type": "code",
      "execution_count": 2,
      "metadata": {
        "gather": {
          "logged": 1686331271142
        },
        "jupyter": {
          "outputs_hidden": false,
          "source_hidden": false
        },
        "nteract": {
          "transient": {
            "deleting": false
          }
        }
      },
      "outputs": [],
      "source": [
        "API_KEY = os.getenv(\"OPENAI_API_KEY\")\n",
        "assert API_KEY, \"ERROR: Azure OpenAI Key is missing\"\n",
        "openai.api_key = API_KEY\n",
        "\n",
        "RESOURCE_ENDPOINT = os.getenv(\"OPENAI_API_BASE\",\"\").strip()\n",
        "assert RESOURCE_ENDPOINT, \"ERROR: Azure OpenAI Endpoint is missing\"\n",
        "assert \"openai.azure.com\" in RESOURCE_ENDPOINT.lower(), \"ERROR: Azure OpenAI Endpoint should be in the form: \\n\\n\\t<your unique endpoint identifier>.openai.azure.com\"\n",
        "\n",
        "openai.api_base = RESOURCE_ENDPOINT\n",
        "openai.api_type = \"azure\"\n",
        "openai.api_version = \"2023-03-15-preview\"\n",
        "\n",
        "chat_model=os.getenv(\"CHAT_MODEL_NAME\")\n",
        "davinci_model=os.getenv(\"TEXT_DAVINCI_MODEL_NAME\")\n",
        "curie_model=os.getenv(\"TEXT_CURIE_MODEL_NAME\")\n",
        "babbage_model=os.getenv(\"TEXT_BABBAGE_MODEL_NAME\")\n",
        "ada_model=os.getenv(\"TEXT_ADA_MODEL_NAME\")"
      ]
    },
    {
      "cell_type": "markdown",
      "metadata": {
        "nteract": {
          "transient": {
            "deleting": false
          }
        }
      },
      "source": [
        "### 2.0 Helper Functions"
      ]
    },
    {
      "cell_type": "code",
      "execution_count": 27,
      "metadata": {
        "gather": {
          "logged": 1686334202300
        },
        "jupyter": {
          "outputs_hidden": false,
          "source_hidden": false
        },
        "nteract": {
          "transient": {
            "deleting": false
          }
        }
      },
      "outputs": [],
      "source": [
        "import functools\n",
        "import time\n",
        "\n",
        "def timer(func):\n",
        "    @functools.wraps(func)\n",
        "    def wrapper(*args, **kwargs):\n",
        "        start_time = time.perf_counter()\n",
        "        value = func(*args, **kwargs)\n",
        "        end_time = time.perf_counter()\n",
        "        run_time = end_time - start_time\n",
        "        print(\"Finished {} in {} secs\".format(repr(func.__name__), round(run_time, 3)))\n",
        "        return value[0], value[1], round(run_time, 3)\n",
        "\n",
        "    return wrapper"
      ]
    },
    {
      "cell_type": "code",
      "execution_count": 29,
      "metadata": {
        "gather": {
          "logged": 1686334262004
        },
        "jupyter": {
          "outputs_hidden": false,
          "source_hidden": false
        },
        "nteract": {
          "transient": {
            "deleting": false
          }
        }
      },
      "outputs": [],
      "source": [
        "@timer\n",
        "def get_completion(prompt, model=\"text-davinci-003\"):\n",
        "    response = openai.Completion.create(\n",
        "        engine=model,\n",
        "        prompt=prompt,\n",
        "        temperature=0, # this is the degree of randomness of the model's output\n",
        "        max_tokens = 500,\n",
        "        top_p = 1.0,\n",
        "    )\n",
        "    return response.choices[0].text, response['usage']['total_tokens']"
      ]
    },
    {
      "cell_type": "code",
      "execution_count": 30,
      "metadata": {
        "gather": {
          "logged": 1686334263077
        },
        "jupyter": {
          "outputs_hidden": false,
          "source_hidden": false
        },
        "nteract": {
          "transient": {
            "deleting": false
          }
        }
      },
      "outputs": [],
      "source": [
        "@timer\n",
        "def get_chat_completion(prompt, model=\"chat\"):\n",
        "    messages = [{\"role\": \"user\", \"content\": prompt}]\n",
        "    response = openai.ChatCompletion.create(\n",
        "        model=model,\n",
        "        messages=messages,\n",
        "        temperature=0, # this is the degree of randomness of the model's output\n",
        "        max_tokens = 200,\n",
        "        top_p = 1.0,\n",
        "    )\n",
        "    return response.choices[0].message[\"content\"]"
      ]
    },
    {
      "cell_type": "code",
      "execution_count": 31,
      "metadata": {
        "gather": {
          "logged": 1686334263773
        },
        "jupyter": {
          "outputs_hidden": false,
          "source_hidden": false
        },
        "nteract": {
          "transient": {
            "deleting": false
          }
        }
      },
      "outputs": [],
      "source": [
        "@timer\n",
        "def get_completion_from_messages(messages, model=\"chat\", temperature=0):\n",
        "    response = openai.ChatCompletion.create(\n",
        "        engine=model,\n",
        "        messages=messages,\n",
        "        temperature=temperature, # this is the degree of randomness of the model's output\n",
        "    )\n",
        "    #print(str(response.choices[0].message))\n",
        "    return response.choices[0].message[\"content\"]\n"
      ]
    },
    {
      "cell_type": "markdown",
      "metadata": {
        "nteract": {
          "transient": {
            "deleting": false
          }
        }
      },
      "source": [
        "### 2.1 Summarize Text"
      ]
    },
    {
      "cell_type": "code",
      "execution_count": 32,
      "metadata": {
        "gather": {
          "logged": 1686334268062
        },
        "jupyter": {
          "outputs_hidden": false,
          "source_hidden": false
        },
        "nteract": {
          "transient": {
            "deleting": false
          }
        }
      },
      "outputs": [],
      "source": [
        "import pandas as pd\n",
        "\n",
        "model_pricing = pd.DataFrame(columns=['model', 'price', 'time'])"
      ]
    },
    {
      "cell_type": "code",
      "execution_count": 33,
      "metadata": {
        "gather": {
          "logged": 1686334278657
        }
      },
      "outputs": [
        {
          "name": "stdout",
          "output_type": "stream",
          "text": [
            "Finished 'get_completion' in 1.593 secs\n",
            "Finished 'get_completion' in 1.144 secs\n",
            "Finished 'get_completion' in 3.768 secs\n",
            "Finished 'get_completion' in 3.503 secs\n",
            "Davinci Response: The Tokyo 2020 Olympic Games reached a global broadcast audience of 3.05 billion people, with 28 billion video views on digital platforms, 8K resolution television, 5G-ready baseband networks, and broadcast rights agreements with NBCUniversal, Eurosport, CBC/Radio-Canada, Sportsnet, TSN, TLN, Seven Network, and Sony Pictures Networks India.\n",
            "\n",
            "Curie Response: \n",
            "The Tokyo 2020 Olympic Games reached a global broadcast audience of 3.05 billion people, according to independent research conducted on behalf of the International Olympic Committee. Official coverage on Olympic broadcast partners' digital platforms alone generated 28 billion video views in total – representing a 139 per cent increase compared with the Olympic Games Rio 2016 and underlining the changing media landscape and Tokyo 2020's designation as the first streaming Games.\n",
            "\n",
            "Babbage Response: \n",
            "The Tokyo Olympics reached a global broadcast audience of 3.05 billion people, according to independent research conducted on behalf of the International Olympic Committee (IOC). Official coverage on Olympic broadcast partners' digital platforms alone generated 28 billion video views in total – representing a 139 per cent increase compared with the Olympic Games Rio 2016 and underlining the changing media landscape and Tokyo 2020's designation as the first streaming Games and the most watched Olympic Games ever on digital platforms.\n",
            "\n",
            "Sony and Panasonic partnered with NHK to develop broadcasting standards for 8K resolution television, with a goal to release 8K television sets in time for the 2020 Summer Olympics. In early 2019, Italian broadcaster RAI announced its intention to deploy 8K broadcasting for the Games. NHK broadcast the opening and closing ceremonies, and coverage of selected events in 8K. Telecom company NTT Docomo signed a deal with Finland's Nokia to provide 5G-ready baseband networks in Japan in time for the Games.\n",
            "\n",
            "The Tokyo Olympics were broadcast in the United States by NBCUniversal networks, as part of a US$4.38 billion agreement that began at the 2014 Winter Olympics in Sochi. The United States Olympic & Paralympic Committee asserted that a \"right of abatement\" clause in the contract was triggered by the delay of the Games to 2021, requiring the IOC to \"negotiate in good faith an equitable reduction in the applicable broadcast rights payments\" by NBC, which remains one of IOC's biggest revenue streams. According to NBCUniversal CEO Jeff Shell, the Tokyo games could be the most profitable Olympics in NBC's history. The Tokyo games were NBC's first Olympics broadcast under current president Susan Rosner Rovner.\n",
            "\n",
            "In Europe, this was the first Summer Olympics under the IOC's exclusive pan-European rights deal with Eurosport, which began at the 2018 Winter Olympics and is contracted to run through 2024. The rights for the 2020 Summer Olympics covered almost all of Europe; a pre-existing deal with a marketer excludes Russia. Eurosport planned to sub-license coverage to free-to-air networks in each territory, and other channels owned by Discovery, Inc. subsidiaries. In the United Kingdom, these were set to be the last Games with rights owned primarily by the BBC, although as a condition of a sub-licensing agreement due to carry into the 2022 and 2024 Games, Eurosport holds exclusive pay television rights.\n",
            "\n",
            "In France, these were the last Games whose rights are primarily\n",
            "\n",
            "Ada Response: \n",
            "Tokyo 2020 is set to become the first streaming Games and the most watched Olympic Games ever on digital platforms. Sony and Panasonic partnered with NHK to develop broadcasting standards for 8K resolution television, with a goal to release 8K television sets in time for the 2020 Summer Olympics. In early 2019, Italian broadcaster RAI announced its intention to deploy 8K broadcasting for the Games. NHK broadcast the opening and closing ceremonies, and coverage of selected events in 8K. Telecom company NTT Docomo signed a deal with Finland's Nokia to provide 5G-ready baseband networks in Japan in time for the Games. The Tokyo Olympics were broadcast in the United States by NBCUniversal networks, as part of a US$4.38 billion agreement that began at the 2014 Winter Olympics in Sochi. The United States Olympic & Paralympic Committee assert that a \"right of abatement\" clause in the contract was triggered by the delay of the Games to 2021, requiring the IOC to \"negotiate in good faith an equitable reduction in the applicable broadcast rights payments\" by NBC, which remains one of IOC's biggest revenue sources. According to NBCUniversal CEO Jeff Shell, the Tokyo games could be the most profitable Olympics in NBC's history. The Tokyo games were NBC's first Olympics broadcast under current president Susan Rosner Rovner.In Europe, this was the first Summer Olympics under the IOC's exclusive pan-European rights deal with Eurosport, which began at the 2018 Winter Olympics and is contracted to run through 2024. The rights for the 2020 Summer Olympics covered almost all of Europe; a pre-existing deal with a marketer excludes Russia. Eurosport planned to sub-license coverage to free-to-air networks in each territory, and other channels owned by Discovery, Inc. subsidiaries. In the United Kingdom, these were set to be the last Games with rights owned primarily by the BBC, although as a condition of a sub-licensing agreement due to carry into the 2022 and 2024 Games, Eurosport holds exclusive pay television rights. In France, these were the last Games whose rights are primarily owned by France Télévisions. Eurosport debuted as pay television rightsholder, after Canal+ elected to sell its pay television rights as a cost-saving measure.In Canada, the 2020 Games were shown on CBC/Radio-Canada platforms, Sportsnet, TSN and TLN. In Australia, they were aired by Seven Network. In the Indian subcont\n",
            "\n"
          ]
        }
      ],
      "source": [
        "text = f\"\"\"\n",
        "The Olympic Games Tokyo 2020 reached a global broadcast audience of 3.05 billion people, according to independent research conducted on behalf of the International Olympic Committee (IOC). Official coverage on Olympic broadcast partners\\' digital platforms alone generated 28 billion video views in total – representing a 139 per cent increase compared with the Olympic Games Rio 2016 and underlining the changing media landscape and Tokyo 2020\\'s designation as the first streaming Games and the most watched Olympic Games ever on digital platforms.Sony and Panasonic partnered with NHK to develop broadcasting standards for 8K resolution television, with a goal to release 8K television sets in time for the 2020 Summer Olympics. In early 2019, Italian broadcaster RAI announced its intention to deploy 8K broadcasting for the Games. NHK broadcast the opening and closing ceremonies, and coverage of selected events in 8K. Telecom company NTT Docomo signed a deal with Finland\\'s Nokia to provide 5G-ready baseband networks in Japan in time for the Games.The Tokyo Olympics were broadcast in the United States by NBCUniversal networks, as part of a US$4.38 billion agreement that began at the 2014 Winter Olympics in Sochi. The United States Olympic & Paralympic Committee asserted that a \"right of abatement\" clause in the contract was triggered by the delay of the Games to 2021, requiring the IOC to \"negotiate in good faith an equitable reduction in the applicable broadcast rights payments\" by NBC, which remains one of IOC\\'s biggest revenue streams. According to NBCUniversal CEO Jeff Shell, the Tokyo games could be the most profitable Olympics in NBC\\'s history. The Tokyo games were NBC\\'s first Olympics broadcast under current president Susan Rosner Rovner.In Europe, this was the first Summer Olympics under the IOC\\'s exclusive pan-European rights deal with Eurosport, which began at the 2018 Winter Olympics and is contracted to run through 2024. The rights for the 2020 Summer Olympics covered almost all of Europe; a pre-existing deal with a marketer excludes Russia. Eurosport planned to sub-license coverage to free-to-air networks in each territory, and other channels owned by Discovery, Inc. subsidiaries. In the United Kingdom, these were set to be the last Games with rights owned primarily by the BBC, although as a condition of a sub-licensing agreement due to carry into the 2022 and 2024 Games, Eurosport holds exclusive pay television rights. In France, these were the last Games whose rights are primarily owned by France Télévisions. Eurosport debuted as pay television rightsholder, after Canal+ elected to sell its pay television rights as a cost-saving measure.In Canada, the 2020 Games were shown on CBC/Radio-Canada platforms, Sportsnet, TSN and TLN. In Australia, they were aired by Seven Network. In the Indian subcontinent, they were aired by Sony Pictures Networks India (SPN).\n",
        "\"\"\"\n",
        "prompt = f\"\"\"\n",
        "Summarize the text delimited by triple backticks into a single sentence.\n",
        "```{text}```\n",
        "\"\"\"\n",
        "\n",
        "davinci_response, davinci_price, davinci_time = get_completion(prompt, model=davinci_model)\n",
        "curie_response, curie_price, curie_time = get_completion(prompt, model=curie_model)\n",
        "babbage_response, babbage_price, babbage_time = get_completion(prompt, model=babbage_model)\n",
        "ada_response, ada_price, ada_time = get_completion(prompt, model=ada_model)\n",
        "print(f\"Davinci Response: {davinci_response}\\n\")\n",
        "print(f\"Curie Response: {curie_response}\\n\")\n",
        "print(f\"Babbage Response: {babbage_response}\\n\")\n",
        "print(f\"Ada Response: {ada_response}\\n\")\n",
        "\n",
        "new_rows = pd.DataFrame([{'model': 'davinci', 'price': davinci_price, 'time': davinci_time},\n",
        "                                       {'model': 'curie', 'price': curie_price, 'time': curie_time},\n",
        "                                       {'model': 'babbage', 'price': babbage_price, 'time': babbage_time},\n",
        "                                       {'model': 'ada', 'price': ada_price, 'time': ada_time}])\n",
        "model_pricing = pd.concat([model_pricing, new_rows], ignore_index=True)"
      ]
    },
    {
      "cell_type": "markdown",
      "metadata": {
        "nteract": {
          "transient": {
            "deleting": false
          }
        }
      },
      "source": [
        "_**Takeaway: Davinci and Curie models are more suitable for tasks like summarization. The answer is more concise and takes less time.**_"
      ]
    },
    {
      "cell_type": "markdown",
      "metadata": {
        "nteract": {
          "transient": {
            "deleting": false
          }
        }
      },
      "source": [
        "#### Student Challenge #1:\n",
        "With tactics learned in CH1, edit the prompt to get more concise answer from assistant. Do you find any difference in the result?"
      ]
    },
    {
      "cell_type": "code",
      "execution_count": 14,
      "metadata": {
        "gather": {
          "logged": 1686332531447
        },
        "jupyter": {
          "outputs_hidden": false,
          "source_hidden": false
        },
        "nteract": {
          "transient": {
            "deleting": false
          }
        }
      },
      "outputs": [
        {
          "name": "stdout",
          "output_type": "stream",
          "text": [
            "Finished 'get_completion' in 0.936 secs\n",
            "Finished 'get_completion' in 2.243 secs\n",
            "Finished 'get_completion' in 3.727 secs\n",
            "Finished 'get_completion' in 0.755 secs\n",
            "Davinci Response: (\"The Tokyo Olympics were the most watched ever on digital platforms, broadcast in 8K resolution, and could be the most profitable Olympics in NBC's history.\", 642)\n",
            "\n",
            "Curie Response: (\"\\nThe Tokyo 2020 Olympic Games reached a global broadcast audience of 3.05 billion people, according to independent research conducted on behalf of the International Olympic Committee. Official coverage on Olympic broadcast partners' digital platforms alone generated 28 billion video views in total – representing a 139 per cent increase compared with the Olympic Games Rio 2016 and underlining the changing media landscape and Tokyo 2020's designation as the first streaming Games. Sony and Panasonic partnered with NHK to develop broadcasting standards for 8K resolution television, with a goal to release 8K television sets in time for the 2020 Summer Olympics. In early 2019, Italian broadcaster RAI announced its intention to deploy 8K broadcasting for the Games. NHK broadcast the opening and closing ceremonies, and coverage of selected events in 8K. Telecom company NTT Docomo signed a deal with Finland's Nokia to provide 5G-ready baseband networks in Japan in time for the Games.\", 794)\n",
            "\n",
            "Babbage Response: ('\\nThe Tokyo Olympics reached a global broadcast audience of 3.05 billion people, according to independent research conducted on behalf of the International Olympic Committee (IOC). Official coverage on Olympic broadcast partners\\' digital platforms alone generated 28 billion video views in total – representing a 139 per cent increase compared with the Olympic Games Rio 2016 and underlining the changing media landscape and Tokyo 2020\\'s designation as the first streaming Games and the most watched Olympic Games ever on digital platforms.\\n\\nSony and Panasonic partnered with NHK to develop broadcasting standards for 8K resolution television, with a goal to release 8K television sets in time for the 2020 Summer Olympics. In early 2019, Italian broadcaster RAI announced its intention to deploy 8K broadcasting for the Games. NHK broadcast the opening and closing ceremonies, and coverage of selected events in 8K.\\n\\n Telecom company NTT Docomo signed a deal with Finland\\'s Nokia to provide 5G-ready baseband networks in Japan in time for the Games.\\n\\nThe Tokyo Olympics were broadcast in the United States by NBCUniversal networks, as part of a US$4.38 billion agreement that began at the 2014 Winter Olympics in Sochi. The United States Olympic & Paralympic Committee asserted that a \"right of abatement\" clause in the contract was triggered by the delay of the Games to 2021, requiring the IOC to \"negotiate in good faith an equitable reduction in the applicable broadcast rights payments\" by NBC, which remains one of IOC\\'s biggest revenue streams.\\n\\nAccording to NBCUniversal CEO Jeff Shell, the Tokyo games could be the most profitable Olympics in NBC\\'s history. The Tokyo games were NBC\\'s first Olympics broadcast under current president Susan Rosner Rovner.\\n\\nIn Europe, this was the first Summer Olympics under the IOC\\'s exclusive pan-European rights deal with Eurosport, which began at the 2018 Winter Olympics and is contracted to run through 2024. The rights for the 2020 Summer Olympics covered almost all of Europe; a pre-existing deal with a marketer excludes Russia. Eurosport planned to sub-license coverage to free-to-air networks in each territory, and other channels owned by Discovery, Inc. subsidiaries. In the United Kingdom, these were set to be the last Games with rights owned primarily by the BBC, although as a condition of a sub-licensing agreement due to carry into the 2022 and 2024 Games, Eurosport holds exclusive pay television rights.\\n\\nIn France, these were the last Games', 1112)\n",
            "\n",
            "Ada Response: (\"\\nTokyo 2020's global broadcast audience of 3.05 billion people is a significant increase over the 2020 Olympics in Brazil and the 2020 Summer Olympics in Russia. The Olympics were aired on pan-European networks SEG and Eurosport. In Canada, the 2020 Games were shown on CBC/Radio-Canada platforms, Sportsnet, TSN and TLN. In the Indian subcontinent, they were aired by Sony Pictures Networks India (SPN).\", 703)\n",
            "\n"
          ]
        }
      ],
      "source": [
        "### STUDENT CHALLENGE ###\n",
        "prompt = f\"\"\"\n",
        "Summarize the text delimited by triple backticks into a single sentence within 50 words.\n",
        "```{text}```\n",
        "\"\"\"\n",
        "\n",
        "davinci_response, davinci_price, davinci_time = get_completion(prompt, model=davinci_model)\n",
        "curie_response, curie_price, curie_time = get_completion(prompt, model=curie_model)\n",
        "babbage_response, babbage_price, babbage_time = get_completion(prompt, model=babbage_model)\n",
        "ada_response, ada_price, ada_time = get_completion(prompt, model=ada_model)\n",
        "print(f\"Davinci Response: {davinci_response}\\n\")\n",
        "print(f\"Curie Response: {curie_response}\\n\")\n",
        "print(f\"Babbage Response: {babbage_response}\\n\")\n",
        "print(f\"Ada Response: {ada_response}\\n\")\n",
        "\n",
        "new_rows = pd.DataFrame([{'model': 'davinci', 'price': davinci_price, 'time': davinci_time},\n",
        "                                       {'model': 'curie', 'price': curie_price, 'time': curie_time},\n",
        "                                       {'model': 'babbage', 'price': babbage_price, 'time': babbage_time},\n",
        "                                       {'model': 'ada', 'price': ada_price, 'time': ada_time}])\n",
        "model_pricing = pd.concat([model_pricing, new_rows], ignore_index=True)"
      ]
    },
    {
      "cell_type": "markdown",
      "metadata": {
        "nteract": {
          "transient": {
            "deleting": false
          }
        }
      },
      "source": [
        "### 2.2 Summarization for a targeted audience"
      ]
    },
    {
      "cell_type": "code",
      "execution_count": 15,
      "metadata": {
        "gather": {
          "logged": 1686332538379
        },
        "jupyter": {
          "outputs_hidden": false,
          "source_hidden": false
        },
        "nteract": {
          "transient": {
            "deleting": false
          }
        }
      },
      "outputs": [
        {
          "name": "stdout",
          "output_type": "stream",
          "text": [
            "Finished 'get_completion' in 0.868 secs\n",
            "Finished 'get_completion' in 0.498 secs\n",
            "Finished 'get_completion' in 3.691 secs\n",
            "Finished 'get_completion' in 1.867 secs\n",
            "Davinci Response: ('The Olympic Games Tokyo 2020 was the most watched Olympic Games ever on digital platforms and was broadcast in many countries around the world.', 642)\n",
            "\n",
            "Curie Response: ('\\nThe text is about how the Tokyo Olympics reached a global broadcast audience of 3.05 billion people.', 638)\n",
            "\n",
            "Babbage Response: ('\\nThe Tokyo Olympics reached a global broadcast audience of 3.05 billion people, according to independent research conducted on behalf of the International Olympic Committee (IOC). Official coverage on Olympic broadcast partners\\' digital platforms alone generated 28 billion video views in total – representing a 139 per cent increase compared with the Olympic Games Rio 2016 and underlining the changing media landscape and Tokyo 2020\\'s designation as the first streaming Games and the most watched Olympic Games ever on digital platforms.\\n\\nSony and Panasonic partnered with NHK to develop broadcasting standards for 8K resolution television, with a goal to release 8K television sets in time for the 2020 Summer Olympics. In early 2019, Italian broadcaster RAI announced its intention to deploy 8K broadcasting for the Games. NHK broadcast the opening and closing ceremonies, and coverage of selected events in 8K. Telecom company NTT Docomo signed a deal with Finland\\'s Nokia to provide 5G-ready baseband networks in Japan in time for the Games.\\n\\nThe Tokyo Olympics were broadcast in the United States by NBCUniversal networks, as part of a US$4.38 billion agreement that began at the 2014 Winter Olympics in Sochi. The United States Olympic & Paralympic Committee asserted that a \"right of abatement\" clause in the contract was triggered by the delay of the Games to 2021, requiring the IOC to \"negotiate in good faith an equitable reduction in the applicable broadcast rights payments\" by NBC, which remains one of IOC\\'s biggest revenue streams. According to NBCUniversal CEO Jeff Shell, the Tokyo games could be the most profitable Olympics in NBC\\'s history. The Tokyo games were NBC\\'s first Olympics broadcast under current president Susan Rosner Rovner.\\n\\nIn Europe, this was the first Summer Olympics under the IOC\\'s exclusive pan-European rights deal with Eurosport, which began at the 2018 Winter Olympics and is contracted to run through 2024. The rights for the 2020 Summer Olympics covered almost all of Europe; a pre-existing deal with a marketer excludes Russia. Eurosport planned to sub-license coverage to free-to-air networks in each territory, and other channels owned by Discovery, Inc. subsidiaries. In the United Kingdom, these were set to be the last Games with rights owned primarily by the BBC, although as a condition of a sub-licensing agreement due to carry into the 2022 and 2024 Games, Eurosport holds exclusive pay television rights.\\n\\nIn France, these were the last Games whose rights are primarily', 1117)\n",
            "\n",
            "Ada Response: ('\\nTokyo 2020 is an amazing game that reached a global broadcast audience of 3.05 billion people. The games were watched by 3.05 billion people, which is a 139 percent increase over the games in Tokyo 2020 and the previous games. Sony and Panasonic partnered with NHK to develop broadcasting standards for 8K resolution television, with a goal to release 8K television sets in time for the 2020 Summer Olympics. In early 2019, Italian broadcaster RAI announced its intention to deploy 8K broadcasting for the Games. NHK broadcast the opening and closing ceremonies, and coverage of selected events in 8K. Telecom company NTT Docomo signed a deal with Finland\\'s Nokia to provide 5G-ready baseband networks in Japan in time for the Games. The Tokyo Olympics were broadcast in the United States by NBCUniversal networks, with sub-licensing agreement with Eurosport. The United States Olympic & Paralympic Committee assert that a \"right of abatement\" clause in the contract was triggered by the delay of the Games to 2021. This allowed NBC to make the sub-licensing agreement with Eurosport. In Canada, the 2020 Games were shown on CBC/Radio-Canada platforms, Sportsnet, TSN and TLN. In the Indian subcontinent, they were aired by Sony Pictures Networks India (SPN).', 885)\n",
            "\n"
          ]
        }
      ],
      "source": [
        "prompt = f\"\"\"\n",
        "Summarize the text delimited by triple backticks into a single sentence for 7-year-old to understand.\n",
        "```{text}```\n",
        "\"\"\"\n",
        "\n",
        "davinci_response, davinci_price, davinci_time = get_completion(prompt, model=davinci_model)\n",
        "curie_response, curie_price, curie_time = get_completion(prompt, model=curie_model)\n",
        "babbage_response, babbage_price, babbage_time = get_completion(prompt, model=babbage_model)\n",
        "ada_response, ada_price, ada_time = get_completion(prompt, model=ada_model)\n",
        "print(f\"Davinci Response: {davinci_response}\\n\")\n",
        "print(f\"Curie Response: {curie_response}\\n\")\n",
        "print(f\"Babbage Response: {babbage_response}\\n\")\n",
        "print(f\"Ada Response: {ada_response}\\n\")\n",
        "\n",
        "new_rows = pd.DataFrame([{'model': 'davinci', 'price': davinci_price, 'time': davinci_time},\n",
        "                                       {'model': 'curie', 'price': curie_price, 'time': curie_time},\n",
        "                                       {'model': 'babbage', 'price': babbage_price, 'time': babbage_time},\n",
        "                                       {'model': 'ada', 'price': ada_price, 'time': ada_time}])\n",
        "model_pricing = pd.concat([model_pricing, new_rows], ignore_index=True)"
      ]
    },
    {
      "cell_type": "markdown",
      "metadata": {
        "nteract": {
          "transient": {
            "deleting": false
          }
        }
      },
      "source": [
        "#### Student Challenge #2:\n",
        "Edit the prompt to summarize the text for eye-catching newspaper title. Compare different results."
      ]
    },
    {
      "cell_type": "markdown",
      "metadata": {
        "nteract": {
          "transient": {
            "deleting": false
          }
        }
      },
      "source": [
        "### 2.3 Summarize Cause & Effect"
      ]
    },
    {
      "cell_type": "code",
      "execution_count": 17,
      "metadata": {
        "gather": {
          "logged": 1686332587257
        },
        "jupyter": {
          "outputs_hidden": false,
          "source_hidden": false
        },
        "nteract": {
          "transient": {
            "deleting": false
          }
        }
      },
      "outputs": [
        {
          "name": "stdout",
          "output_type": "stream",
          "text": [
            "Finished 'get_completion' in 1.138 secs\n",
            "Finished 'get_completion' in 2.146 secs\n",
            "Finished 'get_completion' in 3.714 secs\n",
            "Finished 'get_completion' in 0.846 secs\n",
            "Davinci Response: ('The Tokyo Olympics were broadcast globally, with 8K resolution television, 5G networks, and a US$4.38 billion agreement with NBCUniversal, as well as exclusive pan-European rights with Eurosport.', 663)\n",
            "\n",
            "Curie Response: (\"\\nThe Tokyo 2020 Olympic Games reached a global broadcast audience of 3.05 billion people, according to independent research conducted on behalf of the International Olympic Committee. Official coverage on Olympic broadcast partners' digital platforms alone generated 28 billion video views in total – representing a 139 per cent increase compared with the Olympic Games Rio 2016 and underlining the changing media landscape and Tokyo 2020's designation as the first streaming Games and the most watched Olympic Games ever on digital platforms. Sony and Panasonic partnered with NHK to develop broadcasting standards for 8K resolution television, with a goal to release 8K television sets in time for the 2020 Summer Olympics. In early 2019, Italian broadcaster RAI announced its intention to deploy 8K broadcasting for the Games. Telecom company NTT Docomo signed a deal with Finland's Nokia to provide 5G-ready baseband networks in Japan in time for the Games.\", 795)\n",
            "\n",
            "Babbage Response: ('\\nThe Tokyo Olympics reached a global broadcast audience of 3.05 billion people, according to independent research conducted on behalf of the International Olympic Committee (IOC). Official coverage on Olympic broadcast partners\\' digital platforms alone generated 28 billion video views in total – representing a 139 per cent increase compared with the Olympic Games Rio 2016 and underlining the changing media landscape and Tokyo 2020\\'s designation as the first streaming Games and the most watched Olympic Games ever on digital platforms.\\n\\nSony and Panasonic partnered with NHK to develop broadcasting standards for 8K resolution television, with a goal to release 8K television sets in time for the 2020 Summer Olympics. In early 2019, Italian broadcaster RAI announced its intention to deploy 8K broadcasting for the Games. NHK broadcast the opening and closing ceremonies, and coverage of selected events in 8K. Telecom company NTT Docomo signed a deal with Finland\\'s Nokia to provide 5G-ready baseband networks in Japan in time for the Games.\\n\\nThe Tokyo Olympics were broadcast in the United States by NBCUniversal networks, as part of a US$4.38 billion agreement that began at the 2014 Winter Olympics in Sochi. The United States Olympic & Paralympic Committee asserted that a \"right of abatement\" clause in the contract was triggered by the delay of the Games to 2021, requiring the IOC to \"negotiate in good faith an equitable reduction in the applicable broadcast rights payments\" by NBC, which remains one of IOC\\'s biggest revenue streams. According to NBCUniversal CEO Jeff Shell, the Tokyo games could be the most profitable Olympics in NBC\\'s history. The Tokyo games were NBC\\'s first Olympics broadcast under current president Susan Rosner Rovner.\\n\\nIn Europe, this was the first Summer Olympics under the IOC\\'s exclusive pan-European rights deal with Eurosport, which began at the 2018 Winter Olympics and is contracted to run through 2024. The rights for the 2020 Summer Olympics covered almost all of Europe; a pre-existing deal with a marketer excludes Russia. Eurosport planned to sub-license coverage to free-to-air networks in each territory, and other channels owned by Discovery, Inc. subsidiaries. In the United Kingdom, these were set to be the last Games with rights owned primarily by the BBC, although as a condition of a sub-licensing agreement due to carry into the 2022 and 2024 Games, Eurosport holds exclusive pay television rights. In France, these were the last Games whose rights are primarily owned by', 1121)\n",
            "\n",
            "Ada Response: (\"\\nThe Tokyo Olympics 2020 were broadcast in 8K resolution on Sony and Panasonic's broadcast standards 8K resolution television, with a goal to release it in time for the 2020 Summer Olympics. In early 2019, Italian broadcaster RAI announced its intention to deploy 8K broadcasting for the Games, with a right of abatement triggered by the delay of the Games to 2021. The Tokyo games were NBC's first Olympics broadcast in 8K on official partners' digital platforms, with a goal to make it the most profitable Olympics in NBC's history.\", 729)\n",
            "\n"
          ]
        }
      ],
      "source": [
        "prompt = f\"\"\"\n",
        "Summarize the major event's cause and effect for the text delimited by triple backticks into a single sentence less than 50 words.\n",
        "```{text}```\n",
        "\"\"\"\n",
        "\n",
        "davinci_response, davinci_price, davinci_time = get_completion(prompt, model=davinci_model)\n",
        "curie_response, curie_price, curie_time = get_completion(prompt, model=curie_model)\n",
        "babbage_response, babbage_price, babbage_time = get_completion(prompt, model=babbage_model)\n",
        "ada_response, ada_price, ada_time = get_completion(prompt, model=ada_model)\n",
        "print(f\"Davinci Response: {davinci_response}\\n\")\n",
        "print(f\"Curie Response: {curie_response}\\n\")\n",
        "print(f\"Babbage Response: {babbage_response}\\n\")\n",
        "print(f\"Ada Response: {ada_response}\\n\")\n",
        "\n",
        "new_rows = pd.DataFrame([{'model': 'davinci', 'price': davinci_price, 'time': davinci_time},\n",
        "                                       {'model': 'curie', 'price': curie_price, 'time': curie_time},\n",
        "                                       {'model': 'babbage', 'price': babbage_price, 'time': babbage_time},\n",
        "                                       {'model': 'ada', 'price': ada_price, 'time': ada_time}])\n",
        "model_pricing = pd.concat([model_pricing, new_rows], ignore_index=True)"
      ]
    },
    {
      "cell_type": "markdown",
      "metadata": {
        "nteract": {
          "transient": {
            "deleting": false
          }
        }
      },
      "source": [
        "#### Student Challenge #3: Model Comparison\n",
        "\n",
        "You can use this chart to compare the models together.\n",
        "\n",
        "|Model| Performance  |Time|\n",
        "|---|---|---|\n",
        "|Davinci|||\n",
        "|Curie|||\n",
        "|Babbage|||\n",
        "|Ada|||\n"
      ]
    },
    {
      "cell_type": "markdown",
      "metadata": {
        "nteract": {
          "transient": {
            "deleting": false
          }
        }
      },
      "source": [
        " #### Student Challenge #4: Text Classification"
      ]
    },
    {
      "cell_type": "code",
      "execution_count": 20,
      "metadata": {
        "gather": {
          "logged": 1685545140214
        },
        "jupyter": {
          "outputs_hidden": false,
          "source_hidden": false
        },
        "nteract": {
          "transient": {
            "deleting": false
          }
        }
      },
      "outputs": [
        {
          "name": "stdout",
          "output_type": "stream",
          "text": [
            "Finished 'get_completion' in 2.675 secs\n",
            "Finished 'get_completion' in 0.747 secs\n",
            "Finished 'get_completion' in 1.021 secs\n",
            "Finished 'get_completion' in 3.348 secs\n",
            "Davinci Response: \n",
            "1. Broadcast: Sony, Panasonic, NHK, RAI, NTT Docomo, Nokia, NBCUniversal, Eurosport, BBC, France Télévisions, CBC/Radio-Canada, Sportsnet, TSN, TLN, Seven Network, Sony Pictures Networks India\n",
            "2. Technology: 8K resolution television, 5G-ready baseband networks\n",
            "3. Revenue: US$4.38 billion agreement, IOC's biggest revenue streams, NBC's most profitable Olympics, Eurosport's exclusive pan-European rights deal\n",
            "\n",
            "Curie Response: \n",
            "Olympic Games Tokyo 2020, 8K broadcasting, Sony, Panasonic, NHK, Telecom company NTT Docomo, Italy, US, BBC, France Télévisions, Eurosport, Canada, Australia, India\n",
            "\n",
            "Babbage Response: \n",
            "Olympic Games Tokyo 2020: Key Topics\n",
            "- Broadcast audience of 3.05 billion people\n",
            "- 28 billion video views in total\n",
            "- 139 per cent increase compared with the Olympic Games Rio 2016\n",
            "- Tokyo 2020 designated as the first streaming Games and the most watched Olympic Games ever on digital platforms\n",
            "- 8K resolution television set released in time for the 2020 Summer Olympics\n",
            "- NHK broadcasting the opening and closing ceremonies, and coverage of selected events in 8K\n",
            "- Telecom company NTT Docomo signed a deal with Finland's Nokia to provide 5G-ready baseband networks in Japan in time for the Games\n",
            "\n",
            "Ada Response: \n",
            "The Olympic Games Tokyo 2020 reached a global broadcast audience of 3.05 billion people, according to independent research conducted on behalf of the International Olympic Committee (IOC). Official coverage on Olympic broadcast partners' digital platforms alone generated 28 billion video views in total – representing a 139 per cent increase compared with the Olympic Games Rio 2016 and underlining the changing media landscape and Tokyo 2020's designation as the first streaming Games and the most watched Olympic Games ever on digital platforms.\n",
            "\n",
            "Sony and Panasonic partnered with NHK to develop broadcasting standards for 8K resolution television, with a goal to release 8K television sets in time for the 2020 Summer Olympics. In early 2019, Italian broadcaster RAI announced its intention to deploy 8K broadcasting for the Games. NHK broadcast the opening and closing ceremonies, and coverage of selected events in 8K. Telecom company NTT Docomo signed a deal with Finland's Nokia to provide 5G-ready baseband networks in Japan in time for the Games.\n",
            "\n",
            "The Tokyo Olympics were broadcast in the United States by NBCUniversal networks, as part of a US$4.38 billion agreement that began at the 2014 Winter Olympics in Sochi. The United States Olympic & Paralympic Committee asserted that a \"right of abatement\" clause in the contract was triggered by the delay of the Games to 2021, requiring the IOC to \"negotiate in good faith an equitable reduction in the applicable broadcast rights payments\" by NBC, which remains one of IOC's biggest revenue sources.\n",
            "\n",
            "According to NBCUniversal CEO Jeff Shell, the Tokyo games could be the most profitable Olympics in NBC's history. The Tokyo games were NBC's first Olympics broadcast under current president Susan Rosner Rovner.\n",
            "\n",
            "In Europe, this was the first Summer Olympics under the IOC's exclusive pan-European rights deal with Eurosport, which began at the 2018 Winter Olympics and is contracted to run through 2024. The rights for the 2020 Summer Olympics covered almost all of Europe; a pre-existing deal with a marketer excludes Russia. Eurosport planned to sub-license coverage to free-to-air networks in each territory, and other channels owned by Discovery, Inc. subsidiaries. In the United Kingdom, these were set to be the last Games with rights owned primarily by the BBC, although as a condition of a sub-licensing agreement due to carry into the 2022 and 2024 Games, Eurosport holds exclusive pay television rights.\n",
            "\n",
            "In France, these were the last Games\n",
            "\n"
          ]
        }
      ],
      "source": [
        "prompt = f\"\"\"\n",
        "Classify the text delimited by triple backticks by 3 key topic catagories.\n",
        "```{text}```\n",
        "\"\"\"\n",
        "\n",
        "davinci_response, davinci_price, davinci_time = get_completion(prompt, model=davinci_model)\n",
        "curie_response, curie_price, curie_time = get_completion(prompt, model=curie_model)\n",
        "babbage_response, babbage_price, babbage_time = get_completion(prompt, model=babbage_model)\n",
        "ada_response, ada_price, ada_time = get_completion(prompt, model=ada_model)\n",
        "print(f\"Davinci Response: {davinci_response}\\n\")\n",
        "print(f\"Curie Response: {curie_response}\\n\")\n",
        "print(f\"Babbage Response: {babbage_response}\\n\")\n",
        "print(f\"Ada Response: {ada_response}\\n\")\n",
        "\n",
        "new_rows = pd.DataFrame([{'model': 'davinci', 'price': davinci_price, 'time': davinci_time},\n",
        "                                       {'model': 'curie', 'price': curie_price, 'time': curie_time},\n",
        "                                       {'model': 'babbage', 'price': babbage_price, 'time': babbage_time},\n",
        "                                       {'model': 'ada', 'price': ada_price, 'time': ada_time}])\n",
        "model_pricing = pd.concat([model_pricing, new_rows], ignore_index=True)"
      ]
    },
    {
      "cell_type": "code",
      "execution_count": 21,
      "metadata": {
        "gather": {
          "logged": 1685545200763
        },
        "jupyter": {
          "outputs_hidden": false,
          "source_hidden": false
        },
        "nteract": {
          "transient": {
            "deleting": false
          }
        }
      },
      "outputs": [
        {
          "name": "stdout",
          "output_type": "stream",
          "text": [
            "Finished 'get_completion' in 0.871 secs\n",
            "Finished 'get_completion' in 1.024 secs\n",
            "Finished 'get_completion' in 3.35 secs\n",
            "Finished 'get_completion' in 0.897 secs\n",
            "Davinci Response: \n",
            "- Olympic Games Tokyo 2020\n",
            "- 8K resolution television\n",
            "- NBCUniversal networks\n",
            "\n",
            "Curie Response: \n",
            "Olympic Games Tokyo 2020\n",
            "3.05 billion people\n",
            "Digital platforms\n",
            "28 billion video views\n",
            "Olympic broadcast partners' digital platforms\n",
            "8K resolution television\n",
            "IOC\n",
            "USOC\n",
            "EUROSPORT\n",
            "BBC\n",
            "France Télévisions\n",
            "Canal+\n",
            "Seven Network\n",
            "Sony Pictures Networks India\n",
            "\n",
            "Babbage Response: \n",
            "-The Tokyo Olympics reached a global broadcast audience of 3.05 billion people \n",
            "- Official coverage on Olympic broadcast partners' digital platforms alone generated 28 billion video views in total \n",
            "- This represents a 139 per cent increase compared with the Olympic Games Rio 2016 \n",
            "- Tokyo 2020 was designated as the first streaming Games and the most watched Olympic Games ever on digital platforms \n",
            "- 8K resolution television sets are in development for the 2020 Summer Olympics \n",
            "- In early 2019, Italian broadcaster RAI announced its intention to deploy 8K broadcasting for the Games \n",
            "- NHK broadcast the opening and closing ceremonies, and coverage of selected events in 8K \n",
            "- Telecom company NTT Docomo signed a deal with Finland's Nokia to provide 5G-ready baseband networks in Japan in time for the Games \n",
            "- The Tokyo Olympics were broadcast in the United States by NBCUniversal networks, as part of a US$4.38 billion agreement that began at the 2014 Winter Olympics in Sochi \n",
            "- The United States Olympic & Paralympic Committee asserted that a \"right of abatement\" clause in the contract was triggered by the delay of the Games to 2021, requiring the IOC to \"negotiate in good faith an equitable reduction in the applicable broadcast rights payments\" by NBC, which remains one of IOC's biggest revenue streams \n",
            "- According to NBCUniversal CEO Jeff Shell, the Tokyo games could be the most profitable Olympics in NBC's history \n",
            "- The Tokyo Olympics were NBC's first Olympics broadcast under current president Susan Rosner Rovner \n",
            "- In Europe, this was the first Summer Olympics under the IOC's exclusive pan-European rights deal with Eurosport \n",
            "- Eurosport planned to sub-license coverage to free-to-air networks in each territory, and other channels owned by Discovery, Inc. subsidiaries \n",
            "- In the United Kingdom, these were set to be the last Games with rights owned primarily by the BBC \n",
            "- In France, these were the last Games whose rights are primarily owned by France Télévisions \n",
            "- Eurosport debuted as pay television rightsholder, after Canal+ elected to sell its pay television rights as a cost-saving measure\n",
            "\n",
            "Ada Response: \n",
            "The Olympic Games Tokyo 2020 was broadcast in 8K resolution on Sony and Panasonic's 8K broadcasting standards. The games reached a global audience of 3.05 billion people, according to independent research. Official coverage on Olympic digital platforms alone generated 28 billion video views. The Tokyo games were NBC's first Olympics broadcast in 8K. In Europe, this was the first Summer Olympics with exclusive pan-European rights. In Canada, they were aired on CBC/Radio-Canada platforms. In the Indian subcontinent, they were aired by Sony Pictures Networks India.\n",
            "\n"
          ]
        }
      ],
      "source": [
        "prompt = f\"\"\"\n",
        "Classify the text delimited by triple backticks by 3 key words for search, list by bullet points.\n",
        "```{text}```\n",
        "\"\"\"\n",
        "\n",
        "davinci_response, davinci_price, davinci_time = get_completion(prompt, model=davinci_model)\n",
        "curie_response, curie_price, curie_time = get_completion(prompt, model=curie_model)\n",
        "babbage_response, babbage_price, babbage_time = get_completion(prompt, model=babbage_model)\n",
        "ada_response, ada_price, ada_time = get_completion(prompt, model=ada_model)\n",
        "print(f\"Davinci Response: {davinci_response}\\n\")\n",
        "print(f\"Curie Response: {curie_response}\\n\")\n",
        "print(f\"Babbage Response: {babbage_response}\\n\")\n",
        "print(f\"Ada Response: {ada_response}\\n\")\n",
        "\n",
        "new_rows = pd.DataFrame([{'model': 'davinci', 'price': davinci_price, 'time': davinci_time},\n",
        "                                       {'model': 'curie', 'price': curie_price, 'time': curie_time},\n",
        "                                       {'model': 'babbage', 'price': babbage_price, 'time': babbage_time},\n",
        "                                       {'model': 'ada', 'price': ada_price, 'time': ada_time}])\n",
        "model_pricing = pd.concat([model_pricing, new_rows], ignore_index=True)"
      ]
    },
    {
      "cell_type": "markdown",
      "metadata": {
        "nteract": {
          "transient": {
            "deleting": false
          }
        }
      },
      "source": [
        "#### Student Challenge #5:\n",
        "Edit the prompt to make the models generate more precise results. Compare different model performance."
      ]
    },
    {
      "cell_type": "markdown",
      "metadata": {
        "nteract": {
          "transient": {
            "deleting": false
          }
        }
      },
      "source": [
        "#### Student Challenge #6: Model Comparison\n",
        "\n",
        "Write code to create two bar charts comparing the **price** and **time for completion** between the models. We recommend using the `matplotlib.pyplot` library for making visualizations.\n",
        "\n",
        "Instructions for completion:\n",
        "\n",
        "* Utilize the `model_comparison` dataframe to calculate the averages of price and time for each model\n",
        "* Produce the bar chart in a currency amount. Note that the `price` column in the `model_comparison` dataframe is in the unit of tokens. Refer to the Azure [OpenAI pricing page](https://azure.microsoft.com/en-us/pricing/details/cognitive-services/openai-service/) to convert the units."
      ]
    },
    {
      "cell_type": "code",
      "execution_count": null,
      "metadata": {
        "jupyter": {
          "outputs_hidden": false,
          "source_hidden": false
        },
        "nteract": {
          "transient": {
            "deleting": false
          }
        }
      },
      "outputs": [],
      "source": [
        "''' STUDENT CHALLENGE '''\n",
        "\n",
        "import matplotlib.pyplot as plt\n",
        "\n",
        "### 1. Bar chart to compare pricing\n",
        "\n",
        "\n",
        "### 2. Bar chart to compare time for completion"
      ]
    },
    {
      "cell_type": "code",
      "execution_count": 34,
      "metadata": {
        "gather": {
          "logged": 1686334476013
        },
        "jupyter": {
          "outputs_hidden": false,
          "source_hidden": false
        },
        "nteract": {
          "transient": {
            "deleting": false
          }
        }
      },
      "outputs": [
        {
          "data": {
            "image/png": "[encoded data removed]",
            "text/plain": [
              "<Figure size 640x480 with 1 Axes>"
            ]
          },
          "metadata": {},
          "output_type": "display_data"
        },
        {
          "data": {
            "image/png": "[encoded data removed]",
            "text/plain": [
              "<Figure size 640x480 with 1 Axes>"
            ]
          },
          "metadata": {},
          "output_type": "display_data"
        }
      ],
      "source": [
        "''' COACH SOLUTION '''\n",
        "\n",
        "# Create a bar chart comparing the model time and number of tokens it took to generate the result\n",
        "import matplotlib.pyplot as plt\n",
        "\n",
        "# 1. Bar chart for pricing\n",
        "\n",
        "# Group the data by \"model\" and calculate the average price\n",
        "grouped_df = model_pricing.groupby('model').mean()\n",
        "grouped_df.loc['ada', 'price'] = grouped_df.loc['ada', 'price'] * (0.0004/1000) * 100\n",
        "grouped_df.loc['babbage', 'price'] = grouped_df.loc['babbage', 'price'] * (0.0005/1000) * 100\n",
        "grouped_df.loc['curie', 'price'] = grouped_df.loc['curie', 'price'] * (0.002/1000) * 100\n",
        "grouped_df.loc['davinci', 'price'] = grouped_df.loc['davinci', 'price'] * (0.02/1000) * 100\n",
        "\n",
        "# Create the bar chart\n",
        "grouped_df['price'].plot(kind='bar', legend=None)\n",
        "\n",
        "# Set the chart title and labels\n",
        "plt.title('Average Price of Model')\n",
        "plt.xlabel('Model')\n",
        "plt.ylabel('Price (Cents)')\n",
        "\n",
        "# Show the chart\n",
        "plt.show()\n",
        "\n",
        "# 2. Bar chart for timing\n",
        "grouped_df['time'] = grouped_df['time'].round(3)\n",
        "grouped_df['time'].plot(kind='bar', legend=None)\n",
        "\n",
        "# Set the chart title and labels\n",
        "plt.title('Average Time of Model Completion')\n",
        "plt.xlabel('Model')\n",
        "plt.ylabel('Time (Seconds)')\n",
        "\n",
        "# Show the chart\n",
        "plt.show()"
      ]
    },
    {
      "cell_type": "markdown",
      "metadata": {
        "nteract": {
          "transient": {
            "deleting": false
          }
        }
      },
      "source": [
        "### 2.4 Generate Nick Names"
      ]
    },
    {
      "cell_type": "markdown",
      "metadata": {
        "nteract": {
          "transient": {
            "deleting": false
          }
        }
      },
      "source": [
        "#### Student Challenge #7:\n",
        "Use different models to create nick names for players from examples words. Compare different model performance. (You can set the temperature value high to increase randomness and more innovative responses.)\n",
        "\n",
        "Player description: The champion of Men's 100 metre freestyle swimming. Seed words: fast, strong, talented.Nick names: Swimming Genius, Dark Horse, 100-Metre-Freestyle Killer\n",
        "\n",
        "Player description: The champion of Women Figure Skating. Seed words: elegant, talented, soft."
      ]
    },
    {
      "cell_type": "code",
      "execution_count": 30,
      "metadata": {
        "gather": {
          "logged": 1685916265011
        },
        "jupyter": {
          "outputs_hidden": false,
          "source_hidden": false
        },
        "nteract": {
          "transient": {
            "deleting": false
          }
        }
      },
      "outputs": [
        {
          "name": "stdout",
          "output_type": "stream",
          "text": [
            "Finished 'get_completion' in 0.577 secs\n",
            "Finished 'get_completion' in 0.329 secs\n",
            "Finished 'get_completion' in 0.252 secs\n",
            "Finished 'get_completion' in 0.269 secs\n",
            "Davinci Response: (' Nick names: Ice Queen, Figure Skating Phenom, Elegant Skater.', 80)\n",
            "\n",
            "Curie Response: (' Nick names: Ice Princess, Snow Queen, Figure Skater Queen', 75)\n",
            "\n",
            "Babbage Response: (' Nicknames: The Ice Princess, Snow Queen, Snow AngelPlayer description:', 77)\n",
            "\n",
            "Ada Response: (' Nick names: figure-skating queen, sweetheart, sweetheart 2', 77)\n",
            "\n"
          ]
        }
      ],
      "source": [
        "prompt = \"Player description: The champion of Men's 100 metre freestyle swimming. Seed words: fast, strong, talented. Nick names: Swimming Genius, Dark Horse, 100-Metre-Freestyle Killer\\\n",
        "Player description: The champion of Women Figure Skating. Seed words: elegant, talented, soft.\"\n",
        "\n",
        "davinci_response = get_completion(prompt, model=davinci_model)\n",
        "curie_response = get_completion(prompt, model=curie_model)\n",
        "babbage_response = get_completion(prompt, model=babbage_model)\n",
        "ada_response = get_completion(prompt, model=ada_model)\n",
        "print(f\"Davinci Response: {davinci_response}\\n\")\n",
        "print(f\"Curie Response: {curie_response}\\n\")\n",
        "print(f\"Babbage Response: {babbage_response}\\n\")\n",
        "print(f\"Ada Response: {ada_response}\\n\")"
      ]
    },
    {
      "cell_type": "markdown",
      "metadata": {
        "nteract": {
          "transient": {
            "deleting": false
          }
        }
      },
      "source": [
        "#### Model Comparison\n",
        "|Model| Performance  |Time|Tokens|Pricing |\n",
        "|---|---|---|\n",
        "|Davinci|||||\n",
        "|Curie|||||\n",
        "|Babbage|||||\n",
        "|Ada|||||"
      ]
    },
    {
      "cell_type": "markdown",
      "metadata": {
        "nteract": {
          "transient": {
            "deleting": false
          }
        }
      },
      "source": [
        "### 2.5 Embeddings\n",
        "This section focuses on how to retrieve embeddings using different embedding models, and find similarity between documents. "
      ]
    },
    {
      "cell_type": "markdown",
      "metadata": {
        "nteract": {
          "transient": {
            "deleting": false
          }
        }
      },
      "source": [
        "#### Student Challenge #8:\n",
        "Compare the summaries of two swimming games at the 2020 Summer Olympics using the data provided below.\n",
        "\n",
        "See whether there are differences using different embedding models to compare."
      ]
    },
    {
      "cell_type": "code",
      "execution_count": 49,
      "metadata": {
        "gather": {
          "logged": 1686117865502
        },
        "jupyter": {
          "outputs_hidden": false,
          "source_hidden": false
        },
        "nteract": {
          "transient": {
            "deleting": false
          }
        }
      },
      "outputs": [],
      "source": [
        "from openai.embeddings_utils import get_embedding, cosine_similarity"
      ]
    },
    {
      "cell_type": "code",
      "execution_count": 44,
      "metadata": {
        "gather": {
          "logged": 1686117698204
        },
        "jupyter": {
          "outputs_hidden": false,
          "source_hidden": false
        },
        "nteract": {
          "transient": {
            "deleting": false
          }
        }
      },
      "outputs": [
        {
          "data": {
            "text/html": [
              "<div>\n",
              "<style scoped>\n",
              "    .dataframe tbody tr th:only-of-type {\n",
              "        vertical-align: middle;\n",
              "    }\n",
              "\n",
              "    .dataframe tbody tr th {\n",
              "        vertical-align: top;\n",
              "    }\n",
              "\n",
              "    .dataframe thead th {\n",
              "        text-align: right;\n",
              "    }\n",
              "</style>\n",
              "<table border=\"1\" class=\"dataframe\">\n",
              "  <thead>\n",
              "    <tr style=\"text-align: right;\">\n",
              "      <th></th>\n",
              "      <th>summary</th>\n",
              "      <th>qualification</th>\n",
              "    </tr>\n",
              "  </thead>\n",
              "  <tbody>\n",
              "    <tr>\n",
              "      <th>0</th>\n",
              "      <td>The mixed 100 metre medley relay event at the ...</td>\n",
              "      <td>The 2020 Summer Olympics featured the first ev...</td>\n",
              "    </tr>\n",
              "    <tr>\n",
              "      <th>1</th>\n",
              "      <td>The men's 200 metre breaststroke event at the ...</td>\n",
              "      <td>The men's 200 metre breaststroke event was hel...</td>\n",
              "    </tr>\n",
              "  </tbody>\n",
              "</table>\n",
              "</div>"
            ],
            "text/plain": [
              "                                             summary   \n",
              "0  The mixed 100 metre medley relay event at the ...  \\\n",
              "1  The men's 200 metre breaststroke event at the ...   \n",
              "\n",
              "                                       qualification  \n",
              "0  The 2020 Summer Olympics featured the first ev...  \n",
              "1  The men's 200 metre breaststroke event was hel...  "
            ]
          },
          "execution_count": 44,
          "metadata": {},
          "output_type": "execute_result"
        }
      ],
      "source": [
        "import pandas as pd\n",
        "game_summary = [\n",
        "    \"The mixed 100 metre medley relay event at the 2020 Summer Olympics was held in 2021 at the Tokyo Aquatics Centre. These Games marked the first time to feature a mixed-gender swimming event in the program. Each 4-person team features two male and two female swimmers in no particular order. The medals for the competition were presented by Kirsty Coventry IOC Executive Board Member, Zimbabwe; Olympian, 2 Gold Medals, 4 Silver Medals, 1 Bronze Medal, and the medalists bouquets were presented by Errol Clarke, FINA Bureau Member; Barbados.\",\n",
        "    \"The men's 200 metre breaststroke event at the 2020 Summer Olympics was held from 27 to 29 July 2021 at the Tokyo Aquatics Centre. It was the event's twenty-sixth consecutive appearance, having been held at every edition since 1908.\"\n",
        "]\n",
        "\n",
        "game_highlight = [\n",
        "    'The 2020 Summer Olympics featured the first ever mixed-gender swimming event, the 100 metre medley relay. Medals were presented by Kirsty Coventry and bouquets by Errol Clarke.',\n",
        "    \"The men's 200 metre breaststroke event was held at the 2020 Summer Olympics in Tokyo, making it the event's 26th consecutive appearance since 1908.\"\n",
        "]\n",
        "\n",
        "olympics_game_df = pd.DataFrame({\"summary\":game_summary, \"qualification\":game_highlight})\n",
        "\n",
        "olympics_game_df.head()   "
      ]
    },
    {
      "cell_type": "code",
      "execution_count": 45,
      "metadata": {
        "gather": {
          "logged": 1686117707487
        },
        "jupyter": {
          "outputs_hidden": false,
          "source_hidden": false
        },
        "nteract": {
          "transient": {
            "deleting": false
          }
        }
      },
      "outputs": [],
      "source": [
        "@timer\n",
        "def get_embedding(text, model=\"text-embedding-ada\"):\n",
        "    response = openai.Embedding.create(\n",
        "        input=text,\n",
        "        engine=model\n",
        "    )\n",
        "    return response[\"data\"][0][\"embedding\"]"
      ]
    },
    {
      "cell_type": "code",
      "execution_count": 46,
      "metadata": {
        "gather": {
          "logged": 1686117710151
        },
        "jupyter": {
          "outputs_hidden": false,
          "source_hidden": false
        },
        "nteract": {
          "transient": {
            "deleting": false
          }
        }
      },
      "outputs": [
        {
          "name": "stdout",
          "output_type": "stream",
          "text": [
            "Finished 'get_embedding' in 0.33 secs\n",
            "Finished 'get_embedding' in 0.098 secs\n",
            "0.8954294742791561\n"
          ]
        }
      ],
      "source": [
        "model = \"text-embedding-ada\"\n",
        "\n",
        "article1_embedding    = get_embedding(text=olympics_game_df.summary.iloc[0], model=model)\n",
        "article2_embedding    = get_embedding(text=olympics_game_df.summary.iloc[1], model=model)\n",
        "\n",
        "print(cosine_similarity(article1_embedding, article2_embedding))"
      ]
    },
    {
      "cell_type": "code",
      "execution_count": 47,
      "metadata": {
        "gather": {
          "logged": 1686117715107
        },
        "jupyter": {
          "outputs_hidden": false,
          "source_hidden": false
        },
        "nteract": {
          "transient": {
            "deleting": false
          }
        }
      },
      "outputs": [
        {
          "name": "stdout",
          "output_type": "stream",
          "text": [
            "Finished 'get_embedding' in 0.105 secs\n",
            "Finished 'get_embedding' in 0.097 secs\n",
            "0.8973289439692457\n"
          ]
        }
      ],
      "source": [
        "model = \"text-similarity-ada\"\n",
        "\n",
        "article1_embedding    = get_embedding(text=olympics_game_df.summary.iloc[0], model=model)\n",
        "article2_embedding    = get_embedding(text=olympics_game_df.summary.iloc[1], model=model)\n",
        "\n",
        "print(cosine_similarity(article1_embedding, article2_embedding))"
      ]
    },
    {
      "cell_type": "code",
      "execution_count": 48,
      "metadata": {
        "gather": {
          "logged": 1686117718971
        },
        "jupyter": {
          "outputs_hidden": false,
          "source_hidden": false
        },
        "nteract": {
          "transient": {
            "deleting": false
          }
        }
      },
      "outputs": [
        {
          "name": "stdout",
          "output_type": "stream",
          "text": [
            "Finished 'get_embedding' in 0.146 secs\n",
            "Finished 'get_embedding' in 0.116 secs\n",
            "0.8756241245815187\n"
          ]
        }
      ],
      "source": [
        "model = \"text-similarity-curie\"\n",
        "\n",
        "article1_embedding    = get_embedding(text=olympics_game_df.summary.iloc[0], model=model)\n",
        "article2_embedding    = get_embedding(text=olympics_game_df.summary.iloc[1], model=model)\n",
        "\n",
        "print(cosine_similarity(article1_embedding, article2_embedding))"
      ]
    },
    {
      "cell_type": "markdown",
      "metadata": {
        "nteract": {
          "transient": {
            "deleting": false
          }
        }
      },
      "source": [
        "#### Model Comparison\n",
        "|Model| Performance  |Time|\n",
        "|---|---|---|\n",
        "|text-embedding-ada-002|||\n",
        "|text-similarity-ada-001|||\n",
        "|text-similarity-curie-001|||"
      ]
    },
    {
      "cell_type": "markdown",
      "metadata": {
        "nteract": {
          "transient": {
            "deleting": false
          }
        }
      },
      "source": [
        "## Success Criteria\n",
        "To complete this challenge successfully:\n",
        "- Show the understanding of each model and its suitable use cases\n",
        "- Show the understanding of differences between each model\n",
        "- Be able to select the most suitable model to apply under different scenarios\n",
        "- Make all the code cells run successfully"
      ]
    }
  ],
  "metadata": {
    "kernel_info": {
      "name": "python310-sdkv2"
    },
    "kernelspec": {
      "display_name": "Python 3.10 - SDK v2",
      "language": "python",
      "name": "python310-sdkv2"
    },
    "language_info": {
      "codemirror_mode": {
        "name": "ipython",
        "version": 3
      },
      "file_extension": ".py",
      "mimetype": "text/x-python",
      "name": "python",
      "nbconvert_exporter": "python",
      "pygments_lexer": "ipython3",
      "version": "3.10.10"
    },
    "microsoft": {
      "host": {
        "AzureML": {
          "notebookHasBeenCompleted": true
        }
      },
      "ms_spell_check": {
        "ms_spell_check_language": "en"
      }
    },
    "nteract": {
      "version": "nteract-front-end@1.0.0"
    }
  },
  "nbformat": 4,
  "nbformat_minor": 2
}
