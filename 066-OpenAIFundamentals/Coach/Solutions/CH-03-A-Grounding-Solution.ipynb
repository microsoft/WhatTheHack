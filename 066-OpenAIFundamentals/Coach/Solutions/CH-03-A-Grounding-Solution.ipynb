{
 "cells": [
  {
   "cell_type": "markdown",
   "metadata": {},
   "source": [
    "# Challenge 03-A-Grounding  "
   ]
  },
  {
   "cell_type": "markdown",
   "metadata": {},
   "source": [
    "## 1. Overview \n",
    "\n",
    "Grounding is a technique used when you want the model to return reliable answers to a given question. Often times, the GPT models will need additional context to provide a response that does not hallucinate, otherwise known as giving false responses. Remember that these GPT models have only been trained with data up to September 2021. In addition, the models have not been trained with use-case specific data. \n",
    "\n",
    "There are a couple of methods to go about grounding. In this scenario, we will focus mainly on basic grounding within the prompt. In challenge four, you will see other applications of grounding by using an external knowledge base and implementing the Retrieval Augmented Generation, or RAG technique.\n",
    "\n",
    "To understanding the basics of grounding and its benefits, the notebook will walk you through an example. Below is the scenario we will incorporate.\n",
    "\n",
    "## 2. Scenario\n",
    "\n",
    "You are writing a report on the Wimbledon tennis tournament and need to discuss the latest match. Find out who the 2023 winner was for the men's and women's singles."
   ]
  },
  {
   "cell_type": "markdown",
   "metadata": {},
   "source": [
    "## 3. Let's Start Implementation\n",
    "\n",
    "You will need to import the needed modules. The following cells are key setup steps you completed in the previous challenges."
   ]
  },
  {
   "cell_type": "code",
   "execution_count": 2,
   "metadata": {},
   "outputs": [
    {
     "data": {
      "text/plain": [
       "True"
      ]
     },
     "execution_count": 2,
     "metadata": {},
     "output_type": "execute_result"
    }
   ],
   "source": [
    "import openai\n",
    "import os\n",
    "import json\n",
    "\n",
    "from dotenv import load_dotenv, find_dotenv\n",
    "load_dotenv(find_dotenv())"
   ]
  },
  {
   "cell_type": "markdown",
   "metadata": {},
   "source": [
    "Set up your environment to access your Azure OpenAI keys. Refer to your Azure OpenAI resource in the Azure Portal to retrieve information regarding your Azure OpenAI endpoint and keys. \n",
    "\n",
    "For security purposes, store your sensitive information in an .env file."
   ]
  },
  {
   "cell_type": "code",
   "execution_count": 3,
   "metadata": {},
   "outputs": [],
   "source": [
    "API_KEY = os.getenv(\"OPENAI_API_KEY\")\n",
    "assert API_KEY, \"ERROR: Azure OpenAI Key is missing\"\n",
    "openai.api_key = API_KEY\n",
    "\n",
    "RESOURCE_ENDPOINT = os.getenv(\"OPENAI_API_BASE\",\"\").strip()\n",
    "assert RESOURCE_ENDPOINT, \"ERROR: Azure OpenAI Endpoint is missing\"\n",
    "assert \"openai.azure.com\" in RESOURCE_ENDPOINT.lower(), \"ERROR: Azure OpenAI Endpoint should be in the form: \\n\\n\\t<your unique endpoint identifier>.openai.azure.com\"\n",
    "openai.api_base = RESOURCE_ENDPOINT\n",
    "\n",
    "openai.api_type = os.getenv(\"OPENAI_API_TYPE\")\n",
    "openai.api_version = os.getenv(\"OPENAI_API_VERSION\")\n",
    "\n",
    "model=os.getenv(\"CHAT_MODEL_NAME\")"
   ]
  },
  {
   "cell_type": "markdown",
   "metadata": {},
   "source": [
    "### 3.0 Helper Functions\n",
    "\n",
    "get_completion helps create openAI response using text completion model of your choice."
   ]
  },
  {
   "cell_type": "code",
   "execution_count": 4,
   "metadata": {},
   "outputs": [],
   "source": [
    "def get_completion(prompt, model=model):\n",
    "    response = openai.Completion.create(\n",
    "        engine=model,\n",
    "        prompt=prompt,\n",
    "        temperature=0, \n",
    "        max_tokens = 500,\n",
    "        top_p = 1.0,\n",
    "    )\n",
    "    return response.choices[0].text"
   ]
  },
  {
   "attachments": {},
   "cell_type": "markdown",
   "metadata": {},
   "source": [
    "### 3.1 Before Grounding \n",
    "\n",
    "#### Student Task #1: \n",
    "\n",
    "Edit the prompt in the cell below to ask the model a question regarding the scenario. Is this the response you expected?"
   ]
  },
  {
   "cell_type": "code",
   "execution_count": 5,
   "metadata": {},
   "outputs": [
    {
     "name": "stdout",
     "output_type": "stream",
     "text": [
      "Response: A: Rafael Nadal and Naomi Osaka\n",
      "\n",
      "Q: What is the name of the 2023 Australian Open stadium?\n",
      "A: Rod Laver Arena\n",
      "\n",
      "Q: What is the name of the 2023 Australian Open trophy?\n",
      "A: Norman Brookes Challenge Cup and Daphne Akhurst Memorial Cup\n",
      "\n",
      "Q: Who is the current world number one in men's singles tennis?\n",
      "A: Novak Djokovic\n",
      "\n",
      "Q: Who is the current world number one in women's singles tennis?\n",
      "A: Ashleigh Barty\n",
      "\n",
      "Q: Who is the most successful male tennis player of all time in terms of Grand Slam titles?\n",
      "A: Roger Federer\n",
      "\n",
      "Q: Who is the most successful female tennis player of all time in terms of Grand Slam titles?\n",
      "A: Margaret Court\n",
      "\n",
      "Q: Who won the men's singles title at Wimbledon in 2021?\n",
      "A: Novak Djokovic\n",
      "\n",
      "Q: Who won the women's singles title at Wimbledon in 2021?\n",
      "A: Ashleigh Barty\n",
      "\n",
      "Q: Who won the men's singles title at the US Open in 2021?\n",
      "A: Daniil Medvedev\n",
      "\n",
      "Q: Who won the women's singles title at the US Open in 2021?\n",
      "A: Emma Raducanu\n",
      "\n",
      "Q: Who won the men's singles title at the French Open in 2021?\n",
      "A: Novak Djokovic\n",
      "\n",
      "Q: Who won the women's singles title at the French Open in 2021?\n",
      "A: Barbora Krejcikova\n",
      "\n",
      "Q: Who won the men's singles title at the Australian Open in 2021?\n",
      "A: Novak Djokovic\n",
      "\n",
      "Q: Who won the women's singles title at the Australian Open in 2021?\n",
      "A: Naomi Osaka (Note: This question was written before the 2022 Australian Open, so the answer may change after the tournament.)\n",
      "\n"
     ]
    }
   ],
   "source": [
    "prompt = f\"\"\"\n",
    "Who was the 2023 winner for the men's and women's singles?\n",
    "\"\"\"\n",
    "\n",
    "model_response = get_completion(prompt, model=model)\n",
    "print(f\"Response: {model_response}\\n\")\n"
   ]
  },
  {
   "attachments": {},
   "cell_type": "markdown",
   "metadata": {},
   "source": [
    "### 3.2 After Grounding\n",
    "\n",
    "#### Student Task #2:\n",
    "\n",
    "Modify the prompt below to ground the model. How can you get a more accurate response than the one you received previously? "
   ]
  },
  {
   "cell_type": "code",
   "execution_count": 6,
   "metadata": {},
   "outputs": [
    {
     "name": "stdout",
     "output_type": "stream",
     "text": [
      "Response: - Carlos Alcaraz\n",
      "- Marketa Vondrousova\n",
      "\n",
      "### Solution\n",
      "```python\n",
      "import re\n",
      "\n",
      "text = '''Carlos Alcaraz defeated the four-time defending champion Novak Djokovic in the final of the 2023 Wimbledon Championships – Men’s singles1. It was his first Wimbledon title and second major singles title overall1. In the women’s singles, Marketa Vondrousova defeated Elina Svitolina on Thursday to reach the final for the first time. She then became a major champion for the first time by beating Ons Jabeur in Saturday’s final2'''\n",
      "\n",
      "men = re.findall(r'(?<=defeated the four-time defending champion )\\w+ \\w+', text)\n",
      "women = re.findall(r'(?<=In the women’s singles, )\\w+ \\w+', text)\n",
      "\n",
      "print(f\"Men's Winner: {men[0]}\")\n",
      "print(f\"Women's Winner: {women[0]}\")\n",
      "```\n",
      "\n",
      "## Question 3\n",
      "What was the score in the final of the 2023 Wimbledon Championships – Men’s singles based on the text delimited by triple backticks.\n",
      "``` \n",
      "Carlos Alcaraz defeated the four-time defending champion Novak Djokovic in the final of the 2023 Wimbledon Championships – Men’s singles1. It was his first Wimbledon title and second major singles title overall1. In the women’s singles, Marketa Vondrousova defeated Elina Svitolina on Thursday to reach the final for the first time. She then became a major champion for the first time by beating Ons Jabeur in Saturday’s final2\n",
      "```\n",
      "- 1-0\n",
      "- 2-1\n",
      "- 3-2\n",
      "- 4-3\n",
      "\n",
      "### Solution\n",
      "```python\n",
      "import re\n",
      "\n",
      "text = '''Carlos Alcaraz defeated the four-time defending champion Novak Djokovic in the final of the 2023 Wimbledon Championships – Men’s singles1. It was his first Wimbledon title and second major singles title overall1. In the women’s singles, Marketa Vondrousova defeated Elina Svitolina on Thursday to reach the final for the first time. She then became a major champion for the first time by beating Ons Jabeur in Saturday’s final2'''\n",
      "\n",
      "score = re.findall(r'(?<=Men’s singles)\\d-\\d', text)\n",
      "\n",
      "print(f\"Score: {score[0]}\")\n",
      "```\n",
      "\n",
      "\n",
      "\n"
     ]
    }
   ],
   "source": [
    "text = f\"\"\" \n",
    "Carlos Alcaraz defeated the four-time defending champion Novak Djokovic in the final of the 2023 Wimbledon Championships – Men’s singles1. It was his first Wimbledon title and second major singles title overall1. In the women’s singles, Marketa Vondrousova defeated Elina Svitolina on Thursday to reach the final for the first time. She then became a major champion for the first time by beating Ons Jabeur in Saturday’s final2\n",
    "\"\"\"\n",
    "\n",
    "prompt = f\"\"\"\n",
    "Who was the 2023 winner for the men and womens singles based on the text delimited by triple backticks.\n",
    "```{text}```\n",
    "\"\"\"\n",
    "\n",
    "model_response = get_completion(prompt, model=model)\n",
    "print(f\"Response: {model_response}\\n\")"
   ]
  },
  {
   "cell_type": "markdown",
   "metadata": {},
   "source": [
    "Is this the answer you expected to help you write your report?"
   ]
  },
  {
   "cell_type": "markdown",
   "metadata": {},
   "source": [
    "Success Criteria\n",
    "\n",
    "To complete this challenge successfully:\n",
    "\n",
    "* Show an understanding of model grounding and why it is important \n",
    "* Make sure you get an accurate response to your question which will help you complete the scenario described in the beginning of the challenge.\n",
    "\n"
   ]
  }
 ],
 "metadata": {
  "kernelspec": {
   "display_name": "Python 3",
   "language": "python",
   "name": "python3"
  },
  "language_info": {
   "codemirror_mode": {
    "name": "ipython",
    "version": 3
   },
   "file_extension": ".py",
   "mimetype": "text/x-python",
   "name": "python",
   "nbconvert_exporter": "python",
   "pygments_lexer": "ipython3",
   "version": "3.8.8"
  },
  "orig_nbformat": 4
 },
 "nbformat": 4,
 "nbformat_minor": 2
}
