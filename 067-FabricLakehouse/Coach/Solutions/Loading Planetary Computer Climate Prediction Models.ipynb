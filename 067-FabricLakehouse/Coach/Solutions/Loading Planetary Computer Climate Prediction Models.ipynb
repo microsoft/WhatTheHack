{
 "cells": [
  {
   "cell_type": "markdown",
   "id": "0ff8866e-b39f-4e6e-9c29-6aed455662df",
   "metadata": {
    "nteract": {
     "transient": {
      "deleting": false
     }
    }
   },
   "source": [
    "# Loading Weather Data\n",
    "### Loading Forecasts data from Microsoft Planetary Computer Catalogue\n",
    " \n",
    "ECMWF Open Data (real-time) From Microsoft Planetary Computer Dataset.\n",
    "\n",
    "https://planetarycomputer.microsoft.com/dataset/ecmwf-forecast#overview\n",
    "\n",
    "\n"
   ]
  },
  {
   "cell_type": "markdown",
   "id": "6edc1d1b-282b-4f67-82e6-29d9f575482d",
   "metadata": {
    "nteract": {
     "transient": {
      "deleting": false
     }
    }
   },
   "source": [
    "### Install the eecodes C library and cartopy native (C/C++) dependencies"
   ]
  },
  {
   "cell_type": "code",
   "execution_count": null,
   "id": "afe93b94-2dac-4842-8e37-610e6f0e74b8",
   "metadata": {
    "jupyter": {
     "outputs_hidden": false,
     "source_hidden": false
    },
    "nteract": {
     "transient": {
      "deleting": false
     }
    }
   },
   "outputs": [],
   "source": [
    "%conda install -c conda-forge eccodes cartopy"
   ]
  },
  {
   "cell_type": "markdown",
   "id": "43fd5dd5-373e-4f66-b1aa-fdae84a496e6",
   "metadata": {
    "nteract": {
     "transient": {
      "deleting": false
     }
    }
   },
   "source": [
    "### Install other dependencies"
   ]
  },
  {
   "cell_type": "code",
   "execution_count": null,
   "id": "2ee20845-ca81-47a9-b61d-d967c3b9c458",
   "metadata": {
    "jupyter": {
     "outputs_hidden": true,
     "source_hidden": false
    },
    "nteract": {
     "transient": {
      "deleting": false
     }
    }
   },
   "outputs": [],
   "source": [
    "%pip install cfgrib eccodes rioxarray pystac_client planetary-computer"
   ]
  },
  {
   "cell_type": "code",
   "execution_count": null,
   "id": "565eeaf7-a349-46cf-ba19-553030ae6f6c",
   "metadata": {
    "jupyter": {
     "outputs_hidden": false,
     "source_hidden": false
    },
    "nteract": {
     "transient": {
      "deleting": false
     }
    }
   },
   "outputs": [],
   "source": [
    "import numpy as np\n",
    "import urllib.request\n",
    "import eccodes\n",
    "import cfgrib\n",
    "import rioxarray\n",
    "import xarray as xr\n",
    "\n",
    "import matplotlib.pyplot as plt\n",
    "import cartopy.crs as ccrs\n",
    "\n",
    "import pyspark.sql.functions as f\n"
   ]
  },
  {
   "cell_type": "markdown",
   "id": "75bbc2cd-56d0-40b7-a405-ef73be2ba870",
   "metadata": {
    "nteract": {
     "transient": {
      "deleting": false
     }
    }
   },
   "source": [
    "---"
   ]
  },
  {
   "cell_type": "markdown",
   "id": "550fc40e-1458-4a26-ade6-69cb311017e7",
   "metadata": {
    "nteract": {
     "transient": {
      "deleting": false
     }
    }
   },
   "source": [
    "### Query the STAC Planetary Computer data catalogue for ECMWF Forecast data.\n",
    "\n",
    "https://github.com/stac-api-extensions/query\n",
    "\n",
    "https://planetarycomputer.microsoft.com/docs/quickstarts/reading-stac/\n",
    "\n",
    "Find ``enfo`` and ``waef`` products. Search by ``forecast_datetime`` for tomorrow. "
   ]
  },
  {
   "cell_type": "code",
   "execution_count": null,
   "id": "851c6db4-79a2-43c2-a8f5-1ddc5fe80f89",
   "metadata": {
    "jupyter": {
     "outputs_hidden": false,
     "source_hidden": false
    },
    "nteract": {
     "transient": {
      "deleting": false
     }
    }
   },
   "outputs": [],
   "source": [
    "import pystac_client\n",
    "import planetary_computer\n",
    "from datetime import datetime, timedelta\n",
    "\n",
    "catalog = pystac_client.Client.open(\n",
    "    \"https://planetarycomputer.microsoft.com/api/stac/v1\",\n",
    "    modifier=planetary_computer.sign_inplace,\n",
    ")\n",
    "\n",
    "\n",
    "forecastdt = (datetime.utcnow().replace(hour=0, minute=0, second=0, microsecond=0) + timedelta(days=1)).strftime('%Y-%m-%dT%H:%M:%SZ')\n",
    "\n",
    "search = catalog.search(\n",
    "    collections=[\"ecmwf-forecast\"],\n",
    "    query={\n",
    "        \"ecmwf:stream\": {\"in\": [\"oper\", \"wave\"]},\n",
    "        \"ecmwf:type\": {\"eq\": \"fc\"},\n",
    "        \"ecmwf:forecast_datetime\": {\"eq\": forecastdt}\n",
    "    },\n",
    ")\n",
    "items = search.item_collection()\n",
    "items\n"
   ]
  },
  {
   "cell_type": "markdown",
   "id": "489ab375-fa5b-4ae7-a889-b3b873271dac",
   "metadata": {
    "nteract": {
     "transient": {
      "deleting": false
     }
    }
   },
   "source": [
    "### Find the latest grib files for wave and atmospheric forecasts"
   ]
  },
  {
   "cell_type": "code",
   "execution_count": null,
   "id": "6af8553b-16ac-422c-a7cc-175718f3fc4c",
   "metadata": {
    "jupyter": {
     "outputs_hidden": false,
     "source_hidden": false
    },
    "nteract": {
     "transient": {
      "deleting": false
     }
    }
   },
   "outputs": [],
   "source": [
    "def findLatestForecast(items, stream):\n",
    "    stream_items = list(filter(lambda x: x.properties[\"ecmwf:stream\"] == stream, items))\n",
    "    #Latest forecast date\n",
    "    item_latest_date = max(stream_items, key=lambda item: item.properties[\"ecmwf:forecast_datetime\"]).properties[\"ecmwf:forecast_datetime\"]\n",
    "    #Smallest step (most recent model run)\n",
    "    item = min(filter(lambda x: x.properties[\"ecmwf:forecast_datetime\"] == item_latest_date, stream_items), key=lambda item: item.properties[\"ecmwf:step\"] )\n",
    "    return item\n",
    "\n",
    "oper = findLatestForecast(items, \"oper\")\n",
    "wave = findLatestForecast(items, \"wave\")\n"
   ]
  },
  {
   "cell_type": "markdown",
   "id": "ff50e2cb-13a1-4736-85d0-594d5e17540c",
   "metadata": {
    "nteract": {
     "transient": {
      "deleting": false
     }
    }
   },
   "source": [
    "### Download gribs from Planetary Computer\n",
    "\n",
    "Saving in OneLake"
   ]
  },
  {
   "cell_type": "code",
   "execution_count": null,
   "id": "09f25f89-93cc-41cb-bdf9-10e287d62dd5",
   "metadata": {
    "jupyter": {
     "outputs_hidden": false
    }
   },
   "outputs": [],
   "source": [
    "def downloadForecast(item):\n",
    "    url = item.assets[\"data\"].href\n",
    "    id = item.id\n",
    "    filename = f\"/lakehouse/default/Files/{id}.grib\"\n",
    "    print(f\"Downloading {filename}\")\n",
    "    urllib.request.urlretrieve(url,filename)\n",
    "    urllib.request.urlcleanup()\n",
    "    return(filename)\n",
    "\n",
    "operFile = downloadForecast(oper)\n",
    "waveFile = downloadForecast(wave)\n"
   ]
  },
  {
   "cell_type": "markdown",
   "id": "6135b0a0-c8dd-41f5-8c52-e42490d6bc68",
   "metadata": {
    "nteract": {
     "transient": {
      "deleting": false
     }
    }
   },
   "source": [
    "### Load and combine using xarray"
   ]
  },
  {
   "cell_type": "code",
   "execution_count": null,
   "id": "84857309-2ee1-4c81-9e90-259ecf8a3154",
   "metadata": {
    "jupyter": {
     "outputs_hidden": false,
     "source_hidden": false
    },
    "nteract": {
     "transient": {
      "deleting": false
     }
    }
   },
   "outputs": [],
   "source": [
    "#filter to t2m (temperature - 2 metres)\n",
    "ds_temps = xr.open_dataset(operFile, engine=\"cfgrib\", filter_by_keys={'typeOfLevel': 'heightAboveGround','level':2.0})\n",
    "ds_waves = xr.open_dataset(waveFile, engine=\"cfgrib\")\n",
    "\n",
    "ds = xr.merge( [ds_temps, ds_waves])\n",
    "ds\n"
   ]
  },
  {
   "cell_type": "markdown",
   "id": "b346f9c3-2ac4-4fce-8a39-d89acfd706a0",
   "metadata": {
    "nteract": {
     "transient": {
      "deleting": false
     }
    }
   },
   "source": [
    "## Clip to approx Western Australia coast"
   ]
  },
  {
   "cell_type": "code",
   "execution_count": null,
   "id": "4a2fd568-111e-4919-af0e-9aff6c986912",
   "metadata": {
    "jupyter": {
     "outputs_hidden": false,
     "source_hidden": false
    },
    "nteract": {
     "transient": {
      "deleting": false
     }
    }
   },
   "outputs": [],
   "source": [
    "#very approx bounding box for Western Australia\n",
    "min_lat = -20\n",
    "min_lon = 110\n",
    "max_lat = -36\n",
    "max_lon = 120\n",
    "\n",
    "\n",
    "ds = ds.sel(latitude=slice(min_lat, max_lat), longitude=slice(min_lon,max_lon))\n",
    "ds[\"t2m\"] = ds.t2m - 273\n",
    "ds\n"
   ]
  },
  {
   "cell_type": "markdown",
   "id": "976cbad7-5761-499b-af57-9f033ba78f6a",
   "metadata": {
    "nteract": {
     "transient": {
      "deleting": false
     }
    }
   },
   "source": [
    "## Let's plot the t2m data"
   ]
  },
  {
   "cell_type": "code",
   "execution_count": null,
   "id": "f9dadc14-1dab-4a76-8561-fd1d396e27f0",
   "metadata": {
    "jupyter": {
     "outputs_hidden": false,
     "source_hidden": false
    },
    "nteract": {
     "transient": {
      "deleting": false
     }
    }
   },
   "outputs": [],
   "source": [
    "fig = plt.figure(figsize=(10, 10))\n",
    "ax = plt.axes(projection=ccrs.Mercator())\n",
    "ax.coastlines(resolution=\"10m\")\n",
    "plot = ds.t2m.plot(\n",
    "    cmap=plt.cm.coolwarm, transform=ccrs.PlateCarree()\n",
    ")"
   ]
  },
  {
   "cell_type": "markdown",
   "id": "254c662d-62c7-4c38-adb6-1e19a12792a9",
   "metadata": {
    "nteract": {
     "transient": {
      "deleting": false
     }
    }
   },
   "source": [
    "#### We can interpolate like this\n",
    "\n",
    "https://docs.xarray.dev/en/stable/user-guide/interpolation.html"
   ]
  },
  {
   "cell_type": "code",
   "execution_count": null,
   "id": "20c072de-a00d-4b81-811d-d2871de4d638",
   "metadata": {
    "jupyter": {
     "outputs_hidden": false,
     "source_hidden": false
    },
    "nteract": {
     "transient": {
      "deleting": false
     }
    }
   },
   "outputs": [],
   "source": [
    "new_lon = np.linspace(ds.longitude[0], ds.longitude[-1], ds.dims[\"longitude\"] * 25)\n",
    "new_lat = np.linspace(ds.latitude[0], ds.latitude[-1], ds.dims[\"latitude\"] * 25)\n",
    "ds_i = ds.interp(latitude=new_lat, longitude=new_lon)"
   ]
  },
  {
   "cell_type": "markdown",
   "id": "1b271806-2fe0-4694-b0a4-b75d1ec47d53",
   "metadata": {
    "nteract": {
     "transient": {
      "deleting": false
     }
    }
   },
   "source": [
    "#### Plot both OG and lerp'd data"
   ]
  },
  {
   "cell_type": "code",
   "execution_count": null,
   "id": "d451471f-ca0c-4d20-91c0-ccd0e06e0aea",
   "metadata": {
    "jupyter": {
     "outputs_hidden": false,
     "source_hidden": false
    },
    "nteract": {
     "transient": {
      "deleting": false
     }
    }
   },
   "outputs": [],
   "source": [
    "projection = ccrs.Mercator()\n",
    "fig, axes = plt.subplots(ncols=2,figsize=(15,10), subplot_kw=dict(projection=projection))\n",
    "axes[0].coastlines(resolution='10m')\n",
    "axes[1].coastlines(resolution='10m')\n",
    "\n",
    "axes[0].set_title(\"Raw data\")\n",
    "axes[1].set_title(\"Interpolated data\")\n",
    "\n",
    "ds.t2m.plot(ax=axes[0], transform=ccrs.PlateCarree());\n",
    "ds_i.t2m.plot(ax=axes[1], transform=ccrs.PlateCarree());\n"
   ]
  },
  {
   "cell_type": "markdown",
   "id": "ec7496a5-9b82-491a-9b01-4f8bf5125d3d",
   "metadata": {
    "nteract": {
     "transient": {
      "deleting": false
     }
    }
   },
   "source": [
    "### Extract to dataframe"
   ]
  },
  {
   "cell_type": "code",
   "execution_count": null,
   "id": "04654c76-c410-4ba7-884f-1abd263440a8",
   "metadata": {},
   "outputs": [],
   "source": [
    "weather_df = ds[\"t2m\"].to_dataframe().reset_index()\n",
    "weather_df"
   ]
  },
  {
   "cell_type": "markdown",
   "id": "3530d669-0b47-4fff-ad22-c901a620baab",
   "metadata": {
    "nteract": {
     "transient": {
      "deleting": false
     }
    }
   },
   "source": [
    "### Clean"
   ]
  },
  {
   "cell_type": "code",
   "execution_count": null,
   "id": "71b4279d-70d8-4696-8adf-2d208859694a",
   "metadata": {
    "jupyter": {
     "outputs_hidden": false,
     "source_hidden": false
    },
    "nteract": {
     "transient": {
      "deleting": false
     }
    }
   },
   "outputs": [],
   "source": [
    "weather_df.drop(['step', 'heightAboveGround','meanSea'], axis=1, inplace=True)\n",
    "weather_df.rename(columns={'time': 'forecastMadeDate', 'valid_time': 'forecastForDate', 't2m': 'temperature'},  inplace=True)\n",
    "weather_df.drop_duplicates()"
   ]
  },
  {
   "cell_type": "markdown",
   "id": "79a157e4-b415-4a48-9927-91e50d30001a",
   "metadata": {
    "nteract": {
     "transient": {
      "deleting": false
     }
    }
   },
   "source": [
    "### Save to Lakehouse"
   ]
  },
  {
   "cell_type": "code",
   "execution_count": null,
   "id": "8caa4de5-c101-4984-93c4-ab01dadd08ac",
   "metadata": {
    "jupyter": {
     "outputs_hidden": false,
     "source_hidden": false
    },
    "nteract": {
     "transient": {
      "deleting": false
     }
    }
   },
   "outputs": [],
   "source": [
    "table_name = \"weatherModel\"\n",
    "\n",
    "df = spark.createDataFrame(weather_df)\n",
    "df.write.mode(\"overwrite\").format(\"delta\").option(\"overwriteSchema\", \"True\").save(f\"Tables/{table_name}\")\n"
   ]
  },
  {
   "cell_type": "markdown",
   "id": "944b32d7-290b-47bb-8483-de0c4b85ecd7",
   "metadata": {
    "nteract": {
     "transient": {
      "deleting": false
     }
    }
   },
   "source": [
    "### Next...\n",
    "From here, we could load the ``shipwrecks`` and spatial join to the nearest forecast point, or we could map our new model forecasts into BOM maritime regions and use the existing ``shipwrecks`` to ``forecasts`` relationship, or... or...\n",
    "\n",
    "https://geopandas.org/en/stable/docs/reference/api/geopandas.GeoDataFrame.sjoin_nearest.html\n"
   ]
  },
  {
   "cell_type": "code",
   "execution_count": null,
   "id": "889ca475-88b7-4c8d-a4c6-9288cbd37a48",
   "metadata": {
    "jupyter": {
     "outputs_hidden": false,
     "source_hidden": false
    },
    "microsoft": {
     "language": "sparksql"
    },
    "nteract": {
     "transient": {
      "deleting": false
     }
    }
   },
   "outputs": [],
   "source": [
    "%%sql\n",
    "\n",
    "SELECT * FROM weatherModel LIMIT 100"
   ]
  }
 ],
 "metadata": {
  "kernel_info": {
   "name": "synapse_pyspark"
  },
  "kernelspec": {
   "display_name": "Synapse PySpark",
   "language": "Python",
   "name": "synapse_pyspark"
  },
  "language_info": {
   "name": "python"
  },
  "microsoft": {
   "host": {
    "synapse_widget": {
     "state": {},
     "token": "9632e65b-4ed6-467c-96e4-344f20531fce"
    }
   },
   "language": "python",
   "ms_spell_check": {
    "ms_spell_check_language": "en"
   }
  },
  "notebook_environment": {},
  "nteract": {
   "version": "nteract-front-end@1.0.0"
  },
  "save_output": true,
  "spark_compute": {
   "compute_id": "/trident/default",
   "session_options": {
    "conf": {},
    "enableDebugMode": false
   }
  },
  "synapse_widget": {
   "state": {},
   "version": "0.1"
  }
 },
 "nbformat": 4,
 "nbformat_minor": 5
}
