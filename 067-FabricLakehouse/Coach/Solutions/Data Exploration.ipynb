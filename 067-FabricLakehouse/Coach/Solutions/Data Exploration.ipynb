{
 "cells": [
  {
   "cell_type": "markdown",
   "id": "319d31ed-b479-46c8-b69f-9559eff77468",
   "metadata": {
    "nteract": {
     "transient": {
      "deleting": false
     }
    }
   },
   "source": [
    "# Data Exploration\n",
    "This notebook is to provide the coach with some ideas on exploring the data"
   ]
  },
  {
   "cell_type": "markdown",
   "id": "b0a1da9d-1fd3-4e1c-8fbc-24b4dc8ef527",
   "metadata": {
    "nteract": {
     "transient": {
      "deleting": false
     }
    }
   },
   "source": [
    "## Dependencies"
   ]
  },
  {
   "cell_type": "markdown",
   "id": "c5ed84a4-b082-4f7a-82fd-7607d72f160d",
   "metadata": {
    "nteract": {
     "transient": {
      "deleting": false
     }
    }
   },
   "source": [
    "Some handy libraries\n",
    "- ``geopandas``  https://geopandas.org/ to work with geojson files\n",
    "- ``contextily`` https://contextily.readthedocs.io/ to render map tile backgrounds"
   ]
  },
  {
   "cell_type": "code",
   "execution_count": null,
   "id": "ab1bd6c7-fe46-430b-b4f4-129452a27425",
   "metadata": {},
   "outputs": [],
   "source": [
    "%pip install geopandas contextily"
   ]
  },
  {
   "cell_type": "markdown",
   "id": "90f919a8-f4a4-4a6e-81a9-caa1fe503cff",
   "metadata": {
    "nteract": {
     "transient": {
      "deleting": false
     }
    }
   },
   "source": [
    "Locations of our raw files in OneLake, either downloaded or from ``resources.zip``. See ``Solution - Data Engineering`` notebook for details."
   ]
  },
  {
   "cell_type": "code",
   "execution_count": null,
   "id": "49b84853-5b62-41be-8c6f-9d930d134534",
   "metadata": {
    "jupyter": {
     "outputs_hidden": false,
     "source_hidden": false
    },
    "nteract": {
     "transient": {
      "deleting": false
     }
    }
   },
   "outputs": [],
   "source": [
    "import geopandas as gp\n",
    "\n",
    "rawFilesFolder = \"/lakehouse/default/Files/Raw/\"\n",
    "\n",
    "marineZonesRawFolder = f\"{rawFilesFolder}BOM/IDM00003\"\n",
    "marineZonesRawFile = f\"{marineZonesRawFolder}/IDM00003.shp\"\n",
    "\n",
    "shipwrecksRawFolder = f\"{rawFilesFolder}WAM\"\n",
    "shipwrecksRawFile = f\"{shipwrecksRawFolder}/Shipwrecks_WAM_002_WA_GDA94_Public.geojson\""
   ]
  },
  {
   "cell_type": "markdown",
   "id": "0adea955-34c6-499a-8abd-4c08f15ed6ef",
   "metadata": {
    "nteract": {
     "transient": {
      "deleting": false
     }
    }
   },
   "source": [
    "## Basic Exploration\n",
    "First let's load our data from Raw."
   ]
  },
  {
   "cell_type": "code",
   "execution_count": null,
   "id": "972dc142-b40b-42f0-b34f-265bc202fc3f",
   "metadata": {
    "jupyter": {
     "outputs_hidden": false,
     "source_hidden": false
    },
    "nteract": {
     "transient": {
      "deleting": false
     }
    }
   },
   "outputs": [],
   "source": [
    "df_shipwrecks = gp.read_file(shipwrecksRawFile)\n",
    "df_marineZones = gp.read_file(marineZonesRawFile)"
   ]
  },
  {
   "cell_type": "markdown",
   "id": "1d65303e-f1bd-4dd8-9309-c39f79e735d2",
   "metadata": {
    "nteract": {
     "transient": {
      "deleting": false
     }
    }
   },
   "source": [
    "Let's look at the data"
   ]
  },
  {
   "cell_type": "code",
   "execution_count": null,
   "id": "11aaa6ba-d6cd-4ee8-bc49-4da12757e944",
   "metadata": {
    "jupyter": {
     "outputs_hidden": false,
     "source_hidden": false
    },
    "nteract": {
     "transient": {
      "deleting": false
     }
    }
   },
   "outputs": [],
   "source": [
    "df_shipwrecks.head()"
   ]
  },
  {
   "cell_type": "code",
   "execution_count": null,
   "id": "d5cd5edf-c1af-4391-8c8f-689a377f89ad",
   "metadata": {
    "jupyter": {
     "outputs_hidden": false,
     "source_hidden": false
    },
    "nteract": {
     "transient": {
      "deleting": false
     }
    }
   },
   "outputs": [],
   "source": [
    "df_marineZones.head()"
   ]
  },
  {
   "cell_type": "markdown",
   "id": "50eadb86-787c-4ca5-a8eb-5fc3ccfd0b84",
   "metadata": {
    "nteract": {
     "transient": {
      "deleting": false
     }
    }
   },
   "source": [
    "Spatial data uses a Co-ordinate Reference System to define co-ordinate space to geo space translation, let's check ours"
   ]
  },
  {
   "cell_type": "code",
   "execution_count": null,
   "id": "e4efbe4d-4122-4e58-81ee-8c0147ec4764",
   "metadata": {
    "jupyter": {
     "outputs_hidden": false,
     "source_hidden": false
    },
    "nteract": {
     "transient": {
      "deleting": false
     }
    }
   },
   "outputs": [],
   "source": [
    "df_shipwrecks.crs"
   ]
  },
  {
   "cell_type": "code",
   "execution_count": null,
   "id": "26ba44d0-0e7b-4ddc-85e9-1ae4de920a3b",
   "metadata": {
    "jupyter": {
     "outputs_hidden": false,
     "source_hidden": false
    },
    "nteract": {
     "transient": {
      "deleting": false
     }
    }
   },
   "outputs": [],
   "source": [
    "df_marineZones.crs"
   ]
  },
  {
   "cell_type": "markdown",
   "id": "9efdd2a0-4af0-4450-9528-05f0ca330505",
   "metadata": {
    "nteract": {
     "transient": {
      "deleting": false
     }
    }
   },
   "source": [
    "EPSG:4326 is WGS84, World Geodetic System 1984 as used in GPS. EPSG:4283 is GDA94, the Geocentric Datum of Australia 1994\n",
    "\n",
    "Let's normalise these to EPSG:3857 commonly used by web mapping tools (aka Web Mercator)"
   ]
  },
  {
   "cell_type": "code",
   "execution_count": null,
   "id": "38c7f213-56e9-4bec-8e82-2b7d54d1302f",
   "metadata": {
    "jupyter": {
     "outputs_hidden": false,
     "source_hidden": false
    },
    "nteract": {
     "transient": {
      "deleting": false
     }
    }
   },
   "outputs": [],
   "source": [
    "df_shipwrecks = df_shipwrecks.to_crs('epsg:3857')\n",
    "df_marineZones = df_marineZones.to_crs('epsg:3857')\n",
    "print(df_shipwrecks.crs)\n",
    "print(df_marineZones.crs)"
   ]
  },
  {
   "cell_type": "markdown",
   "id": "45cd85c3-6ee5-45bd-b585-bc21a3279bcf",
   "metadata": {
    "nteract": {
     "transient": {
      "deleting": false
     }
    }
   },
   "source": [
    "## Basic Plots\n",
    "We're working with spatial data, so let's make some plots."
   ]
  },
  {
   "cell_type": "code",
   "execution_count": null,
   "id": "43397606-075e-4138-8af6-5206e48502ee",
   "metadata": {
    "jupyter": {
     "outputs_hidden": false,
     "source_hidden": false
    },
    "nteract": {
     "transient": {
      "deleting": false
     }
    }
   },
   "outputs": [],
   "source": [
    "df_shipwrecks.plot()"
   ]
  },
  {
   "cell_type": "code",
   "execution_count": null,
   "id": "d2059761-6459-4bbe-8421-276231233dec",
   "metadata": {
    "jupyter": {
     "outputs_hidden": false,
     "source_hidden": false
    },
    "nteract": {
     "transient": {
      "deleting": false
     }
    }
   },
   "outputs": [],
   "source": [
    "df_marineZones.plot()"
   ]
  },
  {
   "cell_type": "markdown",
   "id": "c5c7a5c8-6795-48af-b149-6f68340a382b",
   "metadata": {
    "nteract": {
     "transient": {
      "deleting": false
     }
    }
   },
   "source": [
    "Let's make them a little more fancy"
   ]
  },
  {
   "cell_type": "code",
   "execution_count": null,
   "id": "7d617154-bafc-413d-bd9c-fad983b097b9",
   "metadata": {
    "jupyter": {
     "outputs_hidden": false,
     "source_hidden": false
    },
    "nteract": {
     "transient": {
      "deleting": false
     }
    }
   },
   "outputs": [],
   "source": [
    "df_marineZones.plot(figsize=(10,10), alpha=0.3, edgecolor=\"k\", column='DIST_NAME', categorical=True, legend=False)"
   ]
  },
  {
   "cell_type": "markdown",
   "id": "e627774e-fac3-489a-b2a6-63c3423701ba",
   "metadata": {
    "nteract": {
     "transient": {
      "deleting": false
     }
    }
   },
   "source": [
    "We can overlay our ``shipwrecks``:"
   ]
  },
  {
   "cell_type": "code",
   "execution_count": null,
   "id": "332e7be7-547c-430d-8b14-2ef441182a0b",
   "metadata": {
    "jupyter": {
     "outputs_hidden": false,
     "source_hidden": false
    },
    "nteract": {
     "transient": {
      "deleting": false
     }
    }
   },
   "outputs": [],
   "source": [
    "ax = df_marineZones.plot(figsize=(10,10), alpha=0.3, edgecolor=\"k\", column='DIST_NAME', categorical=True, legend=False)\n",
    "df_shipwrecks.plot(ax=ax, color='r')"
   ]
  },
  {
   "cell_type": "markdown",
   "id": "09ccf0e6-84ad-44d6-aca2-a61f96c0c795",
   "metadata": {
    "nteract": {
     "transient": {
      "deleting": false
     }
    }
   },
   "source": [
    "We're only interested in Western Australian shipwrecks. We could clip the ``marineZones`` to the ``bounds`` of the ``shipwrecks`` but we saw earlier, that ``marineZones`` contains a ``STATE_CODE`` column so let's use that"
   ]
  },
  {
   "cell_type": "code",
   "execution_count": null,
   "id": "82b24045-67a6-46ce-96a6-0c0a79972ea9",
   "metadata": {
    "jupyter": {
     "outputs_hidden": false,
     "source_hidden": false
    },
    "nteract": {
     "transient": {
      "deleting": false
     }
    }
   },
   "outputs": [],
   "source": [
    "df_marineZones = df_marineZones[df_marineZones.STATE_CODE == \"WA\"]"
   ]
  },
  {
   "cell_type": "markdown",
   "id": "a444527f-c604-43ac-95d3-2e019089b7c5",
   "metadata": {
    "nteract": {
     "transient": {
      "deleting": false
     }
    }
   },
   "source": [
    "Let's also colour by marine zone ``DIST_NAME`` (district name)"
   ]
  },
  {
   "cell_type": "code",
   "execution_count": null,
   "id": "c5e2ac1d-b9ed-42b4-b1ca-8a54ca5b10a9",
   "metadata": {
    "jupyter": {
     "outputs_hidden": false,
     "source_hidden": false
    },
    "nteract": {
     "transient": {
      "deleting": false
     }
    }
   },
   "outputs": [],
   "source": [
    "ax = df_marineZones.plot(figsize=(10,10), alpha=0.3, edgecolor=\"k\", column='DIST_NAME', categorical=True, legend=False)\n",
    "df_shipwrecks.plot(ax=ax, color='r')"
   ]
  },
  {
   "cell_type": "markdown",
   "id": "8b76e901-4215-4b0c-b61b-382976917277",
   "metadata": {
    "nteract": {
     "transient": {
      "deleting": false
     }
    }
   },
   "source": [
    "Nice."
   ]
  },
  {
   "cell_type": "markdown",
   "id": "ea36b14a-a72b-4af6-aba3-9cff72240375",
   "metadata": {
    "nteract": {
     "transient": {
      "deleting": false
     }
    }
   },
   "source": [
    "Let's add a base layer using ``contextily``"
   ]
  },
  {
   "cell_type": "code",
   "execution_count": null,
   "id": "e28fc560-be21-4a80-b363-dff367cee574",
   "metadata": {
    "jupyter": {
     "outputs_hidden": false,
     "source_hidden": false
    },
    "nteract": {
     "transient": {
      "deleting": false
     }
    }
   },
   "outputs": [],
   "source": [
    "import contextily as cx\n",
    "\n",
    "ax = df_marineZones.plot(figsize=(25,25), alpha=0.3, edgecolor=\"k\", column='DIST_NAME', categorical=True, legend=False)\n",
    "df_shipwrecks.plot(ax=ax, color='r')\n",
    "cx.add_basemap(ax)"
   ]
  },
  {
   "cell_type": "markdown",
   "id": "74e938f9-01f3-4f77-bdc9-970fc77af0a6",
   "metadata": {
    "nteract": {
     "transient": {
      "deleting": false
     }
    }
   },
   "source": [
    "We can already see some wrecks don't fall within a marine zone (top left - Cocos Keeling Islands )"
   ]
  },
  {
   "cell_type": "code",
   "execution_count": null,
   "id": "34c4c1b4-89ca-4571-bde8-7639697ef21d",
   "metadata": {
    "jupyter": {
     "outputs_hidden": false,
     "source_hidden": false
    },
    "nteract": {
     "transient": {
      "deleting": false
     }
    }
   },
   "outputs": [],
   "source": [
    "df_shipwrecks[df_shipwrecks.long == df_shipwrecks['long'].min()]"
   ]
  },
  {
   "cell_type": "markdown",
   "id": "560a2034-70c8-4479-97f4-1392fb60c219",
   "metadata": {
    "nteract": {
     "transient": {
      "deleting": false
     }
    }
   },
   "source": [
    "We need to do a spatial anti-join to find all those shipwrecks outside of a marinezone. Unfortunately, ``geopandas`` doesn't yet support anti-joins, but we can fake it with a left outer join and a filter on the geometry from the right side. We need to clone the original right side geometry, as this is dropped during the join."
   ]
  },
  {
   "cell_type": "code",
   "execution_count": null,
   "id": "f6578b3e-6344-4704-9352-c286a33ee822",
   "metadata": {
    "jupyter": {
     "outputs_hidden": false,
     "source_hidden": false
    },
    "nteract": {
     "transient": {
      "deleting": false
     }
    }
   },
   "outputs": [],
   "source": [
    "#Deep copy our marineZones and duplicate the geometry\n",
    "df_marineZones_tmp = df_marineZones.copy()\n",
    "df_marineZones_tmp[\"right_geometry\"] = df_marineZones_tmp[\"geometry\"]"
   ]
  },
  {
   "cell_type": "markdown",
   "id": "3a8ef488-a468-4f6c-a173-086ed02c3e7a",
   "metadata": {
    "nteract": {
     "transient": {
      "deleting": false
     }
    }
   },
   "source": [
    "Now we can use ``sjoin`` to spatially join our data, then filter"
   ]
  },
  {
   "cell_type": "code",
   "execution_count": null,
   "id": "eb253c43-edf6-4de1-95f3-118dbeefe2c2",
   "metadata": {
    "jupyter": {
     "outputs_hidden": false,
     "source_hidden": false
    },
    "nteract": {
     "transient": {
      "deleting": false
     }
    }
   },
   "outputs": [],
   "source": [
    "df_joined = df_shipwrecks.sjoin(df_marineZones_tmp, how=\"left\")\n",
    "df_nozone = df_joined.query(\"index_right != index_right\") # fake anti-join"
   ]
  },
  {
   "cell_type": "markdown",
   "id": "09f31594-79f5-4354-9c9b-7a428461b387",
   "metadata": {
    "nteract": {
     "transient": {
      "deleting": false
     }
    }
   },
   "source": [
    "Let's plot this. Red are wrecks with no marine zone."
   ]
  },
  {
   "cell_type": "code",
   "execution_count": null,
   "id": "29c670a2-0338-43ee-9643-5fc85b4e903c",
   "metadata": {
    "jupyter": {
     "outputs_hidden": false,
     "source_hidden": false
    },
    "nteract": {
     "transient": {
      "deleting": false
     }
    }
   },
   "outputs": [],
   "source": [
    "ax = df_marineZones.plot(figsize=(25,25), alpha=0.3, edgecolor=\"k\", column='DIST_NAME', categorical=True, legend=False)\n",
    "df_joined.plot(ax=ax, color='b', alpha=0.3)\n",
    "df_nozone.plot(ax=ax, color='r', alpha=1.0)\n",
    "cx.add_basemap(ax)"
   ]
  },
  {
   "cell_type": "markdown",
   "id": "acb2791b-7f08-4d13-87dd-15d67e972902",
   "metadata": {
    "nteract": {
     "transient": {
      "deleting": false
     }
    }
   },
   "source": [
    "Let's zoom in and look at an example, the SS Omeo, just off the shore in Perth (it's a great snorkel site, you can literally walk off the beach and be on the wreck)\n",
    "\n",
    "Perth is marine zone WA_MW015, let's filter and plot.\n",
    "\n"
   ]
  },
  {
   "cell_type": "code",
   "execution_count": null,
   "id": "3ea8e0b2-acea-4d18-af1c-ead22a03fe95",
   "metadata": {
    "jupyter": {
     "outputs_hidden": false,
     "source_hidden": false
    },
    "nteract": {
     "transient": {
      "deleting": false
     }
    }
   },
   "outputs": [],
   "source": [
    "#The Omeo and Perth maritime zone\n",
    "df_omeo = df_shipwrecks[df_shipwrecks.name=='Omeo']\n",
    "df_perth = df_marineZones[df_marineZones.AAC == 'WA_MW015']\n",
    "\n",
    "#Bounding box of the Omeo\n",
    "xmin, ymin, xmax, ymax = df_omeo.total_bounds\n",
    "# Padding - 200m\n",
    "pad=200\n",
    "\n",
    "#Plot\n",
    "ax = df_omeo.plot(figsize=(5,5),color='r')\n",
    "df_perth.plot(ax=ax)\n",
    "\n",
    "#Now set out plot limits\n",
    "ax.set_xlim(xmin-pad, xmax+pad)\n",
    "ax.set_ylim(ymin-pad, ymax+pad)\n",
    "\n",
    "#Add in our basemap\n",
    "cx.add_basemap(ax)\n"
   ]
  },
  {
   "cell_type": "markdown",
   "id": "55768457-4550-42e8-888a-2ecc8eda7aa3",
   "metadata": {
    "nteract": {
     "transient": {
      "deleting": false
     }
    }
   },
   "source": [
    "So we can see the marine zone doesn't follow the coastline, and the SS Omeo falls outside of this geo. We can't do a simple ``contains`` or ``intersects`` spatial join to place our wrecks in their relevant marine zone, we need a different kind of join. \n",
    "\n",
    " ``geopandas`` supports nearest joins so we can look for the zone closest to each wreck, and remove any that are arbitrarily distant."
   ]
  },
  {
   "cell_type": "code",
   "execution_count": null,
   "id": "73c94870-106a-4700-a241-8304bd865147",
   "metadata": {
    "jupyter": {
     "outputs_hidden": false,
     "source_hidden": false
    },
    "nteract": {
     "transient": {
      "deleting": false
     }
    }
   },
   "outputs": [],
   "source": [
    "df_joined = df_shipwrecks.sjoin_nearest(df_marineZones, how=\"left\", distance_col=\"distance\").query(\"distance < 5000\")\n",
    "\n",
    "ax = df_marineZones.plot(figsize=(10,10), alpha=0.3, edgecolor=\"k\", column='DIST_NAME', categorical=True, legend=False)\n",
    "df_joined.plot(ax=ax, color='r', alpha=0.5)\n",
    "cx.add_basemap(ax)"
   ]
  },
  {
   "cell_type": "markdown",
   "id": "767072c8-eb72-41c3-af93-17828d4d8b04",
   "metadata": {
    "nteract": {
     "transient": {
      "deleting": false
     }
    }
   },
   "source": [
    "Let's just make sure all our wrecks have a zone as we'll be using this as a foreign key to Forecasts when we come to build our reports"
   ]
  },
  {
   "cell_type": "code",
   "execution_count": null,
   "id": "19b99649-b849-4443-93ea-32f3c60645c7",
   "metadata": {
    "jupyter": {
     "outputs_hidden": false,
     "source_hidden": false
    },
    "nteract": {
     "transient": {
      "deleting": false
     }
    }
   },
   "outputs": [],
   "source": [
    "df_joined[df_joined['AAC'].isnull()]\n"
   ]
  },
  {
   "cell_type": "markdown",
   "id": "fa0df079-0213-49cc-ae21-32dc02287a21",
   "metadata": {
    "nteract": {
     "transient": {
      "deleting": false
     }
    }
   },
   "source": [
    "We can now apply our new found knowledge to load, clean and write our data - see ``Solution - Data Engineering`` notebook for details."
   ]
  }
 ],
 "metadata": {
  "kernel_info": {
   "name": "synapse_pyspark"
  },
  "kernelspec": {
   "display_name": "Synapse PySpark",
   "language": "Python",
   "name": "synapse_pyspark"
  },
  "language_info": {
   "name": "python"
  },
  "microsoft": {
   "host": {},
   "language": "python"
  },
  "notebook_environment": {},
  "nteract": {
   "version": "nteract-front-end@1.0.0"
  },
  "save_output": true,
  "spark_compute": {
   "compute_id": "/trident/default",
   "session_options": {
    "conf": {},
    "enableDebugMode": false
   }
  },
  "synapse_widget": {
   "state": {},
   "version": "0.1"
  }
 },
 "nbformat": 4,
 "nbformat_minor": 5
}
